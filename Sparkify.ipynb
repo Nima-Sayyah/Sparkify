{
 "cells": [
  {
   "cell_type": "markdown",
   "id": "65969291",
   "metadata": {},
   "source": [
    "# Sparkify (Music Streaming Service)\n",
    "### by Nima Sayyah\n",
    "\n",
    "\n",
    "<div>\n",
    "<img src=\"Sparkify.jpeg\" width=\"600\"/>\n",
    "</div>\n",
    "\n",
    "\n",
    "\n",
    "## Table of Contents\n",
    "* [Introduction](#int)\n",
    "* [Data Wrangling](#load)\n",
    "* [Exploratory Data Analysis](#eda)\n",
    "* [Feature Engineering](#eng)\n",
    "* [Modelling](#model)\n",
    "* [Conclusions](#con)\n",
    "\n",
    "### Introduction\n",
    "<a class=\"anchor\" id=\"int\"></a>\n",
    "\n",
    "This project will take advantage of a music app dataset similar to Spotify platform. It will use Spark to extract relevant features for predicting churn. Churn signifies the service termination. Spotting customers before they churn, the business can offer discounts and incentives for their retention to stabilise the business revenue. This workspace contains a subset (128MB) of the full dataset available (12GB)."
   ]
  },
  {
   "cell_type": "code",
   "execution_count": 120,
   "id": "00e9407b",
   "metadata": {},
   "outputs": [],
   "source": [
    "# Importing necessary libraries\n",
    "import pyspark \n",
    "from pyspark import SparkConf\n",
    "from pyspark.sql import SparkSession\n",
    "from pyspark.sql.functions import udf\n",
    "from pyspark.sql.types import StringType\n",
    "from pyspark.sql.types import IntegerType\n",
    "from pyspark.sql.functions import isnan, count, when, col, desc, udf, col, sort_array, asc, avg\n",
    "from pyspark.sql.functions import sum as Fsum\n",
    "from pyspark.sql.window import Window\n",
    "from pyspark.sql import Row\n",
    "from pyspark.sql import functions as F\n",
    "from pyspark.sql.functions import *\n",
    "\n",
    "from pyspark.ml import Pipeline\n",
    "from pyspark.ml.classification import LogisticRegression, RandomForestClassifier, GBTClassifier, LinearSVC, NaiveBayes\n",
    "from pyspark.ml.evaluation import MulticlassClassificationEvaluator\n",
    "from pyspark.ml.feature import CountVectorizer, IDF, PCA, RegexTokenizer, VectorAssembler, Normalizer, StandardScaler\n",
    "from pyspark.ml.regression import LinearRegression\n",
    "from pyspark.ml.tuning import CrossValidator, ParamGridBuilder\n",
    "\n",
    "import datetime\n",
    "import time\n",
    "\n",
    "import pandas as pd\n",
    "import numpy as np\n",
    "import re\n",
    "%matplotlib inline\n",
    "import matplotlib.pyplot as plt\n",
    "import seaborn as sns\n",
    "sns.set()\n",
    "import warnings\n",
    "warnings.filterwarnings('ignore')"
   ]
  },
  {
   "cell_type": "code",
   "execution_count": 5,
   "id": "ec46c940",
   "metadata": {},
   "outputs": [
    {
     "name": "stderr",
     "output_type": "stream",
     "text": [
      "Setting default log level to \"WARN\".\n",
      "To adjust logging level use sc.setLogLevel(newLevel). For SparkR, use setLogLevel(newLevel).\n"
     ]
    },
    {
     "name": "stdout",
     "output_type": "stream",
     "text": [
      "22/07/09 23:32:52 WARN NativeCodeLoader: Unable to load native-hadoop library for your platform... using builtin-java classes where applicable\n"
     ]
    }
   ],
   "source": [
    "# Craeting a Spark session\n",
    "spark = SparkSession.builder.appName(\"Sparkify Project\").getOrCreate()"
   ]
  },
  {
   "cell_type": "code",
   "execution_count": 6,
   "id": "b7532aab",
   "metadata": {},
   "outputs": [
    {
     "data": {
      "text/plain": [
       "[('spark.app.startTime', '1657405972143'),\n",
       " ('spark.driver.extraJavaOptions',\n",
       "  '-XX:+IgnoreUnrecognizedVMOptions --add-opens=java.base/java.lang=ALL-UNNAMED --add-opens=java.base/java.lang.invoke=ALL-UNNAMED --add-opens=java.base/java.lang.reflect=ALL-UNNAMED --add-opens=java.base/java.io=ALL-UNNAMED --add-opens=java.base/java.net=ALL-UNNAMED --add-opens=java.base/java.nio=ALL-UNNAMED --add-opens=java.base/java.util=ALL-UNNAMED --add-opens=java.base/java.util.concurrent=ALL-UNNAMED --add-opens=java.base/java.util.concurrent.atomic=ALL-UNNAMED --add-opens=java.base/sun.nio.ch=ALL-UNNAMED --add-opens=java.base/sun.nio.cs=ALL-UNNAMED --add-opens=java.base/sun.security.action=ALL-UNNAMED --add-opens=java.base/sun.util.calendar=ALL-UNNAMED --add-opens=java.security.jgss/sun.security.krb5=ALL-UNNAMED'),\n",
       " ('spark.driver.port', '52349'),\n",
       " ('spark.executor.id', 'driver'),\n",
       " ('spark.driver.host', 'snmp.lan'),\n",
       " ('spark.rdd.compress', 'True'),\n",
       " ('spark.executor.extraJavaOptions',\n",
       "  '-XX:+IgnoreUnrecognizedVMOptions --add-opens=java.base/java.lang=ALL-UNNAMED --add-opens=java.base/java.lang.invoke=ALL-UNNAMED --add-opens=java.base/java.lang.reflect=ALL-UNNAMED --add-opens=java.base/java.io=ALL-UNNAMED --add-opens=java.base/java.net=ALL-UNNAMED --add-opens=java.base/java.nio=ALL-UNNAMED --add-opens=java.base/java.util=ALL-UNNAMED --add-opens=java.base/java.util.concurrent=ALL-UNNAMED --add-opens=java.base/java.util.concurrent.atomic=ALL-UNNAMED --add-opens=java.base/sun.nio.ch=ALL-UNNAMED --add-opens=java.base/sun.nio.cs=ALL-UNNAMED --add-opens=java.base/sun.security.action=ALL-UNNAMED --add-opens=java.base/sun.util.calendar=ALL-UNNAMED --add-opens=java.security.jgss/sun.security.krb5=ALL-UNNAMED'),\n",
       " ('spark.serializer.objectStreamReset', '100'),\n",
       " ('spark.master', 'local[*]'),\n",
       " ('spark.submit.pyFiles', ''),\n",
       " ('spark.submit.deployMode', 'client'),\n",
       " ('spark.app.id', 'local-1657405973986'),\n",
       " ('spark.app.submitTime', '1657405971923'),\n",
       " ('spark.ui.showConsoleProgress', 'true'),\n",
       " ('spark.app.name', 'Sparkify Project')]"
      ]
     },
     "execution_count": 6,
     "metadata": {},
     "output_type": "execute_result"
    }
   ],
   "source": [
    "spark.sparkContext.getConf().getAll()"
   ]
  },
  {
   "cell_type": "markdown",
   "id": "a547eae1",
   "metadata": {},
   "source": [
    "### Data Wrangling\n",
    "<a class=\"anchor\" id=\"load\"></a>\n",
    "At this stage the data`mini_sparkify_event_data.json` is loaded processed and cleaned. "
   ]
  },
  {
   "cell_type": "code",
   "execution_count": 7,
   "id": "5ad9d8d6",
   "metadata": {},
   "outputs": [
    {
     "name": "stderr",
     "output_type": "stream",
     "text": [
      "                                                                                \r"
     ]
    }
   ],
   "source": [
    "# loading the dataset\n",
    "df = spark.read.json(\"mini_sparkify_event_data.json\")"
   ]
  },
  {
   "cell_type": "code",
   "execution_count": 8,
   "id": "7475c0b9",
   "metadata": {},
   "outputs": [
    {
     "name": "stdout",
     "output_type": "stream",
     "text": [
      "root\n",
      " |-- artist: string (nullable = true)\n",
      " |-- auth: string (nullable = true)\n",
      " |-- firstName: string (nullable = true)\n",
      " |-- gender: string (nullable = true)\n",
      " |-- itemInSession: long (nullable = true)\n",
      " |-- lastName: string (nullable = true)\n",
      " |-- length: double (nullable = true)\n",
      " |-- level: string (nullable = true)\n",
      " |-- location: string (nullable = true)\n",
      " |-- method: string (nullable = true)\n",
      " |-- page: string (nullable = true)\n",
      " |-- registration: long (nullable = true)\n",
      " |-- sessionId: long (nullable = true)\n",
      " |-- song: string (nullable = true)\n",
      " |-- status: long (nullable = true)\n",
      " |-- ts: long (nullable = true)\n",
      " |-- userAgent: string (nullable = true)\n",
      " |-- userId: string (nullable = true)\n",
      "\n"
     ]
    }
   ],
   "source": [
    "# Printing the schema\n",
    "df.printSchema()"
   ]
  },
  {
   "cell_type": "code",
   "execution_count": 9,
   "id": "9ee95f4d",
   "metadata": {},
   "outputs": [
    {
     "name": "stderr",
     "output_type": "stream",
     "text": [
      "                                                                                \r"
     ]
    },
    {
     "data": {
      "text/plain": [
       "DataFrame[summary: string, artist: string, auth: string, firstName: string, gender: string, itemInSession: string, lastName: string, length: string, level: string, location: string, method: string, page: string, registration: string, sessionId: string, song: string, status: string, ts: string, userAgent: string, userId: string]"
      ]
     },
     "execution_count": 9,
     "metadata": {},
     "output_type": "execute_result"
    }
   ],
   "source": [
    "# Computing basic statistics or information\n",
    "df.summary()"
   ]
  },
  {
   "cell_type": "code",
   "execution_count": 10,
   "id": "9b11e7fa",
   "metadata": {},
   "outputs": [
    {
     "data": {
      "text/plain": [
       "[Row(artist='Martha Tilston', auth='Logged In', firstName='Colin', gender='M', itemInSession=50, lastName='Freeman', length=277.89016, level='paid', location='Bakersfield, CA', method='PUT', page='NextSong', registration=1538173362000, sessionId=29, song='Rockpools', status=200, ts=1538352117000, userAgent='Mozilla/5.0 (Windows NT 6.1; WOW64; rv:31.0) Gecko/20100101 Firefox/31.0', userId='30'),\n",
       " Row(artist='Five Iron Frenzy', auth='Logged In', firstName='Micah', gender='M', itemInSession=79, lastName='Long', length=236.09424, level='free', location='Boston-Cambridge-Newton, MA-NH', method='PUT', page='NextSong', registration=1538331630000, sessionId=8, song='Canada', status=200, ts=1538352180000, userAgent='\"Mozilla/5.0 (Windows NT 6.1; WOW64) AppleWebKit/537.36 (KHTML, like Gecko) Chrome/37.0.2062.103 Safari/537.36\"', userId='9')]"
      ]
     },
     "execution_count": 10,
     "metadata": {},
     "output_type": "execute_result"
    }
   ],
   "source": [
    "# Taking the first two element of the RDD Dataset\n",
    "df.take(2)"
   ]
  },
  {
   "cell_type": "code",
   "execution_count": 11,
   "id": "d0ab59b8",
   "metadata": {},
   "outputs": [
    {
     "name": "stderr",
     "output_type": "stream",
     "text": [
      "                                                                                \r"
     ]
    },
    {
     "data": {
      "text/plain": [
       "286500"
      ]
     },
     "execution_count": 11,
     "metadata": {},
     "output_type": "execute_result"
    }
   ],
   "source": [
    "# The count of the dataset before cleaning \n",
    "df.count()"
   ]
  },
  {
   "cell_type": "markdown",
   "id": "371485b1",
   "metadata": {},
   "source": [
    "### Drop Rows with Missing Values"
   ]
  },
  {
   "cell_type": "markdown",
   "id": "b678d67f",
   "metadata": {},
   "source": [
    "It is reasonble to first explore missing values for ID related cells."
   ]
  },
  {
   "cell_type": "code",
   "execution_count": 12,
   "id": "ef475db3",
   "metadata": {},
   "outputs": [],
   "source": [
    "# Dropping rows with missing values in userid and/or sessionid\n",
    "df = df.dropna(how = 'any', subset = [\"userId\", \"sessionId\"])"
   ]
  },
  {
   "cell_type": "code",
   "execution_count": 13,
   "id": "babe0565",
   "metadata": {},
   "outputs": [
    {
     "name": "stderr",
     "output_type": "stream",
     "text": [
      "\r",
      "[Stage 8:>                                                          (0 + 4) / 4]\r",
      "\r",
      "                                                                                \r"
     ]
    },
    {
     "data": {
      "text/plain": [
       "286500"
      ]
     },
     "execution_count": 13,
     "metadata": {},
     "output_type": "execute_result"
    }
   ],
   "source": [
    "# Recounting the dataset\n",
    "df.count()"
   ]
  },
  {
   "cell_type": "markdown",
   "id": "7764d745",
   "metadata": {},
   "source": [
    "It appears there are no missing values. We however need further analysis. "
   ]
  },
  {
   "cell_type": "code",
   "execution_count": 14,
   "id": "cd1cbacd",
   "metadata": {},
   "outputs": [
    {
     "name": "stderr",
     "output_type": "stream",
     "text": [
      "[Stage 11:==============>                                           (1 + 3) / 4]\r"
     ]
    },
    {
     "name": "stdout",
     "output_type": "stream",
     "text": [
      "+------+\n",
      "|userId|\n",
      "+------+\n",
      "|      |\n",
      "|    10|\n",
      "|   100|\n",
      "|100001|\n",
      "|100002|\n",
      "|100003|\n",
      "|100004|\n",
      "|100005|\n",
      "|100006|\n",
      "|100007|\n",
      "|100008|\n",
      "|100009|\n",
      "|100010|\n",
      "|100011|\n",
      "|100012|\n",
      "|100013|\n",
      "|100014|\n",
      "|100015|\n",
      "|100016|\n",
      "|100017|\n",
      "+------+\n",
      "only showing top 20 rows\n",
      "\n"
     ]
    },
    {
     "name": "stderr",
     "output_type": "stream",
     "text": [
      "\r",
      "                                                                                \r"
     ]
    }
   ],
   "source": [
    "# Removing userId duplicates\n",
    "df.select(\"userId\").dropDuplicates().sort(\"userId\").show()"
   ]
  },
  {
   "cell_type": "markdown",
   "id": "fd3d0cae",
   "metadata": {},
   "source": [
    "As it can be seen there are empty strings used as **userId**. We proceed by removing those empty strings."
   ]
  },
  {
   "cell_type": "code",
   "execution_count": 15,
   "id": "a11c5142",
   "metadata": {},
   "outputs": [],
   "source": [
    "# Removing empty string userIds\n",
    "df = df.filter(df[\"userId\"] != \"\")"
   ]
  },
  {
   "cell_type": "code",
   "execution_count": 16,
   "id": "a91b872d",
   "metadata": {},
   "outputs": [
    {
     "name": "stderr",
     "output_type": "stream",
     "text": [
      "\r",
      "[Stage 14:>                                                         (0 + 4) / 4]\r",
      "\r",
      "[Stage 14:==============>                                           (1 + 3) / 4]\r"
     ]
    },
    {
     "name": "stdout",
     "output_type": "stream",
     "text": [
      "+------+\n",
      "|userId|\n",
      "+------+\n",
      "|    10|\n",
      "|   100|\n",
      "|100001|\n",
      "|100002|\n",
      "|100003|\n",
      "|100004|\n",
      "|100005|\n",
      "|100006|\n",
      "|100007|\n",
      "|100008|\n",
      "|100009|\n",
      "|100010|\n",
      "|100011|\n",
      "|100012|\n",
      "|100013|\n",
      "|100014|\n",
      "|100015|\n",
      "|100016|\n",
      "|100017|\n",
      "|100018|\n",
      "+------+\n",
      "only showing top 20 rows\n",
      "\n"
     ]
    },
    {
     "name": "stderr",
     "output_type": "stream",
     "text": [
      "\r",
      "[Stage 14:===========================================>              (3 + 1) / 4]\r",
      "\r",
      "                                                                                \r"
     ]
    }
   ],
   "source": [
    "df.select(\"userId\").dropDuplicates().sort(\"userId\").show()"
   ]
  },
  {
   "cell_type": "code",
   "execution_count": 17,
   "id": "0137da31",
   "metadata": {},
   "outputs": [
    {
     "name": "stderr",
     "output_type": "stream",
     "text": [
      "                                                                                \r"
     ]
    },
    {
     "name": "stdout",
     "output_type": "stream",
     "text": [
      "+---------+\n",
      "|sessionId|\n",
      "+---------+\n",
      "|        1|\n",
      "|        2|\n",
      "|        3|\n",
      "|        4|\n",
      "|        5|\n",
      "|        6|\n",
      "|        7|\n",
      "|        8|\n",
      "|        9|\n",
      "|       10|\n",
      "|       11|\n",
      "|       12|\n",
      "|       13|\n",
      "|       15|\n",
      "|       16|\n",
      "|       17|\n",
      "|       18|\n",
      "|       19|\n",
      "|       20|\n",
      "|       21|\n",
      "+---------+\n",
      "only showing top 20 rows\n",
      "\n"
     ]
    }
   ],
   "source": [
    "# Removing sessionId duplicates\n",
    "df.select(\"sessionId\").dropDuplicates().sort(\"sessionId\").show()"
   ]
  },
  {
   "cell_type": "code",
   "execution_count": 18,
   "id": "426aa761",
   "metadata": {},
   "outputs": [
    {
     "name": "stderr",
     "output_type": "stream",
     "text": [
      "\r",
      "[Stage 20:>                                                         (0 + 4) / 4]\r",
      "\r",
      "                                                                                \r"
     ]
    },
    {
     "data": {
      "text/plain": [
       "278154"
      ]
     },
     "execution_count": 18,
     "metadata": {},
     "output_type": "execute_result"
    }
   ],
   "source": [
    "# Recounting the dataset\n",
    "df.count()"
   ]
  },
  {
   "cell_type": "markdown",
   "id": "b8979a5c",
   "metadata": {},
   "source": [
    "This means we have dropped **286500** - **278154** = **8346** at this stage"
   ]
  },
  {
   "cell_type": "code",
   "execution_count": 19,
   "id": "61a6e059",
   "metadata": {},
   "outputs": [
    {
     "name": "stderr",
     "output_type": "stream",
     "text": [
      "                                                                                \r"
     ]
    },
    {
     "data": {
      "text/html": [
       "<div>\n",
       "<style scoped>\n",
       "    .dataframe tbody tr th:only-of-type {\n",
       "        vertical-align: middle;\n",
       "    }\n",
       "\n",
       "    .dataframe tbody tr th {\n",
       "        vertical-align: top;\n",
       "    }\n",
       "\n",
       "    .dataframe thead th {\n",
       "        text-align: right;\n",
       "    }\n",
       "</style>\n",
       "<table border=\"1\" class=\"dataframe\">\n",
       "  <thead>\n",
       "    <tr style=\"text-align: right;\">\n",
       "      <th></th>\n",
       "      <th>artist</th>\n",
       "      <th>auth</th>\n",
       "      <th>firstName</th>\n",
       "      <th>gender</th>\n",
       "      <th>itemInSession</th>\n",
       "      <th>lastName</th>\n",
       "      <th>length</th>\n",
       "      <th>level</th>\n",
       "      <th>location</th>\n",
       "      <th>method</th>\n",
       "      <th>page</th>\n",
       "      <th>registration</th>\n",
       "      <th>sessionId</th>\n",
       "      <th>song</th>\n",
       "      <th>status</th>\n",
       "      <th>ts</th>\n",
       "      <th>userAgent</th>\n",
       "      <th>userId</th>\n",
       "    </tr>\n",
       "  </thead>\n",
       "  <tbody>\n",
       "    <tr>\n",
       "      <th>0</th>\n",
       "      <td>Martha Tilston</td>\n",
       "      <td>Logged In</td>\n",
       "      <td>Colin</td>\n",
       "      <td>M</td>\n",
       "      <td>50</td>\n",
       "      <td>Freeman</td>\n",
       "      <td>277.89016</td>\n",
       "      <td>paid</td>\n",
       "      <td>Bakersfield, CA</td>\n",
       "      <td>PUT</td>\n",
       "      <td>NextSong</td>\n",
       "      <td>1538173362000</td>\n",
       "      <td>29</td>\n",
       "      <td>Rockpools</td>\n",
       "      <td>200</td>\n",
       "      <td>1538352117000</td>\n",
       "      <td>Mozilla/5.0 (Windows NT 6.1; WOW64; rv:31.0) G...</td>\n",
       "      <td>30</td>\n",
       "    </tr>\n",
       "    <tr>\n",
       "      <th>1</th>\n",
       "      <td>Five Iron Frenzy</td>\n",
       "      <td>Logged In</td>\n",
       "      <td>Micah</td>\n",
       "      <td>M</td>\n",
       "      <td>79</td>\n",
       "      <td>Long</td>\n",
       "      <td>236.09424</td>\n",
       "      <td>free</td>\n",
       "      <td>Boston-Cambridge-Newton, MA-NH</td>\n",
       "      <td>PUT</td>\n",
       "      <td>NextSong</td>\n",
       "      <td>1538331630000</td>\n",
       "      <td>8</td>\n",
       "      <td>Canada</td>\n",
       "      <td>200</td>\n",
       "      <td>1538352180000</td>\n",
       "      <td>\"Mozilla/5.0 (Windows NT 6.1; WOW64) AppleWebK...</td>\n",
       "      <td>9</td>\n",
       "    </tr>\n",
       "    <tr>\n",
       "      <th>2</th>\n",
       "      <td>Adam Lambert</td>\n",
       "      <td>Logged In</td>\n",
       "      <td>Colin</td>\n",
       "      <td>M</td>\n",
       "      <td>51</td>\n",
       "      <td>Freeman</td>\n",
       "      <td>282.82730</td>\n",
       "      <td>paid</td>\n",
       "      <td>Bakersfield, CA</td>\n",
       "      <td>PUT</td>\n",
       "      <td>NextSong</td>\n",
       "      <td>1538173362000</td>\n",
       "      <td>29</td>\n",
       "      <td>Time For Miracles</td>\n",
       "      <td>200</td>\n",
       "      <td>1538352394000</td>\n",
       "      <td>Mozilla/5.0 (Windows NT 6.1; WOW64; rv:31.0) G...</td>\n",
       "      <td>30</td>\n",
       "    </tr>\n",
       "    <tr>\n",
       "      <th>3</th>\n",
       "      <td>Enigma</td>\n",
       "      <td>Logged In</td>\n",
       "      <td>Micah</td>\n",
       "      <td>M</td>\n",
       "      <td>80</td>\n",
       "      <td>Long</td>\n",
       "      <td>262.71302</td>\n",
       "      <td>free</td>\n",
       "      <td>Boston-Cambridge-Newton, MA-NH</td>\n",
       "      <td>PUT</td>\n",
       "      <td>NextSong</td>\n",
       "      <td>1538331630000</td>\n",
       "      <td>8</td>\n",
       "      <td>Knocking On Forbidden Doors</td>\n",
       "      <td>200</td>\n",
       "      <td>1538352416000</td>\n",
       "      <td>\"Mozilla/5.0 (Windows NT 6.1; WOW64) AppleWebK...</td>\n",
       "      <td>9</td>\n",
       "    </tr>\n",
       "    <tr>\n",
       "      <th>4</th>\n",
       "      <td>Daft Punk</td>\n",
       "      <td>Logged In</td>\n",
       "      <td>Colin</td>\n",
       "      <td>M</td>\n",
       "      <td>52</td>\n",
       "      <td>Freeman</td>\n",
       "      <td>223.60771</td>\n",
       "      <td>paid</td>\n",
       "      <td>Bakersfield, CA</td>\n",
       "      <td>PUT</td>\n",
       "      <td>NextSong</td>\n",
       "      <td>1538173362000</td>\n",
       "      <td>29</td>\n",
       "      <td>Harder Better Faster Stronger</td>\n",
       "      <td>200</td>\n",
       "      <td>1538352676000</td>\n",
       "      <td>Mozilla/5.0 (Windows NT 6.1; WOW64; rv:31.0) G...</td>\n",
       "      <td>30</td>\n",
       "    </tr>\n",
       "    <tr>\n",
       "      <th>...</th>\n",
       "      <td>...</td>\n",
       "      <td>...</td>\n",
       "      <td>...</td>\n",
       "      <td>...</td>\n",
       "      <td>...</td>\n",
       "      <td>...</td>\n",
       "      <td>...</td>\n",
       "      <td>...</td>\n",
       "      <td>...</td>\n",
       "      <td>...</td>\n",
       "      <td>...</td>\n",
       "      <td>...</td>\n",
       "      <td>...</td>\n",
       "      <td>...</td>\n",
       "      <td>...</td>\n",
       "      <td>...</td>\n",
       "      <td>...</td>\n",
       "      <td>...</td>\n",
       "    </tr>\n",
       "    <tr>\n",
       "      <th>278149</th>\n",
       "      <td>Iron Maiden</td>\n",
       "      <td>Logged In</td>\n",
       "      <td>Emilia</td>\n",
       "      <td>F</td>\n",
       "      <td>38</td>\n",
       "      <td>House</td>\n",
       "      <td>258.66404</td>\n",
       "      <td>paid</td>\n",
       "      <td>New York-Newark-Jersey City, NY-NJ-PA</td>\n",
       "      <td>PUT</td>\n",
       "      <td>NextSong</td>\n",
       "      <td>1538336771000</td>\n",
       "      <td>500</td>\n",
       "      <td>Murders In The Rue Morgue (1998 Digital Remaster)</td>\n",
       "      <td>200</td>\n",
       "      <td>1543622121000</td>\n",
       "      <td>Mozilla/5.0 (compatible; MSIE 9.0; Windows NT ...</td>\n",
       "      <td>300011</td>\n",
       "    </tr>\n",
       "    <tr>\n",
       "      <th>278150</th>\n",
       "      <td>None</td>\n",
       "      <td>Logged In</td>\n",
       "      <td>Emilia</td>\n",
       "      <td>F</td>\n",
       "      <td>39</td>\n",
       "      <td>House</td>\n",
       "      <td>NaN</td>\n",
       "      <td>paid</td>\n",
       "      <td>New York-Newark-Jersey City, NY-NJ-PA</td>\n",
       "      <td>PUT</td>\n",
       "      <td>Logout</td>\n",
       "      <td>1538336771000</td>\n",
       "      <td>500</td>\n",
       "      <td>None</td>\n",
       "      <td>307</td>\n",
       "      <td>1543622122000</td>\n",
       "      <td>Mozilla/5.0 (compatible; MSIE 9.0; Windows NT ...</td>\n",
       "      <td>300011</td>\n",
       "    </tr>\n",
       "    <tr>\n",
       "      <th>278151</th>\n",
       "      <td>None</td>\n",
       "      <td>Logged In</td>\n",
       "      <td>Emilia</td>\n",
       "      <td>F</td>\n",
       "      <td>43</td>\n",
       "      <td>House</td>\n",
       "      <td>NaN</td>\n",
       "      <td>paid</td>\n",
       "      <td>New York-Newark-Jersey City, NY-NJ-PA</td>\n",
       "      <td>GET</td>\n",
       "      <td>Home</td>\n",
       "      <td>1538336771000</td>\n",
       "      <td>500</td>\n",
       "      <td>None</td>\n",
       "      <td>200</td>\n",
       "      <td>1543622248000</td>\n",
       "      <td>Mozilla/5.0 (compatible; MSIE 9.0; Windows NT ...</td>\n",
       "      <td>300011</td>\n",
       "    </tr>\n",
       "    <tr>\n",
       "      <th>278152</th>\n",
       "      <td>None</td>\n",
       "      <td>Logged In</td>\n",
       "      <td>Emilia</td>\n",
       "      <td>F</td>\n",
       "      <td>44</td>\n",
       "      <td>House</td>\n",
       "      <td>NaN</td>\n",
       "      <td>paid</td>\n",
       "      <td>New York-Newark-Jersey City, NY-NJ-PA</td>\n",
       "      <td>GET</td>\n",
       "      <td>About</td>\n",
       "      <td>1538336771000</td>\n",
       "      <td>500</td>\n",
       "      <td>None</td>\n",
       "      <td>200</td>\n",
       "      <td>1543622398000</td>\n",
       "      <td>Mozilla/5.0 (compatible; MSIE 9.0; Windows NT ...</td>\n",
       "      <td>300011</td>\n",
       "    </tr>\n",
       "    <tr>\n",
       "      <th>278153</th>\n",
       "      <td>Camera Obscura</td>\n",
       "      <td>Logged In</td>\n",
       "      <td>Emilia</td>\n",
       "      <td>F</td>\n",
       "      <td>45</td>\n",
       "      <td>House</td>\n",
       "      <td>170.89261</td>\n",
       "      <td>paid</td>\n",
       "      <td>New York-Newark-Jersey City, NY-NJ-PA</td>\n",
       "      <td>PUT</td>\n",
       "      <td>NextSong</td>\n",
       "      <td>1538336771000</td>\n",
       "      <td>500</td>\n",
       "      <td>The Sun On His Back</td>\n",
       "      <td>200</td>\n",
       "      <td>1543622411000</td>\n",
       "      <td>Mozilla/5.0 (compatible; MSIE 9.0; Windows NT ...</td>\n",
       "      <td>300011</td>\n",
       "    </tr>\n",
       "  </tbody>\n",
       "</table>\n",
       "<p>278154 rows × 18 columns</p>\n",
       "</div>"
      ],
      "text/plain": [
       "                  artist       auth firstName gender  itemInSession lastName  \\\n",
       "0         Martha Tilston  Logged In     Colin      M             50  Freeman   \n",
       "1       Five Iron Frenzy  Logged In     Micah      M             79     Long   \n",
       "2           Adam Lambert  Logged In     Colin      M             51  Freeman   \n",
       "3                 Enigma  Logged In     Micah      M             80     Long   \n",
       "4              Daft Punk  Logged In     Colin      M             52  Freeman   \n",
       "...                  ...        ...       ...    ...            ...      ...   \n",
       "278149       Iron Maiden  Logged In    Emilia      F             38    House   \n",
       "278150              None  Logged In    Emilia      F             39    House   \n",
       "278151              None  Logged In    Emilia      F             43    House   \n",
       "278152              None  Logged In    Emilia      F             44    House   \n",
       "278153    Camera Obscura  Logged In    Emilia      F             45    House   \n",
       "\n",
       "           length level                               location method  \\\n",
       "0       277.89016  paid                        Bakersfield, CA    PUT   \n",
       "1       236.09424  free         Boston-Cambridge-Newton, MA-NH    PUT   \n",
       "2       282.82730  paid                        Bakersfield, CA    PUT   \n",
       "3       262.71302  free         Boston-Cambridge-Newton, MA-NH    PUT   \n",
       "4       223.60771  paid                        Bakersfield, CA    PUT   \n",
       "...           ...   ...                                    ...    ...   \n",
       "278149  258.66404  paid  New York-Newark-Jersey City, NY-NJ-PA    PUT   \n",
       "278150        NaN  paid  New York-Newark-Jersey City, NY-NJ-PA    PUT   \n",
       "278151        NaN  paid  New York-Newark-Jersey City, NY-NJ-PA    GET   \n",
       "278152        NaN  paid  New York-Newark-Jersey City, NY-NJ-PA    GET   \n",
       "278153  170.89261  paid  New York-Newark-Jersey City, NY-NJ-PA    PUT   \n",
       "\n",
       "            page   registration  sessionId  \\\n",
       "0       NextSong  1538173362000         29   \n",
       "1       NextSong  1538331630000          8   \n",
       "2       NextSong  1538173362000         29   \n",
       "3       NextSong  1538331630000          8   \n",
       "4       NextSong  1538173362000         29   \n",
       "...          ...            ...        ...   \n",
       "278149  NextSong  1538336771000        500   \n",
       "278150    Logout  1538336771000        500   \n",
       "278151      Home  1538336771000        500   \n",
       "278152     About  1538336771000        500   \n",
       "278153  NextSong  1538336771000        500   \n",
       "\n",
       "                                                     song  status  \\\n",
       "0                                               Rockpools     200   \n",
       "1                                                  Canada     200   \n",
       "2                                       Time For Miracles     200   \n",
       "3                             Knocking On Forbidden Doors     200   \n",
       "4                           Harder Better Faster Stronger     200   \n",
       "...                                                   ...     ...   \n",
       "278149  Murders In The Rue Morgue (1998 Digital Remaster)     200   \n",
       "278150                                               None     307   \n",
       "278151                                               None     200   \n",
       "278152                                               None     200   \n",
       "278153                                The Sun On His Back     200   \n",
       "\n",
       "                   ts                                          userAgent  \\\n",
       "0       1538352117000  Mozilla/5.0 (Windows NT 6.1; WOW64; rv:31.0) G...   \n",
       "1       1538352180000  \"Mozilla/5.0 (Windows NT 6.1; WOW64) AppleWebK...   \n",
       "2       1538352394000  Mozilla/5.0 (Windows NT 6.1; WOW64; rv:31.0) G...   \n",
       "3       1538352416000  \"Mozilla/5.0 (Windows NT 6.1; WOW64) AppleWebK...   \n",
       "4       1538352676000  Mozilla/5.0 (Windows NT 6.1; WOW64; rv:31.0) G...   \n",
       "...               ...                                                ...   \n",
       "278149  1543622121000  Mozilla/5.0 (compatible; MSIE 9.0; Windows NT ...   \n",
       "278150  1543622122000  Mozilla/5.0 (compatible; MSIE 9.0; Windows NT ...   \n",
       "278151  1543622248000  Mozilla/5.0 (compatible; MSIE 9.0; Windows NT ...   \n",
       "278152  1543622398000  Mozilla/5.0 (compatible; MSIE 9.0; Windows NT ...   \n",
       "278153  1543622411000  Mozilla/5.0 (compatible; MSIE 9.0; Windows NT ...   \n",
       "\n",
       "        userId  \n",
       "0           30  \n",
       "1            9  \n",
       "2           30  \n",
       "3            9  \n",
       "4           30  \n",
       "...        ...  \n",
       "278149  300011  \n",
       "278150  300011  \n",
       "278151  300011  \n",
       "278152  300011  \n",
       "278153  300011  \n",
       "\n",
       "[278154 rows x 18 columns]"
      ]
     },
     "execution_count": 19,
     "metadata": {},
     "output_type": "execute_result"
    }
   ],
   "source": [
    "# Exploring the dataset by Panda Dataframe \n",
    "df_pandas = df.toPandas()\n",
    "df_pandas"
   ]
  },
  {
   "cell_type": "markdown",
   "id": "7f980a4d",
   "metadata": {},
   "source": [
    "## Exploratory Data Analysis\n",
    "<a class=\"anchor\" id=\"eda\"></a>\n",
    "\n",
    "At this section we will explore the actions taken by the users who churned versus those who stayed with the service. For that pupose, we have certain columnar information, such as the `length` and the `song`, to take the analysis forward.\n",
    "\n",
    "\n",
    "### Churn Column\n",
    "\n",
    "As explained in the introduction, **Churn** is defined as the service termination. Therfore, a column `Churn` will be created. `page` column is used to extract those labelled as `Cancellation Confirmation` and assign to those who churned. This is applied for both free and paid users. We will assign a **0** where a user has not churned and a **1** where they have churned.\n"
   ]
  },
  {
   "cell_type": "code",
   "execution_count": 20,
   "id": "5c61df3b",
   "metadata": {},
   "outputs": [
    {
     "name": "stderr",
     "output_type": "stream",
     "text": [
      "\r",
      "[Stage 24:>                                                         (0 + 4) / 4]\r"
     ]
    },
    {
     "name": "stdout",
     "output_type": "stream",
     "text": [
      "+--------------------+\n",
      "|                page|\n",
      "+--------------------+\n",
      "|              Cancel|\n",
      "|    Submit Downgrade|\n",
      "|         Thumbs Down|\n",
      "|                Home|\n",
      "|           Downgrade|\n",
      "|         Roll Advert|\n",
      "|              Logout|\n",
      "|       Save Settings|\n",
      "|Cancellation Conf...|\n",
      "|               About|\n",
      "|            Settings|\n",
      "|     Add to Playlist|\n",
      "|          Add Friend|\n",
      "|            NextSong|\n",
      "|           Thumbs Up|\n",
      "|                Help|\n",
      "|             Upgrade|\n",
      "|               Error|\n",
      "|      Submit Upgrade|\n",
      "+--------------------+\n",
      "\n"
     ]
    },
    {
     "name": "stderr",
     "output_type": "stream",
     "text": [
      "\r",
      "                                                                                \r"
     ]
    }
   ],
   "source": [
    "# Exploring the page column classifications\n",
    "df.select(\"page\").dropDuplicates().show()"
   ]
  },
  {
   "cell_type": "markdown",
   "id": "41f7c98f",
   "metadata": {},
   "source": [
    "As explained earlier, `Cancelalation Confirmation` identifies the users who confirmed termination from the service."
   ]
  },
  {
   "cell_type": "code",
   "execution_count": 21,
   "id": "07644c26",
   "metadata": {},
   "outputs": [
    {
     "name": "stdout",
     "output_type": "stream",
     "text": [
      "+------+--------------------+\n",
      "|userId|                page|\n",
      "+------+--------------------+\n",
      "|    18|Cancellation Conf...|\n",
      "|    32|Cancellation Conf...|\n",
      "|   125|Cancellation Conf...|\n",
      "|   105|Cancellation Conf...|\n",
      "|    17|Cancellation Conf...|\n",
      "|   143|Cancellation Conf...|\n",
      "|   101|Cancellation Conf...|\n",
      "|   129|Cancellation Conf...|\n",
      "|   121|Cancellation Conf...|\n",
      "|    51|Cancellation Conf...|\n",
      "|    87|Cancellation Conf...|\n",
      "|   122|Cancellation Conf...|\n",
      "|    12|Cancellation Conf...|\n",
      "|    58|Cancellation Conf...|\n",
      "|    73|Cancellation Conf...|\n",
      "|     3|Cancellation Conf...|\n",
      "|   106|Cancellation Conf...|\n",
      "|   103|Cancellation Conf...|\n",
      "|    28|Cancellation Conf...|\n",
      "|    54|Cancellation Conf...|\n",
      "+------+--------------------+\n",
      "only showing top 20 rows\n",
      "\n"
     ]
    }
   ],
   "source": [
    "# Exploring those who churned \n",
    "df.select([\"userId\", \"page\"]).where(df.page == \"Cancellation Confirmation\").show()"
   ]
  },
  {
   "cell_type": "code",
   "execution_count": 22,
   "id": "cf997dd4",
   "metadata": {},
   "outputs": [
    {
     "data": {
      "text/plain": [
       "52"
      ]
     },
     "execution_count": 22,
     "metadata": {},
     "output_type": "execute_result"
    }
   ],
   "source": [
    "# Identifying how many users churned \n",
    "df.select([\"userId\", \"page\"]).where(df.page == \"Cancellation Confirmation\").count()"
   ]
  },
  {
   "cell_type": "markdown",
   "id": "34f85292",
   "metadata": {},
   "source": [
    "Therefore, **52** users churned. "
   ]
  },
  {
   "cell_type": "markdown",
   "id": "5f115d65",
   "metadata": {},
   "source": [
    "We can now proceed to creating a flag for identifying churned and unchurned users. For this we assign the churned users to **1** and otherwise **0**."
   ]
  },
  {
   "cell_type": "code",
   "execution_count": 23,
   "id": "f03b11d6",
   "metadata": {},
   "outputs": [
    {
     "name": "stderr",
     "output_type": "stream",
     "text": [
      "\r",
      "[Stage 33:>                                                         (0 + 1) / 1]\r"
     ]
    },
    {
     "name": "stdout",
     "output_type": "stream",
     "text": [
      "+------+-----+\n",
      "|userId|Churn|\n",
      "+------+-----+\n",
      "|    30|    0|\n",
      "|     9|    0|\n",
      "|    30|    0|\n",
      "|     9|    0|\n",
      "|    30|    0|\n",
      "|     9|    0|\n",
      "|     9|    0|\n",
      "|    30|    0|\n",
      "|    30|    0|\n",
      "|    30|    0|\n",
      "|     9|    0|\n",
      "|     9|    0|\n",
      "|    30|    0|\n",
      "|     9|    0|\n",
      "|     9|    0|\n",
      "|    30|    0|\n",
      "|     9|    0|\n",
      "|    74|    0|\n",
      "|    30|    0|\n",
      "|     9|    0|\n",
      "+------+-----+\n",
      "only showing top 20 rows\n",
      "\n"
     ]
    },
    {
     "name": "stderr",
     "output_type": "stream",
     "text": [
      "\r",
      "                                                                                \r"
     ]
    }
   ],
   "source": [
    "# Using User Defined Function to flag the users in a new column\n",
    "churn_event = udf(lambda x: 1 if x == \"Cancellation Confirmation\" else 0, IntegerType())\n",
    "df = df.withColumn(\"Churn\", churn_event(\"page\"))\n",
    "df.select([\"userId\", \"Churn\"]).show()"
   ]
  },
  {
   "cell_type": "code",
   "execution_count": 24,
   "id": "c72683f0",
   "metadata": {},
   "outputs": [
    {
     "name": "stderr",
     "output_type": "stream",
     "text": [
      "\r",
      "[Stage 34:>                                                         (0 + 1) / 1]\r",
      "\r",
      "                                                                                \r"
     ]
    },
    {
     "name": "stdout",
     "output_type": "stream",
     "text": [
      "+------+-----+\n",
      "|userId|Churn|\n",
      "+------+-----+\n",
      "|    18|    1|\n",
      "|    32|    1|\n",
      "|   125|    1|\n",
      "|   105|    1|\n",
      "|    17|    1|\n",
      "|   143|    1|\n",
      "|   101|    1|\n",
      "|   129|    1|\n",
      "|   121|    1|\n",
      "|    51|    1|\n",
      "|    87|    1|\n",
      "|   122|    1|\n",
      "|    12|    1|\n",
      "|    58|    1|\n",
      "|    73|    1|\n",
      "|     3|    1|\n",
      "|   106|    1|\n",
      "|   103|    1|\n",
      "|    28|    1|\n",
      "|    54|    1|\n",
      "+------+-----+\n",
      "only showing top 20 rows\n",
      "\n"
     ]
    }
   ],
   "source": [
    "df.select([\"userId\", \"Churn\"]).where(df.Churn == 1 ).show()"
   ]
  },
  {
   "cell_type": "markdown",
   "id": "746545ac",
   "metadata": {},
   "source": [
    "As it can be seen in the last cell, the `Churn` column has been created with the assigned values of **1** and **0**."
   ]
  },
  {
   "cell_type": "code",
   "execution_count": 25,
   "id": "188f1aaa",
   "metadata": {},
   "outputs": [
    {
     "data": {
      "text/plain": [
       "<pyspark.sql.window.WindowSpec at 0x7f7fccef1af0>"
      ]
     },
     "execution_count": 25,
     "metadata": {},
     "output_type": "execute_result"
    }
   ],
   "source": [
    "windowval = Window.partitionBy(\"userId\").orderBy(desc(\"ts\")).rangeBetween(Window.unboundedPreceding, 0)\n",
    "windowval"
   ]
  },
  {
   "cell_type": "code",
   "execution_count": 26,
   "id": "c5f6b5e0",
   "metadata": {},
   "outputs": [
    {
     "name": "stderr",
     "output_type": "stream",
     "text": [
      "[Stage 37:==============>                                           (1 + 3) / 4]\r"
     ]
    },
    {
     "name": "stdout",
     "output_type": "stream",
     "text": [
      "+--------------------+---------+---------+------+-------------+--------+---------+-----+--------------------+------+-----------+-------------+---------+--------------------+------+-------------+--------------------+------+-----+\n",
      "|              artist|     auth|firstName|gender|itemInSession|lastName|   length|level|            location|method|       page| registration|sessionId|                song|status|           ts|           userAgent|userId|churn|\n",
      "+--------------------+---------+---------+------+-------------+--------+---------+-----+--------------------+------+-----------+-------------+---------+--------------------+------+-------------+--------------------+------+-----+\n",
      "|                null|Logged In|  Bryanna|     F|           43|   Stone|     null| free|Los Angeles-Long ...|   PUT|     Logout|1537440271000|      201|                null|   307|1543335219000|Mozilla/5.0 (Maci...|100008|    0|\n",
      "|Bembeya Jazz Nati...|Logged In|  Bryanna|     F|           42|   Stone|245.99465| free|Los Angeles-Long ...|   PUT|   NextSong|1537440271000|      201|             Alalake|   200|1543335218000|Mozilla/5.0 (Maci...|100008|    0|\n",
      "|       Ralph Stanley|Logged In|  Bryanna|     F|           41|   Stone|199.57506| free|Los Angeles-Long ...|   PUT|   NextSong|1537440271000|      201|             O Death|   200|1543335019000|Mozilla/5.0 (Maci...|100008|    0|\n",
      "|   Brotha Lynch Hung|Logged In|  Bryanna|     F|           40|   Stone| 67.91791| free|Los Angeles-Long ...|   PUT|   NextSong|1537440271000|      201|              Q-Ball|   200|1543334952000|Mozilla/5.0 (Maci...|100008|    0|\n",
      "|           Everclear|Logged In|  Bryanna|     F|           39|   Stone|257.14893| free|Los Angeles-Long ...|   PUT|   NextSong|1537440271000|      201|Why I Don't Belie...|   200|1543334695000|Mozilla/5.0 (Maci...|100008|    0|\n",
      "|                Cake|Logged In|  Bryanna|     F|           38|   Stone|241.03138| free|Los Angeles-Long ...|   PUT|   NextSong|1537440271000|      201|       Frank Sinatra|   200|1543334454000|Mozilla/5.0 (Maci...|100008|    0|\n",
      "|     Yeah Yeah Yeahs|Logged In|  Bryanna|     F|           37|   Stone|302.05342| free|Los Angeles-Long ...|   PUT|   NextSong|1537440271000|      201|           Skeletons|   200|1543334152000|Mozilla/5.0 (Maci...|100008|    0|\n",
      "|       Laura Pausini|Logged In|  Bryanna|     F|           36|   Stone|259.99628| free|Los Angeles-Long ...|   PUT|   NextSong|1537440271000|      201|          Las Chicas|   200|1543333893000|Mozilla/5.0 (Maci...|100008|    0|\n",
      "|                null|Logged In|  Bryanna|     F|           35|   Stone|     null| free|Los Angeles-Long ...|   GET|Roll Advert|1537440271000|      201|                null|   200|1543333598000|Mozilla/5.0 (Maci...|100008|    0|\n",
      "|      DJ Paul Elstak|Logged In|  Bryanna|     F|           34|   Stone|324.98893| free|Los Angeles-Long ...|   PUT|   NextSong|1537440271000|      201|   The Promised Land|   200|1543333569000|Mozilla/5.0 (Maci...|100008|    0|\n",
      "|           Hombres G|Logged In|  Bryanna|     F|           33|   Stone|259.70893| free|Los Angeles-Long ...|   PUT|   NextSong|1537440271000|      201|Lo noto (version cd)|   200|1543333310000|Mozilla/5.0 (Maci...|100008|    0|\n",
      "|           Faithless|Logged In|  Bryanna|     F|           32|   Stone|433.44934| free|Los Angeles-Long ...|   PUT|   NextSong|1537440271000|      201|Take The Long Way...|   200|1543332877000|Mozilla/5.0 (Maci...|100008|    0|\n",
      "|       The Cardigans|Logged In|  Bryanna|     F|           31|   Stone|248.11057| free|Los Angeles-Long ...|   PUT|   NextSong|1537440271000|      201|  Junk Of The Hearts|   200|1543332629000|Mozilla/5.0 (Maci...|100008|    0|\n",
      "|                MGMT|Logged In|  Bryanna|     F|           30|   Stone|229.25016| free|Los Angeles-Long ...|   PUT|   NextSong|1537440271000|      201|       Electric Feel|   200|1543332400000|Mozilla/5.0 (Maci...|100008|    0|\n",
      "|                null|Logged In|  Bryanna|     F|           29|   Stone|     null| free|Los Angeles-Long ...|   GET|Roll Advert|1537440271000|      201|                null|   200|1543332182000|Mozilla/5.0 (Maci...|100008|    0|\n",
      "|            Old 97's|Logged In|  Bryanna|     F|           28|   Stone|231.28771| free|Los Angeles-Long ...|   PUT|   NextSong|1537440271000|      201|Victoria (LP Vers...|   200|1543332169000|Mozilla/5.0 (Maci...|100008|    0|\n",
      "|             Skillet|Logged In|  Bryanna|     F|           27|   Stone|178.02404| free|Los Angeles-Long ...|   PUT|   NextSong|1537440271000|      201|Monster (Album Ve...|   200|1543331991000|Mozilla/5.0 (Maci...|100008|    0|\n",
      "|            Hot Chip|Logged In|  Bryanna|     F|           26|   Stone| 280.0322| free|Los Angeles-Long ...|   PUT|   NextSong|1537440271000|      201|       I Feel Better|   200|1543331711000|Mozilla/5.0 (Maci...|100008|    0|\n",
      "|         David Bowie|Logged In|  Bryanna|     F|           25|   Stone|186.04363| free|Los Angeles-Long ...|   PUT|   NextSong|1537440271000|      201|Sound And Vision ...|   200|1543331525000|Mozilla/5.0 (Maci...|100008|    0|\n",
      "|          Tankcsapda|Logged In|  Bryanna|     F|           24|   Stone|328.54159| free|Los Angeles-Long ...|   PUT|   NextSong|1537440271000|      201|         HiÃÂ¡nyzol|   200|1543331197000|Mozilla/5.0 (Maci...|100008|    0|\n",
      "+--------------------+---------+---------+------+-------------+--------+---------+-----+--------------------+------+-----------+-------------+---------+--------------------+------+-------------+--------------------+------+-----+\n",
      "only showing top 20 rows\n",
      "\n"
     ]
    },
    {
     "name": "stderr",
     "output_type": "stream",
     "text": [
      "\r",
      "                                                                                \r"
     ]
    }
   ],
   "source": [
    "df = df.withColumn(\"churn\", Fsum(\"churn\").over(windowval))\n",
    "df.show()"
   ]
  },
  {
   "cell_type": "code",
   "execution_count": 46,
   "id": "0fa844e0",
   "metadata": {},
   "outputs": [
    {
     "name": "stderr",
     "output_type": "stream",
     "text": [
      "[Stage 88:===========================================>              (3 + 1) / 4]\r"
     ]
    },
    {
     "name": "stdout",
     "output_type": "stream",
     "text": [
      "+-----+-----+\n",
      "|churn|count|\n",
      "+-----+-----+\n",
      "|    0|  173|\n",
      "|    1|   52|\n",
      "+-----+-----+\n",
      "\n"
     ]
    },
    {
     "name": "stderr",
     "output_type": "stream",
     "text": [
      "\r",
      "[Stage 90:>                                                         (0 + 1) / 1]\r",
      "\r",
      "                                                                                \r"
     ]
    }
   ],
   "source": [
    "df_churn = df.select(['userId', 'churn']).dropDuplicates().groupBy('churn').count()\n",
    "df_churn.show()"
   ]
  },
  {
   "cell_type": "markdown",
   "id": "d12ba804",
   "metadata": {},
   "source": [
    "### EDA for Users that Stayed vs Users that Churned"
   ]
  },
  {
   "cell_type": "markdown",
   "id": "a01a81e2",
   "metadata": {},
   "source": [
    "Now we can examine behaviour of those who churned vs those who did not churn. First we will visualise those who churned vs those who stayed."
   ]
  },
  {
   "cell_type": "code",
   "execution_count": 61,
   "id": "cc832406",
   "metadata": {},
   "outputs": [
    {
     "name": "stderr",
     "output_type": "stream",
     "text": [
      "                                                                                \r"
     ]
    },
    {
     "data": {
      "text/html": [
       "<div>\n",
       "<style scoped>\n",
       "    .dataframe tbody tr th:only-of-type {\n",
       "        vertical-align: middle;\n",
       "    }\n",
       "\n",
       "    .dataframe tbody tr th {\n",
       "        vertical-align: top;\n",
       "    }\n",
       "\n",
       "    .dataframe thead th {\n",
       "        text-align: right;\n",
       "    }\n",
       "</style>\n",
       "<table border=\"1\" class=\"dataframe\">\n",
       "  <thead>\n",
       "    <tr style=\"text-align: right;\">\n",
       "      <th></th>\n",
       "      <th>churn</th>\n",
       "      <th>count</th>\n",
       "    </tr>\n",
       "  </thead>\n",
       "  <tbody>\n",
       "    <tr>\n",
       "      <th>0</th>\n",
       "      <td>0</td>\n",
       "      <td>173</td>\n",
       "    </tr>\n",
       "    <tr>\n",
       "      <th>1</th>\n",
       "      <td>1</td>\n",
       "      <td>52</td>\n",
       "    </tr>\n",
       "  </tbody>\n",
       "</table>\n",
       "</div>"
      ],
      "text/plain": [
       "   churn  count\n",
       "0      0    173\n",
       "1      1     52"
      ]
     },
     "execution_count": 61,
     "metadata": {},
     "output_type": "execute_result"
    }
   ],
   "source": [
    "# convert dataframe to pandas for visualisation\n",
    "df_churn = df_churn.toPandas()\n",
    "df_churn"
   ]
  },
  {
   "cell_type": "code",
   "execution_count": 62,
   "id": "4916df08",
   "metadata": {},
   "outputs": [
    {
     "data": {
      "image/png": "[encoded data removed]",
      "text/plain": [
       "<Figure size 576x432 with 1 Axes>"
      ]
     },
     "metadata": {},
     "output_type": "display_data"
    }
   ],
   "source": [
    "# plotting the number of churned users\n",
    "plt.figure(figsize = [8,6])\n",
    "ax = sns.barplot(data = df_churn, x = 'churn', y='count')\n",
    "plt.title(\"Numbers of Users That Churned\");"
   ]
  },
  {
   "cell_type": "code",
   "execution_count": 63,
   "id": "281aac69",
   "metadata": {},
   "outputs": [
    {
     "data": {
      "text/plain": [
       "23.11111111111111"
      ]
     },
     "execution_count": 63,
     "metadata": {},
     "output_type": "execute_result"
    }
   ],
   "source": [
    "# churned rate calculation\n",
    "52/(173+52) * 100"
   ]
  },
  {
   "cell_type": "markdown",
   "id": "72352b63",
   "metadata": {},
   "source": [
    "From the above, we can see that **173** users stayed while **52** users churned. Therefore this means that **23%** of our users churned. It is important to note moving forward that this is an imbalance."
   ]
  },
  {
   "cell_type": "markdown",
   "id": "38c6d7dc",
   "metadata": {},
   "source": [
    "### Length of time: Users that Churned vs. Users that Stayed"
   ]
  },
  {
   "cell_type": "markdown",
   "id": "b02ecef8",
   "metadata": {},
   "source": [
    "We can now look at the length distribution for customers who stayed and those which churned. "
   ]
  },
  {
   "cell_type": "code",
   "execution_count": 67,
   "id": "bee2c31c",
   "metadata": {},
   "outputs": [
    {
     "name": "stderr",
     "output_type": "stream",
     "text": [
      "[Stage 103:==========================================>              (3 + 1) / 4]\r"
     ]
    },
    {
     "name": "stdout",
     "output_type": "stream",
     "text": [
      "+------+---------+---------+------+-------------+--------+------+-----+--------------------+------+--------------------+-------------+---------+----+------+-------------+--------------------+------+-----+\n",
      "|artist|     auth|firstName|gender|itemInSession|lastName|length|level|            location|method|                page| registration|sessionId|song|status|           ts|           userAgent|userId|churn|\n",
      "+------+---------+---------+------+-------------+--------+------+-----+--------------------+------+--------------------+-------------+---------+----+------+-------------+--------------------+------+-----+\n",
      "|  null|Cancelled|  Rodrigo|     M|           73|   Carey|  null| paid|New York-Newark-J...|   GET|Cancellation Conf...|1535389443000|      185|null|   200|1542740649000|\"Mozilla/5.0 (Win...|100014|    1|\n",
      "+------+---------+---------+------+-------------+--------+------+-----+--------------------+------+--------------------+-------------+---------+----+------+-------------+--------------------+------+-----+\n",
      "only showing top 1 row\n",
      "\n"
     ]
    },
    {
     "name": "stderr",
     "output_type": "stream",
     "text": [
      "\r",
      "                                                                                \r"
     ]
    }
   ],
   "source": [
    "# the customers who churned (sample)\n",
    "df_len = df.filter(df.churn ==1)\n",
    "df_len.show(1)"
   ]
  },
  {
   "cell_type": "code",
   "execution_count": 90,
   "id": "52d47aa7",
   "metadata": {},
   "outputs": [
    {
     "name": "stderr",
     "output_type": "stream",
     "text": [
      "\r",
      "[Stage 128:>                                                        (0 + 4) / 4]\r",
      "\r",
      "                                                                                \r"
     ]
    },
    {
     "data": {
      "text/html": [
       "<div>\n",
       "<style scoped>\n",
       "    .dataframe tbody tr th:only-of-type {\n",
       "        vertical-align: middle;\n",
       "    }\n",
       "\n",
       "    .dataframe tbody tr th {\n",
       "        vertical-align: top;\n",
       "    }\n",
       "\n",
       "    .dataframe thead th {\n",
       "        text-align: right;\n",
       "    }\n",
       "</style>\n",
       "<table border=\"1\" class=\"dataframe\">\n",
       "  <thead>\n",
       "    <tr style=\"text-align: right;\">\n",
       "      <th></th>\n",
       "      <th>artist</th>\n",
       "      <th>auth</th>\n",
       "      <th>firstName</th>\n",
       "      <th>gender</th>\n",
       "      <th>itemInSession</th>\n",
       "      <th>lastName</th>\n",
       "      <th>length</th>\n",
       "      <th>level</th>\n",
       "      <th>location</th>\n",
       "      <th>method</th>\n",
       "      <th>page</th>\n",
       "      <th>registration</th>\n",
       "      <th>sessionId</th>\n",
       "      <th>song</th>\n",
       "      <th>status</th>\n",
       "      <th>ts</th>\n",
       "      <th>userAgent</th>\n",
       "      <th>userId</th>\n",
       "      <th>churn</th>\n",
       "    </tr>\n",
       "  </thead>\n",
       "  <tbody>\n",
       "    <tr>\n",
       "      <th>0</th>\n",
       "      <td>None</td>\n",
       "      <td>Cancelled</td>\n",
       "      <td>Rodrigo</td>\n",
       "      <td>M</td>\n",
       "      <td>73</td>\n",
       "      <td>Carey</td>\n",
       "      <td>NaN</td>\n",
       "      <td>paid</td>\n",
       "      <td>New York-Newark-Jersey City, NY-NJ-PA</td>\n",
       "      <td>GET</td>\n",
       "      <td>Cancellation Confirmation</td>\n",
       "      <td>1535389443000</td>\n",
       "      <td>185</td>\n",
       "      <td>None</td>\n",
       "      <td>200</td>\n",
       "      <td>1542740649000</td>\n",
       "      <td>\"Mozilla/5.0 (Windows NT 6.1; WOW64) AppleWebK...</td>\n",
       "      <td>100014</td>\n",
       "      <td>1</td>\n",
       "    </tr>\n",
       "    <tr>\n",
       "      <th>1</th>\n",
       "      <td>None</td>\n",
       "      <td>Logged In</td>\n",
       "      <td>Rodrigo</td>\n",
       "      <td>M</td>\n",
       "      <td>72</td>\n",
       "      <td>Carey</td>\n",
       "      <td>NaN</td>\n",
       "      <td>paid</td>\n",
       "      <td>New York-Newark-Jersey City, NY-NJ-PA</td>\n",
       "      <td>PUT</td>\n",
       "      <td>Cancel</td>\n",
       "      <td>1535389443000</td>\n",
       "      <td>185</td>\n",
       "      <td>None</td>\n",
       "      <td>307</td>\n",
       "      <td>1542740642000</td>\n",
       "      <td>\"Mozilla/5.0 (Windows NT 6.1; WOW64) AppleWebK...</td>\n",
       "      <td>100014</td>\n",
       "      <td>1</td>\n",
       "    </tr>\n",
       "    <tr>\n",
       "      <th>2</th>\n",
       "      <td>None</td>\n",
       "      <td>Logged In</td>\n",
       "      <td>Rodrigo</td>\n",
       "      <td>M</td>\n",
       "      <td>71</td>\n",
       "      <td>Carey</td>\n",
       "      <td>NaN</td>\n",
       "      <td>paid</td>\n",
       "      <td>New York-Newark-Jersey City, NY-NJ-PA</td>\n",
       "      <td>GET</td>\n",
       "      <td>Downgrade</td>\n",
       "      <td>1535389443000</td>\n",
       "      <td>185</td>\n",
       "      <td>None</td>\n",
       "      <td>200</td>\n",
       "      <td>1542740641000</td>\n",
       "      <td>\"Mozilla/5.0 (Windows NT 6.1; WOW64) AppleWebK...</td>\n",
       "      <td>100014</td>\n",
       "      <td>1</td>\n",
       "    </tr>\n",
       "    <tr>\n",
       "      <th>3</th>\n",
       "      <td>CREMATORY</td>\n",
       "      <td>Logged In</td>\n",
       "      <td>Rodrigo</td>\n",
       "      <td>M</td>\n",
       "      <td>70</td>\n",
       "      <td>Carey</td>\n",
       "      <td>247.48363</td>\n",
       "      <td>paid</td>\n",
       "      <td>New York-Newark-Jersey City, NY-NJ-PA</td>\n",
       "      <td>PUT</td>\n",
       "      <td>NextSong</td>\n",
       "      <td>1535389443000</td>\n",
       "      <td>185</td>\n",
       "      <td>Hoffnungen</td>\n",
       "      <td>200</td>\n",
       "      <td>1542740628000</td>\n",
       "      <td>\"Mozilla/5.0 (Windows NT 6.1; WOW64) AppleWebK...</td>\n",
       "      <td>100014</td>\n",
       "      <td>1</td>\n",
       "    </tr>\n",
       "    <tr>\n",
       "      <th>4</th>\n",
       "      <td>Kaskade</td>\n",
       "      <td>Logged In</td>\n",
       "      <td>Rodrigo</td>\n",
       "      <td>M</td>\n",
       "      <td>69</td>\n",
       "      <td>Carey</td>\n",
       "      <td>276.03546</td>\n",
       "      <td>paid</td>\n",
       "      <td>New York-Newark-Jersey City, NY-NJ-PA</td>\n",
       "      <td>PUT</td>\n",
       "      <td>NextSong</td>\n",
       "      <td>1535389443000</td>\n",
       "      <td>185</td>\n",
       "      <td>Sorry</td>\n",
       "      <td>200</td>\n",
       "      <td>1542740352000</td>\n",
       "      <td>\"Mozilla/5.0 (Windows NT 6.1; WOW64) AppleWebK...</td>\n",
       "      <td>100014</td>\n",
       "      <td>1</td>\n",
       "    </tr>\n",
       "    <tr>\n",
       "      <th>...</th>\n",
       "      <td>...</td>\n",
       "      <td>...</td>\n",
       "      <td>...</td>\n",
       "      <td>...</td>\n",
       "      <td>...</td>\n",
       "      <td>...</td>\n",
       "      <td>...</td>\n",
       "      <td>...</td>\n",
       "      <td>...</td>\n",
       "      <td>...</td>\n",
       "      <td>...</td>\n",
       "      <td>...</td>\n",
       "      <td>...</td>\n",
       "      <td>...</td>\n",
       "      <td>...</td>\n",
       "      <td>...</td>\n",
       "      <td>...</td>\n",
       "      <td>...</td>\n",
       "      <td>...</td>\n",
       "    </tr>\n",
       "    <tr>\n",
       "      <th>44859</th>\n",
       "      <td>Pompeii</td>\n",
       "      <td>Logged In</td>\n",
       "      <td>Liliana</td>\n",
       "      <td>F</td>\n",
       "      <td>4</td>\n",
       "      <td>Owen</td>\n",
       "      <td>301.60934</td>\n",
       "      <td>free</td>\n",
       "      <td>Detroit-Warren-Dearborn, MI</td>\n",
       "      <td>PUT</td>\n",
       "      <td>NextSong</td>\n",
       "      <td>1535032914000</td>\n",
       "      <td>21</td>\n",
       "      <td>Until You're Floating</td>\n",
       "      <td>200</td>\n",
       "      <td>1538586748000</td>\n",
       "      <td>Mozilla/5.0 (Macintosh; Intel Mac OS X 10.7; r...</td>\n",
       "      <td>200021</td>\n",
       "      <td>1</td>\n",
       "    </tr>\n",
       "    <tr>\n",
       "      <th>44860</th>\n",
       "      <td>None</td>\n",
       "      <td>Logged In</td>\n",
       "      <td>Liliana</td>\n",
       "      <td>F</td>\n",
       "      <td>3</td>\n",
       "      <td>Owen</td>\n",
       "      <td>NaN</td>\n",
       "      <td>free</td>\n",
       "      <td>Detroit-Warren-Dearborn, MI</td>\n",
       "      <td>PUT</td>\n",
       "      <td>Thumbs Down</td>\n",
       "      <td>1535032914000</td>\n",
       "      <td>21</td>\n",
       "      <td>None</td>\n",
       "      <td>307</td>\n",
       "      <td>1538586473000</td>\n",
       "      <td>Mozilla/5.0 (Macintosh; Intel Mac OS X 10.7; r...</td>\n",
       "      <td>200021</td>\n",
       "      <td>1</td>\n",
       "    </tr>\n",
       "    <tr>\n",
       "      <th>44861</th>\n",
       "      <td>Blackalicious</td>\n",
       "      <td>Logged In</td>\n",
       "      <td>Liliana</td>\n",
       "      <td>F</td>\n",
       "      <td>2</td>\n",
       "      <td>Owen</td>\n",
       "      <td>276.84526</td>\n",
       "      <td>free</td>\n",
       "      <td>Detroit-Warren-Dearborn, MI</td>\n",
       "      <td>PUT</td>\n",
       "      <td>NextSong</td>\n",
       "      <td>1535032914000</td>\n",
       "      <td>21</td>\n",
       "      <td>Side To Side (Featuring Lateef &amp; Pigeon John) ...</td>\n",
       "      <td>200</td>\n",
       "      <td>1538586472000</td>\n",
       "      <td>Mozilla/5.0 (Macintosh; Intel Mac OS X 10.7; r...</td>\n",
       "      <td>200021</td>\n",
       "      <td>1</td>\n",
       "    </tr>\n",
       "    <tr>\n",
       "      <th>44862</th>\n",
       "      <td>R.I.O.</td>\n",
       "      <td>Logged In</td>\n",
       "      <td>Liliana</td>\n",
       "      <td>F</td>\n",
       "      <td>1</td>\n",
       "      <td>Owen</td>\n",
       "      <td>217.12934</td>\n",
       "      <td>free</td>\n",
       "      <td>Detroit-Warren-Dearborn, MI</td>\n",
       "      <td>PUT</td>\n",
       "      <td>NextSong</td>\n",
       "      <td>1535032914000</td>\n",
       "      <td>21</td>\n",
       "      <td>When The Sun Comes Down</td>\n",
       "      <td>200</td>\n",
       "      <td>1538586255000</td>\n",
       "      <td>Mozilla/5.0 (Macintosh; Intel Mac OS X 10.7; r...</td>\n",
       "      <td>200021</td>\n",
       "      <td>1</td>\n",
       "    </tr>\n",
       "    <tr>\n",
       "      <th>44863</th>\n",
       "      <td>Tracy Chapman</td>\n",
       "      <td>Logged In</td>\n",
       "      <td>Liliana</td>\n",
       "      <td>F</td>\n",
       "      <td>0</td>\n",
       "      <td>Owen</td>\n",
       "      <td>296.07138</td>\n",
       "      <td>free</td>\n",
       "      <td>Detroit-Warren-Dearborn, MI</td>\n",
       "      <td>PUT</td>\n",
       "      <td>NextSong</td>\n",
       "      <td>1535032914000</td>\n",
       "      <td>21</td>\n",
       "      <td>Fast Car (LP Version)</td>\n",
       "      <td>200</td>\n",
       "      <td>1538585959000</td>\n",
       "      <td>Mozilla/5.0 (Macintosh; Intel Mac OS X 10.7; r...</td>\n",
       "      <td>200021</td>\n",
       "      <td>1</td>\n",
       "    </tr>\n",
       "  </tbody>\n",
       "</table>\n",
       "<p>44864 rows × 19 columns</p>\n",
       "</div>"
      ],
      "text/plain": [
       "              artist       auth firstName gender  itemInSession lastName  \\\n",
       "0               None  Cancelled   Rodrigo      M             73    Carey   \n",
       "1               None  Logged In   Rodrigo      M             72    Carey   \n",
       "2               None  Logged In   Rodrigo      M             71    Carey   \n",
       "3          CREMATORY  Logged In   Rodrigo      M             70    Carey   \n",
       "4            Kaskade  Logged In   Rodrigo      M             69    Carey   \n",
       "...              ...        ...       ...    ...            ...      ...   \n",
       "44859        Pompeii  Logged In   Liliana      F              4     Owen   \n",
       "44860           None  Logged In   Liliana      F              3     Owen   \n",
       "44861  Blackalicious  Logged In   Liliana      F              2     Owen   \n",
       "44862         R.I.O.  Logged In   Liliana      F              1     Owen   \n",
       "44863  Tracy Chapman  Logged In   Liliana      F              0     Owen   \n",
       "\n",
       "          length level                               location method  \\\n",
       "0            NaN  paid  New York-Newark-Jersey City, NY-NJ-PA    GET   \n",
       "1            NaN  paid  New York-Newark-Jersey City, NY-NJ-PA    PUT   \n",
       "2            NaN  paid  New York-Newark-Jersey City, NY-NJ-PA    GET   \n",
       "3      247.48363  paid  New York-Newark-Jersey City, NY-NJ-PA    PUT   \n",
       "4      276.03546  paid  New York-Newark-Jersey City, NY-NJ-PA    PUT   \n",
       "...          ...   ...                                    ...    ...   \n",
       "44859  301.60934  free            Detroit-Warren-Dearborn, MI    PUT   \n",
       "44860        NaN  free            Detroit-Warren-Dearborn, MI    PUT   \n",
       "44861  276.84526  free            Detroit-Warren-Dearborn, MI    PUT   \n",
       "44862  217.12934  free            Detroit-Warren-Dearborn, MI    PUT   \n",
       "44863  296.07138  free            Detroit-Warren-Dearborn, MI    PUT   \n",
       "\n",
       "                            page   registration  sessionId  \\\n",
       "0      Cancellation Confirmation  1535389443000        185   \n",
       "1                         Cancel  1535389443000        185   \n",
       "2                      Downgrade  1535389443000        185   \n",
       "3                       NextSong  1535389443000        185   \n",
       "4                       NextSong  1535389443000        185   \n",
       "...                          ...            ...        ...   \n",
       "44859                   NextSong  1535032914000         21   \n",
       "44860                Thumbs Down  1535032914000         21   \n",
       "44861                   NextSong  1535032914000         21   \n",
       "44862                   NextSong  1535032914000         21   \n",
       "44863                   NextSong  1535032914000         21   \n",
       "\n",
       "                                                    song  status  \\\n",
       "0                                                   None     200   \n",
       "1                                                   None     307   \n",
       "2                                                   None     200   \n",
       "3                                             Hoffnungen     200   \n",
       "4                                                  Sorry     200   \n",
       "...                                                  ...     ...   \n",
       "44859                              Until You're Floating     200   \n",
       "44860                                               None     307   \n",
       "44861  Side To Side (Featuring Lateef & Pigeon John) ...     200   \n",
       "44862                            When The Sun Comes Down     200   \n",
       "44863                              Fast Car (LP Version)     200   \n",
       "\n",
       "                  ts                                          userAgent  \\\n",
       "0      1542740649000  \"Mozilla/5.0 (Windows NT 6.1; WOW64) AppleWebK...   \n",
       "1      1542740642000  \"Mozilla/5.0 (Windows NT 6.1; WOW64) AppleWebK...   \n",
       "2      1542740641000  \"Mozilla/5.0 (Windows NT 6.1; WOW64) AppleWebK...   \n",
       "3      1542740628000  \"Mozilla/5.0 (Windows NT 6.1; WOW64) AppleWebK...   \n",
       "4      1542740352000  \"Mozilla/5.0 (Windows NT 6.1; WOW64) AppleWebK...   \n",
       "...              ...                                                ...   \n",
       "44859  1538586748000  Mozilla/5.0 (Macintosh; Intel Mac OS X 10.7; r...   \n",
       "44860  1538586473000  Mozilla/5.0 (Macintosh; Intel Mac OS X 10.7; r...   \n",
       "44861  1538586472000  Mozilla/5.0 (Macintosh; Intel Mac OS X 10.7; r...   \n",
       "44862  1538586255000  Mozilla/5.0 (Macintosh; Intel Mac OS X 10.7; r...   \n",
       "44863  1538585959000  Mozilla/5.0 (Macintosh; Intel Mac OS X 10.7; r...   \n",
       "\n",
       "       userId  churn  \n",
       "0      100014      1  \n",
       "1      100014      1  \n",
       "2      100014      1  \n",
       "3      100014      1  \n",
       "4      100014      1  \n",
       "...       ...    ...  \n",
       "44859  200021      1  \n",
       "44860  200021      1  \n",
       "44861  200021      1  \n",
       "44862  200021      1  \n",
       "44863  200021      1  \n",
       "\n",
       "[44864 rows x 19 columns]"
      ]
     },
     "execution_count": 90,
     "metadata": {},
     "output_type": "execute_result"
    }
   ],
   "source": [
    "# convert to pandas\n",
    "df_pd = df_len.toPandas()\n",
    "df_pd"
   ]
  },
  {
   "cell_type": "code",
   "execution_count": 73,
   "id": "10b85bcd",
   "metadata": {},
   "outputs": [],
   "source": [
    "# drop the nulls\n",
    "df_pd.length.dropna(inplace=True)"
   ]
  },
  {
   "cell_type": "code",
   "execution_count": 84,
   "id": "bdb42a2c",
   "metadata": {},
   "outputs": [
    {
     "data": {
      "image/png": "[encoded data removed]",
      "text/plain": [
       "<Figure size 432x288 with 1 Axes>"
      ]
     },
     "metadata": {},
     "output_type": "display_data"
    }
   ],
   "source": [
    "# plot the distribution\n",
    "bin_edges = np.arange (7, df_pd['length'].max()+25, 25)\n",
    "plt.hist(data = df_pd, x = 'length', bins = bin_edges)\n",
    "plt.xlim(0,700)\n",
    "plt.xlabel('Length')\n",
    "plt.ylabel('Frequency');"
   ]
  },
  {
   "cell_type": "code",
   "execution_count": 86,
   "id": "e8fdff1e",
   "metadata": {},
   "outputs": [
    {
     "name": "stderr",
     "output_type": "stream",
     "text": [
      "[Stage 117:==============>                                          (1 + 3) / 4]\r"
     ]
    },
    {
     "name": "stdout",
     "output_type": "stream",
     "text": [
      "+------+---------+---------+------+-------------+--------+------+-----+--------------------+------+------+-------------+---------+----+------+-------------+--------------------+------+-----+\n",
      "|artist|     auth|firstName|gender|itemInSession|lastName|length|level|            location|method|  page| registration|sessionId|song|status|           ts|           userAgent|userId|churn|\n",
      "+------+---------+---------+------+-------------+--------+------+-----+--------------------+------+------+-------------+---------+----+------+-------------+--------------------+------+-----+\n",
      "|  null|Logged In|  Bryanna|     F|           43|   Stone|  null| free|Los Angeles-Long ...|   PUT|Logout|1537440271000|      201|null|   307|1543335219000|Mozilla/5.0 (Maci...|100008|    0|\n",
      "+------+---------+---------+------+-------------+--------+------+-----+--------------------+------+------+-------------+---------+----+------+-------------+--------------------+------+-----+\n",
      "only showing top 1 row\n",
      "\n"
     ]
    },
    {
     "name": "stderr",
     "output_type": "stream",
     "text": [
      "\r",
      "                                                                                \r"
     ]
    }
   ],
   "source": [
    "# the customers who didn't churn (sample)\n",
    "df_len_stay = df.filter(df.churn ==0)\n",
    "df_len_stay.show(1)"
   ]
  },
  {
   "cell_type": "code",
   "execution_count": 89,
   "id": "699bf52d",
   "metadata": {},
   "outputs": [
    {
     "name": "stderr",
     "output_type": "stream",
     "text": [
      "                                                                                \r"
     ]
    },
    {
     "data": {
      "text/html": [
       "<div>\n",
       "<style scoped>\n",
       "    .dataframe tbody tr th:only-of-type {\n",
       "        vertical-align: middle;\n",
       "    }\n",
       "\n",
       "    .dataframe tbody tr th {\n",
       "        vertical-align: top;\n",
       "    }\n",
       "\n",
       "    .dataframe thead th {\n",
       "        text-align: right;\n",
       "    }\n",
       "</style>\n",
       "<table border=\"1\" class=\"dataframe\">\n",
       "  <thead>\n",
       "    <tr style=\"text-align: right;\">\n",
       "      <th></th>\n",
       "      <th>artist</th>\n",
       "      <th>auth</th>\n",
       "      <th>firstName</th>\n",
       "      <th>gender</th>\n",
       "      <th>itemInSession</th>\n",
       "      <th>lastName</th>\n",
       "      <th>length</th>\n",
       "      <th>level</th>\n",
       "      <th>location</th>\n",
       "      <th>method</th>\n",
       "      <th>page</th>\n",
       "      <th>registration</th>\n",
       "      <th>sessionId</th>\n",
       "      <th>song</th>\n",
       "      <th>status</th>\n",
       "      <th>ts</th>\n",
       "      <th>userAgent</th>\n",
       "      <th>userId</th>\n",
       "      <th>churn</th>\n",
       "    </tr>\n",
       "  </thead>\n",
       "  <tbody>\n",
       "    <tr>\n",
       "      <th>0</th>\n",
       "      <td>None</td>\n",
       "      <td>Logged In</td>\n",
       "      <td>Bryanna</td>\n",
       "      <td>F</td>\n",
       "      <td>43</td>\n",
       "      <td>Stone</td>\n",
       "      <td>NaN</td>\n",
       "      <td>free</td>\n",
       "      <td>Los Angeles-Long Beach-Anaheim, CA</td>\n",
       "      <td>PUT</td>\n",
       "      <td>Logout</td>\n",
       "      <td>1537440271000</td>\n",
       "      <td>201</td>\n",
       "      <td>None</td>\n",
       "      <td>307</td>\n",
       "      <td>1543335219000</td>\n",
       "      <td>Mozilla/5.0 (Macintosh; Intel Mac OS X 10.7; r...</td>\n",
       "      <td>100008</td>\n",
       "      <td>0</td>\n",
       "    </tr>\n",
       "    <tr>\n",
       "      <th>1</th>\n",
       "      <td>Bembeya Jazz National</td>\n",
       "      <td>Logged In</td>\n",
       "      <td>Bryanna</td>\n",
       "      <td>F</td>\n",
       "      <td>42</td>\n",
       "      <td>Stone</td>\n",
       "      <td>245.99465</td>\n",
       "      <td>free</td>\n",
       "      <td>Los Angeles-Long Beach-Anaheim, CA</td>\n",
       "      <td>PUT</td>\n",
       "      <td>NextSong</td>\n",
       "      <td>1537440271000</td>\n",
       "      <td>201</td>\n",
       "      <td>Alalake</td>\n",
       "      <td>200</td>\n",
       "      <td>1543335218000</td>\n",
       "      <td>Mozilla/5.0 (Macintosh; Intel Mac OS X 10.7; r...</td>\n",
       "      <td>100008</td>\n",
       "      <td>0</td>\n",
       "    </tr>\n",
       "    <tr>\n",
       "      <th>2</th>\n",
       "      <td>Ralph Stanley</td>\n",
       "      <td>Logged In</td>\n",
       "      <td>Bryanna</td>\n",
       "      <td>F</td>\n",
       "      <td>41</td>\n",
       "      <td>Stone</td>\n",
       "      <td>199.57506</td>\n",
       "      <td>free</td>\n",
       "      <td>Los Angeles-Long Beach-Anaheim, CA</td>\n",
       "      <td>PUT</td>\n",
       "      <td>NextSong</td>\n",
       "      <td>1537440271000</td>\n",
       "      <td>201</td>\n",
       "      <td>O Death</td>\n",
       "      <td>200</td>\n",
       "      <td>1543335019000</td>\n",
       "      <td>Mozilla/5.0 (Macintosh; Intel Mac OS X 10.7; r...</td>\n",
       "      <td>100008</td>\n",
       "      <td>0</td>\n",
       "    </tr>\n",
       "    <tr>\n",
       "      <th>3</th>\n",
       "      <td>Brotha Lynch Hung</td>\n",
       "      <td>Logged In</td>\n",
       "      <td>Bryanna</td>\n",
       "      <td>F</td>\n",
       "      <td>40</td>\n",
       "      <td>Stone</td>\n",
       "      <td>67.91791</td>\n",
       "      <td>free</td>\n",
       "      <td>Los Angeles-Long Beach-Anaheim, CA</td>\n",
       "      <td>PUT</td>\n",
       "      <td>NextSong</td>\n",
       "      <td>1537440271000</td>\n",
       "      <td>201</td>\n",
       "      <td>Q-Ball</td>\n",
       "      <td>200</td>\n",
       "      <td>1543334952000</td>\n",
       "      <td>Mozilla/5.0 (Macintosh; Intel Mac OS X 10.7; r...</td>\n",
       "      <td>100008</td>\n",
       "      <td>0</td>\n",
       "    </tr>\n",
       "    <tr>\n",
       "      <th>4</th>\n",
       "      <td>Everclear</td>\n",
       "      <td>Logged In</td>\n",
       "      <td>Bryanna</td>\n",
       "      <td>F</td>\n",
       "      <td>39</td>\n",
       "      <td>Stone</td>\n",
       "      <td>257.14893</td>\n",
       "      <td>free</td>\n",
       "      <td>Los Angeles-Long Beach-Anaheim, CA</td>\n",
       "      <td>PUT</td>\n",
       "      <td>NextSong</td>\n",
       "      <td>1537440271000</td>\n",
       "      <td>201</td>\n",
       "      <td>Why I Don't Believe In God</td>\n",
       "      <td>200</td>\n",
       "      <td>1543334695000</td>\n",
       "      <td>Mozilla/5.0 (Macintosh; Intel Mac OS X 10.7; r...</td>\n",
       "      <td>100008</td>\n",
       "      <td>0</td>\n",
       "    </tr>\n",
       "    <tr>\n",
       "      <th>...</th>\n",
       "      <td>...</td>\n",
       "      <td>...</td>\n",
       "      <td>...</td>\n",
       "      <td>...</td>\n",
       "      <td>...</td>\n",
       "      <td>...</td>\n",
       "      <td>...</td>\n",
       "      <td>...</td>\n",
       "      <td>...</td>\n",
       "      <td>...</td>\n",
       "      <td>...</td>\n",
       "      <td>...</td>\n",
       "      <td>...</td>\n",
       "      <td>...</td>\n",
       "      <td>...</td>\n",
       "      <td>...</td>\n",
       "      <td>...</td>\n",
       "      <td>...</td>\n",
       "      <td>...</td>\n",
       "    </tr>\n",
       "    <tr>\n",
       "      <th>233285</th>\n",
       "      <td>Kaizers Orchestra</td>\n",
       "      <td>Logged In</td>\n",
       "      <td>Ellen</td>\n",
       "      <td>F</td>\n",
       "      <td>5</td>\n",
       "      <td>Romero</td>\n",
       "      <td>224.99220</td>\n",
       "      <td>free</td>\n",
       "      <td>Omaha-Council Bluffs, NE-IA</td>\n",
       "      <td>PUT</td>\n",
       "      <td>NextSong</td>\n",
       "      <td>1531350022000</td>\n",
       "      <td>192</td>\n",
       "      <td>Christiania</td>\n",
       "      <td>200</td>\n",
       "      <td>1538413499000</td>\n",
       "      <td>\"Mozilla/5.0 (Windows NT 6.2; WOW64) AppleWebK...</td>\n",
       "      <td>94</td>\n",
       "      <td>0</td>\n",
       "    </tr>\n",
       "    <tr>\n",
       "      <th>233286</th>\n",
       "      <td>Arcade Fire</td>\n",
       "      <td>Logged In</td>\n",
       "      <td>Ellen</td>\n",
       "      <td>F</td>\n",
       "      <td>4</td>\n",
       "      <td>Romero</td>\n",
       "      <td>234.05669</td>\n",
       "      <td>free</td>\n",
       "      <td>Omaha-Council Bluffs, NE-IA</td>\n",
       "      <td>PUT</td>\n",
       "      <td>NextSong</td>\n",
       "      <td>1531350022000</td>\n",
       "      <td>192</td>\n",
       "      <td>Brazil</td>\n",
       "      <td>200</td>\n",
       "      <td>1538413265000</td>\n",
       "      <td>\"Mozilla/5.0 (Windows NT 6.2; WOW64) AppleWebK...</td>\n",
       "      <td>94</td>\n",
       "      <td>0</td>\n",
       "    </tr>\n",
       "    <tr>\n",
       "      <th>233287</th>\n",
       "      <td>None</td>\n",
       "      <td>Logged In</td>\n",
       "      <td>Ellen</td>\n",
       "      <td>F</td>\n",
       "      <td>3</td>\n",
       "      <td>Romero</td>\n",
       "      <td>NaN</td>\n",
       "      <td>free</td>\n",
       "      <td>Omaha-Council Bluffs, NE-IA</td>\n",
       "      <td>GET</td>\n",
       "      <td>Roll Advert</td>\n",
       "      <td>1531350022000</td>\n",
       "      <td>192</td>\n",
       "      <td>None</td>\n",
       "      <td>200</td>\n",
       "      <td>1538413054000</td>\n",
       "      <td>\"Mozilla/5.0 (Windows NT 6.2; WOW64) AppleWebK...</td>\n",
       "      <td>94</td>\n",
       "      <td>0</td>\n",
       "    </tr>\n",
       "    <tr>\n",
       "      <th>233288</th>\n",
       "      <td>Alliance Ethnik</td>\n",
       "      <td>Logged In</td>\n",
       "      <td>Ellen</td>\n",
       "      <td>F</td>\n",
       "      <td>2</td>\n",
       "      <td>Romero</td>\n",
       "      <td>252.21179</td>\n",
       "      <td>free</td>\n",
       "      <td>Omaha-Council Bluffs, NE-IA</td>\n",
       "      <td>PUT</td>\n",
       "      <td>NextSong</td>\n",
       "      <td>1531350022000</td>\n",
       "      <td>192</td>\n",
       "      <td>ReprÃÂ©sente</td>\n",
       "      <td>200</td>\n",
       "      <td>1538413013000</td>\n",
       "      <td>\"Mozilla/5.0 (Windows NT 6.2; WOW64) AppleWebK...</td>\n",
       "      <td>94</td>\n",
       "      <td>0</td>\n",
       "    </tr>\n",
       "    <tr>\n",
       "      <th>233289</th>\n",
       "      <td>None</td>\n",
       "      <td>Logged In</td>\n",
       "      <td>Ellen</td>\n",
       "      <td>F</td>\n",
       "      <td>1</td>\n",
       "      <td>Romero</td>\n",
       "      <td>NaN</td>\n",
       "      <td>free</td>\n",
       "      <td>Omaha-Council Bluffs, NE-IA</td>\n",
       "      <td>GET</td>\n",
       "      <td>Home</td>\n",
       "      <td>1531350022000</td>\n",
       "      <td>192</td>\n",
       "      <td>None</td>\n",
       "      <td>200</td>\n",
       "      <td>1538412924000</td>\n",
       "      <td>\"Mozilla/5.0 (Windows NT 6.2; WOW64) AppleWebK...</td>\n",
       "      <td>94</td>\n",
       "      <td>0</td>\n",
       "    </tr>\n",
       "  </tbody>\n",
       "</table>\n",
       "<p>233290 rows × 19 columns</p>\n",
       "</div>"
      ],
      "text/plain": [
       "                       artist       auth firstName gender  itemInSession  \\\n",
       "0                        None  Logged In   Bryanna      F             43   \n",
       "1       Bembeya Jazz National  Logged In   Bryanna      F             42   \n",
       "2               Ralph Stanley  Logged In   Bryanna      F             41   \n",
       "3           Brotha Lynch Hung  Logged In   Bryanna      F             40   \n",
       "4                   Everclear  Logged In   Bryanna      F             39   \n",
       "...                       ...        ...       ...    ...            ...   \n",
       "233285      Kaizers Orchestra  Logged In     Ellen      F              5   \n",
       "233286            Arcade Fire  Logged In     Ellen      F              4   \n",
       "233287                   None  Logged In     Ellen      F              3   \n",
       "233288        Alliance Ethnik  Logged In     Ellen      F              2   \n",
       "233289                   None  Logged In     Ellen      F              1   \n",
       "\n",
       "       lastName     length level                            location method  \\\n",
       "0         Stone        NaN  free  Los Angeles-Long Beach-Anaheim, CA    PUT   \n",
       "1         Stone  245.99465  free  Los Angeles-Long Beach-Anaheim, CA    PUT   \n",
       "2         Stone  199.57506  free  Los Angeles-Long Beach-Anaheim, CA    PUT   \n",
       "3         Stone   67.91791  free  Los Angeles-Long Beach-Anaheim, CA    PUT   \n",
       "4         Stone  257.14893  free  Los Angeles-Long Beach-Anaheim, CA    PUT   \n",
       "...         ...        ...   ...                                 ...    ...   \n",
       "233285   Romero  224.99220  free         Omaha-Council Bluffs, NE-IA    PUT   \n",
       "233286   Romero  234.05669  free         Omaha-Council Bluffs, NE-IA    PUT   \n",
       "233287   Romero        NaN  free         Omaha-Council Bluffs, NE-IA    GET   \n",
       "233288   Romero  252.21179  free         Omaha-Council Bluffs, NE-IA    PUT   \n",
       "233289   Romero        NaN  free         Omaha-Council Bluffs, NE-IA    GET   \n",
       "\n",
       "               page   registration  sessionId                        song  \\\n",
       "0            Logout  1537440271000        201                        None   \n",
       "1          NextSong  1537440271000        201                     Alalake   \n",
       "2          NextSong  1537440271000        201                     O Death   \n",
       "3          NextSong  1537440271000        201                      Q-Ball   \n",
       "4          NextSong  1537440271000        201  Why I Don't Believe In God   \n",
       "...             ...            ...        ...                         ...   \n",
       "233285     NextSong  1531350022000        192                 Christiania   \n",
       "233286     NextSong  1531350022000        192                      Brazil   \n",
       "233287  Roll Advert  1531350022000        192                        None   \n",
       "233288     NextSong  1531350022000        192               ReprÃÂ©sente   \n",
       "233289         Home  1531350022000        192                        None   \n",
       "\n",
       "        status             ts  \\\n",
       "0          307  1543335219000   \n",
       "1          200  1543335218000   \n",
       "2          200  1543335019000   \n",
       "3          200  1543334952000   \n",
       "4          200  1543334695000   \n",
       "...        ...            ...   \n",
       "233285     200  1538413499000   \n",
       "233286     200  1538413265000   \n",
       "233287     200  1538413054000   \n",
       "233288     200  1538413013000   \n",
       "233289     200  1538412924000   \n",
       "\n",
       "                                                userAgent  userId  churn  \n",
       "0       Mozilla/5.0 (Macintosh; Intel Mac OS X 10.7; r...  100008      0  \n",
       "1       Mozilla/5.0 (Macintosh; Intel Mac OS X 10.7; r...  100008      0  \n",
       "2       Mozilla/5.0 (Macintosh; Intel Mac OS X 10.7; r...  100008      0  \n",
       "3       Mozilla/5.0 (Macintosh; Intel Mac OS X 10.7; r...  100008      0  \n",
       "4       Mozilla/5.0 (Macintosh; Intel Mac OS X 10.7; r...  100008      0  \n",
       "...                                                   ...     ...    ...  \n",
       "233285  \"Mozilla/5.0 (Windows NT 6.2; WOW64) AppleWebK...      94      0  \n",
       "233286  \"Mozilla/5.0 (Windows NT 6.2; WOW64) AppleWebK...      94      0  \n",
       "233287  \"Mozilla/5.0 (Windows NT 6.2; WOW64) AppleWebK...      94      0  \n",
       "233288  \"Mozilla/5.0 (Windows NT 6.2; WOW64) AppleWebK...      94      0  \n",
       "233289  \"Mozilla/5.0 (Windows NT 6.2; WOW64) AppleWebK...      94      0  \n",
       "\n",
       "[233290 rows x 19 columns]"
      ]
     },
     "execution_count": 89,
     "metadata": {},
     "output_type": "execute_result"
    }
   ],
   "source": [
    "# convert to pandas\n",
    "df_pd = df_len_stay.toPandas()\n",
    "df_pd"
   ]
  },
  {
   "cell_type": "code",
   "execution_count": 91,
   "id": "e7d5dcf0",
   "metadata": {},
   "outputs": [],
   "source": [
    "# drop the nulls\n",
    "df_pd.length.dropna(inplace=True)"
   ]
  },
  {
   "cell_type": "code",
   "execution_count": 93,
   "id": "1590adcf",
   "metadata": {},
   "outputs": [
    {
     "data": {
      "image/png": "[encoded data removed]",
      "text/plain": [
       "<Figure size 432x288 with 1 Axes>"
      ]
     },
     "metadata": {},
     "output_type": "display_data"
    }
   ],
   "source": [
    "# plot distribution\n",
    "bin_edges = np.arange (7, df_pd['length'].max()+25, 25)\n",
    "plt.hist(data = df_pd, x = 'length', bins = bin_edges)\n",
    "plt.xlim(0,700)\n",
    "plt.xlabel('Length')\n",
    "plt.ylabel('Frequency');"
   ]
  },
  {
   "cell_type": "markdown",
   "id": "6b73013d",
   "metadata": {},
   "source": [
    "The above plots demonstarets that length distribution is very similar for users that churned and those who stayed. This is not te best variable to predict those customers who churned . We can now analyse gender as a categorical feature."
   ]
  },
  {
   "cell_type": "markdown",
   "id": "b8f67fcb",
   "metadata": {},
   "source": [
    "###  Users who Churned vs Users who Stayed by Gender"
   ]
  },
  {
   "cell_type": "markdown",
   "id": "b45262e8",
   "metadata": {},
   "source": [
    "We can now examine if gender had an effect on users that churned vs. those that stayed."
   ]
  },
  {
   "cell_type": "code",
   "execution_count": 97,
   "id": "29ff5fa5",
   "metadata": {},
   "outputs": [
    {
     "name": "stderr",
     "output_type": "stream",
     "text": [
      "[Stage 129:==============>                                          (1 + 3) / 4]\r"
     ]
    },
    {
     "name": "stdout",
     "output_type": "stream",
     "text": [
      "+------+-----+-----+\n",
      "|gender|churn|count|\n",
      "+------+-----+-----+\n",
      "|     F|    0|   84|\n",
      "|     F|    1|   20|\n",
      "|     M|    0|   89|\n",
      "|     M|    1|   32|\n",
      "+------+-----+-----+\n",
      "\n"
     ]
    },
    {
     "name": "stderr",
     "output_type": "stream",
     "text": [
      "\r",
      "                                                                                \r"
     ]
    }
   ],
   "source": [
    "# create gender df grouped by churn and gender\n",
    "df_gender = df.select(['userId', 'churn', 'gender']).dropDuplicates().groupBy('gender', 'churn').count()\n",
    "df_gender.show()"
   ]
  },
  {
   "cell_type": "code",
   "execution_count": 98,
   "id": "ebfe53b5",
   "metadata": {},
   "outputs": [
    {
     "name": "stderr",
     "output_type": "stream",
     "text": [
      "                                                                                \r"
     ]
    },
    {
     "data": {
      "text/html": [
       "<div>\n",
       "<style scoped>\n",
       "    .dataframe tbody tr th:only-of-type {\n",
       "        vertical-align: middle;\n",
       "    }\n",
       "\n",
       "    .dataframe tbody tr th {\n",
       "        vertical-align: top;\n",
       "    }\n",
       "\n",
       "    .dataframe thead th {\n",
       "        text-align: right;\n",
       "    }\n",
       "</style>\n",
       "<table border=\"1\" class=\"dataframe\">\n",
       "  <thead>\n",
       "    <tr style=\"text-align: right;\">\n",
       "      <th></th>\n",
       "      <th>gender</th>\n",
       "      <th>churn</th>\n",
       "      <th>count</th>\n",
       "    </tr>\n",
       "  </thead>\n",
       "  <tbody>\n",
       "    <tr>\n",
       "      <th>0</th>\n",
       "      <td>F</td>\n",
       "      <td>0</td>\n",
       "      <td>84</td>\n",
       "    </tr>\n",
       "    <tr>\n",
       "      <th>1</th>\n",
       "      <td>F</td>\n",
       "      <td>1</td>\n",
       "      <td>20</td>\n",
       "    </tr>\n",
       "    <tr>\n",
       "      <th>2</th>\n",
       "      <td>M</td>\n",
       "      <td>0</td>\n",
       "      <td>89</td>\n",
       "    </tr>\n",
       "    <tr>\n",
       "      <th>3</th>\n",
       "      <td>M</td>\n",
       "      <td>1</td>\n",
       "      <td>32</td>\n",
       "    </tr>\n",
       "  </tbody>\n",
       "</table>\n",
       "</div>"
      ],
      "text/plain": [
       "  gender  churn  count\n",
       "0      F      0     84\n",
       "1      F      1     20\n",
       "2      M      0     89\n",
       "3      M      1     32"
      ]
     },
     "execution_count": 98,
     "metadata": {},
     "output_type": "execute_result"
    }
   ],
   "source": [
    "# convert to pandas for visualisation\n",
    "df_gender = df_gender.toPandas()\n",
    "df_gender"
   ]
  },
  {
   "cell_type": "code",
   "execution_count": 100,
   "id": "f79b88a4",
   "metadata": {},
   "outputs": [
    {
     "data": {
      "text/html": [
       "<div>\n",
       "<style scoped>\n",
       "    .dataframe tbody tr th:only-of-type {\n",
       "        vertical-align: middle;\n",
       "    }\n",
       "\n",
       "    .dataframe tbody tr th {\n",
       "        vertical-align: top;\n",
       "    }\n",
       "\n",
       "    .dataframe thead th {\n",
       "        text-align: right;\n",
       "    }\n",
       "</style>\n",
       "<table border=\"1\" class=\"dataframe\">\n",
       "  <thead>\n",
       "    <tr style=\"text-align: right;\">\n",
       "      <th></th>\n",
       "      <th>gender</th>\n",
       "      <th>churn</th>\n",
       "      <th>count</th>\n",
       "    </tr>\n",
       "  </thead>\n",
       "  <tbody>\n",
       "    <tr>\n",
       "      <th>2</th>\n",
       "      <td>M</td>\n",
       "      <td>0</td>\n",
       "      <td>89</td>\n",
       "    </tr>\n",
       "    <tr>\n",
       "      <th>0</th>\n",
       "      <td>F</td>\n",
       "      <td>0</td>\n",
       "      <td>84</td>\n",
       "    </tr>\n",
       "    <tr>\n",
       "      <th>3</th>\n",
       "      <td>M</td>\n",
       "      <td>1</td>\n",
       "      <td>32</td>\n",
       "    </tr>\n",
       "    <tr>\n",
       "      <th>1</th>\n",
       "      <td>F</td>\n",
       "      <td>1</td>\n",
       "      <td>20</td>\n",
       "    </tr>\n",
       "  </tbody>\n",
       "</table>\n",
       "</div>"
      ],
      "text/plain": [
       "  gender  churn  count\n",
       "2      M      0     89\n",
       "0      F      0     84\n",
       "3      M      1     32\n",
       "1      F      1     20"
      ]
     },
     "execution_count": 100,
     "metadata": {},
     "output_type": "execute_result"
    }
   ],
   "source": [
    "# order for the visualisation\n",
    "df_gender = df_gender.sort_values('count', ascending = False)\n",
    "df_gender"
   ]
  },
  {
   "cell_type": "code",
   "execution_count": 101,
   "id": "6b6184c4",
   "metadata": {},
   "outputs": [
    {
     "data": {
      "image/png": "[encoded data removed]",
      "text/plain": [
       "<Figure size 576x432 with 1 Axes>"
      ]
     },
     "metadata": {},
     "output_type": "display_data"
    }
   ],
   "source": [
    "# seaborn barplot\n",
    "plt.figure(figsize = [8,6])\n",
    "ax = sns.barplot(data = df_gender, x = 'churn', y='count', hue = 'gender')\n",
    "ax.legend(loc = 1, ncol = 2, framealpha =1, title = 'gender')\n",
    "plt.title(\"Number of Users That Churned by Gender\");"
   ]
  },
  {
   "cell_type": "code",
   "execution_count": 102,
   "id": "402f9ef6",
   "metadata": {},
   "outputs": [
    {
     "data": {
      "text/plain": [
       "0.2644628099173554"
      ]
     },
     "execution_count": 102,
     "metadata": {},
     "output_type": "execute_result"
    }
   ],
   "source": [
    "# male churn rate\n",
    "32/(89+32)"
   ]
  },
  {
   "cell_type": "code",
   "execution_count": 103,
   "id": "4fa5b968",
   "metadata": {},
   "outputs": [
    {
     "data": {
      "text/plain": [
       "0.19230769230769232"
      ]
     },
     "execution_count": 103,
     "metadata": {},
     "output_type": "execute_result"
    },
    {
     "name": "stdout",
     "output_type": "stream",
     "text": [
      "22/07/14 01:25:29 WARN TransportChannelHandler: Exception in connection from snmp.lan/192.168.1.83:52351\n",
      "java.io.IOException: Operation timed out\n",
      "\tat java.base/sun.nio.ch.SocketDispatcher.read0(Native Method)\n",
      "\tat java.base/sun.nio.ch.SocketDispatcher.read(SocketDispatcher.java:47)\n",
      "\tat java.base/sun.nio.ch.IOUtil.readIntoNativeBuffer(IOUtil.java:340)\n",
      "\tat java.base/sun.nio.ch.IOUtil.read(IOUtil.java:294)\n",
      "\tat java.base/sun.nio.ch.IOUtil.read(IOUtil.java:269)\n",
      "\tat java.base/sun.nio.ch.SocketChannelImpl.read(SocketChannelImpl.java:417)\n",
      "\tat io.netty.buffer.PooledByteBuf.setBytes(PooledByteBuf.java:258)\n",
      "\tat io.netty.buffer.AbstractByteBuf.writeBytes(AbstractByteBuf.java:1132)\n",
      "\tat io.netty.channel.socket.nio.NioSocketChannel.doReadBytes(NioSocketChannel.java:350)\n",
      "\tat io.netty.channel.nio.AbstractNioByteChannel$NioByteUnsafe.read(AbstractNioByteChannel.java:151)\n",
      "\tat io.netty.channel.nio.NioEventLoop.processSelectedKey(NioEventLoop.java:722)\n",
      "\tat io.netty.channel.nio.NioEventLoop.processSelectedKeysOptimized(NioEventLoop.java:658)\n",
      "\tat io.netty.channel.nio.NioEventLoop.processSelectedKeys(NioEventLoop.java:584)\n",
      "\tat io.netty.channel.nio.NioEventLoop.run(NioEventLoop.java:496)\n",
      "\tat io.netty.util.concurrent.SingleThreadEventExecutor$4.run(SingleThreadEventExecutor.java:986)\n",
      "\tat io.netty.util.internal.ThreadExecutorMap$2.run(ThreadExecutorMap.java:74)\n",
      "\tat io.netty.util.concurrent.FastThreadLocalRunnable.run(FastThreadLocalRunnable.java:30)\n",
      "\tat java.base/java.lang.Thread.run(Thread.java:833)\n"
     ]
    }
   ],
   "source": [
    "# female churn rate\n",
    "20/(20+84)"
   ]
  },
  {
   "cell_type": "markdown",
   "id": "62f37744",
   "metadata": {},
   "source": [
    "From the above chart, we can see that more male users churned(rate of 0.264) compared to female users (rate of 0.192)."
   ]
  },
  {
   "cell_type": "markdown",
   "id": "e5b498ba",
   "metadata": {},
   "source": [
    "### Users who Churned vs Stayed by Level"
   ]
  },
  {
   "cell_type": "markdown",
   "id": "c7eb87a3",
   "metadata": {},
   "source": [
    "Next we can examine if level has an effect on whether a user will churn or not. By level here we mean if the user paid for the app or if they used it for free with ads."
   ]
  },
  {
   "cell_type": "code",
   "execution_count": 105,
   "id": "f402122a",
   "metadata": {},
   "outputs": [
    {
     "name": "stderr",
     "output_type": "stream",
     "text": [
      "[Stage 141:==============>                                          (1 + 3) / 4]\r"
     ]
    },
    {
     "name": "stdout",
     "output_type": "stream",
     "text": [
      "+-----+-----+-----+\n",
      "|level|churn|count|\n",
      "+-----+-----+-----+\n",
      "| free|    0|  149|\n",
      "| paid|    0|  129|\n",
      "| free|    1|   46|\n",
      "| paid|    1|   36|\n",
      "+-----+-----+-----+\n",
      "\n"
     ]
    },
    {
     "name": "stderr",
     "output_type": "stream",
     "text": [
      "\r",
      "                                                                                \r"
     ]
    }
   ],
   "source": [
    "# create the level dataframe\n",
    "df_level = df.select(['userId', 'churn', 'level']).dropDuplicates().groupBy('level','churn').count()\n",
    "df_level.show()"
   ]
  },
  {
   "cell_type": "code",
   "execution_count": 106,
   "id": "4880a904",
   "metadata": {},
   "outputs": [
    {
     "name": "stderr",
     "output_type": "stream",
     "text": [
      "                                                                                \r"
     ]
    },
    {
     "data": {
      "text/html": [
       "<div>\n",
       "<style scoped>\n",
       "    .dataframe tbody tr th:only-of-type {\n",
       "        vertical-align: middle;\n",
       "    }\n",
       "\n",
       "    .dataframe tbody tr th {\n",
       "        vertical-align: top;\n",
       "    }\n",
       "\n",
       "    .dataframe thead th {\n",
       "        text-align: right;\n",
       "    }\n",
       "</style>\n",
       "<table border=\"1\" class=\"dataframe\">\n",
       "  <thead>\n",
       "    <tr style=\"text-align: right;\">\n",
       "      <th></th>\n",
       "      <th>level</th>\n",
       "      <th>churn</th>\n",
       "      <th>count</th>\n",
       "    </tr>\n",
       "  </thead>\n",
       "  <tbody>\n",
       "    <tr>\n",
       "      <th>0</th>\n",
       "      <td>free</td>\n",
       "      <td>0</td>\n",
       "      <td>149</td>\n",
       "    </tr>\n",
       "    <tr>\n",
       "      <th>1</th>\n",
       "      <td>paid</td>\n",
       "      <td>0</td>\n",
       "      <td>129</td>\n",
       "    </tr>\n",
       "    <tr>\n",
       "      <th>2</th>\n",
       "      <td>free</td>\n",
       "      <td>1</td>\n",
       "      <td>46</td>\n",
       "    </tr>\n",
       "    <tr>\n",
       "      <th>3</th>\n",
       "      <td>paid</td>\n",
       "      <td>1</td>\n",
       "      <td>36</td>\n",
       "    </tr>\n",
       "  </tbody>\n",
       "</table>\n",
       "</div>"
      ],
      "text/plain": [
       "  level  churn  count\n",
       "0  free      0    149\n",
       "1  paid      0    129\n",
       "2  free      1     46\n",
       "3  paid      1     36"
      ]
     },
     "execution_count": 106,
     "metadata": {},
     "output_type": "execute_result"
    }
   ],
   "source": [
    "# convert to pandas for visualisation\n",
    "df_level = df_level.toPandas()\n",
    "df_level"
   ]
  },
  {
   "cell_type": "code",
   "execution_count": 107,
   "id": "9a85d52d",
   "metadata": {},
   "outputs": [
    {
     "data": {
      "image/png": "[encoded data removed]",
      "text/plain": [
       "<Figure size 576x432 with 1 Axes>"
      ]
     },
     "metadata": {},
     "output_type": "display_data"
    }
   ],
   "source": [
    "# plot the barplot using seaborn\n",
    "plt.figure(figsize = [8,6])\n",
    "ax = sns.barplot(data = df_level, x = 'churn', y='count', hue = 'level')\n",
    "ax.legend(loc = 1, ncol = 2, framealpha =1, title = 'level')\n",
    "plt.title(\"Number of Users That Churned by Level\");"
   ]
  },
  {
   "cell_type": "code",
   "execution_count": 108,
   "id": "a63882c7",
   "metadata": {},
   "outputs": [
    {
     "data": {
      "text/plain": [
       "0.2358974358974359"
      ]
     },
     "execution_count": 108,
     "metadata": {},
     "output_type": "execute_result"
    }
   ],
   "source": [
    "# free churn rate\n",
    "46/(46+149)"
   ]
  },
  {
   "cell_type": "code",
   "execution_count": 109,
   "id": "2be42f24",
   "metadata": {},
   "outputs": [
    {
     "data": {
      "text/plain": [
       "0.21818181818181817"
      ]
     },
     "execution_count": 109,
     "metadata": {},
     "output_type": "execute_result"
    }
   ],
   "source": [
    "# paid churn rate\n",
    "36/(129+36)"
   ]
  },
  {
   "cell_type": "markdown",
   "id": "e9f6e7f8",
   "metadata": {},
   "source": [
    "More users who used the service for free were slightly more likely to churn, rate of **0.236**,compared to those who paid for the app, rate of **0.218**."
   ]
  },
  {
   "cell_type": "markdown",
   "id": "4b78a64a",
   "metadata": {},
   "source": [
    "### Pages Visited by Those that Churned vs. Those That Stayed"
   ]
  },
  {
   "cell_type": "code",
   "execution_count": 163,
   "id": "341c2ade",
   "metadata": {},
   "outputs": [
    {
     "name": "stderr",
     "output_type": "stream",
     "text": [
      "[Stage 189:==============>                                          (1 + 3) / 4]\r"
     ]
    },
    {
     "name": "stdout",
     "output_type": "stream",
     "text": [
      "+--------------------+-----+-----+\n",
      "|                page|churn|count|\n",
      "+--------------------+-----+-----+\n",
      "|            Settings|    0| 1244|\n",
      "|         Thumbs Down|    1|  496|\n",
      "|           Thumbs Up|    1| 1859|\n",
      "|     Add to Playlist|    1| 1038|\n",
      "|               Error|    1|   32|\n",
      "|               About|    1|   56|\n",
      "|         Thumbs Down|    0| 2050|\n",
      "|         Roll Advert|    1|  967|\n",
      "|                Home|    0| 8410|\n",
      "|Cancellation Conf...|    1|   52|\n",
      "|               Error|    0|  220|\n",
      "|              Cancel|    1|   52|\n",
      "|            Settings|    1|  270|\n",
      "|          Add Friend|    1|  636|\n",
      "|             Upgrade|    0|  387|\n",
      "|           Downgrade|    1|  337|\n",
      "|              Logout|    1|  553|\n",
      "|    Submit Downgrade|    1|    9|\n",
      "|       Save Settings|    0|  252|\n",
      "|           Thumbs Up|    0|10692|\n",
      "+--------------------+-----+-----+\n",
      "only showing top 20 rows\n",
      "\n"
     ]
    },
    {
     "name": "stderr",
     "output_type": "stream",
     "text": [
      "\r",
      "                                                                                \r"
     ]
    }
   ],
   "source": [
    "# create the page dataframe\n",
    "df_page = df.select(['userId', 'churn', 'page']).groupBy('page','churn').count()\n",
    "df_page.show()"
   ]
  },
  {
   "cell_type": "code",
   "execution_count": 164,
   "id": "4f5c1489",
   "metadata": {},
   "outputs": [
    {
     "name": "stderr",
     "output_type": "stream",
     "text": [
      "                                                                                \r"
     ]
    },
    {
     "data": {
      "text/html": [
       "<div>\n",
       "<style scoped>\n",
       "    .dataframe tbody tr th:only-of-type {\n",
       "        vertical-align: middle;\n",
       "    }\n",
       "\n",
       "    .dataframe tbody tr th {\n",
       "        vertical-align: top;\n",
       "    }\n",
       "\n",
       "    .dataframe thead th {\n",
       "        text-align: right;\n",
       "    }\n",
       "</style>\n",
       "<table border=\"1\" class=\"dataframe\">\n",
       "  <thead>\n",
       "    <tr style=\"text-align: right;\">\n",
       "      <th></th>\n",
       "      <th>page</th>\n",
       "      <th>churn</th>\n",
       "      <th>count</th>\n",
       "    </tr>\n",
       "  </thead>\n",
       "  <tbody>\n",
       "    <tr>\n",
       "      <th>0</th>\n",
       "      <td>Settings</td>\n",
       "      <td>0</td>\n",
       "      <td>1244</td>\n",
       "    </tr>\n",
       "    <tr>\n",
       "      <th>1</th>\n",
       "      <td>Thumbs Down</td>\n",
       "      <td>1</td>\n",
       "      <td>496</td>\n",
       "    </tr>\n",
       "    <tr>\n",
       "      <th>2</th>\n",
       "      <td>Thumbs Up</td>\n",
       "      <td>1</td>\n",
       "      <td>1859</td>\n",
       "    </tr>\n",
       "    <tr>\n",
       "      <th>3</th>\n",
       "      <td>Add to Playlist</td>\n",
       "      <td>1</td>\n",
       "      <td>1038</td>\n",
       "    </tr>\n",
       "    <tr>\n",
       "      <th>4</th>\n",
       "      <td>Error</td>\n",
       "      <td>1</td>\n",
       "      <td>32</td>\n",
       "    </tr>\n",
       "    <tr>\n",
       "      <th>5</th>\n",
       "      <td>About</td>\n",
       "      <td>1</td>\n",
       "      <td>56</td>\n",
       "    </tr>\n",
       "    <tr>\n",
       "      <th>6</th>\n",
       "      <td>Thumbs Down</td>\n",
       "      <td>0</td>\n",
       "      <td>2050</td>\n",
       "    </tr>\n",
       "    <tr>\n",
       "      <th>7</th>\n",
       "      <td>Roll Advert</td>\n",
       "      <td>1</td>\n",
       "      <td>967</td>\n",
       "    </tr>\n",
       "    <tr>\n",
       "      <th>8</th>\n",
       "      <td>Home</td>\n",
       "      <td>0</td>\n",
       "      <td>8410</td>\n",
       "    </tr>\n",
       "    <tr>\n",
       "      <th>9</th>\n",
       "      <td>Cancellation Confirmation</td>\n",
       "      <td>1</td>\n",
       "      <td>52</td>\n",
       "    </tr>\n",
       "    <tr>\n",
       "      <th>10</th>\n",
       "      <td>Error</td>\n",
       "      <td>0</td>\n",
       "      <td>220</td>\n",
       "    </tr>\n",
       "    <tr>\n",
       "      <th>11</th>\n",
       "      <td>Cancel</td>\n",
       "      <td>1</td>\n",
       "      <td>52</td>\n",
       "    </tr>\n",
       "    <tr>\n",
       "      <th>12</th>\n",
       "      <td>Settings</td>\n",
       "      <td>1</td>\n",
       "      <td>270</td>\n",
       "    </tr>\n",
       "    <tr>\n",
       "      <th>13</th>\n",
       "      <td>Add Friend</td>\n",
       "      <td>1</td>\n",
       "      <td>636</td>\n",
       "    </tr>\n",
       "    <tr>\n",
       "      <th>14</th>\n",
       "      <td>Upgrade</td>\n",
       "      <td>0</td>\n",
       "      <td>387</td>\n",
       "    </tr>\n",
       "    <tr>\n",
       "      <th>15</th>\n",
       "      <td>Downgrade</td>\n",
       "      <td>1</td>\n",
       "      <td>337</td>\n",
       "    </tr>\n",
       "    <tr>\n",
       "      <th>16</th>\n",
       "      <td>Logout</td>\n",
       "      <td>1</td>\n",
       "      <td>553</td>\n",
       "    </tr>\n",
       "    <tr>\n",
       "      <th>17</th>\n",
       "      <td>Submit Downgrade</td>\n",
       "      <td>1</td>\n",
       "      <td>9</td>\n",
       "    </tr>\n",
       "    <tr>\n",
       "      <th>18</th>\n",
       "      <td>Save Settings</td>\n",
       "      <td>0</td>\n",
       "      <td>252</td>\n",
       "    </tr>\n",
       "    <tr>\n",
       "      <th>19</th>\n",
       "      <td>Thumbs Up</td>\n",
       "      <td>0</td>\n",
       "      <td>10692</td>\n",
       "    </tr>\n",
       "    <tr>\n",
       "      <th>20</th>\n",
       "      <td>Downgrade</td>\n",
       "      <td>0</td>\n",
       "      <td>1718</td>\n",
       "    </tr>\n",
       "    <tr>\n",
       "      <th>21</th>\n",
       "      <td>Submit Upgrade</td>\n",
       "      <td>0</td>\n",
       "      <td>127</td>\n",
       "    </tr>\n",
       "    <tr>\n",
       "      <th>22</th>\n",
       "      <td>Roll Advert</td>\n",
       "      <td>0</td>\n",
       "      <td>2966</td>\n",
       "    </tr>\n",
       "    <tr>\n",
       "      <th>23</th>\n",
       "      <td>Submit Downgrade</td>\n",
       "      <td>0</td>\n",
       "      <td>54</td>\n",
       "    </tr>\n",
       "    <tr>\n",
       "      <th>24</th>\n",
       "      <td>Logout</td>\n",
       "      <td>0</td>\n",
       "      <td>2673</td>\n",
       "    </tr>\n",
       "    <tr>\n",
       "      <th>25</th>\n",
       "      <td>Home</td>\n",
       "      <td>1</td>\n",
       "      <td>1672</td>\n",
       "    </tr>\n",
       "    <tr>\n",
       "      <th>26</th>\n",
       "      <td>Add Friend</td>\n",
       "      <td>0</td>\n",
       "      <td>3641</td>\n",
       "    </tr>\n",
       "    <tr>\n",
       "      <th>27</th>\n",
       "      <td>Upgrade</td>\n",
       "      <td>1</td>\n",
       "      <td>112</td>\n",
       "    </tr>\n",
       "    <tr>\n",
       "      <th>28</th>\n",
       "      <td>Submit Upgrade</td>\n",
       "      <td>1</td>\n",
       "      <td>32</td>\n",
       "    </tr>\n",
       "    <tr>\n",
       "      <th>29</th>\n",
       "      <td>About</td>\n",
       "      <td>0</td>\n",
       "      <td>439</td>\n",
       "    </tr>\n",
       "    <tr>\n",
       "      <th>30</th>\n",
       "      <td>Add to Playlist</td>\n",
       "      <td>0</td>\n",
       "      <td>5488</td>\n",
       "    </tr>\n",
       "    <tr>\n",
       "      <th>31</th>\n",
       "      <td>Save Settings</td>\n",
       "      <td>1</td>\n",
       "      <td>58</td>\n",
       "    </tr>\n",
       "    <tr>\n",
       "      <th>32</th>\n",
       "      <td>Help</td>\n",
       "      <td>1</td>\n",
       "      <td>239</td>\n",
       "    </tr>\n",
       "    <tr>\n",
       "      <th>33</th>\n",
       "      <td>NextSong</td>\n",
       "      <td>1</td>\n",
       "      <td>36394</td>\n",
       "    </tr>\n",
       "    <tr>\n",
       "      <th>34</th>\n",
       "      <td>NextSong</td>\n",
       "      <td>0</td>\n",
       "      <td>191714</td>\n",
       "    </tr>\n",
       "    <tr>\n",
       "      <th>35</th>\n",
       "      <td>Help</td>\n",
       "      <td>0</td>\n",
       "      <td>1215</td>\n",
       "    </tr>\n",
       "  </tbody>\n",
       "</table>\n",
       "</div>"
      ],
      "text/plain": [
       "                         page  churn   count\n",
       "0                    Settings      0    1244\n",
       "1                 Thumbs Down      1     496\n",
       "2                   Thumbs Up      1    1859\n",
       "3             Add to Playlist      1    1038\n",
       "4                       Error      1      32\n",
       "5                       About      1      56\n",
       "6                 Thumbs Down      0    2050\n",
       "7                 Roll Advert      1     967\n",
       "8                        Home      0    8410\n",
       "9   Cancellation Confirmation      1      52\n",
       "10                      Error      0     220\n",
       "11                     Cancel      1      52\n",
       "12                   Settings      1     270\n",
       "13                 Add Friend      1     636\n",
       "14                    Upgrade      0     387\n",
       "15                  Downgrade      1     337\n",
       "16                     Logout      1     553\n",
       "17           Submit Downgrade      1       9\n",
       "18              Save Settings      0     252\n",
       "19                  Thumbs Up      0   10692\n",
       "20                  Downgrade      0    1718\n",
       "21             Submit Upgrade      0     127\n",
       "22                Roll Advert      0    2966\n",
       "23           Submit Downgrade      0      54\n",
       "24                     Logout      0    2673\n",
       "25                       Home      1    1672\n",
       "26                 Add Friend      0    3641\n",
       "27                    Upgrade      1     112\n",
       "28             Submit Upgrade      1      32\n",
       "29                      About      0     439\n",
       "30            Add to Playlist      0    5488\n",
       "31              Save Settings      1      58\n",
       "32                       Help      1     239\n",
       "33                   NextSong      1   36394\n",
       "34                   NextSong      0  191714\n",
       "35                       Help      0    1215"
      ]
     },
     "execution_count": 164,
     "metadata": {},
     "output_type": "execute_result"
    }
   ],
   "source": [
    "# convert to pandas\n",
    "df_page = df_page.toPandas()\n",
    "df_page"
   ]
  },
  {
   "cell_type": "code",
   "execution_count": 165,
   "id": "f2b586c4",
   "metadata": {},
   "outputs": [
    {
     "data": {
      "text/html": [
       "<div>\n",
       "<style scoped>\n",
       "    .dataframe tbody tr th:only-of-type {\n",
       "        vertical-align: middle;\n",
       "    }\n",
       "\n",
       "    .dataframe tbody tr th {\n",
       "        vertical-align: top;\n",
       "    }\n",
       "\n",
       "    .dataframe thead th {\n",
       "        text-align: right;\n",
       "    }\n",
       "</style>\n",
       "<table border=\"1\" class=\"dataframe\">\n",
       "  <thead>\n",
       "    <tr style=\"text-align: right;\">\n",
       "      <th></th>\n",
       "      <th>page</th>\n",
       "      <th>churn</th>\n",
       "      <th>count</th>\n",
       "    </tr>\n",
       "  </thead>\n",
       "  <tbody>\n",
       "    <tr>\n",
       "      <th>1</th>\n",
       "      <td>Thumbs Down</td>\n",
       "      <td>1</td>\n",
       "      <td>496</td>\n",
       "    </tr>\n",
       "    <tr>\n",
       "      <th>2</th>\n",
       "      <td>Thumbs Up</td>\n",
       "      <td>1</td>\n",
       "      <td>1859</td>\n",
       "    </tr>\n",
       "    <tr>\n",
       "      <th>3</th>\n",
       "      <td>Add to Playlist</td>\n",
       "      <td>1</td>\n",
       "      <td>1038</td>\n",
       "    </tr>\n",
       "    <tr>\n",
       "      <th>4</th>\n",
       "      <td>Error</td>\n",
       "      <td>1</td>\n",
       "      <td>32</td>\n",
       "    </tr>\n",
       "    <tr>\n",
       "      <th>5</th>\n",
       "      <td>About</td>\n",
       "      <td>1</td>\n",
       "      <td>56</td>\n",
       "    </tr>\n",
       "    <tr>\n",
       "      <th>7</th>\n",
       "      <td>Roll Advert</td>\n",
       "      <td>1</td>\n",
       "      <td>967</td>\n",
       "    </tr>\n",
       "    <tr>\n",
       "      <th>9</th>\n",
       "      <td>Cancellation Confirmation</td>\n",
       "      <td>1</td>\n",
       "      <td>52</td>\n",
       "    </tr>\n",
       "    <tr>\n",
       "      <th>11</th>\n",
       "      <td>Cancel</td>\n",
       "      <td>1</td>\n",
       "      <td>52</td>\n",
       "    </tr>\n",
       "    <tr>\n",
       "      <th>12</th>\n",
       "      <td>Settings</td>\n",
       "      <td>1</td>\n",
       "      <td>270</td>\n",
       "    </tr>\n",
       "    <tr>\n",
       "      <th>13</th>\n",
       "      <td>Add Friend</td>\n",
       "      <td>1</td>\n",
       "      <td>636</td>\n",
       "    </tr>\n",
       "    <tr>\n",
       "      <th>15</th>\n",
       "      <td>Downgrade</td>\n",
       "      <td>1</td>\n",
       "      <td>337</td>\n",
       "    </tr>\n",
       "    <tr>\n",
       "      <th>16</th>\n",
       "      <td>Logout</td>\n",
       "      <td>1</td>\n",
       "      <td>553</td>\n",
       "    </tr>\n",
       "    <tr>\n",
       "      <th>17</th>\n",
       "      <td>Submit Downgrade</td>\n",
       "      <td>1</td>\n",
       "      <td>9</td>\n",
       "    </tr>\n",
       "    <tr>\n",
       "      <th>25</th>\n",
       "      <td>Home</td>\n",
       "      <td>1</td>\n",
       "      <td>1672</td>\n",
       "    </tr>\n",
       "    <tr>\n",
       "      <th>27</th>\n",
       "      <td>Upgrade</td>\n",
       "      <td>1</td>\n",
       "      <td>112</td>\n",
       "    </tr>\n",
       "    <tr>\n",
       "      <th>28</th>\n",
       "      <td>Submit Upgrade</td>\n",
       "      <td>1</td>\n",
       "      <td>32</td>\n",
       "    </tr>\n",
       "    <tr>\n",
       "      <th>31</th>\n",
       "      <td>Save Settings</td>\n",
       "      <td>1</td>\n",
       "      <td>58</td>\n",
       "    </tr>\n",
       "    <tr>\n",
       "      <th>32</th>\n",
       "      <td>Help</td>\n",
       "      <td>1</td>\n",
       "      <td>239</td>\n",
       "    </tr>\n",
       "    <tr>\n",
       "      <th>33</th>\n",
       "      <td>NextSong</td>\n",
       "      <td>1</td>\n",
       "      <td>36394</td>\n",
       "    </tr>\n",
       "  </tbody>\n",
       "</table>\n",
       "</div>"
      ],
      "text/plain": [
       "                         page  churn  count\n",
       "1                 Thumbs Down      1    496\n",
       "2                   Thumbs Up      1   1859\n",
       "3             Add to Playlist      1   1038\n",
       "4                       Error      1     32\n",
       "5                       About      1     56\n",
       "7                 Roll Advert      1    967\n",
       "9   Cancellation Confirmation      1     52\n",
       "11                     Cancel      1     52\n",
       "12                   Settings      1    270\n",
       "13                 Add Friend      1    636\n",
       "15                  Downgrade      1    337\n",
       "16                     Logout      1    553\n",
       "17           Submit Downgrade      1      9\n",
       "25                       Home      1   1672\n",
       "27                    Upgrade      1    112\n",
       "28             Submit Upgrade      1     32\n",
       "31              Save Settings      1     58\n",
       "32                       Help      1    239\n",
       "33                   NextSong      1  36394"
      ]
     },
     "execution_count": 165,
     "metadata": {},
     "output_type": "execute_result"
    }
   ],
   "source": [
    "# Select pages for those who churned\n",
    "df_page[df_page['churn'] == 1]"
   ]
  },
  {
   "cell_type": "code",
   "execution_count": 166,
   "id": "846f66b5",
   "metadata": {},
   "outputs": [
    {
     "data": {
      "text/plain": [
       "page     Thumbs DownThumbs UpAdd to PlaylistErrorAboutR...\n",
       "churn                                                   19\n",
       "count                                                44864\n",
       "dtype: object"
      ]
     },
     "execution_count": 166,
     "metadata": {},
     "output_type": "execute_result"
    }
   ],
   "source": [
    "# create counts for those who churned and those who stayed\n",
    "churn_count =  df_page[df_page['churn'] == 1].sum() \n",
    "churn_count"
   ]
  },
  {
   "cell_type": "code",
   "execution_count": 167,
   "id": "f92970e8",
   "metadata": {},
   "outputs": [
    {
     "data": {
      "text/html": [
       "<div>\n",
       "<style scoped>\n",
       "    .dataframe tbody tr th:only-of-type {\n",
       "        vertical-align: middle;\n",
       "    }\n",
       "\n",
       "    .dataframe tbody tr th {\n",
       "        vertical-align: top;\n",
       "    }\n",
       "\n",
       "    .dataframe thead th {\n",
       "        text-align: right;\n",
       "    }\n",
       "</style>\n",
       "<table border=\"1\" class=\"dataframe\">\n",
       "  <thead>\n",
       "    <tr style=\"text-align: right;\">\n",
       "      <th></th>\n",
       "      <th>page</th>\n",
       "      <th>churn</th>\n",
       "      <th>count</th>\n",
       "    </tr>\n",
       "  </thead>\n",
       "  <tbody>\n",
       "    <tr>\n",
       "      <th>0</th>\n",
       "      <td>Settings</td>\n",
       "      <td>0</td>\n",
       "      <td>1244</td>\n",
       "    </tr>\n",
       "    <tr>\n",
       "      <th>6</th>\n",
       "      <td>Thumbs Down</td>\n",
       "      <td>0</td>\n",
       "      <td>2050</td>\n",
       "    </tr>\n",
       "    <tr>\n",
       "      <th>8</th>\n",
       "      <td>Home</td>\n",
       "      <td>0</td>\n",
       "      <td>8410</td>\n",
       "    </tr>\n",
       "    <tr>\n",
       "      <th>10</th>\n",
       "      <td>Error</td>\n",
       "      <td>0</td>\n",
       "      <td>220</td>\n",
       "    </tr>\n",
       "    <tr>\n",
       "      <th>14</th>\n",
       "      <td>Upgrade</td>\n",
       "      <td>0</td>\n",
       "      <td>387</td>\n",
       "    </tr>\n",
       "    <tr>\n",
       "      <th>18</th>\n",
       "      <td>Save Settings</td>\n",
       "      <td>0</td>\n",
       "      <td>252</td>\n",
       "    </tr>\n",
       "    <tr>\n",
       "      <th>19</th>\n",
       "      <td>Thumbs Up</td>\n",
       "      <td>0</td>\n",
       "      <td>10692</td>\n",
       "    </tr>\n",
       "    <tr>\n",
       "      <th>20</th>\n",
       "      <td>Downgrade</td>\n",
       "      <td>0</td>\n",
       "      <td>1718</td>\n",
       "    </tr>\n",
       "    <tr>\n",
       "      <th>21</th>\n",
       "      <td>Submit Upgrade</td>\n",
       "      <td>0</td>\n",
       "      <td>127</td>\n",
       "    </tr>\n",
       "    <tr>\n",
       "      <th>22</th>\n",
       "      <td>Roll Advert</td>\n",
       "      <td>0</td>\n",
       "      <td>2966</td>\n",
       "    </tr>\n",
       "    <tr>\n",
       "      <th>23</th>\n",
       "      <td>Submit Downgrade</td>\n",
       "      <td>0</td>\n",
       "      <td>54</td>\n",
       "    </tr>\n",
       "    <tr>\n",
       "      <th>24</th>\n",
       "      <td>Logout</td>\n",
       "      <td>0</td>\n",
       "      <td>2673</td>\n",
       "    </tr>\n",
       "    <tr>\n",
       "      <th>26</th>\n",
       "      <td>Add Friend</td>\n",
       "      <td>0</td>\n",
       "      <td>3641</td>\n",
       "    </tr>\n",
       "    <tr>\n",
       "      <th>29</th>\n",
       "      <td>About</td>\n",
       "      <td>0</td>\n",
       "      <td>439</td>\n",
       "    </tr>\n",
       "    <tr>\n",
       "      <th>30</th>\n",
       "      <td>Add to Playlist</td>\n",
       "      <td>0</td>\n",
       "      <td>5488</td>\n",
       "    </tr>\n",
       "    <tr>\n",
       "      <th>34</th>\n",
       "      <td>NextSong</td>\n",
       "      <td>0</td>\n",
       "      <td>191714</td>\n",
       "    </tr>\n",
       "    <tr>\n",
       "      <th>35</th>\n",
       "      <td>Help</td>\n",
       "      <td>0</td>\n",
       "      <td>1215</td>\n",
       "    </tr>\n",
       "  </tbody>\n",
       "</table>\n",
       "</div>"
      ],
      "text/plain": [
       "                page  churn   count\n",
       "0           Settings      0    1244\n",
       "6        Thumbs Down      0    2050\n",
       "8               Home      0    8410\n",
       "10             Error      0     220\n",
       "14           Upgrade      0     387\n",
       "18     Save Settings      0     252\n",
       "19         Thumbs Up      0   10692\n",
       "20         Downgrade      0    1718\n",
       "21    Submit Upgrade      0     127\n",
       "22       Roll Advert      0    2966\n",
       "23  Submit Downgrade      0      54\n",
       "24            Logout      0    2673\n",
       "26        Add Friend      0    3641\n",
       "29             About      0     439\n",
       "30   Add to Playlist      0    5488\n",
       "34          NextSong      0  191714\n",
       "35              Help      0    1215"
      ]
     },
     "execution_count": 167,
     "metadata": {},
     "output_type": "execute_result"
    }
   ],
   "source": [
    "# Select pages for those who didn't churn\n",
    "df_page[df_page['churn'] == 0]"
   ]
  },
  {
   "cell_type": "code",
   "execution_count": 168,
   "id": "205092c9",
   "metadata": {},
   "outputs": [
    {
     "data": {
      "text/plain": [
       "page     SettingsThumbs DownHomeErrorUpgradeSave Settin...\n",
       "churn                                                    0\n",
       "count                                               233290\n",
       "dtype: object"
      ]
     },
     "execution_count": 168,
     "metadata": {},
     "output_type": "execute_result"
    }
   ],
   "source": [
    "# create counts for those who churned and those who didn't stay\n",
    "stay_count =  df_page[df_page['churn'] == 0].sum()\n",
    "stay_count"
   ]
  },
  {
   "cell_type": "markdown",
   "id": "4a2a7962",
   "metadata": {},
   "source": [
    "Now that we have a count of the number of customers who churned and those that stayed we can calculate the rate and create this as a column on our dataFrame."
   ]
  },
  {
   "cell_type": "code",
   "execution_count": 169,
   "id": "0122c83a",
   "metadata": {},
   "outputs": [],
   "source": [
    "# calculate the rate of pages visited by those who churned vs. those who stayed\n",
    "df_page['rate'] = np.where(\n",
    "    df_page['churn'] == 0, df_page['count']/stay_count['count'], np.where(\n",
    "    df_page['churn'] == 1, df_page['count']/churn_count['count'],df_page['count']/churn_count['count']))"
   ]
  },
  {
   "cell_type": "code",
   "execution_count": 170,
   "id": "5f393986",
   "metadata": {},
   "outputs": [
    {
     "data": {
      "text/html": [
       "<div>\n",
       "<style scoped>\n",
       "    .dataframe tbody tr th:only-of-type {\n",
       "        vertical-align: middle;\n",
       "    }\n",
       "\n",
       "    .dataframe tbody tr th {\n",
       "        vertical-align: top;\n",
       "    }\n",
       "\n",
       "    .dataframe thead th {\n",
       "        text-align: right;\n",
       "    }\n",
       "</style>\n",
       "<table border=\"1\" class=\"dataframe\">\n",
       "  <thead>\n",
       "    <tr style=\"text-align: right;\">\n",
       "      <th></th>\n",
       "      <th>page</th>\n",
       "      <th>churn</th>\n",
       "      <th>count</th>\n",
       "      <th>rate</th>\n",
       "    </tr>\n",
       "  </thead>\n",
       "  <tbody>\n",
       "    <tr>\n",
       "      <th>0</th>\n",
       "      <td>Settings</td>\n",
       "      <td>0</td>\n",
       "      <td>1244</td>\n",
       "      <td>0.005332</td>\n",
       "    </tr>\n",
       "    <tr>\n",
       "      <th>1</th>\n",
       "      <td>Thumbs Down</td>\n",
       "      <td>1</td>\n",
       "      <td>496</td>\n",
       "      <td>0.011056</td>\n",
       "    </tr>\n",
       "    <tr>\n",
       "      <th>2</th>\n",
       "      <td>Thumbs Up</td>\n",
       "      <td>1</td>\n",
       "      <td>1859</td>\n",
       "      <td>0.041436</td>\n",
       "    </tr>\n",
       "    <tr>\n",
       "      <th>3</th>\n",
       "      <td>Add to Playlist</td>\n",
       "      <td>1</td>\n",
       "      <td>1038</td>\n",
       "      <td>0.023137</td>\n",
       "    </tr>\n",
       "    <tr>\n",
       "      <th>4</th>\n",
       "      <td>Error</td>\n",
       "      <td>1</td>\n",
       "      <td>32</td>\n",
       "      <td>0.000713</td>\n",
       "    </tr>\n",
       "    <tr>\n",
       "      <th>5</th>\n",
       "      <td>About</td>\n",
       "      <td>1</td>\n",
       "      <td>56</td>\n",
       "      <td>0.001248</td>\n",
       "    </tr>\n",
       "    <tr>\n",
       "      <th>6</th>\n",
       "      <td>Thumbs Down</td>\n",
       "      <td>0</td>\n",
       "      <td>2050</td>\n",
       "      <td>0.008787</td>\n",
       "    </tr>\n",
       "    <tr>\n",
       "      <th>7</th>\n",
       "      <td>Roll Advert</td>\n",
       "      <td>1</td>\n",
       "      <td>967</td>\n",
       "      <td>0.021554</td>\n",
       "    </tr>\n",
       "    <tr>\n",
       "      <th>8</th>\n",
       "      <td>Home</td>\n",
       "      <td>0</td>\n",
       "      <td>8410</td>\n",
       "      <td>0.036050</td>\n",
       "    </tr>\n",
       "    <tr>\n",
       "      <th>9</th>\n",
       "      <td>Cancellation Confirmation</td>\n",
       "      <td>1</td>\n",
       "      <td>52</td>\n",
       "      <td>0.001159</td>\n",
       "    </tr>\n",
       "    <tr>\n",
       "      <th>10</th>\n",
       "      <td>Error</td>\n",
       "      <td>0</td>\n",
       "      <td>220</td>\n",
       "      <td>0.000943</td>\n",
       "    </tr>\n",
       "    <tr>\n",
       "      <th>11</th>\n",
       "      <td>Cancel</td>\n",
       "      <td>1</td>\n",
       "      <td>52</td>\n",
       "      <td>0.001159</td>\n",
       "    </tr>\n",
       "    <tr>\n",
       "      <th>12</th>\n",
       "      <td>Settings</td>\n",
       "      <td>1</td>\n",
       "      <td>270</td>\n",
       "      <td>0.006018</td>\n",
       "    </tr>\n",
       "    <tr>\n",
       "      <th>13</th>\n",
       "      <td>Add Friend</td>\n",
       "      <td>1</td>\n",
       "      <td>636</td>\n",
       "      <td>0.014176</td>\n",
       "    </tr>\n",
       "    <tr>\n",
       "      <th>14</th>\n",
       "      <td>Upgrade</td>\n",
       "      <td>0</td>\n",
       "      <td>387</td>\n",
       "      <td>0.001659</td>\n",
       "    </tr>\n",
       "    <tr>\n",
       "      <th>15</th>\n",
       "      <td>Downgrade</td>\n",
       "      <td>1</td>\n",
       "      <td>337</td>\n",
       "      <td>0.007512</td>\n",
       "    </tr>\n",
       "    <tr>\n",
       "      <th>16</th>\n",
       "      <td>Logout</td>\n",
       "      <td>1</td>\n",
       "      <td>553</td>\n",
       "      <td>0.012326</td>\n",
       "    </tr>\n",
       "    <tr>\n",
       "      <th>17</th>\n",
       "      <td>Submit Downgrade</td>\n",
       "      <td>1</td>\n",
       "      <td>9</td>\n",
       "      <td>0.000201</td>\n",
       "    </tr>\n",
       "    <tr>\n",
       "      <th>18</th>\n",
       "      <td>Save Settings</td>\n",
       "      <td>0</td>\n",
       "      <td>252</td>\n",
       "      <td>0.001080</td>\n",
       "    </tr>\n",
       "    <tr>\n",
       "      <th>19</th>\n",
       "      <td>Thumbs Up</td>\n",
       "      <td>0</td>\n",
       "      <td>10692</td>\n",
       "      <td>0.045831</td>\n",
       "    </tr>\n",
       "  </tbody>\n",
       "</table>\n",
       "</div>"
      ],
      "text/plain": [
       "                         page  churn  count      rate\n",
       "0                    Settings      0   1244  0.005332\n",
       "1                 Thumbs Down      1    496  0.011056\n",
       "2                   Thumbs Up      1   1859  0.041436\n",
       "3             Add to Playlist      1   1038  0.023137\n",
       "4                       Error      1     32  0.000713\n",
       "5                       About      1     56  0.001248\n",
       "6                 Thumbs Down      0   2050  0.008787\n",
       "7                 Roll Advert      1    967  0.021554\n",
       "8                        Home      0   8410  0.036050\n",
       "9   Cancellation Confirmation      1     52  0.001159\n",
       "10                      Error      0    220  0.000943\n",
       "11                     Cancel      1     52  0.001159\n",
       "12                   Settings      1    270  0.006018\n",
       "13                 Add Friend      1    636  0.014176\n",
       "14                    Upgrade      0    387  0.001659\n",
       "15                  Downgrade      1    337  0.007512\n",
       "16                     Logout      1    553  0.012326\n",
       "17           Submit Downgrade      1      9  0.000201\n",
       "18              Save Settings      0    252  0.001080\n",
       "19                  Thumbs Up      0  10692  0.045831"
      ]
     },
     "execution_count": 170,
     "metadata": {},
     "output_type": "execute_result"
    }
   ],
   "source": [
    "df_page.head(20)"
   ]
  },
  {
   "cell_type": "code",
   "execution_count": 171,
   "id": "8b62ed3f",
   "metadata": {},
   "outputs": [
    {
     "data": {
      "image/png": "[encoded data removed]",
      "text/plain": [
       "<Figure size 1440x1152 with 1 Axes>"
      ]
     },
     "metadata": {},
     "output_type": "display_data"
    }
   ],
   "source": [
    "# plot the pages by churn\n",
    "plt.figure(figsize=[20,16])\n",
    "sns.barplot(data = df_page, x = 'rate', y = 'page', hue = 'churn')\n",
    "plt.title('Rate of Pages Navigated to by Users that Churned vs. Users that Stayed');"
   ]
  },
  {
   "cell_type": "markdown",
   "id": "274230cf",
   "metadata": {},
   "source": [
    "The above chart indicates that the most popular action for both users that stayed and those that churned was to skip to the next song. Also churned users rolled the ad and thumbs down songs more than those who were more likely to stayed whome performed more thumbs up actions, added friends and also added songs to playlist."
   ]
  },
  {
   "cell_type": "code",
   "execution_count": null,
   "id": "30bd1d78",
   "metadata": {},
   "outputs": [],
   "source": []
  }
 ],
 "metadata": {
  "kernelspec": {
   "display_name": "Python 3 (ipykernel)",
   "language": "python",
   "name": "python3"
  },
  "language_info": {
   "codemirror_mode": {
    "name": "ipython",
    "version": 3
   },
   "file_extension": ".py",
   "mimetype": "text/x-python",
   "name": "python",
   "nbconvert_exporter": "python",
   "pygments_lexer": "ipython3",
   "version": "3.9.0"
  }
 },
 "nbformat": 4,
 "nbformat_minor": 5
}
