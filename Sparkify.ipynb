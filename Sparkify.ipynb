{
 "cells": [
  {
   "cell_type": "markdown",
   "id": "65969291",
   "metadata": {},
   "source": [
    "# Sparkify (Music Streaming Service)\n",
    "### by Nima Sayyah\n",
    "\n",
    "\n",
    "<div>\n",
    "<img src=\"Sparkify.jpeg\" width=\"600\"/>\n",
    "</div>\n",
    "\n",
    "\n",
    "\n",
    "## Table of Contents\n",
    "* [Introduction](#int)\n",
    "* [Data Wrangling](#load)\n",
    "* [Exploratory Data Analysis](#eda)\n",
    "* [Feature Engineering](#eng)\n",
    "* [Modelling](#model)\n",
    "* [Conclusions](#con)\n",
    "\n",
    "### Introduction\n",
    "<a class=\"anchor\" id=\"int\"></a>\n",
    "\n",
    "This project will take advantage of a music app dataset similar to Spotify platform. It will use Spark to extract relevant features for predicting churn. Churn signifies the service termination. Spotting customers before they churn, the business can offer discounts and incentives for their retention to stabilise the business revenue. This workspace contains a subset (128MB) of the full dataset available (12GB)."
   ]
  },
  {
   "cell_type": "code",
   "execution_count": 5,
   "id": "00e9407b",
   "metadata": {},
   "outputs": [],
   "source": [
    "# Importing necessary libraries\n",
    "import pyspark \n",
    "from pyspark import SparkConf\n",
    "from pyspark.sql import SparkSession\n",
    "from pyspark.sql.functions import udf\n",
    "from pyspark.sql.types import StringType\n",
    "from pyspark.sql.types import IntegerType\n",
    "from pyspark.sql.functions import isnan, count, when, col, desc, udf, col, sort_array, asc, avg\n",
    "from pyspark.sql.functions import sum as Fsum\n",
    "from pyspark.sql.window import Window\n",
    "from pyspark.sql import Row\n",
    "from pyspark.sql import functions as F\n",
    "from pyspark.sql.functions import *\n",
    "\n",
    "from pyspark.ml import Pipeline\n",
    "from pyspark.ml.classification import LogisticRegression, RandomForestClassifier, GBTClassifier, LinearSVC, NaiveBayes\n",
    "from pyspark.ml.evaluation import MulticlassClassificationEvaluator\n",
    "from pyspark.ml.feature import CountVectorizer, IDF, PCA, RegexTokenizer, VectorAssembler, Normalizer, StandardScaler\n",
    "from pyspark.ml.regression import LinearRegression\n",
    "from pyspark.ml.tuning import CrossValidator, ParamGridBuilder\n",
    "\n",
    "import datetime\n",
    "import time\n",
    "\n",
    "import pandas as pd\n",
    "import numpy as np\n",
    "import re\n",
    "%matplotlib inline\n",
    "import matplotlib.pyplot as plt\n",
    "import seaborn as sns\n",
    "sns.set()\n",
    "import warnings\n",
    "warnings.filterwarnings('ignore')"
   ]
  },
  {
   "cell_type": "code",
   "execution_count": 6,
   "id": "ec46c940",
   "metadata": {},
   "outputs": [
    {
     "name": "stderr",
     "output_type": "stream",
     "text": [
      "Setting default log level to \"WARN\".\n",
      "To adjust logging level use sc.setLogLevel(newLevel). For SparkR, use setLogLevel(newLevel).\n"
     ]
    },
    {
     "name": "stdout",
     "output_type": "stream",
     "text": [
      "22/07/23 23:34:18 WARN NativeCodeLoader: Unable to load native-hadoop library for your platform... using builtin-java classes where applicable\n"
     ]
    }
   ],
   "source": [
    "# Craeting a Spark session\n",
    "spark = SparkSession.builder.appName(\"Sparkify Project\").getOrCreate()"
   ]
  },
  {
   "cell_type": "code",
   "execution_count": 7,
   "id": "b7532aab",
   "metadata": {},
   "outputs": [
    {
     "data": {
      "text/plain": [
       "[('spark.driver.extraJavaOptions',\n",
       "  '-XX:+IgnoreUnrecognizedVMOptions --add-opens=java.base/java.lang=ALL-UNNAMED --add-opens=java.base/java.lang.invoke=ALL-UNNAMED --add-opens=java.base/java.lang.reflect=ALL-UNNAMED --add-opens=java.base/java.io=ALL-UNNAMED --add-opens=java.base/java.net=ALL-UNNAMED --add-opens=java.base/java.nio=ALL-UNNAMED --add-opens=java.base/java.util=ALL-UNNAMED --add-opens=java.base/java.util.concurrent=ALL-UNNAMED --add-opens=java.base/java.util.concurrent.atomic=ALL-UNNAMED --add-opens=java.base/sun.nio.ch=ALL-UNNAMED --add-opens=java.base/sun.nio.cs=ALL-UNNAMED --add-opens=java.base/sun.security.action=ALL-UNNAMED --add-opens=java.base/sun.util.calendar=ALL-UNNAMED --add-opens=java.security.jgss/sun.security.krb5=ALL-UNNAMED'),\n",
       " ('spark.app.startTime', '1658615658537'),\n",
       " ('spark.executor.id', 'driver'),\n",
       " ('spark.app.submitTime', '1658615658103'),\n",
       " ('spark.driver.port', '51792'),\n",
       " ('spark.rdd.compress', 'True'),\n",
       " ('spark.executor.extraJavaOptions',\n",
       "  '-XX:+IgnoreUnrecognizedVMOptions --add-opens=java.base/java.lang=ALL-UNNAMED --add-opens=java.base/java.lang.invoke=ALL-UNNAMED --add-opens=java.base/java.lang.reflect=ALL-UNNAMED --add-opens=java.base/java.io=ALL-UNNAMED --add-opens=java.base/java.net=ALL-UNNAMED --add-opens=java.base/java.nio=ALL-UNNAMED --add-opens=java.base/java.util=ALL-UNNAMED --add-opens=java.base/java.util.concurrent=ALL-UNNAMED --add-opens=java.base/java.util.concurrent.atomic=ALL-UNNAMED --add-opens=java.base/sun.nio.ch=ALL-UNNAMED --add-opens=java.base/sun.nio.cs=ALL-UNNAMED --add-opens=java.base/sun.security.action=ALL-UNNAMED --add-opens=java.base/sun.util.calendar=ALL-UNNAMED --add-opens=java.security.jgss/sun.security.krb5=ALL-UNNAMED'),\n",
       " ('spark.serializer.objectStreamReset', '100'),\n",
       " ('spark.master', 'local[*]'),\n",
       " ('spark.submit.pyFiles', ''),\n",
       " ('spark.submit.deployMode', 'client'),\n",
       " ('spark.driver.host', 'snmp.cust.communityfibre.co.uk'),\n",
       " ('spark.app.id', 'local-1658615660655'),\n",
       " ('spark.ui.showConsoleProgress', 'true'),\n",
       " ('spark.app.name', 'Sparkify Project')]"
      ]
     },
     "execution_count": 7,
     "metadata": {},
     "output_type": "execute_result"
    }
   ],
   "source": [
    "spark.sparkContext.getConf().getAll()"
   ]
  },
  {
   "cell_type": "markdown",
   "id": "a547eae1",
   "metadata": {},
   "source": [
    "### Data Wrangling\n",
    "<a class=\"anchor\" id=\"load\"></a>\n",
    "At this stage the data`mini_sparkify_event_data.json` is loaded processed and cleaned. "
   ]
  },
  {
   "cell_type": "code",
   "execution_count": 8,
   "id": "5ad9d8d6",
   "metadata": {},
   "outputs": [
    {
     "name": "stderr",
     "output_type": "stream",
     "text": [
      "                                                                                \r"
     ]
    }
   ],
   "source": [
    "# loading the dataset\n",
    "df = spark.read.json(\"mini_sparkify_event_data.json\")"
   ]
  },
  {
   "cell_type": "code",
   "execution_count": 9,
   "id": "7475c0b9",
   "metadata": {},
   "outputs": [
    {
     "name": "stdout",
     "output_type": "stream",
     "text": [
      "root\n",
      " |-- artist: string (nullable = true)\n",
      " |-- auth: string (nullable = true)\n",
      " |-- firstName: string (nullable = true)\n",
      " |-- gender: string (nullable = true)\n",
      " |-- itemInSession: long (nullable = true)\n",
      " |-- lastName: string (nullable = true)\n",
      " |-- length: double (nullable = true)\n",
      " |-- level: string (nullable = true)\n",
      " |-- location: string (nullable = true)\n",
      " |-- method: string (nullable = true)\n",
      " |-- page: string (nullable = true)\n",
      " |-- registration: long (nullable = true)\n",
      " |-- sessionId: long (nullable = true)\n",
      " |-- song: string (nullable = true)\n",
      " |-- status: long (nullable = true)\n",
      " |-- ts: long (nullable = true)\n",
      " |-- userAgent: string (nullable = true)\n",
      " |-- userId: string (nullable = true)\n",
      "\n"
     ]
    }
   ],
   "source": [
    "# Printing the schema\n",
    "df.printSchema()"
   ]
  },
  {
   "cell_type": "code",
   "execution_count": 10,
   "id": "9ee95f4d",
   "metadata": {},
   "outputs": [
    {
     "name": "stderr",
     "output_type": "stream",
     "text": [
      "                                                                                \r"
     ]
    },
    {
     "data": {
      "text/plain": [
       "DataFrame[summary: string, artist: string, auth: string, firstName: string, gender: string, itemInSession: string, lastName: string, length: string, level: string, location: string, method: string, page: string, registration: string, sessionId: string, song: string, status: string, ts: string, userAgent: string, userId: string]"
      ]
     },
     "execution_count": 10,
     "metadata": {},
     "output_type": "execute_result"
    }
   ],
   "source": [
    "# Computing basic statistics or information\n",
    "df.summary()"
   ]
  },
  {
   "cell_type": "code",
   "execution_count": 11,
   "id": "9b11e7fa",
   "metadata": {},
   "outputs": [
    {
     "data": {
      "text/plain": [
       "[Row(artist='Martha Tilston', auth='Logged In', firstName='Colin', gender='M', itemInSession=50, lastName='Freeman', length=277.89016, level='paid', location='Bakersfield, CA', method='PUT', page='NextSong', registration=1538173362000, sessionId=29, song='Rockpools', status=200, ts=1538352117000, userAgent='Mozilla/5.0 (Windows NT 6.1; WOW64; rv:31.0) Gecko/20100101 Firefox/31.0', userId='30'),\n",
       " Row(artist='Five Iron Frenzy', auth='Logged In', firstName='Micah', gender='M', itemInSession=79, lastName='Long', length=236.09424, level='free', location='Boston-Cambridge-Newton, MA-NH', method='PUT', page='NextSong', registration=1538331630000, sessionId=8, song='Canada', status=200, ts=1538352180000, userAgent='\"Mozilla/5.0 (Windows NT 6.1; WOW64) AppleWebKit/537.36 (KHTML, like Gecko) Chrome/37.0.2062.103 Safari/537.36\"', userId='9')]"
      ]
     },
     "execution_count": 11,
     "metadata": {},
     "output_type": "execute_result"
    }
   ],
   "source": [
    "# Taking the first two element of the RDD Dataset\n",
    "df.take(2)"
   ]
  },
  {
   "cell_type": "code",
   "execution_count": 12,
   "id": "d0ab59b8",
   "metadata": {},
   "outputs": [
    {
     "name": "stderr",
     "output_type": "stream",
     "text": [
      "                                                                                \r"
     ]
    },
    {
     "data": {
      "text/plain": [
       "286500"
      ]
     },
     "execution_count": 12,
     "metadata": {},
     "output_type": "execute_result"
    }
   ],
   "source": [
    "# The count of the dataset before cleaning \n",
    "df.count()"
   ]
  },
  {
   "cell_type": "markdown",
   "id": "371485b1",
   "metadata": {},
   "source": [
    "### Drop Rows with Missing Values"
   ]
  },
  {
   "cell_type": "markdown",
   "id": "b678d67f",
   "metadata": {},
   "source": [
    "It is reasonble to first explore missing values for ID related cells."
   ]
  },
  {
   "cell_type": "code",
   "execution_count": 13,
   "id": "ef475db3",
   "metadata": {},
   "outputs": [],
   "source": [
    "# Dropping rows with missing values in userid and/or sessionid\n",
    "df = df.dropna(how = 'any', subset = [\"userId\", \"sessionId\"])"
   ]
  },
  {
   "cell_type": "code",
   "execution_count": 14,
   "id": "babe0565",
   "metadata": {},
   "outputs": [
    {
     "data": {
      "text/plain": [
       "286500"
      ]
     },
     "execution_count": 14,
     "metadata": {},
     "output_type": "execute_result"
    }
   ],
   "source": [
    "# Recounting the dataset\n",
    "df.count()"
   ]
  },
  {
   "cell_type": "markdown",
   "id": "7764d745",
   "metadata": {},
   "source": [
    "It appears there are no missing values. We however need further analysis. "
   ]
  },
  {
   "cell_type": "code",
   "execution_count": 15,
   "id": "cd1cbacd",
   "metadata": {},
   "outputs": [
    {
     "name": "stderr",
     "output_type": "stream",
     "text": [
      "\r",
      "[Stage 11:>                                                         (0 + 4) / 4]\r"
     ]
    },
    {
     "name": "stdout",
     "output_type": "stream",
     "text": [
      "+------+\n",
      "|userId|\n",
      "+------+\n",
      "|      |\n",
      "|    10|\n",
      "|   100|\n",
      "|100001|\n",
      "|100002|\n",
      "|100003|\n",
      "|100004|\n",
      "|100005|\n",
      "|100006|\n",
      "|100007|\n",
      "|100008|\n",
      "|100009|\n",
      "|100010|\n",
      "|100011|\n",
      "|100012|\n",
      "|100013|\n",
      "|100014|\n",
      "|100015|\n",
      "|100016|\n",
      "|100017|\n",
      "+------+\n",
      "only showing top 20 rows\n",
      "\n"
     ]
    },
    {
     "name": "stderr",
     "output_type": "stream",
     "text": [
      "\r",
      "                                                                                \r"
     ]
    }
   ],
   "source": [
    "# Removing userId duplicates\n",
    "df.select(\"userId\").dropDuplicates().sort(\"userId\").show()"
   ]
  },
  {
   "cell_type": "markdown",
   "id": "fd3d0cae",
   "metadata": {},
   "source": [
    "As it can be seen there are empty strings used as **userId**. We proceed by removing those empty strings."
   ]
  },
  {
   "cell_type": "code",
   "execution_count": 16,
   "id": "a11c5142",
   "metadata": {},
   "outputs": [],
   "source": [
    "# Removing empty string userIds\n",
    "df = df.filter(df[\"userId\"] != \"\")"
   ]
  },
  {
   "cell_type": "code",
   "execution_count": 17,
   "id": "a91b872d",
   "metadata": {},
   "outputs": [
    {
     "name": "stderr",
     "output_type": "stream",
     "text": [
      "\r",
      "[Stage 14:>                                                         (0 + 4) / 4]\r"
     ]
    },
    {
     "name": "stdout",
     "output_type": "stream",
     "text": [
      "+------+\n",
      "|userId|\n",
      "+------+\n",
      "|    10|\n",
      "|   100|\n",
      "|100001|\n",
      "|100002|\n",
      "|100003|\n",
      "|100004|\n",
      "|100005|\n",
      "|100006|\n",
      "|100007|\n",
      "|100008|\n",
      "|100009|\n",
      "|100010|\n",
      "|100011|\n",
      "|100012|\n",
      "|100013|\n",
      "|100014|\n",
      "|100015|\n",
      "|100016|\n",
      "|100017|\n",
      "|100018|\n",
      "+------+\n",
      "only showing top 20 rows\n",
      "\n"
     ]
    },
    {
     "name": "stderr",
     "output_type": "stream",
     "text": [
      "\r",
      "[Stage 14:==============>                                           (1 + 3) / 4]\r",
      "\r",
      "                                                                                \r"
     ]
    }
   ],
   "source": [
    "df.select(\"userId\").dropDuplicates().sort(\"userId\").show()"
   ]
  },
  {
   "cell_type": "code",
   "execution_count": 18,
   "id": "0137da31",
   "metadata": {},
   "outputs": [
    {
     "name": "stderr",
     "output_type": "stream",
     "text": [
      "[Stage 17:===========================================>              (3 + 1) / 4]\r"
     ]
    },
    {
     "name": "stdout",
     "output_type": "stream",
     "text": [
      "+---------+\n",
      "|sessionId|\n",
      "+---------+\n",
      "|        1|\n",
      "|        2|\n",
      "|        3|\n",
      "|        4|\n",
      "|        5|\n",
      "|        6|\n",
      "|        7|\n",
      "|        8|\n",
      "|        9|\n",
      "|       10|\n",
      "|       11|\n",
      "|       12|\n",
      "|       13|\n",
      "|       15|\n",
      "|       16|\n",
      "|       17|\n",
      "|       18|\n",
      "|       19|\n",
      "|       20|\n",
      "|       21|\n",
      "+---------+\n",
      "only showing top 20 rows\n",
      "\n"
     ]
    },
    {
     "name": "stderr",
     "output_type": "stream",
     "text": [
      "\r",
      "                                                                                \r"
     ]
    }
   ],
   "source": [
    "# Removing sessionId duplicates\n",
    "df.select(\"sessionId\").dropDuplicates().sort(\"sessionId\").show()"
   ]
  },
  {
   "cell_type": "code",
   "execution_count": 19,
   "id": "426aa761",
   "metadata": {},
   "outputs": [
    {
     "name": "stderr",
     "output_type": "stream",
     "text": [
      "                                                                                \r"
     ]
    },
    {
     "data": {
      "text/plain": [
       "278154"
      ]
     },
     "execution_count": 19,
     "metadata": {},
     "output_type": "execute_result"
    }
   ],
   "source": [
    "# Recounting the dataset\n",
    "df.count()"
   ]
  },
  {
   "cell_type": "markdown",
   "id": "b8979a5c",
   "metadata": {},
   "source": [
    "This means we have dropped **286500** - **278154** = **8346** at this stage"
   ]
  },
  {
   "cell_type": "code",
   "execution_count": 20,
   "id": "61a6e059",
   "metadata": {},
   "outputs": [
    {
     "name": "stderr",
     "output_type": "stream",
     "text": [
      "                                                                                \r"
     ]
    },
    {
     "data": {
      "text/html": [
       "<div>\n",
       "<style scoped>\n",
       "    .dataframe tbody tr th:only-of-type {\n",
       "        vertical-align: middle;\n",
       "    }\n",
       "\n",
       "    .dataframe tbody tr th {\n",
       "        vertical-align: top;\n",
       "    }\n",
       "\n",
       "    .dataframe thead th {\n",
       "        text-align: right;\n",
       "    }\n",
       "</style>\n",
       "<table border=\"1\" class=\"dataframe\">\n",
       "  <thead>\n",
       "    <tr style=\"text-align: right;\">\n",
       "      <th></th>\n",
       "      <th>artist</th>\n",
       "      <th>auth</th>\n",
       "      <th>firstName</th>\n",
       "      <th>gender</th>\n",
       "      <th>itemInSession</th>\n",
       "      <th>lastName</th>\n",
       "      <th>length</th>\n",
       "      <th>level</th>\n",
       "      <th>location</th>\n",
       "      <th>method</th>\n",
       "      <th>page</th>\n",
       "      <th>registration</th>\n",
       "      <th>sessionId</th>\n",
       "      <th>song</th>\n",
       "      <th>status</th>\n",
       "      <th>ts</th>\n",
       "      <th>userAgent</th>\n",
       "      <th>userId</th>\n",
       "    </tr>\n",
       "  </thead>\n",
       "  <tbody>\n",
       "    <tr>\n",
       "      <th>0</th>\n",
       "      <td>Martha Tilston</td>\n",
       "      <td>Logged In</td>\n",
       "      <td>Colin</td>\n",
       "      <td>M</td>\n",
       "      <td>50</td>\n",
       "      <td>Freeman</td>\n",
       "      <td>277.89016</td>\n",
       "      <td>paid</td>\n",
       "      <td>Bakersfield, CA</td>\n",
       "      <td>PUT</td>\n",
       "      <td>NextSong</td>\n",
       "      <td>1538173362000</td>\n",
       "      <td>29</td>\n",
       "      <td>Rockpools</td>\n",
       "      <td>200</td>\n",
       "      <td>1538352117000</td>\n",
       "      <td>Mozilla/5.0 (Windows NT 6.1; WOW64; rv:31.0) G...</td>\n",
       "      <td>30</td>\n",
       "    </tr>\n",
       "    <tr>\n",
       "      <th>1</th>\n",
       "      <td>Five Iron Frenzy</td>\n",
       "      <td>Logged In</td>\n",
       "      <td>Micah</td>\n",
       "      <td>M</td>\n",
       "      <td>79</td>\n",
       "      <td>Long</td>\n",
       "      <td>236.09424</td>\n",
       "      <td>free</td>\n",
       "      <td>Boston-Cambridge-Newton, MA-NH</td>\n",
       "      <td>PUT</td>\n",
       "      <td>NextSong</td>\n",
       "      <td>1538331630000</td>\n",
       "      <td>8</td>\n",
       "      <td>Canada</td>\n",
       "      <td>200</td>\n",
       "      <td>1538352180000</td>\n",
       "      <td>\"Mozilla/5.0 (Windows NT 6.1; WOW64) AppleWebK...</td>\n",
       "      <td>9</td>\n",
       "    </tr>\n",
       "    <tr>\n",
       "      <th>2</th>\n",
       "      <td>Adam Lambert</td>\n",
       "      <td>Logged In</td>\n",
       "      <td>Colin</td>\n",
       "      <td>M</td>\n",
       "      <td>51</td>\n",
       "      <td>Freeman</td>\n",
       "      <td>282.82730</td>\n",
       "      <td>paid</td>\n",
       "      <td>Bakersfield, CA</td>\n",
       "      <td>PUT</td>\n",
       "      <td>NextSong</td>\n",
       "      <td>1538173362000</td>\n",
       "      <td>29</td>\n",
       "      <td>Time For Miracles</td>\n",
       "      <td>200</td>\n",
       "      <td>1538352394000</td>\n",
       "      <td>Mozilla/5.0 (Windows NT 6.1; WOW64; rv:31.0) G...</td>\n",
       "      <td>30</td>\n",
       "    </tr>\n",
       "    <tr>\n",
       "      <th>3</th>\n",
       "      <td>Enigma</td>\n",
       "      <td>Logged In</td>\n",
       "      <td>Micah</td>\n",
       "      <td>M</td>\n",
       "      <td>80</td>\n",
       "      <td>Long</td>\n",
       "      <td>262.71302</td>\n",
       "      <td>free</td>\n",
       "      <td>Boston-Cambridge-Newton, MA-NH</td>\n",
       "      <td>PUT</td>\n",
       "      <td>NextSong</td>\n",
       "      <td>1538331630000</td>\n",
       "      <td>8</td>\n",
       "      <td>Knocking On Forbidden Doors</td>\n",
       "      <td>200</td>\n",
       "      <td>1538352416000</td>\n",
       "      <td>\"Mozilla/5.0 (Windows NT 6.1; WOW64) AppleWebK...</td>\n",
       "      <td>9</td>\n",
       "    </tr>\n",
       "    <tr>\n",
       "      <th>4</th>\n",
       "      <td>Daft Punk</td>\n",
       "      <td>Logged In</td>\n",
       "      <td>Colin</td>\n",
       "      <td>M</td>\n",
       "      <td>52</td>\n",
       "      <td>Freeman</td>\n",
       "      <td>223.60771</td>\n",
       "      <td>paid</td>\n",
       "      <td>Bakersfield, CA</td>\n",
       "      <td>PUT</td>\n",
       "      <td>NextSong</td>\n",
       "      <td>1538173362000</td>\n",
       "      <td>29</td>\n",
       "      <td>Harder Better Faster Stronger</td>\n",
       "      <td>200</td>\n",
       "      <td>1538352676000</td>\n",
       "      <td>Mozilla/5.0 (Windows NT 6.1; WOW64; rv:31.0) G...</td>\n",
       "      <td>30</td>\n",
       "    </tr>\n",
       "    <tr>\n",
       "      <th>...</th>\n",
       "      <td>...</td>\n",
       "      <td>...</td>\n",
       "      <td>...</td>\n",
       "      <td>...</td>\n",
       "      <td>...</td>\n",
       "      <td>...</td>\n",
       "      <td>...</td>\n",
       "      <td>...</td>\n",
       "      <td>...</td>\n",
       "      <td>...</td>\n",
       "      <td>...</td>\n",
       "      <td>...</td>\n",
       "      <td>...</td>\n",
       "      <td>...</td>\n",
       "      <td>...</td>\n",
       "      <td>...</td>\n",
       "      <td>...</td>\n",
       "      <td>...</td>\n",
       "    </tr>\n",
       "    <tr>\n",
       "      <th>278149</th>\n",
       "      <td>Iron Maiden</td>\n",
       "      <td>Logged In</td>\n",
       "      <td>Emilia</td>\n",
       "      <td>F</td>\n",
       "      <td>38</td>\n",
       "      <td>House</td>\n",
       "      <td>258.66404</td>\n",
       "      <td>paid</td>\n",
       "      <td>New York-Newark-Jersey City, NY-NJ-PA</td>\n",
       "      <td>PUT</td>\n",
       "      <td>NextSong</td>\n",
       "      <td>1538336771000</td>\n",
       "      <td>500</td>\n",
       "      <td>Murders In The Rue Morgue (1998 Digital Remaster)</td>\n",
       "      <td>200</td>\n",
       "      <td>1543622121000</td>\n",
       "      <td>Mozilla/5.0 (compatible; MSIE 9.0; Windows NT ...</td>\n",
       "      <td>300011</td>\n",
       "    </tr>\n",
       "    <tr>\n",
       "      <th>278150</th>\n",
       "      <td>None</td>\n",
       "      <td>Logged In</td>\n",
       "      <td>Emilia</td>\n",
       "      <td>F</td>\n",
       "      <td>39</td>\n",
       "      <td>House</td>\n",
       "      <td>NaN</td>\n",
       "      <td>paid</td>\n",
       "      <td>New York-Newark-Jersey City, NY-NJ-PA</td>\n",
       "      <td>PUT</td>\n",
       "      <td>Logout</td>\n",
       "      <td>1538336771000</td>\n",
       "      <td>500</td>\n",
       "      <td>None</td>\n",
       "      <td>307</td>\n",
       "      <td>1543622122000</td>\n",
       "      <td>Mozilla/5.0 (compatible; MSIE 9.0; Windows NT ...</td>\n",
       "      <td>300011</td>\n",
       "    </tr>\n",
       "    <tr>\n",
       "      <th>278151</th>\n",
       "      <td>None</td>\n",
       "      <td>Logged In</td>\n",
       "      <td>Emilia</td>\n",
       "      <td>F</td>\n",
       "      <td>43</td>\n",
       "      <td>House</td>\n",
       "      <td>NaN</td>\n",
       "      <td>paid</td>\n",
       "      <td>New York-Newark-Jersey City, NY-NJ-PA</td>\n",
       "      <td>GET</td>\n",
       "      <td>Home</td>\n",
       "      <td>1538336771000</td>\n",
       "      <td>500</td>\n",
       "      <td>None</td>\n",
       "      <td>200</td>\n",
       "      <td>1543622248000</td>\n",
       "      <td>Mozilla/5.0 (compatible; MSIE 9.0; Windows NT ...</td>\n",
       "      <td>300011</td>\n",
       "    </tr>\n",
       "    <tr>\n",
       "      <th>278152</th>\n",
       "      <td>None</td>\n",
       "      <td>Logged In</td>\n",
       "      <td>Emilia</td>\n",
       "      <td>F</td>\n",
       "      <td>44</td>\n",
       "      <td>House</td>\n",
       "      <td>NaN</td>\n",
       "      <td>paid</td>\n",
       "      <td>New York-Newark-Jersey City, NY-NJ-PA</td>\n",
       "      <td>GET</td>\n",
       "      <td>About</td>\n",
       "      <td>1538336771000</td>\n",
       "      <td>500</td>\n",
       "      <td>None</td>\n",
       "      <td>200</td>\n",
       "      <td>1543622398000</td>\n",
       "      <td>Mozilla/5.0 (compatible; MSIE 9.0; Windows NT ...</td>\n",
       "      <td>300011</td>\n",
       "    </tr>\n",
       "    <tr>\n",
       "      <th>278153</th>\n",
       "      <td>Camera Obscura</td>\n",
       "      <td>Logged In</td>\n",
       "      <td>Emilia</td>\n",
       "      <td>F</td>\n",
       "      <td>45</td>\n",
       "      <td>House</td>\n",
       "      <td>170.89261</td>\n",
       "      <td>paid</td>\n",
       "      <td>New York-Newark-Jersey City, NY-NJ-PA</td>\n",
       "      <td>PUT</td>\n",
       "      <td>NextSong</td>\n",
       "      <td>1538336771000</td>\n",
       "      <td>500</td>\n",
       "      <td>The Sun On His Back</td>\n",
       "      <td>200</td>\n",
       "      <td>1543622411000</td>\n",
       "      <td>Mozilla/5.0 (compatible; MSIE 9.0; Windows NT ...</td>\n",
       "      <td>300011</td>\n",
       "    </tr>\n",
       "  </tbody>\n",
       "</table>\n",
       "<p>278154 rows × 18 columns</p>\n",
       "</div>"
      ],
      "text/plain": [
       "                  artist       auth firstName gender  itemInSession lastName  \\\n",
       "0         Martha Tilston  Logged In     Colin      M             50  Freeman   \n",
       "1       Five Iron Frenzy  Logged In     Micah      M             79     Long   \n",
       "2           Adam Lambert  Logged In     Colin      M             51  Freeman   \n",
       "3                 Enigma  Logged In     Micah      M             80     Long   \n",
       "4              Daft Punk  Logged In     Colin      M             52  Freeman   \n",
       "...                  ...        ...       ...    ...            ...      ...   \n",
       "278149       Iron Maiden  Logged In    Emilia      F             38    House   \n",
       "278150              None  Logged In    Emilia      F             39    House   \n",
       "278151              None  Logged In    Emilia      F             43    House   \n",
       "278152              None  Logged In    Emilia      F             44    House   \n",
       "278153    Camera Obscura  Logged In    Emilia      F             45    House   \n",
       "\n",
       "           length level                               location method  \\\n",
       "0       277.89016  paid                        Bakersfield, CA    PUT   \n",
       "1       236.09424  free         Boston-Cambridge-Newton, MA-NH    PUT   \n",
       "2       282.82730  paid                        Bakersfield, CA    PUT   \n",
       "3       262.71302  free         Boston-Cambridge-Newton, MA-NH    PUT   \n",
       "4       223.60771  paid                        Bakersfield, CA    PUT   \n",
       "...           ...   ...                                    ...    ...   \n",
       "278149  258.66404  paid  New York-Newark-Jersey City, NY-NJ-PA    PUT   \n",
       "278150        NaN  paid  New York-Newark-Jersey City, NY-NJ-PA    PUT   \n",
       "278151        NaN  paid  New York-Newark-Jersey City, NY-NJ-PA    GET   \n",
       "278152        NaN  paid  New York-Newark-Jersey City, NY-NJ-PA    GET   \n",
       "278153  170.89261  paid  New York-Newark-Jersey City, NY-NJ-PA    PUT   \n",
       "\n",
       "            page   registration  sessionId  \\\n",
       "0       NextSong  1538173362000         29   \n",
       "1       NextSong  1538331630000          8   \n",
       "2       NextSong  1538173362000         29   \n",
       "3       NextSong  1538331630000          8   \n",
       "4       NextSong  1538173362000         29   \n",
       "...          ...            ...        ...   \n",
       "278149  NextSong  1538336771000        500   \n",
       "278150    Logout  1538336771000        500   \n",
       "278151      Home  1538336771000        500   \n",
       "278152     About  1538336771000        500   \n",
       "278153  NextSong  1538336771000        500   \n",
       "\n",
       "                                                     song  status  \\\n",
       "0                                               Rockpools     200   \n",
       "1                                                  Canada     200   \n",
       "2                                       Time For Miracles     200   \n",
       "3                             Knocking On Forbidden Doors     200   \n",
       "4                           Harder Better Faster Stronger     200   \n",
       "...                                                   ...     ...   \n",
       "278149  Murders In The Rue Morgue (1998 Digital Remaster)     200   \n",
       "278150                                               None     307   \n",
       "278151                                               None     200   \n",
       "278152                                               None     200   \n",
       "278153                                The Sun On His Back     200   \n",
       "\n",
       "                   ts                                          userAgent  \\\n",
       "0       1538352117000  Mozilla/5.0 (Windows NT 6.1; WOW64; rv:31.0) G...   \n",
       "1       1538352180000  \"Mozilla/5.0 (Windows NT 6.1; WOW64) AppleWebK...   \n",
       "2       1538352394000  Mozilla/5.0 (Windows NT 6.1; WOW64; rv:31.0) G...   \n",
       "3       1538352416000  \"Mozilla/5.0 (Windows NT 6.1; WOW64) AppleWebK...   \n",
       "4       1538352676000  Mozilla/5.0 (Windows NT 6.1; WOW64; rv:31.0) G...   \n",
       "...               ...                                                ...   \n",
       "278149  1543622121000  Mozilla/5.0 (compatible; MSIE 9.0; Windows NT ...   \n",
       "278150  1543622122000  Mozilla/5.0 (compatible; MSIE 9.0; Windows NT ...   \n",
       "278151  1543622248000  Mozilla/5.0 (compatible; MSIE 9.0; Windows NT ...   \n",
       "278152  1543622398000  Mozilla/5.0 (compatible; MSIE 9.0; Windows NT ...   \n",
       "278153  1543622411000  Mozilla/5.0 (compatible; MSIE 9.0; Windows NT ...   \n",
       "\n",
       "        userId  \n",
       "0           30  \n",
       "1            9  \n",
       "2           30  \n",
       "3            9  \n",
       "4           30  \n",
       "...        ...  \n",
       "278149  300011  \n",
       "278150  300011  \n",
       "278151  300011  \n",
       "278152  300011  \n",
       "278153  300011  \n",
       "\n",
       "[278154 rows x 18 columns]"
      ]
     },
     "execution_count": 20,
     "metadata": {},
     "output_type": "execute_result"
    }
   ],
   "source": [
    "# Exploring the dataset by Panda Dataframe \n",
    "df_pandas = df.toPandas()\n",
    "df_pandas"
   ]
  },
  {
   "cell_type": "markdown",
   "id": "7f980a4d",
   "metadata": {},
   "source": [
    "## Exploratory Data Analysis\n",
    "<a class=\"anchor\" id=\"eda\"></a>\n",
    "\n",
    "At this section we will explore the actions taken by the users who churned versus those who stayed with the service. For that pupose, we have certain columnar information, such as the `length` and the `song`, to take the analysis forward.\n",
    "\n",
    "\n",
    "### Churn Column\n",
    "\n",
    "As explained in the introduction, **Churn** is defined as the service termination. Therfore, a column `Churn` will be created. `page` column is used to extract those labelled as `Cancellation Confirmation` and assign to those who churned. This is applied for both free and paid users. We will assign a **0** where a user has not churned and a **1** where they have churned.\n"
   ]
  },
  {
   "cell_type": "code",
   "execution_count": 21,
   "id": "5c61df3b",
   "metadata": {},
   "outputs": [
    {
     "name": "stderr",
     "output_type": "stream",
     "text": [
      "\r",
      "[Stage 24:>                                                         (0 + 4) / 4]\r"
     ]
    },
    {
     "name": "stdout",
     "output_type": "stream",
     "text": [
      "+--------------------+\n",
      "|                page|\n",
      "+--------------------+\n",
      "|              Cancel|\n",
      "|    Submit Downgrade|\n",
      "|         Thumbs Down|\n",
      "|                Home|\n",
      "|           Downgrade|\n",
      "|         Roll Advert|\n",
      "|              Logout|\n",
      "|       Save Settings|\n",
      "|Cancellation Conf...|\n",
      "|               About|\n",
      "|            Settings|\n",
      "|     Add to Playlist|\n",
      "|          Add Friend|\n",
      "|            NextSong|\n",
      "|           Thumbs Up|\n",
      "|                Help|\n",
      "|             Upgrade|\n",
      "|               Error|\n",
      "|      Submit Upgrade|\n",
      "+--------------------+\n",
      "\n"
     ]
    },
    {
     "name": "stderr",
     "output_type": "stream",
     "text": [
      "\r",
      "                                                                                \r"
     ]
    }
   ],
   "source": [
    "# Exploring the page column classifications\n",
    "df.select(\"page\").dropDuplicates().show()"
   ]
  },
  {
   "cell_type": "markdown",
   "id": "41f7c98f",
   "metadata": {},
   "source": [
    "As explained earlier, `Cancelalation Confirmation` identifies the users who confirmed termination from the service."
   ]
  },
  {
   "cell_type": "code",
   "execution_count": 22,
   "id": "07644c26",
   "metadata": {},
   "outputs": [
    {
     "name": "stdout",
     "output_type": "stream",
     "text": [
      "+------+--------------------+\n",
      "|userId|                page|\n",
      "+------+--------------------+\n",
      "|    18|Cancellation Conf...|\n",
      "|    32|Cancellation Conf...|\n",
      "|   125|Cancellation Conf...|\n",
      "|   105|Cancellation Conf...|\n",
      "|    17|Cancellation Conf...|\n",
      "|   143|Cancellation Conf...|\n",
      "|   101|Cancellation Conf...|\n",
      "|   129|Cancellation Conf...|\n",
      "|   121|Cancellation Conf...|\n",
      "|    51|Cancellation Conf...|\n",
      "|    87|Cancellation Conf...|\n",
      "|   122|Cancellation Conf...|\n",
      "|    12|Cancellation Conf...|\n",
      "|    58|Cancellation Conf...|\n",
      "|    73|Cancellation Conf...|\n",
      "|     3|Cancellation Conf...|\n",
      "|   106|Cancellation Conf...|\n",
      "|   103|Cancellation Conf...|\n",
      "|    28|Cancellation Conf...|\n",
      "|    54|Cancellation Conf...|\n",
      "+------+--------------------+\n",
      "only showing top 20 rows\n",
      "\n"
     ]
    }
   ],
   "source": [
    "# Exploring those who churned \n",
    "df.select([\"userId\", \"page\"]).where(df.page == \"Cancellation Confirmation\").show()"
   ]
  },
  {
   "cell_type": "code",
   "execution_count": 23,
   "id": "cf997dd4",
   "metadata": {},
   "outputs": [
    {
     "name": "stderr",
     "output_type": "stream",
     "text": [
      "\r",
      "[Stage 30:==============>                                           (1 + 3) / 4]\r",
      "\r",
      "                                                                                \r"
     ]
    },
    {
     "data": {
      "text/plain": [
       "52"
      ]
     },
     "execution_count": 23,
     "metadata": {},
     "output_type": "execute_result"
    }
   ],
   "source": [
    "# Identifying how many users churned \n",
    "df.select([\"userId\", \"page\"]).where(df.page == \"Cancellation Confirmation\").count()"
   ]
  },
  {
   "cell_type": "markdown",
   "id": "34f85292",
   "metadata": {},
   "source": [
    "Therefore, **52** users churned. "
   ]
  },
  {
   "cell_type": "markdown",
   "id": "5f115d65",
   "metadata": {},
   "source": [
    "We can now proceed to creating a flag for identifying churned and unchurned users. For this we assign the churned users to **1** and otherwise **0**."
   ]
  },
  {
   "cell_type": "code",
   "execution_count": 24,
   "id": "f03b11d6",
   "metadata": {},
   "outputs": [
    {
     "name": "stderr",
     "output_type": "stream",
     "text": [
      "\r",
      "[Stage 33:>                                                         (0 + 1) / 1]\r"
     ]
    },
    {
     "name": "stdout",
     "output_type": "stream",
     "text": [
      "+------+-----+\n",
      "|userId|Churn|\n",
      "+------+-----+\n",
      "|    30|    0|\n",
      "|     9|    0|\n",
      "|    30|    0|\n",
      "|     9|    0|\n",
      "|    30|    0|\n",
      "|     9|    0|\n",
      "|     9|    0|\n",
      "|    30|    0|\n",
      "|    30|    0|\n",
      "|    30|    0|\n",
      "|     9|    0|\n",
      "|     9|    0|\n",
      "|    30|    0|\n",
      "|     9|    0|\n",
      "|     9|    0|\n",
      "|    30|    0|\n",
      "|     9|    0|\n",
      "|    74|    0|\n",
      "|    30|    0|\n",
      "|     9|    0|\n",
      "+------+-----+\n",
      "only showing top 20 rows\n",
      "\n"
     ]
    },
    {
     "name": "stderr",
     "output_type": "stream",
     "text": [
      "\r",
      "                                                                                \r"
     ]
    }
   ],
   "source": [
    "# Using User Defined Function to flag the users in a new column\n",
    "churn_event = udf(lambda x: 1 if x == \"Cancellation Confirmation\" else 0, IntegerType())\n",
    "df = df.withColumn(\"Churn\", churn_event(\"page\"))\n",
    "df.select([\"userId\", \"Churn\"]).show()"
   ]
  },
  {
   "cell_type": "code",
   "execution_count": 25,
   "id": "c72683f0",
   "metadata": {},
   "outputs": [
    {
     "name": "stderr",
     "output_type": "stream",
     "text": [
      "[Stage 36:>                                                         (0 + 1) / 1]\r"
     ]
    },
    {
     "name": "stdout",
     "output_type": "stream",
     "text": [
      "+------+-----+\n",
      "|userId|Churn|\n",
      "+------+-----+\n",
      "|    18|    1|\n",
      "|    32|    1|\n",
      "|   125|    1|\n",
      "|   105|    1|\n",
      "|    17|    1|\n",
      "|   143|    1|\n",
      "|   101|    1|\n",
      "|   129|    1|\n",
      "|   121|    1|\n",
      "|    51|    1|\n",
      "|    87|    1|\n",
      "|   122|    1|\n",
      "|    12|    1|\n",
      "|    58|    1|\n",
      "|    73|    1|\n",
      "|     3|    1|\n",
      "|   106|    1|\n",
      "|   103|    1|\n",
      "|    28|    1|\n",
      "|    54|    1|\n",
      "+------+-----+\n",
      "only showing top 20 rows\n",
      "\n"
     ]
    },
    {
     "name": "stderr",
     "output_type": "stream",
     "text": [
      "\r",
      "                                                                                \r"
     ]
    }
   ],
   "source": [
    "df.select([\"userId\", \"Churn\"]).where(df.Churn == 1 ).show()"
   ]
  },
  {
   "cell_type": "markdown",
   "id": "746545ac",
   "metadata": {},
   "source": [
    "As it can be seen in the last cell, the `Churn` column has been created with the assigned values of **1** and **0**."
   ]
  },
  {
   "cell_type": "code",
   "execution_count": 26,
   "id": "188f1aaa",
   "metadata": {},
   "outputs": [
    {
     "data": {
      "text/plain": [
       "<pyspark.sql.window.WindowSpec at 0x7fe0f7d10130>"
      ]
     },
     "execution_count": 26,
     "metadata": {},
     "output_type": "execute_result"
    }
   ],
   "source": [
    "windowval = Window.partitionBy(\"userId\").orderBy(desc(\"ts\")).rangeBetween(Window.unboundedPreceding, 0)\n",
    "windowval"
   ]
  },
  {
   "cell_type": "code",
   "execution_count": 27,
   "id": "c5f6b5e0",
   "metadata": {},
   "outputs": [
    {
     "name": "stderr",
     "output_type": "stream",
     "text": [
      "\r",
      "[Stage 37:>                                                         (0 + 4) / 4]\r"
     ]
    },
    {
     "name": "stdout",
     "output_type": "stream",
     "text": [
      "+--------------------+---------+---------+------+-------------+--------+---------+-----+--------------------+------+-----------+-------------+---------+--------------------+------+-------------+--------------------+------+-----+\n",
      "|              artist|     auth|firstName|gender|itemInSession|lastName|   length|level|            location|method|       page| registration|sessionId|                song|status|           ts|           userAgent|userId|churn|\n",
      "+--------------------+---------+---------+------+-------------+--------+---------+-----+--------------------+------+-----------+-------------+---------+--------------------+------+-------------+--------------------+------+-----+\n",
      "|                null|Logged In|  Bryanna|     F|           43|   Stone|     null| free|Los Angeles-Long ...|   PUT|     Logout|1537440271000|      201|                null|   307|1543335219000|Mozilla/5.0 (Maci...|100008|    0|\n",
      "|Bembeya Jazz Nati...|Logged In|  Bryanna|     F|           42|   Stone|245.99465| free|Los Angeles-Long ...|   PUT|   NextSong|1537440271000|      201|             Alalake|   200|1543335218000|Mozilla/5.0 (Maci...|100008|    0|\n",
      "|       Ralph Stanley|Logged In|  Bryanna|     F|           41|   Stone|199.57506| free|Los Angeles-Long ...|   PUT|   NextSong|1537440271000|      201|             O Death|   200|1543335019000|Mozilla/5.0 (Maci...|100008|    0|\n",
      "|   Brotha Lynch Hung|Logged In|  Bryanna|     F|           40|   Stone| 67.91791| free|Los Angeles-Long ...|   PUT|   NextSong|1537440271000|      201|              Q-Ball|   200|1543334952000|Mozilla/5.0 (Maci...|100008|    0|\n",
      "|           Everclear|Logged In|  Bryanna|     F|           39|   Stone|257.14893| free|Los Angeles-Long ...|   PUT|   NextSong|1537440271000|      201|Why I Don't Belie...|   200|1543334695000|Mozilla/5.0 (Maci...|100008|    0|\n",
      "|                Cake|Logged In|  Bryanna|     F|           38|   Stone|241.03138| free|Los Angeles-Long ...|   PUT|   NextSong|1537440271000|      201|       Frank Sinatra|   200|1543334454000|Mozilla/5.0 (Maci...|100008|    0|\n",
      "|     Yeah Yeah Yeahs|Logged In|  Bryanna|     F|           37|   Stone|302.05342| free|Los Angeles-Long ...|   PUT|   NextSong|1537440271000|      201|           Skeletons|   200|1543334152000|Mozilla/5.0 (Maci...|100008|    0|\n",
      "|       Laura Pausini|Logged In|  Bryanna|     F|           36|   Stone|259.99628| free|Los Angeles-Long ...|   PUT|   NextSong|1537440271000|      201|          Las Chicas|   200|1543333893000|Mozilla/5.0 (Maci...|100008|    0|\n",
      "|                null|Logged In|  Bryanna|     F|           35|   Stone|     null| free|Los Angeles-Long ...|   GET|Roll Advert|1537440271000|      201|                null|   200|1543333598000|Mozilla/5.0 (Maci...|100008|    0|\n",
      "|      DJ Paul Elstak|Logged In|  Bryanna|     F|           34|   Stone|324.98893| free|Los Angeles-Long ...|   PUT|   NextSong|1537440271000|      201|   The Promised Land|   200|1543333569000|Mozilla/5.0 (Maci...|100008|    0|\n",
      "|           Hombres G|Logged In|  Bryanna|     F|           33|   Stone|259.70893| free|Los Angeles-Long ...|   PUT|   NextSong|1537440271000|      201|Lo noto (version cd)|   200|1543333310000|Mozilla/5.0 (Maci...|100008|    0|\n",
      "|           Faithless|Logged In|  Bryanna|     F|           32|   Stone|433.44934| free|Los Angeles-Long ...|   PUT|   NextSong|1537440271000|      201|Take The Long Way...|   200|1543332877000|Mozilla/5.0 (Maci...|100008|    0|\n",
      "|       The Cardigans|Logged In|  Bryanna|     F|           31|   Stone|248.11057| free|Los Angeles-Long ...|   PUT|   NextSong|1537440271000|      201|  Junk Of The Hearts|   200|1543332629000|Mozilla/5.0 (Maci...|100008|    0|\n",
      "|                MGMT|Logged In|  Bryanna|     F|           30|   Stone|229.25016| free|Los Angeles-Long ...|   PUT|   NextSong|1537440271000|      201|       Electric Feel|   200|1543332400000|Mozilla/5.0 (Maci...|100008|    0|\n",
      "|                null|Logged In|  Bryanna|     F|           29|   Stone|     null| free|Los Angeles-Long ...|   GET|Roll Advert|1537440271000|      201|                null|   200|1543332182000|Mozilla/5.0 (Maci...|100008|    0|\n",
      "|            Old 97's|Logged In|  Bryanna|     F|           28|   Stone|231.28771| free|Los Angeles-Long ...|   PUT|   NextSong|1537440271000|      201|Victoria (LP Vers...|   200|1543332169000|Mozilla/5.0 (Maci...|100008|    0|\n",
      "|             Skillet|Logged In|  Bryanna|     F|           27|   Stone|178.02404| free|Los Angeles-Long ...|   PUT|   NextSong|1537440271000|      201|Monster (Album Ve...|   200|1543331991000|Mozilla/5.0 (Maci...|100008|    0|\n",
      "|            Hot Chip|Logged In|  Bryanna|     F|           26|   Stone| 280.0322| free|Los Angeles-Long ...|   PUT|   NextSong|1537440271000|      201|       I Feel Better|   200|1543331711000|Mozilla/5.0 (Maci...|100008|    0|\n",
      "|         David Bowie|Logged In|  Bryanna|     F|           25|   Stone|186.04363| free|Los Angeles-Long ...|   PUT|   NextSong|1537440271000|      201|Sound And Vision ...|   200|1543331525000|Mozilla/5.0 (Maci...|100008|    0|\n",
      "|          Tankcsapda|Logged In|  Bryanna|     F|           24|   Stone|328.54159| free|Los Angeles-Long ...|   PUT|   NextSong|1537440271000|      201|         HiÃÂ¡nyzol|   200|1543331197000|Mozilla/5.0 (Maci...|100008|    0|\n",
      "+--------------------+---------+---------+------+-------------+--------+---------+-----+--------------------+------+-----------+-------------+---------+--------------------+------+-------------+--------------------+------+-----+\n",
      "only showing top 20 rows\n",
      "\n"
     ]
    },
    {
     "name": "stderr",
     "output_type": "stream",
     "text": [
      "\r",
      "                                                                                \r"
     ]
    }
   ],
   "source": [
    "df = df.withColumn(\"churn\", Fsum(\"churn\").over(windowval))\n",
    "df.show()"
   ]
  },
  {
   "cell_type": "code",
   "execution_count": 28,
   "id": "0fa844e0",
   "metadata": {},
   "outputs": [
    {
     "name": "stderr",
     "output_type": "stream",
     "text": [
      "[Stage 42:>                                                         (0 + 1) / 1]\r"
     ]
    },
    {
     "name": "stdout",
     "output_type": "stream",
     "text": [
      "+-----+-----+\n",
      "|churn|count|\n",
      "+-----+-----+\n",
      "|    0|  173|\n",
      "|    1|   52|\n",
      "+-----+-----+\n",
      "\n"
     ]
    },
    {
     "name": "stderr",
     "output_type": "stream",
     "text": [
      "\r",
      "                                                                                \r"
     ]
    }
   ],
   "source": [
    "df_churn = df.select(['userId', 'churn']).dropDuplicates().groupBy('churn').count()\n",
    "df_churn.show()"
   ]
  },
  {
   "cell_type": "markdown",
   "id": "d12ba804",
   "metadata": {},
   "source": [
    "### EDA for Users that Stayed vs Users that Churned"
   ]
  },
  {
   "cell_type": "markdown",
   "id": "a01a81e2",
   "metadata": {},
   "source": [
    "Now we can examine behaviour of those who churned vs those who did not churn. First we will visualise those who churned vs those who stayed."
   ]
  },
  {
   "cell_type": "code",
   "execution_count": 29,
   "id": "cc832406",
   "metadata": {},
   "outputs": [
    {
     "name": "stderr",
     "output_type": "stream",
     "text": [
      "                                                                                \r"
     ]
    },
    {
     "data": {
      "text/html": [
       "<div>\n",
       "<style scoped>\n",
       "    .dataframe tbody tr th:only-of-type {\n",
       "        vertical-align: middle;\n",
       "    }\n",
       "\n",
       "    .dataframe tbody tr th {\n",
       "        vertical-align: top;\n",
       "    }\n",
       "\n",
       "    .dataframe thead th {\n",
       "        text-align: right;\n",
       "    }\n",
       "</style>\n",
       "<table border=\"1\" class=\"dataframe\">\n",
       "  <thead>\n",
       "    <tr style=\"text-align: right;\">\n",
       "      <th></th>\n",
       "      <th>churn</th>\n",
       "      <th>count</th>\n",
       "    </tr>\n",
       "  </thead>\n",
       "  <tbody>\n",
       "    <tr>\n",
       "      <th>0</th>\n",
       "      <td>0</td>\n",
       "      <td>173</td>\n",
       "    </tr>\n",
       "    <tr>\n",
       "      <th>1</th>\n",
       "      <td>1</td>\n",
       "      <td>52</td>\n",
       "    </tr>\n",
       "  </tbody>\n",
       "</table>\n",
       "</div>"
      ],
      "text/plain": [
       "   churn  count\n",
       "0      0    173\n",
       "1      1     52"
      ]
     },
     "execution_count": 29,
     "metadata": {},
     "output_type": "execute_result"
    }
   ],
   "source": [
    "# convert dataframe to pandas for visualisation\n",
    "df_churn = df_churn.toPandas()\n",
    "df_churn"
   ]
  },
  {
   "cell_type": "code",
   "execution_count": 30,
   "id": "4916df08",
   "metadata": {},
   "outputs": [
    {
     "data": {
      "image/png": "[encoded data removed]",
      "text/plain": [
       "<Figure size 576x432 with 1 Axes>"
      ]
     },
     "metadata": {},
     "output_type": "display_data"
    }
   ],
   "source": [
    "# plotting the number of churned users\n",
    "plt.figure(figsize = [8,6])\n",
    "ax = sns.barplot(data = df_churn, x = 'churn', y='count')\n",
    "plt.title(\"Numbers of Users That Churned\");"
   ]
  },
  {
   "cell_type": "code",
   "execution_count": 31,
   "id": "281aac69",
   "metadata": {},
   "outputs": [
    {
     "data": {
      "text/plain": [
       "23.11111111111111"
      ]
     },
     "execution_count": 31,
     "metadata": {},
     "output_type": "execute_result"
    }
   ],
   "source": [
    "# churned rate calculation\n",
    "52/(173+52) * 100"
   ]
  },
  {
   "cell_type": "markdown",
   "id": "72352b63",
   "metadata": {},
   "source": [
    "From the above, we can see that **173** users stayed while **52** users churned. Therefore this means that **23%** of our users churned. It is important to note moving forward that this is an imbalance."
   ]
  },
  {
   "cell_type": "markdown",
   "id": "38c6d7dc",
   "metadata": {},
   "source": [
    "### Length of time: Users that Churned vs. Users that Stayed"
   ]
  },
  {
   "cell_type": "markdown",
   "id": "b02ecef8",
   "metadata": {},
   "source": [
    "We can now look at the length distribution for customers who stayed and those which churned. "
   ]
  },
  {
   "cell_type": "code",
   "execution_count": 32,
   "id": "bee2c31c",
   "metadata": {},
   "outputs": [
    {
     "name": "stderr",
     "output_type": "stream",
     "text": [
      "[Stage 52:==============>                                           (1 + 3) / 4]\r"
     ]
    },
    {
     "name": "stdout",
     "output_type": "stream",
     "text": [
      "+------+---------+---------+------+-------------+--------+------+-----+--------------------+------+--------------------+-------------+---------+----+------+-------------+--------------------+------+-----+\n",
      "|artist|     auth|firstName|gender|itemInSession|lastName|length|level|            location|method|                page| registration|sessionId|song|status|           ts|           userAgent|userId|churn|\n",
      "+------+---------+---------+------+-------------+--------+------+-----+--------------------+------+--------------------+-------------+---------+----+------+-------------+--------------------+------+-----+\n",
      "|  null|Cancelled|  Rodrigo|     M|           73|   Carey|  null| paid|New York-Newark-J...|   GET|Cancellation Conf...|1535389443000|      185|null|   200|1542740649000|\"Mozilla/5.0 (Win...|100014|    1|\n",
      "+------+---------+---------+------+-------------+--------+------+-----+--------------------+------+--------------------+-------------+---------+----+------+-------------+--------------------+------+-----+\n",
      "only showing top 1 row\n",
      "\n"
     ]
    },
    {
     "name": "stderr",
     "output_type": "stream",
     "text": [
      "\r",
      "                                                                                \r"
     ]
    }
   ],
   "source": [
    "# the customers who churned (sample)\n",
    "df_len = df.filter(df.churn ==1)\n",
    "df_len.show(1)"
   ]
  },
  {
   "cell_type": "code",
   "execution_count": 33,
   "id": "52d47aa7",
   "metadata": {},
   "outputs": [
    {
     "name": "stderr",
     "output_type": "stream",
     "text": [
      "                                                                                \r"
     ]
    },
    {
     "data": {
      "text/html": [
       "<div>\n",
       "<style scoped>\n",
       "    .dataframe tbody tr th:only-of-type {\n",
       "        vertical-align: middle;\n",
       "    }\n",
       "\n",
       "    .dataframe tbody tr th {\n",
       "        vertical-align: top;\n",
       "    }\n",
       "\n",
       "    .dataframe thead th {\n",
       "        text-align: right;\n",
       "    }\n",
       "</style>\n",
       "<table border=\"1\" class=\"dataframe\">\n",
       "  <thead>\n",
       "    <tr style=\"text-align: right;\">\n",
       "      <th></th>\n",
       "      <th>artist</th>\n",
       "      <th>auth</th>\n",
       "      <th>firstName</th>\n",
       "      <th>gender</th>\n",
       "      <th>itemInSession</th>\n",
       "      <th>lastName</th>\n",
       "      <th>length</th>\n",
       "      <th>level</th>\n",
       "      <th>location</th>\n",
       "      <th>method</th>\n",
       "      <th>page</th>\n",
       "      <th>registration</th>\n",
       "      <th>sessionId</th>\n",
       "      <th>song</th>\n",
       "      <th>status</th>\n",
       "      <th>ts</th>\n",
       "      <th>userAgent</th>\n",
       "      <th>userId</th>\n",
       "      <th>churn</th>\n",
       "    </tr>\n",
       "  </thead>\n",
       "  <tbody>\n",
       "    <tr>\n",
       "      <th>0</th>\n",
       "      <td>None</td>\n",
       "      <td>Cancelled</td>\n",
       "      <td>Rodrigo</td>\n",
       "      <td>M</td>\n",
       "      <td>73</td>\n",
       "      <td>Carey</td>\n",
       "      <td>NaN</td>\n",
       "      <td>paid</td>\n",
       "      <td>New York-Newark-Jersey City, NY-NJ-PA</td>\n",
       "      <td>GET</td>\n",
       "      <td>Cancellation Confirmation</td>\n",
       "      <td>1535389443000</td>\n",
       "      <td>185</td>\n",
       "      <td>None</td>\n",
       "      <td>200</td>\n",
       "      <td>1542740649000</td>\n",
       "      <td>\"Mozilla/5.0 (Windows NT 6.1; WOW64) AppleWebK...</td>\n",
       "      <td>100014</td>\n",
       "      <td>1</td>\n",
       "    </tr>\n",
       "    <tr>\n",
       "      <th>1</th>\n",
       "      <td>None</td>\n",
       "      <td>Logged In</td>\n",
       "      <td>Rodrigo</td>\n",
       "      <td>M</td>\n",
       "      <td>72</td>\n",
       "      <td>Carey</td>\n",
       "      <td>NaN</td>\n",
       "      <td>paid</td>\n",
       "      <td>New York-Newark-Jersey City, NY-NJ-PA</td>\n",
       "      <td>PUT</td>\n",
       "      <td>Cancel</td>\n",
       "      <td>1535389443000</td>\n",
       "      <td>185</td>\n",
       "      <td>None</td>\n",
       "      <td>307</td>\n",
       "      <td>1542740642000</td>\n",
       "      <td>\"Mozilla/5.0 (Windows NT 6.1; WOW64) AppleWebK...</td>\n",
       "      <td>100014</td>\n",
       "      <td>1</td>\n",
       "    </tr>\n",
       "    <tr>\n",
       "      <th>2</th>\n",
       "      <td>None</td>\n",
       "      <td>Logged In</td>\n",
       "      <td>Rodrigo</td>\n",
       "      <td>M</td>\n",
       "      <td>71</td>\n",
       "      <td>Carey</td>\n",
       "      <td>NaN</td>\n",
       "      <td>paid</td>\n",
       "      <td>New York-Newark-Jersey City, NY-NJ-PA</td>\n",
       "      <td>GET</td>\n",
       "      <td>Downgrade</td>\n",
       "      <td>1535389443000</td>\n",
       "      <td>185</td>\n",
       "      <td>None</td>\n",
       "      <td>200</td>\n",
       "      <td>1542740641000</td>\n",
       "      <td>\"Mozilla/5.0 (Windows NT 6.1; WOW64) AppleWebK...</td>\n",
       "      <td>100014</td>\n",
       "      <td>1</td>\n",
       "    </tr>\n",
       "    <tr>\n",
       "      <th>3</th>\n",
       "      <td>CREMATORY</td>\n",
       "      <td>Logged In</td>\n",
       "      <td>Rodrigo</td>\n",
       "      <td>M</td>\n",
       "      <td>70</td>\n",
       "      <td>Carey</td>\n",
       "      <td>247.48363</td>\n",
       "      <td>paid</td>\n",
       "      <td>New York-Newark-Jersey City, NY-NJ-PA</td>\n",
       "      <td>PUT</td>\n",
       "      <td>NextSong</td>\n",
       "      <td>1535389443000</td>\n",
       "      <td>185</td>\n",
       "      <td>Hoffnungen</td>\n",
       "      <td>200</td>\n",
       "      <td>1542740628000</td>\n",
       "      <td>\"Mozilla/5.0 (Windows NT 6.1; WOW64) AppleWebK...</td>\n",
       "      <td>100014</td>\n",
       "      <td>1</td>\n",
       "    </tr>\n",
       "    <tr>\n",
       "      <th>4</th>\n",
       "      <td>Kaskade</td>\n",
       "      <td>Logged In</td>\n",
       "      <td>Rodrigo</td>\n",
       "      <td>M</td>\n",
       "      <td>69</td>\n",
       "      <td>Carey</td>\n",
       "      <td>276.03546</td>\n",
       "      <td>paid</td>\n",
       "      <td>New York-Newark-Jersey City, NY-NJ-PA</td>\n",
       "      <td>PUT</td>\n",
       "      <td>NextSong</td>\n",
       "      <td>1535389443000</td>\n",
       "      <td>185</td>\n",
       "      <td>Sorry</td>\n",
       "      <td>200</td>\n",
       "      <td>1542740352000</td>\n",
       "      <td>\"Mozilla/5.0 (Windows NT 6.1; WOW64) AppleWebK...</td>\n",
       "      <td>100014</td>\n",
       "      <td>1</td>\n",
       "    </tr>\n",
       "    <tr>\n",
       "      <th>...</th>\n",
       "      <td>...</td>\n",
       "      <td>...</td>\n",
       "      <td>...</td>\n",
       "      <td>...</td>\n",
       "      <td>...</td>\n",
       "      <td>...</td>\n",
       "      <td>...</td>\n",
       "      <td>...</td>\n",
       "      <td>...</td>\n",
       "      <td>...</td>\n",
       "      <td>...</td>\n",
       "      <td>...</td>\n",
       "      <td>...</td>\n",
       "      <td>...</td>\n",
       "      <td>...</td>\n",
       "      <td>...</td>\n",
       "      <td>...</td>\n",
       "      <td>...</td>\n",
       "      <td>...</td>\n",
       "    </tr>\n",
       "    <tr>\n",
       "      <th>44859</th>\n",
       "      <td>Pompeii</td>\n",
       "      <td>Logged In</td>\n",
       "      <td>Liliana</td>\n",
       "      <td>F</td>\n",
       "      <td>4</td>\n",
       "      <td>Owen</td>\n",
       "      <td>301.60934</td>\n",
       "      <td>free</td>\n",
       "      <td>Detroit-Warren-Dearborn, MI</td>\n",
       "      <td>PUT</td>\n",
       "      <td>NextSong</td>\n",
       "      <td>1535032914000</td>\n",
       "      <td>21</td>\n",
       "      <td>Until You're Floating</td>\n",
       "      <td>200</td>\n",
       "      <td>1538586748000</td>\n",
       "      <td>Mozilla/5.0 (Macintosh; Intel Mac OS X 10.7; r...</td>\n",
       "      <td>200021</td>\n",
       "      <td>1</td>\n",
       "    </tr>\n",
       "    <tr>\n",
       "      <th>44860</th>\n",
       "      <td>None</td>\n",
       "      <td>Logged In</td>\n",
       "      <td>Liliana</td>\n",
       "      <td>F</td>\n",
       "      <td>3</td>\n",
       "      <td>Owen</td>\n",
       "      <td>NaN</td>\n",
       "      <td>free</td>\n",
       "      <td>Detroit-Warren-Dearborn, MI</td>\n",
       "      <td>PUT</td>\n",
       "      <td>Thumbs Down</td>\n",
       "      <td>1535032914000</td>\n",
       "      <td>21</td>\n",
       "      <td>None</td>\n",
       "      <td>307</td>\n",
       "      <td>1538586473000</td>\n",
       "      <td>Mozilla/5.0 (Macintosh; Intel Mac OS X 10.7; r...</td>\n",
       "      <td>200021</td>\n",
       "      <td>1</td>\n",
       "    </tr>\n",
       "    <tr>\n",
       "      <th>44861</th>\n",
       "      <td>Blackalicious</td>\n",
       "      <td>Logged In</td>\n",
       "      <td>Liliana</td>\n",
       "      <td>F</td>\n",
       "      <td>2</td>\n",
       "      <td>Owen</td>\n",
       "      <td>276.84526</td>\n",
       "      <td>free</td>\n",
       "      <td>Detroit-Warren-Dearborn, MI</td>\n",
       "      <td>PUT</td>\n",
       "      <td>NextSong</td>\n",
       "      <td>1535032914000</td>\n",
       "      <td>21</td>\n",
       "      <td>Side To Side (Featuring Lateef &amp; Pigeon John) ...</td>\n",
       "      <td>200</td>\n",
       "      <td>1538586472000</td>\n",
       "      <td>Mozilla/5.0 (Macintosh; Intel Mac OS X 10.7; r...</td>\n",
       "      <td>200021</td>\n",
       "      <td>1</td>\n",
       "    </tr>\n",
       "    <tr>\n",
       "      <th>44862</th>\n",
       "      <td>R.I.O.</td>\n",
       "      <td>Logged In</td>\n",
       "      <td>Liliana</td>\n",
       "      <td>F</td>\n",
       "      <td>1</td>\n",
       "      <td>Owen</td>\n",
       "      <td>217.12934</td>\n",
       "      <td>free</td>\n",
       "      <td>Detroit-Warren-Dearborn, MI</td>\n",
       "      <td>PUT</td>\n",
       "      <td>NextSong</td>\n",
       "      <td>1535032914000</td>\n",
       "      <td>21</td>\n",
       "      <td>When The Sun Comes Down</td>\n",
       "      <td>200</td>\n",
       "      <td>1538586255000</td>\n",
       "      <td>Mozilla/5.0 (Macintosh; Intel Mac OS X 10.7; r...</td>\n",
       "      <td>200021</td>\n",
       "      <td>1</td>\n",
       "    </tr>\n",
       "    <tr>\n",
       "      <th>44863</th>\n",
       "      <td>Tracy Chapman</td>\n",
       "      <td>Logged In</td>\n",
       "      <td>Liliana</td>\n",
       "      <td>F</td>\n",
       "      <td>0</td>\n",
       "      <td>Owen</td>\n",
       "      <td>296.07138</td>\n",
       "      <td>free</td>\n",
       "      <td>Detroit-Warren-Dearborn, MI</td>\n",
       "      <td>PUT</td>\n",
       "      <td>NextSong</td>\n",
       "      <td>1535032914000</td>\n",
       "      <td>21</td>\n",
       "      <td>Fast Car (LP Version)</td>\n",
       "      <td>200</td>\n",
       "      <td>1538585959000</td>\n",
       "      <td>Mozilla/5.0 (Macintosh; Intel Mac OS X 10.7; r...</td>\n",
       "      <td>200021</td>\n",
       "      <td>1</td>\n",
       "    </tr>\n",
       "  </tbody>\n",
       "</table>\n",
       "<p>44864 rows × 19 columns</p>\n",
       "</div>"
      ],
      "text/plain": [
       "              artist       auth firstName gender  itemInSession lastName  \\\n",
       "0               None  Cancelled   Rodrigo      M             73    Carey   \n",
       "1               None  Logged In   Rodrigo      M             72    Carey   \n",
       "2               None  Logged In   Rodrigo      M             71    Carey   \n",
       "3          CREMATORY  Logged In   Rodrigo      M             70    Carey   \n",
       "4            Kaskade  Logged In   Rodrigo      M             69    Carey   \n",
       "...              ...        ...       ...    ...            ...      ...   \n",
       "44859        Pompeii  Logged In   Liliana      F              4     Owen   \n",
       "44860           None  Logged In   Liliana      F              3     Owen   \n",
       "44861  Blackalicious  Logged In   Liliana      F              2     Owen   \n",
       "44862         R.I.O.  Logged In   Liliana      F              1     Owen   \n",
       "44863  Tracy Chapman  Logged In   Liliana      F              0     Owen   \n",
       "\n",
       "          length level                               location method  \\\n",
       "0            NaN  paid  New York-Newark-Jersey City, NY-NJ-PA    GET   \n",
       "1            NaN  paid  New York-Newark-Jersey City, NY-NJ-PA    PUT   \n",
       "2            NaN  paid  New York-Newark-Jersey City, NY-NJ-PA    GET   \n",
       "3      247.48363  paid  New York-Newark-Jersey City, NY-NJ-PA    PUT   \n",
       "4      276.03546  paid  New York-Newark-Jersey City, NY-NJ-PA    PUT   \n",
       "...          ...   ...                                    ...    ...   \n",
       "44859  301.60934  free            Detroit-Warren-Dearborn, MI    PUT   \n",
       "44860        NaN  free            Detroit-Warren-Dearborn, MI    PUT   \n",
       "44861  276.84526  free            Detroit-Warren-Dearborn, MI    PUT   \n",
       "44862  217.12934  free            Detroit-Warren-Dearborn, MI    PUT   \n",
       "44863  296.07138  free            Detroit-Warren-Dearborn, MI    PUT   \n",
       "\n",
       "                            page   registration  sessionId  \\\n",
       "0      Cancellation Confirmation  1535389443000        185   \n",
       "1                         Cancel  1535389443000        185   \n",
       "2                      Downgrade  1535389443000        185   \n",
       "3                       NextSong  1535389443000        185   \n",
       "4                       NextSong  1535389443000        185   \n",
       "...                          ...            ...        ...   \n",
       "44859                   NextSong  1535032914000         21   \n",
       "44860                Thumbs Down  1535032914000         21   \n",
       "44861                   NextSong  1535032914000         21   \n",
       "44862                   NextSong  1535032914000         21   \n",
       "44863                   NextSong  1535032914000         21   \n",
       "\n",
       "                                                    song  status  \\\n",
       "0                                                   None     200   \n",
       "1                                                   None     307   \n",
       "2                                                   None     200   \n",
       "3                                             Hoffnungen     200   \n",
       "4                                                  Sorry     200   \n",
       "...                                                  ...     ...   \n",
       "44859                              Until You're Floating     200   \n",
       "44860                                               None     307   \n",
       "44861  Side To Side (Featuring Lateef & Pigeon John) ...     200   \n",
       "44862                            When The Sun Comes Down     200   \n",
       "44863                              Fast Car (LP Version)     200   \n",
       "\n",
       "                  ts                                          userAgent  \\\n",
       "0      1542740649000  \"Mozilla/5.0 (Windows NT 6.1; WOW64) AppleWebK...   \n",
       "1      1542740642000  \"Mozilla/5.0 (Windows NT 6.1; WOW64) AppleWebK...   \n",
       "2      1542740641000  \"Mozilla/5.0 (Windows NT 6.1; WOW64) AppleWebK...   \n",
       "3      1542740628000  \"Mozilla/5.0 (Windows NT 6.1; WOW64) AppleWebK...   \n",
       "4      1542740352000  \"Mozilla/5.0 (Windows NT 6.1; WOW64) AppleWebK...   \n",
       "...              ...                                                ...   \n",
       "44859  1538586748000  Mozilla/5.0 (Macintosh; Intel Mac OS X 10.7; r...   \n",
       "44860  1538586473000  Mozilla/5.0 (Macintosh; Intel Mac OS X 10.7; r...   \n",
       "44861  1538586472000  Mozilla/5.0 (Macintosh; Intel Mac OS X 10.7; r...   \n",
       "44862  1538586255000  Mozilla/5.0 (Macintosh; Intel Mac OS X 10.7; r...   \n",
       "44863  1538585959000  Mozilla/5.0 (Macintosh; Intel Mac OS X 10.7; r...   \n",
       "\n",
       "       userId  churn  \n",
       "0      100014      1  \n",
       "1      100014      1  \n",
       "2      100014      1  \n",
       "3      100014      1  \n",
       "4      100014      1  \n",
       "...       ...    ...  \n",
       "44859  200021      1  \n",
       "44860  200021      1  \n",
       "44861  200021      1  \n",
       "44862  200021      1  \n",
       "44863  200021      1  \n",
       "\n",
       "[44864 rows x 19 columns]"
      ]
     },
     "execution_count": 33,
     "metadata": {},
     "output_type": "execute_result"
    }
   ],
   "source": [
    "# convert to pandas\n",
    "df_pd = df_len.toPandas()\n",
    "df_pd"
   ]
  },
  {
   "cell_type": "code",
   "execution_count": 34,
   "id": "10b85bcd",
   "metadata": {},
   "outputs": [],
   "source": [
    "# drop the nulls\n",
    "df_pd.length.dropna(inplace=True)"
   ]
  },
  {
   "cell_type": "code",
   "execution_count": 35,
   "id": "bdb42a2c",
   "metadata": {},
   "outputs": [
    {
     "data": {
      "image/png": "[encoded data removed]",
      "text/plain": [
       "<Figure size 432x288 with 1 Axes>"
      ]
     },
     "metadata": {},
     "output_type": "display_data"
    }
   ],
   "source": [
    "# plot the distribution\n",
    "bin_edges = np.arange (7, df_pd['length'].max()+25, 25)\n",
    "plt.hist(data = df_pd, x = 'length', bins = bin_edges)\n",
    "plt.xlim(0,700)\n",
    "plt.xlabel('Length')\n",
    "plt.ylabel('Frequency');"
   ]
  },
  {
   "cell_type": "code",
   "execution_count": 36,
   "id": "e8fdff1e",
   "metadata": {},
   "outputs": [
    {
     "name": "stderr",
     "output_type": "stream",
     "text": [
      "[Stage 58:==============>                                           (1 + 3) / 4]\r"
     ]
    },
    {
     "name": "stdout",
     "output_type": "stream",
     "text": [
      "+------+---------+---------+------+-------------+--------+------+-----+--------------------+------+------+-------------+---------+----+------+-------------+--------------------+------+-----+\n",
      "|artist|     auth|firstName|gender|itemInSession|lastName|length|level|            location|method|  page| registration|sessionId|song|status|           ts|           userAgent|userId|churn|\n",
      "+------+---------+---------+------+-------------+--------+------+-----+--------------------+------+------+-------------+---------+----+------+-------------+--------------------+------+-----+\n",
      "|  null|Logged In|  Bryanna|     F|           43|   Stone|  null| free|Los Angeles-Long ...|   PUT|Logout|1537440271000|      201|null|   307|1543335219000|Mozilla/5.0 (Maci...|100008|    0|\n",
      "+------+---------+---------+------+-------------+--------+------+-----+--------------------+------+------+-------------+---------+----+------+-------------+--------------------+------+-----+\n",
      "only showing top 1 row\n",
      "\n"
     ]
    },
    {
     "name": "stderr",
     "output_type": "stream",
     "text": [
      "\r",
      "                                                                                \r"
     ]
    }
   ],
   "source": [
    "# the customers who didn't churn (sample)\n",
    "df_len_stay = df.filter(df.churn ==0)\n",
    "df_len_stay.show(1)"
   ]
  },
  {
   "cell_type": "code",
   "execution_count": 37,
   "id": "699bf52d",
   "metadata": {},
   "outputs": [
    {
     "name": "stderr",
     "output_type": "stream",
     "text": [
      "                                                                                \r"
     ]
    },
    {
     "data": {
      "text/html": [
       "<div>\n",
       "<style scoped>\n",
       "    .dataframe tbody tr th:only-of-type {\n",
       "        vertical-align: middle;\n",
       "    }\n",
       "\n",
       "    .dataframe tbody tr th {\n",
       "        vertical-align: top;\n",
       "    }\n",
       "\n",
       "    .dataframe thead th {\n",
       "        text-align: right;\n",
       "    }\n",
       "</style>\n",
       "<table border=\"1\" class=\"dataframe\">\n",
       "  <thead>\n",
       "    <tr style=\"text-align: right;\">\n",
       "      <th></th>\n",
       "      <th>artist</th>\n",
       "      <th>auth</th>\n",
       "      <th>firstName</th>\n",
       "      <th>gender</th>\n",
       "      <th>itemInSession</th>\n",
       "      <th>lastName</th>\n",
       "      <th>length</th>\n",
       "      <th>level</th>\n",
       "      <th>location</th>\n",
       "      <th>method</th>\n",
       "      <th>page</th>\n",
       "      <th>registration</th>\n",
       "      <th>sessionId</th>\n",
       "      <th>song</th>\n",
       "      <th>status</th>\n",
       "      <th>ts</th>\n",
       "      <th>userAgent</th>\n",
       "      <th>userId</th>\n",
       "      <th>churn</th>\n",
       "    </tr>\n",
       "  </thead>\n",
       "  <tbody>\n",
       "    <tr>\n",
       "      <th>0</th>\n",
       "      <td>None</td>\n",
       "      <td>Logged In</td>\n",
       "      <td>Bryanna</td>\n",
       "      <td>F</td>\n",
       "      <td>43</td>\n",
       "      <td>Stone</td>\n",
       "      <td>NaN</td>\n",
       "      <td>free</td>\n",
       "      <td>Los Angeles-Long Beach-Anaheim, CA</td>\n",
       "      <td>PUT</td>\n",
       "      <td>Logout</td>\n",
       "      <td>1537440271000</td>\n",
       "      <td>201</td>\n",
       "      <td>None</td>\n",
       "      <td>307</td>\n",
       "      <td>1543335219000</td>\n",
       "      <td>Mozilla/5.0 (Macintosh; Intel Mac OS X 10.7; r...</td>\n",
       "      <td>100008</td>\n",
       "      <td>0</td>\n",
       "    </tr>\n",
       "    <tr>\n",
       "      <th>1</th>\n",
       "      <td>Bembeya Jazz National</td>\n",
       "      <td>Logged In</td>\n",
       "      <td>Bryanna</td>\n",
       "      <td>F</td>\n",
       "      <td>42</td>\n",
       "      <td>Stone</td>\n",
       "      <td>245.99465</td>\n",
       "      <td>free</td>\n",
       "      <td>Los Angeles-Long Beach-Anaheim, CA</td>\n",
       "      <td>PUT</td>\n",
       "      <td>NextSong</td>\n",
       "      <td>1537440271000</td>\n",
       "      <td>201</td>\n",
       "      <td>Alalake</td>\n",
       "      <td>200</td>\n",
       "      <td>1543335218000</td>\n",
       "      <td>Mozilla/5.0 (Macintosh; Intel Mac OS X 10.7; r...</td>\n",
       "      <td>100008</td>\n",
       "      <td>0</td>\n",
       "    </tr>\n",
       "    <tr>\n",
       "      <th>2</th>\n",
       "      <td>Ralph Stanley</td>\n",
       "      <td>Logged In</td>\n",
       "      <td>Bryanna</td>\n",
       "      <td>F</td>\n",
       "      <td>41</td>\n",
       "      <td>Stone</td>\n",
       "      <td>199.57506</td>\n",
       "      <td>free</td>\n",
       "      <td>Los Angeles-Long Beach-Anaheim, CA</td>\n",
       "      <td>PUT</td>\n",
       "      <td>NextSong</td>\n",
       "      <td>1537440271000</td>\n",
       "      <td>201</td>\n",
       "      <td>O Death</td>\n",
       "      <td>200</td>\n",
       "      <td>1543335019000</td>\n",
       "      <td>Mozilla/5.0 (Macintosh; Intel Mac OS X 10.7; r...</td>\n",
       "      <td>100008</td>\n",
       "      <td>0</td>\n",
       "    </tr>\n",
       "    <tr>\n",
       "      <th>3</th>\n",
       "      <td>Brotha Lynch Hung</td>\n",
       "      <td>Logged In</td>\n",
       "      <td>Bryanna</td>\n",
       "      <td>F</td>\n",
       "      <td>40</td>\n",
       "      <td>Stone</td>\n",
       "      <td>67.91791</td>\n",
       "      <td>free</td>\n",
       "      <td>Los Angeles-Long Beach-Anaheim, CA</td>\n",
       "      <td>PUT</td>\n",
       "      <td>NextSong</td>\n",
       "      <td>1537440271000</td>\n",
       "      <td>201</td>\n",
       "      <td>Q-Ball</td>\n",
       "      <td>200</td>\n",
       "      <td>1543334952000</td>\n",
       "      <td>Mozilla/5.0 (Macintosh; Intel Mac OS X 10.7; r...</td>\n",
       "      <td>100008</td>\n",
       "      <td>0</td>\n",
       "    </tr>\n",
       "    <tr>\n",
       "      <th>4</th>\n",
       "      <td>Everclear</td>\n",
       "      <td>Logged In</td>\n",
       "      <td>Bryanna</td>\n",
       "      <td>F</td>\n",
       "      <td>39</td>\n",
       "      <td>Stone</td>\n",
       "      <td>257.14893</td>\n",
       "      <td>free</td>\n",
       "      <td>Los Angeles-Long Beach-Anaheim, CA</td>\n",
       "      <td>PUT</td>\n",
       "      <td>NextSong</td>\n",
       "      <td>1537440271000</td>\n",
       "      <td>201</td>\n",
       "      <td>Why I Don't Believe In God</td>\n",
       "      <td>200</td>\n",
       "      <td>1543334695000</td>\n",
       "      <td>Mozilla/5.0 (Macintosh; Intel Mac OS X 10.7; r...</td>\n",
       "      <td>100008</td>\n",
       "      <td>0</td>\n",
       "    </tr>\n",
       "    <tr>\n",
       "      <th>...</th>\n",
       "      <td>...</td>\n",
       "      <td>...</td>\n",
       "      <td>...</td>\n",
       "      <td>...</td>\n",
       "      <td>...</td>\n",
       "      <td>...</td>\n",
       "      <td>...</td>\n",
       "      <td>...</td>\n",
       "      <td>...</td>\n",
       "      <td>...</td>\n",
       "      <td>...</td>\n",
       "      <td>...</td>\n",
       "      <td>...</td>\n",
       "      <td>...</td>\n",
       "      <td>...</td>\n",
       "      <td>...</td>\n",
       "      <td>...</td>\n",
       "      <td>...</td>\n",
       "      <td>...</td>\n",
       "    </tr>\n",
       "    <tr>\n",
       "      <th>233285</th>\n",
       "      <td>Kaizers Orchestra</td>\n",
       "      <td>Logged In</td>\n",
       "      <td>Ellen</td>\n",
       "      <td>F</td>\n",
       "      <td>5</td>\n",
       "      <td>Romero</td>\n",
       "      <td>224.99220</td>\n",
       "      <td>free</td>\n",
       "      <td>Omaha-Council Bluffs, NE-IA</td>\n",
       "      <td>PUT</td>\n",
       "      <td>NextSong</td>\n",
       "      <td>1531350022000</td>\n",
       "      <td>192</td>\n",
       "      <td>Christiania</td>\n",
       "      <td>200</td>\n",
       "      <td>1538413499000</td>\n",
       "      <td>\"Mozilla/5.0 (Windows NT 6.2; WOW64) AppleWebK...</td>\n",
       "      <td>94</td>\n",
       "      <td>0</td>\n",
       "    </tr>\n",
       "    <tr>\n",
       "      <th>233286</th>\n",
       "      <td>Arcade Fire</td>\n",
       "      <td>Logged In</td>\n",
       "      <td>Ellen</td>\n",
       "      <td>F</td>\n",
       "      <td>4</td>\n",
       "      <td>Romero</td>\n",
       "      <td>234.05669</td>\n",
       "      <td>free</td>\n",
       "      <td>Omaha-Council Bluffs, NE-IA</td>\n",
       "      <td>PUT</td>\n",
       "      <td>NextSong</td>\n",
       "      <td>1531350022000</td>\n",
       "      <td>192</td>\n",
       "      <td>Brazil</td>\n",
       "      <td>200</td>\n",
       "      <td>1538413265000</td>\n",
       "      <td>\"Mozilla/5.0 (Windows NT 6.2; WOW64) AppleWebK...</td>\n",
       "      <td>94</td>\n",
       "      <td>0</td>\n",
       "    </tr>\n",
       "    <tr>\n",
       "      <th>233287</th>\n",
       "      <td>None</td>\n",
       "      <td>Logged In</td>\n",
       "      <td>Ellen</td>\n",
       "      <td>F</td>\n",
       "      <td>3</td>\n",
       "      <td>Romero</td>\n",
       "      <td>NaN</td>\n",
       "      <td>free</td>\n",
       "      <td>Omaha-Council Bluffs, NE-IA</td>\n",
       "      <td>GET</td>\n",
       "      <td>Roll Advert</td>\n",
       "      <td>1531350022000</td>\n",
       "      <td>192</td>\n",
       "      <td>None</td>\n",
       "      <td>200</td>\n",
       "      <td>1538413054000</td>\n",
       "      <td>\"Mozilla/5.0 (Windows NT 6.2; WOW64) AppleWebK...</td>\n",
       "      <td>94</td>\n",
       "      <td>0</td>\n",
       "    </tr>\n",
       "    <tr>\n",
       "      <th>233288</th>\n",
       "      <td>Alliance Ethnik</td>\n",
       "      <td>Logged In</td>\n",
       "      <td>Ellen</td>\n",
       "      <td>F</td>\n",
       "      <td>2</td>\n",
       "      <td>Romero</td>\n",
       "      <td>252.21179</td>\n",
       "      <td>free</td>\n",
       "      <td>Omaha-Council Bluffs, NE-IA</td>\n",
       "      <td>PUT</td>\n",
       "      <td>NextSong</td>\n",
       "      <td>1531350022000</td>\n",
       "      <td>192</td>\n",
       "      <td>ReprÃÂ©sente</td>\n",
       "      <td>200</td>\n",
       "      <td>1538413013000</td>\n",
       "      <td>\"Mozilla/5.0 (Windows NT 6.2; WOW64) AppleWebK...</td>\n",
       "      <td>94</td>\n",
       "      <td>0</td>\n",
       "    </tr>\n",
       "    <tr>\n",
       "      <th>233289</th>\n",
       "      <td>None</td>\n",
       "      <td>Logged In</td>\n",
       "      <td>Ellen</td>\n",
       "      <td>F</td>\n",
       "      <td>1</td>\n",
       "      <td>Romero</td>\n",
       "      <td>NaN</td>\n",
       "      <td>free</td>\n",
       "      <td>Omaha-Council Bluffs, NE-IA</td>\n",
       "      <td>GET</td>\n",
       "      <td>Home</td>\n",
       "      <td>1531350022000</td>\n",
       "      <td>192</td>\n",
       "      <td>None</td>\n",
       "      <td>200</td>\n",
       "      <td>1538412924000</td>\n",
       "      <td>\"Mozilla/5.0 (Windows NT 6.2; WOW64) AppleWebK...</td>\n",
       "      <td>94</td>\n",
       "      <td>0</td>\n",
       "    </tr>\n",
       "  </tbody>\n",
       "</table>\n",
       "<p>233290 rows × 19 columns</p>\n",
       "</div>"
      ],
      "text/plain": [
       "                       artist       auth firstName gender  itemInSession  \\\n",
       "0                        None  Logged In   Bryanna      F             43   \n",
       "1       Bembeya Jazz National  Logged In   Bryanna      F             42   \n",
       "2               Ralph Stanley  Logged In   Bryanna      F             41   \n",
       "3           Brotha Lynch Hung  Logged In   Bryanna      F             40   \n",
       "4                   Everclear  Logged In   Bryanna      F             39   \n",
       "...                       ...        ...       ...    ...            ...   \n",
       "233285      Kaizers Orchestra  Logged In     Ellen      F              5   \n",
       "233286            Arcade Fire  Logged In     Ellen      F              4   \n",
       "233287                   None  Logged In     Ellen      F              3   \n",
       "233288        Alliance Ethnik  Logged In     Ellen      F              2   \n",
       "233289                   None  Logged In     Ellen      F              1   \n",
       "\n",
       "       lastName     length level                            location method  \\\n",
       "0         Stone        NaN  free  Los Angeles-Long Beach-Anaheim, CA    PUT   \n",
       "1         Stone  245.99465  free  Los Angeles-Long Beach-Anaheim, CA    PUT   \n",
       "2         Stone  199.57506  free  Los Angeles-Long Beach-Anaheim, CA    PUT   \n",
       "3         Stone   67.91791  free  Los Angeles-Long Beach-Anaheim, CA    PUT   \n",
       "4         Stone  257.14893  free  Los Angeles-Long Beach-Anaheim, CA    PUT   \n",
       "...         ...        ...   ...                                 ...    ...   \n",
       "233285   Romero  224.99220  free         Omaha-Council Bluffs, NE-IA    PUT   \n",
       "233286   Romero  234.05669  free         Omaha-Council Bluffs, NE-IA    PUT   \n",
       "233287   Romero        NaN  free         Omaha-Council Bluffs, NE-IA    GET   \n",
       "233288   Romero  252.21179  free         Omaha-Council Bluffs, NE-IA    PUT   \n",
       "233289   Romero        NaN  free         Omaha-Council Bluffs, NE-IA    GET   \n",
       "\n",
       "               page   registration  sessionId                        song  \\\n",
       "0            Logout  1537440271000        201                        None   \n",
       "1          NextSong  1537440271000        201                     Alalake   \n",
       "2          NextSong  1537440271000        201                     O Death   \n",
       "3          NextSong  1537440271000        201                      Q-Ball   \n",
       "4          NextSong  1537440271000        201  Why I Don't Believe In God   \n",
       "...             ...            ...        ...                         ...   \n",
       "233285     NextSong  1531350022000        192                 Christiania   \n",
       "233286     NextSong  1531350022000        192                      Brazil   \n",
       "233287  Roll Advert  1531350022000        192                        None   \n",
       "233288     NextSong  1531350022000        192               ReprÃÂ©sente   \n",
       "233289         Home  1531350022000        192                        None   \n",
       "\n",
       "        status             ts  \\\n",
       "0          307  1543335219000   \n",
       "1          200  1543335218000   \n",
       "2          200  1543335019000   \n",
       "3          200  1543334952000   \n",
       "4          200  1543334695000   \n",
       "...        ...            ...   \n",
       "233285     200  1538413499000   \n",
       "233286     200  1538413265000   \n",
       "233287     200  1538413054000   \n",
       "233288     200  1538413013000   \n",
       "233289     200  1538412924000   \n",
       "\n",
       "                                                userAgent  userId  churn  \n",
       "0       Mozilla/5.0 (Macintosh; Intel Mac OS X 10.7; r...  100008      0  \n",
       "1       Mozilla/5.0 (Macintosh; Intel Mac OS X 10.7; r...  100008      0  \n",
       "2       Mozilla/5.0 (Macintosh; Intel Mac OS X 10.7; r...  100008      0  \n",
       "3       Mozilla/5.0 (Macintosh; Intel Mac OS X 10.7; r...  100008      0  \n",
       "4       Mozilla/5.0 (Macintosh; Intel Mac OS X 10.7; r...  100008      0  \n",
       "...                                                   ...     ...    ...  \n",
       "233285  \"Mozilla/5.0 (Windows NT 6.2; WOW64) AppleWebK...      94      0  \n",
       "233286  \"Mozilla/5.0 (Windows NT 6.2; WOW64) AppleWebK...      94      0  \n",
       "233287  \"Mozilla/5.0 (Windows NT 6.2; WOW64) AppleWebK...      94      0  \n",
       "233288  \"Mozilla/5.0 (Windows NT 6.2; WOW64) AppleWebK...      94      0  \n",
       "233289  \"Mozilla/5.0 (Windows NT 6.2; WOW64) AppleWebK...      94      0  \n",
       "\n",
       "[233290 rows x 19 columns]"
      ]
     },
     "execution_count": 37,
     "metadata": {},
     "output_type": "execute_result"
    }
   ],
   "source": [
    "# convert to pandas\n",
    "df_pd = df_len_stay.toPandas()\n",
    "df_pd"
   ]
  },
  {
   "cell_type": "code",
   "execution_count": 38,
   "id": "e7d5dcf0",
   "metadata": {},
   "outputs": [],
   "source": [
    "# drop the nulls\n",
    "df_pd.length.dropna(inplace=True)"
   ]
  },
  {
   "cell_type": "code",
   "execution_count": 39,
   "id": "1590adcf",
   "metadata": {},
   "outputs": [
    {
     "data": {
      "image/png": "[encoded data removed]",
      "text/plain": [
       "<Figure size 432x288 with 1 Axes>"
      ]
     },
     "metadata": {},
     "output_type": "display_data"
    }
   ],
   "source": [
    "# plot distribution\n",
    "bin_edges = np.arange (7, df_pd['length'].max()+25, 25)\n",
    "plt.hist(data = df_pd, x = 'length', bins = bin_edges)\n",
    "plt.xlim(0,700)\n",
    "plt.xlabel('Length')\n",
    "plt.ylabel('Frequency');"
   ]
  },
  {
   "cell_type": "markdown",
   "id": "6b73013d",
   "metadata": {},
   "source": [
    "The above plots demonstarets that length distribution is very similar for users that churned and those who stayed. This is not te best variable to predict those customers who churned . We can now analyse gender as a categorical feature."
   ]
  },
  {
   "cell_type": "markdown",
   "id": "b8f67fcb",
   "metadata": {},
   "source": [
    "###  Users who Churned vs Users who Stayed by Gender"
   ]
  },
  {
   "cell_type": "markdown",
   "id": "b45262e8",
   "metadata": {},
   "source": [
    "We can now examine if gender had an effect on users that churned vs. those that stayed."
   ]
  },
  {
   "cell_type": "code",
   "execution_count": 40,
   "id": "29ff5fa5",
   "metadata": {},
   "outputs": [
    {
     "name": "stderr",
     "output_type": "stream",
     "text": [
      "[Stage 64:==============>                                           (1 + 3) / 4]\r"
     ]
    },
    {
     "name": "stdout",
     "output_type": "stream",
     "text": [
      "+------+-----+-----+\n",
      "|gender|churn|count|\n",
      "+------+-----+-----+\n",
      "|     F|    0|   84|\n",
      "|     F|    1|   20|\n",
      "|     M|    0|   89|\n",
      "|     M|    1|   32|\n",
      "+------+-----+-----+\n",
      "\n"
     ]
    },
    {
     "name": "stderr",
     "output_type": "stream",
     "text": [
      "\r",
      "                                                                                \r"
     ]
    }
   ],
   "source": [
    "# create gender df grouped by churn and gender\n",
    "df_gender = df.select(['userId', 'churn', 'gender']).dropDuplicates().groupBy('gender', 'churn').count()\n",
    "df_gender.show()"
   ]
  },
  {
   "cell_type": "code",
   "execution_count": 41,
   "id": "ebfe53b5",
   "metadata": {},
   "outputs": [
    {
     "name": "stderr",
     "output_type": "stream",
     "text": [
      "                                                                                \r"
     ]
    },
    {
     "data": {
      "text/html": [
       "<div>\n",
       "<style scoped>\n",
       "    .dataframe tbody tr th:only-of-type {\n",
       "        vertical-align: middle;\n",
       "    }\n",
       "\n",
       "    .dataframe tbody tr th {\n",
       "        vertical-align: top;\n",
       "    }\n",
       "\n",
       "    .dataframe thead th {\n",
       "        text-align: right;\n",
       "    }\n",
       "</style>\n",
       "<table border=\"1\" class=\"dataframe\">\n",
       "  <thead>\n",
       "    <tr style=\"text-align: right;\">\n",
       "      <th></th>\n",
       "      <th>gender</th>\n",
       "      <th>churn</th>\n",
       "      <th>count</th>\n",
       "    </tr>\n",
       "  </thead>\n",
       "  <tbody>\n",
       "    <tr>\n",
       "      <th>0</th>\n",
       "      <td>F</td>\n",
       "      <td>0</td>\n",
       "      <td>84</td>\n",
       "    </tr>\n",
       "    <tr>\n",
       "      <th>1</th>\n",
       "      <td>F</td>\n",
       "      <td>1</td>\n",
       "      <td>20</td>\n",
       "    </tr>\n",
       "    <tr>\n",
       "      <th>2</th>\n",
       "      <td>M</td>\n",
       "      <td>0</td>\n",
       "      <td>89</td>\n",
       "    </tr>\n",
       "    <tr>\n",
       "      <th>3</th>\n",
       "      <td>M</td>\n",
       "      <td>1</td>\n",
       "      <td>32</td>\n",
       "    </tr>\n",
       "  </tbody>\n",
       "</table>\n",
       "</div>"
      ],
      "text/plain": [
       "  gender  churn  count\n",
       "0      F      0     84\n",
       "1      F      1     20\n",
       "2      M      0     89\n",
       "3      M      1     32"
      ]
     },
     "execution_count": 41,
     "metadata": {},
     "output_type": "execute_result"
    }
   ],
   "source": [
    "# convert to pandas for visualisation\n",
    "df_gender = df_gender.toPandas()\n",
    "df_gender"
   ]
  },
  {
   "cell_type": "code",
   "execution_count": 42,
   "id": "f79b88a4",
   "metadata": {},
   "outputs": [
    {
     "data": {
      "text/html": [
       "<div>\n",
       "<style scoped>\n",
       "    .dataframe tbody tr th:only-of-type {\n",
       "        vertical-align: middle;\n",
       "    }\n",
       "\n",
       "    .dataframe tbody tr th {\n",
       "        vertical-align: top;\n",
       "    }\n",
       "\n",
       "    .dataframe thead th {\n",
       "        text-align: right;\n",
       "    }\n",
       "</style>\n",
       "<table border=\"1\" class=\"dataframe\">\n",
       "  <thead>\n",
       "    <tr style=\"text-align: right;\">\n",
       "      <th></th>\n",
       "      <th>gender</th>\n",
       "      <th>churn</th>\n",
       "      <th>count</th>\n",
       "    </tr>\n",
       "  </thead>\n",
       "  <tbody>\n",
       "    <tr>\n",
       "      <th>2</th>\n",
       "      <td>M</td>\n",
       "      <td>0</td>\n",
       "      <td>89</td>\n",
       "    </tr>\n",
       "    <tr>\n",
       "      <th>0</th>\n",
       "      <td>F</td>\n",
       "      <td>0</td>\n",
       "      <td>84</td>\n",
       "    </tr>\n",
       "    <tr>\n",
       "      <th>3</th>\n",
       "      <td>M</td>\n",
       "      <td>1</td>\n",
       "      <td>32</td>\n",
       "    </tr>\n",
       "    <tr>\n",
       "      <th>1</th>\n",
       "      <td>F</td>\n",
       "      <td>1</td>\n",
       "      <td>20</td>\n",
       "    </tr>\n",
       "  </tbody>\n",
       "</table>\n",
       "</div>"
      ],
      "text/plain": [
       "  gender  churn  count\n",
       "2      M      0     89\n",
       "0      F      0     84\n",
       "3      M      1     32\n",
       "1      F      1     20"
      ]
     },
     "execution_count": 42,
     "metadata": {},
     "output_type": "execute_result"
    }
   ],
   "source": [
    "# order for the visualisation\n",
    "df_gender = df_gender.sort_values('count', ascending = False)\n",
    "df_gender"
   ]
  },
  {
   "cell_type": "code",
   "execution_count": 43,
   "id": "6b6184c4",
   "metadata": {},
   "outputs": [
    {
     "data": {
      "image/png": "[encoded data removed]",
      "text/plain": [
       "<Figure size 576x432 with 1 Axes>"
      ]
     },
     "metadata": {},
     "output_type": "display_data"
    }
   ],
   "source": [
    "# seaborn barplot\n",
    "plt.figure(figsize = [8,6])\n",
    "ax = sns.barplot(data = df_gender, x = 'churn', y='count', hue = 'gender')\n",
    "ax.legend(loc = 1, ncol = 2, framealpha =1, title = 'gender')\n",
    "plt.title(\"Number of Users That Churned by Gender\");"
   ]
  },
  {
   "cell_type": "code",
   "execution_count": 44,
   "id": "402f9ef6",
   "metadata": {},
   "outputs": [
    {
     "data": {
      "text/plain": [
       "0.2644628099173554"
      ]
     },
     "execution_count": 44,
     "metadata": {},
     "output_type": "execute_result"
    }
   ],
   "source": [
    "# male churn rate\n",
    "32/(89+32)"
   ]
  },
  {
   "cell_type": "code",
   "execution_count": 45,
   "id": "4fa5b968",
   "metadata": {},
   "outputs": [
    {
     "data": {
      "text/plain": [
       "0.19230769230769232"
      ]
     },
     "execution_count": 45,
     "metadata": {},
     "output_type": "execute_result"
    }
   ],
   "source": [
    "# female churn rate\n",
    "20/(20+84)"
   ]
  },
  {
   "cell_type": "markdown",
   "id": "62f37744",
   "metadata": {},
   "source": [
    "From the above chart, we can see that more male users churned(rate of 0.264) compared to female users (rate of 0.192)."
   ]
  },
  {
   "cell_type": "markdown",
   "id": "e5b498ba",
   "metadata": {},
   "source": [
    "### Users who Churned vs Stayed by Level"
   ]
  },
  {
   "cell_type": "markdown",
   "id": "c7eb87a3",
   "metadata": {},
   "source": [
    "Next we can examine if level has an effect on whether a user will churn or not. By level here we mean if the user paid for the app or if they used it for free with ads."
   ]
  },
  {
   "cell_type": "code",
   "execution_count": 46,
   "id": "f402122a",
   "metadata": {},
   "outputs": [
    {
     "name": "stderr",
     "output_type": "stream",
     "text": [
      "[Stage 78:>                                                         (0 + 1) / 1]\r"
     ]
    },
    {
     "name": "stdout",
     "output_type": "stream",
     "text": [
      "+-----+-----+-----+\n",
      "|level|churn|count|\n",
      "+-----+-----+-----+\n",
      "| free|    0|  149|\n",
      "| paid|    0|  129|\n",
      "| free|    1|   46|\n",
      "| paid|    1|   36|\n",
      "+-----+-----+-----+\n",
      "\n"
     ]
    },
    {
     "name": "stderr",
     "output_type": "stream",
     "text": [
      "\r",
      "                                                                                \r"
     ]
    }
   ],
   "source": [
    "# create the level dataframe\n",
    "df_level = df.select(['userId', 'churn', 'level']).dropDuplicates().groupBy('level','churn').count()\n",
    "df_level.show()"
   ]
  },
  {
   "cell_type": "code",
   "execution_count": 47,
   "id": "4880a904",
   "metadata": {},
   "outputs": [
    {
     "name": "stderr",
     "output_type": "stream",
     "text": [
      "                                                                                \r"
     ]
    },
    {
     "data": {
      "text/html": [
       "<div>\n",
       "<style scoped>\n",
       "    .dataframe tbody tr th:only-of-type {\n",
       "        vertical-align: middle;\n",
       "    }\n",
       "\n",
       "    .dataframe tbody tr th {\n",
       "        vertical-align: top;\n",
       "    }\n",
       "\n",
       "    .dataframe thead th {\n",
       "        text-align: right;\n",
       "    }\n",
       "</style>\n",
       "<table border=\"1\" class=\"dataframe\">\n",
       "  <thead>\n",
       "    <tr style=\"text-align: right;\">\n",
       "      <th></th>\n",
       "      <th>level</th>\n",
       "      <th>churn</th>\n",
       "      <th>count</th>\n",
       "    </tr>\n",
       "  </thead>\n",
       "  <tbody>\n",
       "    <tr>\n",
       "      <th>0</th>\n",
       "      <td>free</td>\n",
       "      <td>0</td>\n",
       "      <td>149</td>\n",
       "    </tr>\n",
       "    <tr>\n",
       "      <th>1</th>\n",
       "      <td>paid</td>\n",
       "      <td>0</td>\n",
       "      <td>129</td>\n",
       "    </tr>\n",
       "    <tr>\n",
       "      <th>2</th>\n",
       "      <td>free</td>\n",
       "      <td>1</td>\n",
       "      <td>46</td>\n",
       "    </tr>\n",
       "    <tr>\n",
       "      <th>3</th>\n",
       "      <td>paid</td>\n",
       "      <td>1</td>\n",
       "      <td>36</td>\n",
       "    </tr>\n",
       "  </tbody>\n",
       "</table>\n",
       "</div>"
      ],
      "text/plain": [
       "  level  churn  count\n",
       "0  free      0    149\n",
       "1  paid      0    129\n",
       "2  free      1     46\n",
       "3  paid      1     36"
      ]
     },
     "execution_count": 47,
     "metadata": {},
     "output_type": "execute_result"
    }
   ],
   "source": [
    "# convert to pandas for visualisation\n",
    "df_level = df_level.toPandas()\n",
    "df_level"
   ]
  },
  {
   "cell_type": "code",
   "execution_count": 48,
   "id": "9a85d52d",
   "metadata": {},
   "outputs": [
    {
     "data": {
      "image/png": "[encoded data removed]",
      "text/plain": [
       "<Figure size 576x432 with 1 Axes>"
      ]
     },
     "metadata": {},
     "output_type": "display_data"
    }
   ],
   "source": [
    "# plot the barplot using seaborn\n",
    "plt.figure(figsize = [8,6])\n",
    "ax = sns.barplot(data = df_level, x = 'churn', y='count', hue = 'level')\n",
    "ax.legend(loc = 1, ncol = 2, framealpha =1, title = 'level')\n",
    "plt.title(\"Number of Users That Churned by Level\");"
   ]
  },
  {
   "cell_type": "code",
   "execution_count": 49,
   "id": "a63882c7",
   "metadata": {},
   "outputs": [
    {
     "data": {
      "text/plain": [
       "0.2358974358974359"
      ]
     },
     "execution_count": 49,
     "metadata": {},
     "output_type": "execute_result"
    }
   ],
   "source": [
    "# free churn rate\n",
    "46/(46+149)"
   ]
  },
  {
   "cell_type": "code",
   "execution_count": 50,
   "id": "2be42f24",
   "metadata": {},
   "outputs": [
    {
     "data": {
      "text/plain": [
       "0.21818181818181817"
      ]
     },
     "execution_count": 50,
     "metadata": {},
     "output_type": "execute_result"
    }
   ],
   "source": [
    "# paid churn rate\n",
    "36/(129+36)"
   ]
  },
  {
   "cell_type": "markdown",
   "id": "e9f6e7f8",
   "metadata": {},
   "source": [
    "More users who used the service for free were slightly more likely to churn, rate of **0.236**,compared to those who paid for the app, rate of **0.218**."
   ]
  },
  {
   "cell_type": "markdown",
   "id": "4b78a64a",
   "metadata": {},
   "source": [
    "### Pages Visited by Those that Churned vs. Those That Stayed"
   ]
  },
  {
   "cell_type": "code",
   "execution_count": 51,
   "id": "341c2ade",
   "metadata": {},
   "outputs": [
    {
     "name": "stderr",
     "output_type": "stream",
     "text": [
      "[Stage 88:=============================>                            (2 + 2) / 4]\r"
     ]
    },
    {
     "name": "stdout",
     "output_type": "stream",
     "text": [
      "+--------------------+-----+-----+\n",
      "|                page|churn|count|\n",
      "+--------------------+-----+-----+\n",
      "|            Settings|    0| 1244|\n",
      "|         Thumbs Down|    1|  496|\n",
      "|           Thumbs Up|    1| 1859|\n",
      "|     Add to Playlist|    1| 1038|\n",
      "|               Error|    1|   32|\n",
      "|               About|    1|   56|\n",
      "|         Thumbs Down|    0| 2050|\n",
      "|         Roll Advert|    1|  967|\n",
      "|                Home|    0| 8410|\n",
      "|Cancellation Conf...|    1|   52|\n",
      "|               Error|    0|  220|\n",
      "|              Cancel|    1|   52|\n",
      "|            Settings|    1|  270|\n",
      "|          Add Friend|    1|  636|\n",
      "|             Upgrade|    0|  387|\n",
      "|           Downgrade|    1|  337|\n",
      "|              Logout|    1|  553|\n",
      "|    Submit Downgrade|    1|    9|\n",
      "|       Save Settings|    0|  252|\n",
      "|           Thumbs Up|    0|10692|\n",
      "+--------------------+-----+-----+\n",
      "only showing top 20 rows\n",
      "\n"
     ]
    },
    {
     "name": "stderr",
     "output_type": "stream",
     "text": [
      "\r",
      "                                                                                \r"
     ]
    }
   ],
   "source": [
    "# create the page dataframe\n",
    "df_page = df.select(['userId', 'churn', 'page']).groupBy('page','churn').count()\n",
    "df_page.show()"
   ]
  },
  {
   "cell_type": "code",
   "execution_count": 52,
   "id": "4f5c1489",
   "metadata": {},
   "outputs": [
    {
     "name": "stderr",
     "output_type": "stream",
     "text": [
      "                                                                                \r"
     ]
    },
    {
     "data": {
      "text/html": [
       "<div>\n",
       "<style scoped>\n",
       "    .dataframe tbody tr th:only-of-type {\n",
       "        vertical-align: middle;\n",
       "    }\n",
       "\n",
       "    .dataframe tbody tr th {\n",
       "        vertical-align: top;\n",
       "    }\n",
       "\n",
       "    .dataframe thead th {\n",
       "        text-align: right;\n",
       "    }\n",
       "</style>\n",
       "<table border=\"1\" class=\"dataframe\">\n",
       "  <thead>\n",
       "    <tr style=\"text-align: right;\">\n",
       "      <th></th>\n",
       "      <th>page</th>\n",
       "      <th>churn</th>\n",
       "      <th>count</th>\n",
       "    </tr>\n",
       "  </thead>\n",
       "  <tbody>\n",
       "    <tr>\n",
       "      <th>0</th>\n",
       "      <td>Settings</td>\n",
       "      <td>0</td>\n",
       "      <td>1244</td>\n",
       "    </tr>\n",
       "    <tr>\n",
       "      <th>1</th>\n",
       "      <td>Thumbs Down</td>\n",
       "      <td>1</td>\n",
       "      <td>496</td>\n",
       "    </tr>\n",
       "    <tr>\n",
       "      <th>2</th>\n",
       "      <td>Thumbs Up</td>\n",
       "      <td>1</td>\n",
       "      <td>1859</td>\n",
       "    </tr>\n",
       "    <tr>\n",
       "      <th>3</th>\n",
       "      <td>Add to Playlist</td>\n",
       "      <td>1</td>\n",
       "      <td>1038</td>\n",
       "    </tr>\n",
       "    <tr>\n",
       "      <th>4</th>\n",
       "      <td>Error</td>\n",
       "      <td>1</td>\n",
       "      <td>32</td>\n",
       "    </tr>\n",
       "    <tr>\n",
       "      <th>5</th>\n",
       "      <td>About</td>\n",
       "      <td>1</td>\n",
       "      <td>56</td>\n",
       "    </tr>\n",
       "    <tr>\n",
       "      <th>6</th>\n",
       "      <td>Thumbs Down</td>\n",
       "      <td>0</td>\n",
       "      <td>2050</td>\n",
       "    </tr>\n",
       "    <tr>\n",
       "      <th>7</th>\n",
       "      <td>Roll Advert</td>\n",
       "      <td>1</td>\n",
       "      <td>967</td>\n",
       "    </tr>\n",
       "    <tr>\n",
       "      <th>8</th>\n",
       "      <td>Home</td>\n",
       "      <td>0</td>\n",
       "      <td>8410</td>\n",
       "    </tr>\n",
       "    <tr>\n",
       "      <th>9</th>\n",
       "      <td>Cancellation Confirmation</td>\n",
       "      <td>1</td>\n",
       "      <td>52</td>\n",
       "    </tr>\n",
       "    <tr>\n",
       "      <th>10</th>\n",
       "      <td>Error</td>\n",
       "      <td>0</td>\n",
       "      <td>220</td>\n",
       "    </tr>\n",
       "    <tr>\n",
       "      <th>11</th>\n",
       "      <td>Cancel</td>\n",
       "      <td>1</td>\n",
       "      <td>52</td>\n",
       "    </tr>\n",
       "    <tr>\n",
       "      <th>12</th>\n",
       "      <td>Settings</td>\n",
       "      <td>1</td>\n",
       "      <td>270</td>\n",
       "    </tr>\n",
       "    <tr>\n",
       "      <th>13</th>\n",
       "      <td>Add Friend</td>\n",
       "      <td>1</td>\n",
       "      <td>636</td>\n",
       "    </tr>\n",
       "    <tr>\n",
       "      <th>14</th>\n",
       "      <td>Upgrade</td>\n",
       "      <td>0</td>\n",
       "      <td>387</td>\n",
       "    </tr>\n",
       "    <tr>\n",
       "      <th>15</th>\n",
       "      <td>Downgrade</td>\n",
       "      <td>1</td>\n",
       "      <td>337</td>\n",
       "    </tr>\n",
       "    <tr>\n",
       "      <th>16</th>\n",
       "      <td>Logout</td>\n",
       "      <td>1</td>\n",
       "      <td>553</td>\n",
       "    </tr>\n",
       "    <tr>\n",
       "      <th>17</th>\n",
       "      <td>Submit Downgrade</td>\n",
       "      <td>1</td>\n",
       "      <td>9</td>\n",
       "    </tr>\n",
       "    <tr>\n",
       "      <th>18</th>\n",
       "      <td>Save Settings</td>\n",
       "      <td>0</td>\n",
       "      <td>252</td>\n",
       "    </tr>\n",
       "    <tr>\n",
       "      <th>19</th>\n",
       "      <td>Thumbs Up</td>\n",
       "      <td>0</td>\n",
       "      <td>10692</td>\n",
       "    </tr>\n",
       "    <tr>\n",
       "      <th>20</th>\n",
       "      <td>Downgrade</td>\n",
       "      <td>0</td>\n",
       "      <td>1718</td>\n",
       "    </tr>\n",
       "    <tr>\n",
       "      <th>21</th>\n",
       "      <td>Submit Upgrade</td>\n",
       "      <td>0</td>\n",
       "      <td>127</td>\n",
       "    </tr>\n",
       "    <tr>\n",
       "      <th>22</th>\n",
       "      <td>Roll Advert</td>\n",
       "      <td>0</td>\n",
       "      <td>2966</td>\n",
       "    </tr>\n",
       "    <tr>\n",
       "      <th>23</th>\n",
       "      <td>Submit Downgrade</td>\n",
       "      <td>0</td>\n",
       "      <td>54</td>\n",
       "    </tr>\n",
       "    <tr>\n",
       "      <th>24</th>\n",
       "      <td>Logout</td>\n",
       "      <td>0</td>\n",
       "      <td>2673</td>\n",
       "    </tr>\n",
       "    <tr>\n",
       "      <th>25</th>\n",
       "      <td>Home</td>\n",
       "      <td>1</td>\n",
       "      <td>1672</td>\n",
       "    </tr>\n",
       "    <tr>\n",
       "      <th>26</th>\n",
       "      <td>Add Friend</td>\n",
       "      <td>0</td>\n",
       "      <td>3641</td>\n",
       "    </tr>\n",
       "    <tr>\n",
       "      <th>27</th>\n",
       "      <td>Upgrade</td>\n",
       "      <td>1</td>\n",
       "      <td>112</td>\n",
       "    </tr>\n",
       "    <tr>\n",
       "      <th>28</th>\n",
       "      <td>Submit Upgrade</td>\n",
       "      <td>1</td>\n",
       "      <td>32</td>\n",
       "    </tr>\n",
       "    <tr>\n",
       "      <th>29</th>\n",
       "      <td>About</td>\n",
       "      <td>0</td>\n",
       "      <td>439</td>\n",
       "    </tr>\n",
       "    <tr>\n",
       "      <th>30</th>\n",
       "      <td>Add to Playlist</td>\n",
       "      <td>0</td>\n",
       "      <td>5488</td>\n",
       "    </tr>\n",
       "    <tr>\n",
       "      <th>31</th>\n",
       "      <td>Save Settings</td>\n",
       "      <td>1</td>\n",
       "      <td>58</td>\n",
       "    </tr>\n",
       "    <tr>\n",
       "      <th>32</th>\n",
       "      <td>Help</td>\n",
       "      <td>1</td>\n",
       "      <td>239</td>\n",
       "    </tr>\n",
       "    <tr>\n",
       "      <th>33</th>\n",
       "      <td>NextSong</td>\n",
       "      <td>1</td>\n",
       "      <td>36394</td>\n",
       "    </tr>\n",
       "    <tr>\n",
       "      <th>34</th>\n",
       "      <td>NextSong</td>\n",
       "      <td>0</td>\n",
       "      <td>191714</td>\n",
       "    </tr>\n",
       "    <tr>\n",
       "      <th>35</th>\n",
       "      <td>Help</td>\n",
       "      <td>0</td>\n",
       "      <td>1215</td>\n",
       "    </tr>\n",
       "  </tbody>\n",
       "</table>\n",
       "</div>"
      ],
      "text/plain": [
       "                         page  churn   count\n",
       "0                    Settings      0    1244\n",
       "1                 Thumbs Down      1     496\n",
       "2                   Thumbs Up      1    1859\n",
       "3             Add to Playlist      1    1038\n",
       "4                       Error      1      32\n",
       "5                       About      1      56\n",
       "6                 Thumbs Down      0    2050\n",
       "7                 Roll Advert      1     967\n",
       "8                        Home      0    8410\n",
       "9   Cancellation Confirmation      1      52\n",
       "10                      Error      0     220\n",
       "11                     Cancel      1      52\n",
       "12                   Settings      1     270\n",
       "13                 Add Friend      1     636\n",
       "14                    Upgrade      0     387\n",
       "15                  Downgrade      1     337\n",
       "16                     Logout      1     553\n",
       "17           Submit Downgrade      1       9\n",
       "18              Save Settings      0     252\n",
       "19                  Thumbs Up      0   10692\n",
       "20                  Downgrade      0    1718\n",
       "21             Submit Upgrade      0     127\n",
       "22                Roll Advert      0    2966\n",
       "23           Submit Downgrade      0      54\n",
       "24                     Logout      0    2673\n",
       "25                       Home      1    1672\n",
       "26                 Add Friend      0    3641\n",
       "27                    Upgrade      1     112\n",
       "28             Submit Upgrade      1      32\n",
       "29                      About      0     439\n",
       "30            Add to Playlist      0    5488\n",
       "31              Save Settings      1      58\n",
       "32                       Help      1     239\n",
       "33                   NextSong      1   36394\n",
       "34                   NextSong      0  191714\n",
       "35                       Help      0    1215"
      ]
     },
     "execution_count": 52,
     "metadata": {},
     "output_type": "execute_result"
    }
   ],
   "source": [
    "# convert to pandas\n",
    "df_page = df_page.toPandas()\n",
    "df_page"
   ]
  },
  {
   "cell_type": "code",
   "execution_count": 53,
   "id": "f2b586c4",
   "metadata": {},
   "outputs": [
    {
     "data": {
      "text/html": [
       "<div>\n",
       "<style scoped>\n",
       "    .dataframe tbody tr th:only-of-type {\n",
       "        vertical-align: middle;\n",
       "    }\n",
       "\n",
       "    .dataframe tbody tr th {\n",
       "        vertical-align: top;\n",
       "    }\n",
       "\n",
       "    .dataframe thead th {\n",
       "        text-align: right;\n",
       "    }\n",
       "</style>\n",
       "<table border=\"1\" class=\"dataframe\">\n",
       "  <thead>\n",
       "    <tr style=\"text-align: right;\">\n",
       "      <th></th>\n",
       "      <th>page</th>\n",
       "      <th>churn</th>\n",
       "      <th>count</th>\n",
       "    </tr>\n",
       "  </thead>\n",
       "  <tbody>\n",
       "    <tr>\n",
       "      <th>1</th>\n",
       "      <td>Thumbs Down</td>\n",
       "      <td>1</td>\n",
       "      <td>496</td>\n",
       "    </tr>\n",
       "    <tr>\n",
       "      <th>2</th>\n",
       "      <td>Thumbs Up</td>\n",
       "      <td>1</td>\n",
       "      <td>1859</td>\n",
       "    </tr>\n",
       "    <tr>\n",
       "      <th>3</th>\n",
       "      <td>Add to Playlist</td>\n",
       "      <td>1</td>\n",
       "      <td>1038</td>\n",
       "    </tr>\n",
       "    <tr>\n",
       "      <th>4</th>\n",
       "      <td>Error</td>\n",
       "      <td>1</td>\n",
       "      <td>32</td>\n",
       "    </tr>\n",
       "    <tr>\n",
       "      <th>5</th>\n",
       "      <td>About</td>\n",
       "      <td>1</td>\n",
       "      <td>56</td>\n",
       "    </tr>\n",
       "    <tr>\n",
       "      <th>7</th>\n",
       "      <td>Roll Advert</td>\n",
       "      <td>1</td>\n",
       "      <td>967</td>\n",
       "    </tr>\n",
       "    <tr>\n",
       "      <th>9</th>\n",
       "      <td>Cancellation Confirmation</td>\n",
       "      <td>1</td>\n",
       "      <td>52</td>\n",
       "    </tr>\n",
       "    <tr>\n",
       "      <th>11</th>\n",
       "      <td>Cancel</td>\n",
       "      <td>1</td>\n",
       "      <td>52</td>\n",
       "    </tr>\n",
       "    <tr>\n",
       "      <th>12</th>\n",
       "      <td>Settings</td>\n",
       "      <td>1</td>\n",
       "      <td>270</td>\n",
       "    </tr>\n",
       "    <tr>\n",
       "      <th>13</th>\n",
       "      <td>Add Friend</td>\n",
       "      <td>1</td>\n",
       "      <td>636</td>\n",
       "    </tr>\n",
       "    <tr>\n",
       "      <th>15</th>\n",
       "      <td>Downgrade</td>\n",
       "      <td>1</td>\n",
       "      <td>337</td>\n",
       "    </tr>\n",
       "    <tr>\n",
       "      <th>16</th>\n",
       "      <td>Logout</td>\n",
       "      <td>1</td>\n",
       "      <td>553</td>\n",
       "    </tr>\n",
       "    <tr>\n",
       "      <th>17</th>\n",
       "      <td>Submit Downgrade</td>\n",
       "      <td>1</td>\n",
       "      <td>9</td>\n",
       "    </tr>\n",
       "    <tr>\n",
       "      <th>25</th>\n",
       "      <td>Home</td>\n",
       "      <td>1</td>\n",
       "      <td>1672</td>\n",
       "    </tr>\n",
       "    <tr>\n",
       "      <th>27</th>\n",
       "      <td>Upgrade</td>\n",
       "      <td>1</td>\n",
       "      <td>112</td>\n",
       "    </tr>\n",
       "    <tr>\n",
       "      <th>28</th>\n",
       "      <td>Submit Upgrade</td>\n",
       "      <td>1</td>\n",
       "      <td>32</td>\n",
       "    </tr>\n",
       "    <tr>\n",
       "      <th>31</th>\n",
       "      <td>Save Settings</td>\n",
       "      <td>1</td>\n",
       "      <td>58</td>\n",
       "    </tr>\n",
       "    <tr>\n",
       "      <th>32</th>\n",
       "      <td>Help</td>\n",
       "      <td>1</td>\n",
       "      <td>239</td>\n",
       "    </tr>\n",
       "    <tr>\n",
       "      <th>33</th>\n",
       "      <td>NextSong</td>\n",
       "      <td>1</td>\n",
       "      <td>36394</td>\n",
       "    </tr>\n",
       "  </tbody>\n",
       "</table>\n",
       "</div>"
      ],
      "text/plain": [
       "                         page  churn  count\n",
       "1                 Thumbs Down      1    496\n",
       "2                   Thumbs Up      1   1859\n",
       "3             Add to Playlist      1   1038\n",
       "4                       Error      1     32\n",
       "5                       About      1     56\n",
       "7                 Roll Advert      1    967\n",
       "9   Cancellation Confirmation      1     52\n",
       "11                     Cancel      1     52\n",
       "12                   Settings      1    270\n",
       "13                 Add Friend      1    636\n",
       "15                  Downgrade      1    337\n",
       "16                     Logout      1    553\n",
       "17           Submit Downgrade      1      9\n",
       "25                       Home      1   1672\n",
       "27                    Upgrade      1    112\n",
       "28             Submit Upgrade      1     32\n",
       "31              Save Settings      1     58\n",
       "32                       Help      1    239\n",
       "33                   NextSong      1  36394"
      ]
     },
     "execution_count": 53,
     "metadata": {},
     "output_type": "execute_result"
    }
   ],
   "source": [
    "# Select pages for those who churned\n",
    "df_page[df_page['churn'] == 1]"
   ]
  },
  {
   "cell_type": "code",
   "execution_count": 54,
   "id": "846f66b5",
   "metadata": {},
   "outputs": [
    {
     "data": {
      "text/plain": [
       "page     Thumbs DownThumbs UpAdd to PlaylistErrorAboutR...\n",
       "churn                                                   19\n",
       "count                                                44864\n",
       "dtype: object"
      ]
     },
     "execution_count": 54,
     "metadata": {},
     "output_type": "execute_result"
    }
   ],
   "source": [
    "# create counts for those who churned and those who stayed\n",
    "churn_count =  df_page[df_page['churn'] == 1].sum() \n",
    "churn_count"
   ]
  },
  {
   "cell_type": "code",
   "execution_count": 55,
   "id": "f92970e8",
   "metadata": {},
   "outputs": [
    {
     "data": {
      "text/html": [
       "<div>\n",
       "<style scoped>\n",
       "    .dataframe tbody tr th:only-of-type {\n",
       "        vertical-align: middle;\n",
       "    }\n",
       "\n",
       "    .dataframe tbody tr th {\n",
       "        vertical-align: top;\n",
       "    }\n",
       "\n",
       "    .dataframe thead th {\n",
       "        text-align: right;\n",
       "    }\n",
       "</style>\n",
       "<table border=\"1\" class=\"dataframe\">\n",
       "  <thead>\n",
       "    <tr style=\"text-align: right;\">\n",
       "      <th></th>\n",
       "      <th>page</th>\n",
       "      <th>churn</th>\n",
       "      <th>count</th>\n",
       "    </tr>\n",
       "  </thead>\n",
       "  <tbody>\n",
       "    <tr>\n",
       "      <th>0</th>\n",
       "      <td>Settings</td>\n",
       "      <td>0</td>\n",
       "      <td>1244</td>\n",
       "    </tr>\n",
       "    <tr>\n",
       "      <th>6</th>\n",
       "      <td>Thumbs Down</td>\n",
       "      <td>0</td>\n",
       "      <td>2050</td>\n",
       "    </tr>\n",
       "    <tr>\n",
       "      <th>8</th>\n",
       "      <td>Home</td>\n",
       "      <td>0</td>\n",
       "      <td>8410</td>\n",
       "    </tr>\n",
       "    <tr>\n",
       "      <th>10</th>\n",
       "      <td>Error</td>\n",
       "      <td>0</td>\n",
       "      <td>220</td>\n",
       "    </tr>\n",
       "    <tr>\n",
       "      <th>14</th>\n",
       "      <td>Upgrade</td>\n",
       "      <td>0</td>\n",
       "      <td>387</td>\n",
       "    </tr>\n",
       "    <tr>\n",
       "      <th>18</th>\n",
       "      <td>Save Settings</td>\n",
       "      <td>0</td>\n",
       "      <td>252</td>\n",
       "    </tr>\n",
       "    <tr>\n",
       "      <th>19</th>\n",
       "      <td>Thumbs Up</td>\n",
       "      <td>0</td>\n",
       "      <td>10692</td>\n",
       "    </tr>\n",
       "    <tr>\n",
       "      <th>20</th>\n",
       "      <td>Downgrade</td>\n",
       "      <td>0</td>\n",
       "      <td>1718</td>\n",
       "    </tr>\n",
       "    <tr>\n",
       "      <th>21</th>\n",
       "      <td>Submit Upgrade</td>\n",
       "      <td>0</td>\n",
       "      <td>127</td>\n",
       "    </tr>\n",
       "    <tr>\n",
       "      <th>22</th>\n",
       "      <td>Roll Advert</td>\n",
       "      <td>0</td>\n",
       "      <td>2966</td>\n",
       "    </tr>\n",
       "    <tr>\n",
       "      <th>23</th>\n",
       "      <td>Submit Downgrade</td>\n",
       "      <td>0</td>\n",
       "      <td>54</td>\n",
       "    </tr>\n",
       "    <tr>\n",
       "      <th>24</th>\n",
       "      <td>Logout</td>\n",
       "      <td>0</td>\n",
       "      <td>2673</td>\n",
       "    </tr>\n",
       "    <tr>\n",
       "      <th>26</th>\n",
       "      <td>Add Friend</td>\n",
       "      <td>0</td>\n",
       "      <td>3641</td>\n",
       "    </tr>\n",
       "    <tr>\n",
       "      <th>29</th>\n",
       "      <td>About</td>\n",
       "      <td>0</td>\n",
       "      <td>439</td>\n",
       "    </tr>\n",
       "    <tr>\n",
       "      <th>30</th>\n",
       "      <td>Add to Playlist</td>\n",
       "      <td>0</td>\n",
       "      <td>5488</td>\n",
       "    </tr>\n",
       "    <tr>\n",
       "      <th>34</th>\n",
       "      <td>NextSong</td>\n",
       "      <td>0</td>\n",
       "      <td>191714</td>\n",
       "    </tr>\n",
       "    <tr>\n",
       "      <th>35</th>\n",
       "      <td>Help</td>\n",
       "      <td>0</td>\n",
       "      <td>1215</td>\n",
       "    </tr>\n",
       "  </tbody>\n",
       "</table>\n",
       "</div>"
      ],
      "text/plain": [
       "                page  churn   count\n",
       "0           Settings      0    1244\n",
       "6        Thumbs Down      0    2050\n",
       "8               Home      0    8410\n",
       "10             Error      0     220\n",
       "14           Upgrade      0     387\n",
       "18     Save Settings      0     252\n",
       "19         Thumbs Up      0   10692\n",
       "20         Downgrade      0    1718\n",
       "21    Submit Upgrade      0     127\n",
       "22       Roll Advert      0    2966\n",
       "23  Submit Downgrade      0      54\n",
       "24            Logout      0    2673\n",
       "26        Add Friend      0    3641\n",
       "29             About      0     439\n",
       "30   Add to Playlist      0    5488\n",
       "34          NextSong      0  191714\n",
       "35              Help      0    1215"
      ]
     },
     "execution_count": 55,
     "metadata": {},
     "output_type": "execute_result"
    }
   ],
   "source": [
    "# Select pages for those who didn't churn\n",
    "df_page[df_page['churn'] == 0]"
   ]
  },
  {
   "cell_type": "code",
   "execution_count": 56,
   "id": "205092c9",
   "metadata": {},
   "outputs": [
    {
     "data": {
      "text/plain": [
       "page     SettingsThumbs DownHomeErrorUpgradeSave Settin...\n",
       "churn                                                    0\n",
       "count                                               233290\n",
       "dtype: object"
      ]
     },
     "execution_count": 56,
     "metadata": {},
     "output_type": "execute_result"
    }
   ],
   "source": [
    "# create counts for those who churned and those who didn't stay\n",
    "stay_count =  df_page[df_page['churn'] == 0].sum()\n",
    "stay_count"
   ]
  },
  {
   "cell_type": "markdown",
   "id": "4a2a7962",
   "metadata": {},
   "source": [
    "Now that we have a count of the number of customers who churned and those that stayed we can calculate the rate and create this as a column on our dataFrame."
   ]
  },
  {
   "cell_type": "code",
   "execution_count": 57,
   "id": "cbf92142",
   "metadata": {},
   "outputs": [],
   "source": [
    "# calculate the rate of pages visited by those who churned vs. those who stayed\n",
    "df_page['rate'] = np.where(\n",
    "    df_page['churn'] == 0, df_page['count']/stay_count['count'], np.where(\n",
    "    df_page['churn'] == 1, df_page['count']/churn_count['count'],df_page['count']/churn_count['count']))"
   ]
  },
  {
   "cell_type": "code",
   "execution_count": 58,
   "id": "541f2b9f",
   "metadata": {},
   "outputs": [
    {
     "data": {
      "text/html": [
       "<div>\n",
       "<style scoped>\n",
       "    .dataframe tbody tr th:only-of-type {\n",
       "        vertical-align: middle;\n",
       "    }\n",
       "\n",
       "    .dataframe tbody tr th {\n",
       "        vertical-align: top;\n",
       "    }\n",
       "\n",
       "    .dataframe thead th {\n",
       "        text-align: right;\n",
       "    }\n",
       "</style>\n",
       "<table border=\"1\" class=\"dataframe\">\n",
       "  <thead>\n",
       "    <tr style=\"text-align: right;\">\n",
       "      <th></th>\n",
       "      <th>page</th>\n",
       "      <th>churn</th>\n",
       "      <th>count</th>\n",
       "      <th>rate</th>\n",
       "    </tr>\n",
       "  </thead>\n",
       "  <tbody>\n",
       "    <tr>\n",
       "      <th>0</th>\n",
       "      <td>Settings</td>\n",
       "      <td>0</td>\n",
       "      <td>1244</td>\n",
       "      <td>0.005332</td>\n",
       "    </tr>\n",
       "    <tr>\n",
       "      <th>1</th>\n",
       "      <td>Thumbs Down</td>\n",
       "      <td>1</td>\n",
       "      <td>496</td>\n",
       "      <td>0.011056</td>\n",
       "    </tr>\n",
       "    <tr>\n",
       "      <th>2</th>\n",
       "      <td>Thumbs Up</td>\n",
       "      <td>1</td>\n",
       "      <td>1859</td>\n",
       "      <td>0.041436</td>\n",
       "    </tr>\n",
       "    <tr>\n",
       "      <th>3</th>\n",
       "      <td>Add to Playlist</td>\n",
       "      <td>1</td>\n",
       "      <td>1038</td>\n",
       "      <td>0.023137</td>\n",
       "    </tr>\n",
       "    <tr>\n",
       "      <th>4</th>\n",
       "      <td>Error</td>\n",
       "      <td>1</td>\n",
       "      <td>32</td>\n",
       "      <td>0.000713</td>\n",
       "    </tr>\n",
       "    <tr>\n",
       "      <th>5</th>\n",
       "      <td>About</td>\n",
       "      <td>1</td>\n",
       "      <td>56</td>\n",
       "      <td>0.001248</td>\n",
       "    </tr>\n",
       "    <tr>\n",
       "      <th>6</th>\n",
       "      <td>Thumbs Down</td>\n",
       "      <td>0</td>\n",
       "      <td>2050</td>\n",
       "      <td>0.008787</td>\n",
       "    </tr>\n",
       "    <tr>\n",
       "      <th>7</th>\n",
       "      <td>Roll Advert</td>\n",
       "      <td>1</td>\n",
       "      <td>967</td>\n",
       "      <td>0.021554</td>\n",
       "    </tr>\n",
       "    <tr>\n",
       "      <th>8</th>\n",
       "      <td>Home</td>\n",
       "      <td>0</td>\n",
       "      <td>8410</td>\n",
       "      <td>0.036050</td>\n",
       "    </tr>\n",
       "    <tr>\n",
       "      <th>9</th>\n",
       "      <td>Cancellation Confirmation</td>\n",
       "      <td>1</td>\n",
       "      <td>52</td>\n",
       "      <td>0.001159</td>\n",
       "    </tr>\n",
       "    <tr>\n",
       "      <th>10</th>\n",
       "      <td>Error</td>\n",
       "      <td>0</td>\n",
       "      <td>220</td>\n",
       "      <td>0.000943</td>\n",
       "    </tr>\n",
       "    <tr>\n",
       "      <th>11</th>\n",
       "      <td>Cancel</td>\n",
       "      <td>1</td>\n",
       "      <td>52</td>\n",
       "      <td>0.001159</td>\n",
       "    </tr>\n",
       "    <tr>\n",
       "      <th>12</th>\n",
       "      <td>Settings</td>\n",
       "      <td>1</td>\n",
       "      <td>270</td>\n",
       "      <td>0.006018</td>\n",
       "    </tr>\n",
       "    <tr>\n",
       "      <th>13</th>\n",
       "      <td>Add Friend</td>\n",
       "      <td>1</td>\n",
       "      <td>636</td>\n",
       "      <td>0.014176</td>\n",
       "    </tr>\n",
       "    <tr>\n",
       "      <th>14</th>\n",
       "      <td>Upgrade</td>\n",
       "      <td>0</td>\n",
       "      <td>387</td>\n",
       "      <td>0.001659</td>\n",
       "    </tr>\n",
       "    <tr>\n",
       "      <th>15</th>\n",
       "      <td>Downgrade</td>\n",
       "      <td>1</td>\n",
       "      <td>337</td>\n",
       "      <td>0.007512</td>\n",
       "    </tr>\n",
       "    <tr>\n",
       "      <th>16</th>\n",
       "      <td>Logout</td>\n",
       "      <td>1</td>\n",
       "      <td>553</td>\n",
       "      <td>0.012326</td>\n",
       "    </tr>\n",
       "    <tr>\n",
       "      <th>17</th>\n",
       "      <td>Submit Downgrade</td>\n",
       "      <td>1</td>\n",
       "      <td>9</td>\n",
       "      <td>0.000201</td>\n",
       "    </tr>\n",
       "    <tr>\n",
       "      <th>18</th>\n",
       "      <td>Save Settings</td>\n",
       "      <td>0</td>\n",
       "      <td>252</td>\n",
       "      <td>0.001080</td>\n",
       "    </tr>\n",
       "    <tr>\n",
       "      <th>19</th>\n",
       "      <td>Thumbs Up</td>\n",
       "      <td>0</td>\n",
       "      <td>10692</td>\n",
       "      <td>0.045831</td>\n",
       "    </tr>\n",
       "  </tbody>\n",
       "</table>\n",
       "</div>"
      ],
      "text/plain": [
       "                         page  churn  count      rate\n",
       "0                    Settings      0   1244  0.005332\n",
       "1                 Thumbs Down      1    496  0.011056\n",
       "2                   Thumbs Up      1   1859  0.041436\n",
       "3             Add to Playlist      1   1038  0.023137\n",
       "4                       Error      1     32  0.000713\n",
       "5                       About      1     56  0.001248\n",
       "6                 Thumbs Down      0   2050  0.008787\n",
       "7                 Roll Advert      1    967  0.021554\n",
       "8                        Home      0   8410  0.036050\n",
       "9   Cancellation Confirmation      1     52  0.001159\n",
       "10                      Error      0    220  0.000943\n",
       "11                     Cancel      1     52  0.001159\n",
       "12                   Settings      1    270  0.006018\n",
       "13                 Add Friend      1    636  0.014176\n",
       "14                    Upgrade      0    387  0.001659\n",
       "15                  Downgrade      1    337  0.007512\n",
       "16                     Logout      1    553  0.012326\n",
       "17           Submit Downgrade      1      9  0.000201\n",
       "18              Save Settings      0    252  0.001080\n",
       "19                  Thumbs Up      0  10692  0.045831"
      ]
     },
     "execution_count": 58,
     "metadata": {},
     "output_type": "execute_result"
    }
   ],
   "source": [
    "df_page.head(20)"
   ]
  },
  {
   "cell_type": "code",
   "execution_count": 59,
   "id": "43eab5aa",
   "metadata": {},
   "outputs": [
    {
     "data": {
      "image/png": "[encoded data removed]",
      "text/plain": [
       "<Figure size 1440x1152 with 1 Axes>"
      ]
     },
     "metadata": {},
     "output_type": "display_data"
    }
   ],
   "source": [
    "# plot the pages by churn\n",
    "plt.figure(figsize=[20,16])\n",
    "sns.barplot(data = df_page, x = 'rate', y = 'page', hue = 'churn')\n",
    "plt.title('Rate of Pages Navigated to by Users that Churned vs. Users that Stayed');"
   ]
  },
  {
   "cell_type": "markdown",
   "id": "ade47d6a",
   "metadata": {},
   "source": [
    "The above chart indicates that the most popular action for both users that stayed and those that churned was to skip to the next song. Also churned users rolled the ad and thumbs down songs more than those who were more likely to stayed whome performed more thumbs up actions, added friends and also added songs to playlist."
   ]
  },
  {
   "cell_type": "markdown",
   "id": "b1006e48",
   "metadata": {},
   "source": [
    "### Calculating Songs per Hour"
   ]
  },
  {
   "cell_type": "markdown",
   "id": "6b0879a7",
   "metadata": {},
   "source": [
    "Here is the calculation for the number of songs listened to by churn and non churn users per hour. "
   ]
  },
  {
   "cell_type": "code",
   "execution_count": 60,
   "id": "24cac622",
   "metadata": {},
   "outputs": [],
   "source": [
    "# get hour from the timestamp\n",
    "get_hour = udf(lambda x: datetime.datetime.fromtimestamp(x / 1000.0). hour)"
   ]
  },
  {
   "cell_type": "code",
   "execution_count": 61,
   "id": "31b97417",
   "metadata": {},
   "outputs": [
    {
     "name": "stderr",
     "output_type": "stream",
     "text": [
      "                                                                                \r"
     ]
    },
    {
     "data": {
      "text/plain": [
       "Row(artist=None, auth='Logged In', firstName='Bryanna', gender='F', itemInSession=43, lastName='Stone', length=None, level='free', location='Los Angeles-Long Beach-Anaheim, CA', method='PUT', page='Logout', registration=1537440271000, sessionId=201, song=None, status=307, ts=1543335219000, userAgent='Mozilla/5.0 (Macintosh; Intel Mac OS X 10.7; rv:31.0) Gecko/20100101 Firefox/31.0', userId='100008', churn=0, hour='16')"
      ]
     },
     "execution_count": 61,
     "metadata": {},
     "output_type": "execute_result"
    }
   ],
   "source": [
    "# create hour column\n",
    "df = df.withColumn(\"hour\", get_hour(df.ts))\n",
    "df.head()"
   ]
  },
  {
   "cell_type": "code",
   "execution_count": 62,
   "id": "65b71c76",
   "metadata": {},
   "outputs": [
    {
     "name": "stderr",
     "output_type": "stream",
     "text": [
      "[Stage 105:============================>                            (1 + 1) / 2]\r"
     ]
    },
    {
     "name": "stdout",
     "output_type": "stream",
     "text": [
      "+----+-----+\n",
      "|hour|count|\n",
      "+----+-----+\n",
      "|   0| 7763|\n",
      "|   1| 7337|\n",
      "|   2| 7000|\n",
      "|   3| 7009|\n",
      "|   4| 6934|\n",
      "|   5| 6779|\n",
      "|   6| 6906|\n",
      "|   7| 6905|\n",
      "|   8| 7003|\n",
      "|   9| 7098|\n",
      "|  10| 7308|\n",
      "|  11| 7300|\n",
      "|  12| 7877|\n",
      "|  13| 8043|\n",
      "|  14| 8508|\n",
      "|  15| 9223|\n",
      "|  16| 9529|\n",
      "|  17| 9682|\n",
      "|  18| 9327|\n",
      "|  19| 8984|\n",
      "|  20| 9106|\n",
      "|  21| 9135|\n",
      "|  22| 8655|\n",
      "|  23| 8303|\n",
      "+----+-----+\n",
      "\n"
     ]
    },
    {
     "name": "stderr",
     "output_type": "stream",
     "text": [
      "\r",
      "                                                                                \r"
     ]
    }
   ],
   "source": [
    "# create a df with those who didnt churn and which counts when user goes to next song page\n",
    "songs_in_hour_stay = df.filter((df.page == \"NextSong\") & (df.churn == 0)).groupby(df.hour).count().orderBy(df.hour.cast(\"float\"))\n",
    "songs_in_hour_stay.show(24)"
   ]
  },
  {
   "cell_type": "code",
   "execution_count": 63,
   "id": "b8595022",
   "metadata": {},
   "outputs": [
    {
     "name": "stderr",
     "output_type": "stream",
     "text": [
      "                                                                                \r"
     ]
    },
    {
     "data": {
      "text/html": [
       "<div>\n",
       "<style scoped>\n",
       "    .dataframe tbody tr th:only-of-type {\n",
       "        vertical-align: middle;\n",
       "    }\n",
       "\n",
       "    .dataframe tbody tr th {\n",
       "        vertical-align: top;\n",
       "    }\n",
       "\n",
       "    .dataframe thead th {\n",
       "        text-align: right;\n",
       "    }\n",
       "</style>\n",
       "<table border=\"1\" class=\"dataframe\">\n",
       "  <thead>\n",
       "    <tr style=\"text-align: right;\">\n",
       "      <th></th>\n",
       "      <th>hour</th>\n",
       "      <th>count</th>\n",
       "    </tr>\n",
       "  </thead>\n",
       "  <tbody>\n",
       "    <tr>\n",
       "      <th>0</th>\n",
       "      <td>0</td>\n",
       "      <td>7763</td>\n",
       "    </tr>\n",
       "    <tr>\n",
       "      <th>1</th>\n",
       "      <td>1</td>\n",
       "      <td>7337</td>\n",
       "    </tr>\n",
       "    <tr>\n",
       "      <th>2</th>\n",
       "      <td>2</td>\n",
       "      <td>7000</td>\n",
       "    </tr>\n",
       "    <tr>\n",
       "      <th>3</th>\n",
       "      <td>3</td>\n",
       "      <td>7009</td>\n",
       "    </tr>\n",
       "    <tr>\n",
       "      <th>4</th>\n",
       "      <td>4</td>\n",
       "      <td>6934</td>\n",
       "    </tr>\n",
       "    <tr>\n",
       "      <th>5</th>\n",
       "      <td>5</td>\n",
       "      <td>6779</td>\n",
       "    </tr>\n",
       "    <tr>\n",
       "      <th>6</th>\n",
       "      <td>6</td>\n",
       "      <td>6906</td>\n",
       "    </tr>\n",
       "    <tr>\n",
       "      <th>7</th>\n",
       "      <td>7</td>\n",
       "      <td>6905</td>\n",
       "    </tr>\n",
       "    <tr>\n",
       "      <th>8</th>\n",
       "      <td>8</td>\n",
       "      <td>7003</td>\n",
       "    </tr>\n",
       "    <tr>\n",
       "      <th>9</th>\n",
       "      <td>9</td>\n",
       "      <td>7098</td>\n",
       "    </tr>\n",
       "    <tr>\n",
       "      <th>10</th>\n",
       "      <td>10</td>\n",
       "      <td>7308</td>\n",
       "    </tr>\n",
       "    <tr>\n",
       "      <th>11</th>\n",
       "      <td>11</td>\n",
       "      <td>7300</td>\n",
       "    </tr>\n",
       "    <tr>\n",
       "      <th>12</th>\n",
       "      <td>12</td>\n",
       "      <td>7877</td>\n",
       "    </tr>\n",
       "    <tr>\n",
       "      <th>13</th>\n",
       "      <td>13</td>\n",
       "      <td>8043</td>\n",
       "    </tr>\n",
       "    <tr>\n",
       "      <th>14</th>\n",
       "      <td>14</td>\n",
       "      <td>8508</td>\n",
       "    </tr>\n",
       "    <tr>\n",
       "      <th>15</th>\n",
       "      <td>15</td>\n",
       "      <td>9223</td>\n",
       "    </tr>\n",
       "    <tr>\n",
       "      <th>16</th>\n",
       "      <td>16</td>\n",
       "      <td>9529</td>\n",
       "    </tr>\n",
       "    <tr>\n",
       "      <th>17</th>\n",
       "      <td>17</td>\n",
       "      <td>9682</td>\n",
       "    </tr>\n",
       "    <tr>\n",
       "      <th>18</th>\n",
       "      <td>18</td>\n",
       "      <td>9327</td>\n",
       "    </tr>\n",
       "    <tr>\n",
       "      <th>19</th>\n",
       "      <td>19</td>\n",
       "      <td>8984</td>\n",
       "    </tr>\n",
       "    <tr>\n",
       "      <th>20</th>\n",
       "      <td>20</td>\n",
       "      <td>9106</td>\n",
       "    </tr>\n",
       "    <tr>\n",
       "      <th>21</th>\n",
       "      <td>21</td>\n",
       "      <td>9135</td>\n",
       "    </tr>\n",
       "    <tr>\n",
       "      <th>22</th>\n",
       "      <td>22</td>\n",
       "      <td>8655</td>\n",
       "    </tr>\n",
       "    <tr>\n",
       "      <th>23</th>\n",
       "      <td>23</td>\n",
       "      <td>8303</td>\n",
       "    </tr>\n",
       "  </tbody>\n",
       "</table>\n",
       "</div>"
      ],
      "text/plain": [
       "    hour  count\n",
       "0      0   7763\n",
       "1      1   7337\n",
       "2      2   7000\n",
       "3      3   7009\n",
       "4      4   6934\n",
       "5      5   6779\n",
       "6      6   6906\n",
       "7      7   6905\n",
       "8      8   7003\n",
       "9      9   7098\n",
       "10    10   7308\n",
       "11    11   7300\n",
       "12    12   7877\n",
       "13    13   8043\n",
       "14    14   8508\n",
       "15    15   9223\n",
       "16    16   9529\n",
       "17    17   9682\n",
       "18    18   9327\n",
       "19    19   8984\n",
       "20    20   9106\n",
       "21    21   9135\n",
       "22    22   8655\n",
       "23    23   8303"
      ]
     },
     "execution_count": 63,
     "metadata": {},
     "output_type": "execute_result"
    }
   ],
   "source": [
    "# convert to pandas and then to numeric\n",
    "songs_in_hour_stay_pd = songs_in_hour_stay.toPandas()\n",
    "songs_in_hour_stay_pd.hour = pd.to_numeric(songs_in_hour_stay_pd.hour)\n",
    "songs_in_hour_stay_pd"
   ]
  },
  {
   "cell_type": "code",
   "execution_count": 64,
   "id": "2ba149de",
   "metadata": {},
   "outputs": [
    {
     "data": {
      "image/png": "[encoded data removed]",
      "text/plain": [
       "<Figure size 576x432 with 1 Axes>"
      ]
     },
     "metadata": {},
     "output_type": "display_data"
    }
   ],
   "source": [
    "#plot the distribution\n",
    "plt.figure(figsize = [8,6])\n",
    "plt.scatter(songs_in_hour_stay_pd[\"hour\"], songs_in_hour_stay_pd[\"count\"])\n",
    "plt.xlim(-1, 24)\n",
    "plt.xlabel(\"Hour\")\n",
    "plt.ylabel(\"Songs played\")\n",
    "plt.title(\"Number of Songs Played per Hour (Non Churn Users)\");"
   ]
  },
  {
   "cell_type": "markdown",
   "id": "fb424eca",
   "metadata": {},
   "source": [
    "We can see that there is a peak of songs played between 3pm and 8pm. Next we will examine users who churned by using the same process."
   ]
  },
  {
   "cell_type": "code",
   "execution_count": 69,
   "id": "8edae512",
   "metadata": {},
   "outputs": [
    {
     "name": "stderr",
     "output_type": "stream",
     "text": [
      "[Stage 143:============================>                            (1 + 1) / 2]\r"
     ]
    },
    {
     "name": "stdout",
     "output_type": "stream",
     "text": [
      "+----+-----+\n",
      "|hour|count|\n",
      "+----+-----+\n",
      "|   0| 1564|\n",
      "|   1| 1558|\n",
      "|   2| 1339|\n",
      "|   3| 1350|\n",
      "|   4| 1295|\n",
      "|   5| 1200|\n",
      "|   6| 1208|\n",
      "|   7| 1214|\n",
      "|   8| 1222|\n",
      "|   9| 1261|\n",
      "|  10| 1294|\n",
      "|  11| 1353|\n",
      "|  12| 1348|\n",
      "|  13| 1436|\n",
      "|  14| 1539|\n",
      "|  15| 1813|\n",
      "|  16| 1852|\n",
      "|  17| 1886|\n",
      "|  18| 2019|\n",
      "|  19| 1956|\n",
      "+----+-----+\n",
      "only showing top 20 rows\n",
      "\n"
     ]
    },
    {
     "name": "stderr",
     "output_type": "stream",
     "text": [
      "\r",
      "                                                                                \r"
     ]
    }
   ],
   "source": [
    "# dataframe with customers who churned and count next song page \n",
    "songs_in_hour_churned = df.filter((df.page == \"NextSong\") & (df.churn == 1)).groupby(df.hour).count().orderBy(df.hour.cast(\"float\"))\n",
    "songs_in_hour_churned.show()"
   ]
  },
  {
   "cell_type": "code",
   "execution_count": 70,
   "id": "057a3659",
   "metadata": {},
   "outputs": [
    {
     "name": "stderr",
     "output_type": "stream",
     "text": [
      "                                                                                \r"
     ]
    },
    {
     "data": {
      "text/html": [
       "<div>\n",
       "<style scoped>\n",
       "    .dataframe tbody tr th:only-of-type {\n",
       "        vertical-align: middle;\n",
       "    }\n",
       "\n",
       "    .dataframe tbody tr th {\n",
       "        vertical-align: top;\n",
       "    }\n",
       "\n",
       "    .dataframe thead th {\n",
       "        text-align: right;\n",
       "    }\n",
       "</style>\n",
       "<table border=\"1\" class=\"dataframe\">\n",
       "  <thead>\n",
       "    <tr style=\"text-align: right;\">\n",
       "      <th></th>\n",
       "      <th>hour</th>\n",
       "      <th>count</th>\n",
       "    </tr>\n",
       "  </thead>\n",
       "  <tbody>\n",
       "    <tr>\n",
       "      <th>0</th>\n",
       "      <td>0</td>\n",
       "      <td>1564</td>\n",
       "    </tr>\n",
       "    <tr>\n",
       "      <th>1</th>\n",
       "      <td>1</td>\n",
       "      <td>1558</td>\n",
       "    </tr>\n",
       "    <tr>\n",
       "      <th>2</th>\n",
       "      <td>2</td>\n",
       "      <td>1339</td>\n",
       "    </tr>\n",
       "    <tr>\n",
       "      <th>3</th>\n",
       "      <td>3</td>\n",
       "      <td>1350</td>\n",
       "    </tr>\n",
       "    <tr>\n",
       "      <th>4</th>\n",
       "      <td>4</td>\n",
       "      <td>1295</td>\n",
       "    </tr>\n",
       "    <tr>\n",
       "      <th>5</th>\n",
       "      <td>5</td>\n",
       "      <td>1200</td>\n",
       "    </tr>\n",
       "    <tr>\n",
       "      <th>6</th>\n",
       "      <td>6</td>\n",
       "      <td>1208</td>\n",
       "    </tr>\n",
       "    <tr>\n",
       "      <th>7</th>\n",
       "      <td>7</td>\n",
       "      <td>1214</td>\n",
       "    </tr>\n",
       "    <tr>\n",
       "      <th>8</th>\n",
       "      <td>8</td>\n",
       "      <td>1222</td>\n",
       "    </tr>\n",
       "    <tr>\n",
       "      <th>9</th>\n",
       "      <td>9</td>\n",
       "      <td>1261</td>\n",
       "    </tr>\n",
       "    <tr>\n",
       "      <th>10</th>\n",
       "      <td>10</td>\n",
       "      <td>1294</td>\n",
       "    </tr>\n",
       "    <tr>\n",
       "      <th>11</th>\n",
       "      <td>11</td>\n",
       "      <td>1353</td>\n",
       "    </tr>\n",
       "    <tr>\n",
       "      <th>12</th>\n",
       "      <td>12</td>\n",
       "      <td>1348</td>\n",
       "    </tr>\n",
       "    <tr>\n",
       "      <th>13</th>\n",
       "      <td>13</td>\n",
       "      <td>1436</td>\n",
       "    </tr>\n",
       "    <tr>\n",
       "      <th>14</th>\n",
       "      <td>14</td>\n",
       "      <td>1539</td>\n",
       "    </tr>\n",
       "    <tr>\n",
       "      <th>15</th>\n",
       "      <td>15</td>\n",
       "      <td>1813</td>\n",
       "    </tr>\n",
       "    <tr>\n",
       "      <th>16</th>\n",
       "      <td>16</td>\n",
       "      <td>1852</td>\n",
       "    </tr>\n",
       "    <tr>\n",
       "      <th>17</th>\n",
       "      <td>17</td>\n",
       "      <td>1886</td>\n",
       "    </tr>\n",
       "    <tr>\n",
       "      <th>18</th>\n",
       "      <td>18</td>\n",
       "      <td>2019</td>\n",
       "    </tr>\n",
       "    <tr>\n",
       "      <th>19</th>\n",
       "      <td>19</td>\n",
       "      <td>1956</td>\n",
       "    </tr>\n",
       "    <tr>\n",
       "      <th>20</th>\n",
       "      <td>20</td>\n",
       "      <td>1787</td>\n",
       "    </tr>\n",
       "    <tr>\n",
       "      <th>21</th>\n",
       "      <td>21</td>\n",
       "      <td>1688</td>\n",
       "    </tr>\n",
       "    <tr>\n",
       "      <th>22</th>\n",
       "      <td>22</td>\n",
       "      <td>1607</td>\n",
       "    </tr>\n",
       "    <tr>\n",
       "      <th>23</th>\n",
       "      <td>23</td>\n",
       "      <td>1605</td>\n",
       "    </tr>\n",
       "  </tbody>\n",
       "</table>\n",
       "</div>"
      ],
      "text/plain": [
       "    hour  count\n",
       "0      0   1564\n",
       "1      1   1558\n",
       "2      2   1339\n",
       "3      3   1350\n",
       "4      4   1295\n",
       "5      5   1200\n",
       "6      6   1208\n",
       "7      7   1214\n",
       "8      8   1222\n",
       "9      9   1261\n",
       "10    10   1294\n",
       "11    11   1353\n",
       "12    12   1348\n",
       "13    13   1436\n",
       "14    14   1539\n",
       "15    15   1813\n",
       "16    16   1852\n",
       "17    17   1886\n",
       "18    18   2019\n",
       "19    19   1956\n",
       "20    20   1787\n",
       "21    21   1688\n",
       "22    22   1607\n",
       "23    23   1605"
      ]
     },
     "execution_count": 70,
     "metadata": {},
     "output_type": "execute_result"
    }
   ],
   "source": [
    "# convert to pandas and to numeric\n",
    "songs_in_hour_churned = songs_in_hour_churned.toPandas()\n",
    "songs_in_hour_churned.hour = pd.to_numeric(songs_in_hour_churned.hour)\n",
    "songs_in_hour_churned"
   ]
  },
  {
   "cell_type": "code",
   "execution_count": 71,
   "id": "da93f077",
   "metadata": {},
   "outputs": [
    {
     "data": {
      "image/png": "[encoded data removed]",
      "text/plain": [
       "<Figure size 576x432 with 1 Axes>"
      ]
     },
     "metadata": {},
     "output_type": "display_data"
    }
   ],
   "source": [
    "#plot distribution of songs per hour for churned\n",
    "plt.figure(figsize = [8,6])\n",
    "plt.scatter(songs_in_hour_churned[\"hour\"], songs_in_hour_churned[\"count\"])\n",
    "plt.xlim(-1, 24)\n",
    "plt.xlabel(\"Hour\")\n",
    "plt.ylabel(\"Songs played\")\n",
    "plt.title(\"Number of Songs Played per Hour Users who Churned\");"
   ]
  },
  {
   "cell_type": "markdown",
   "id": "806291f4",
   "metadata": {},
   "source": [
    "We conclude users who churned had a similar distribution, however, they listened to fewer songs per hour than users that stayed."
   ]
  },
  {
   "cell_type": "markdown",
   "id": "0bba18a4",
   "metadata": {},
   "source": [
    "### Songs Per Session for Users who Churned vs. Those who Stayed"
   ]
  },
  {
   "cell_type": "markdown",
   "id": "683ff105",
   "metadata": {},
   "source": [
    "We can plot this in a simple way which will allow us to compare those who churned and those who stayed in a bar chart by getting the averages for both groups."
   ]
  },
  {
   "cell_type": "code",
   "execution_count": 79,
   "id": "a5d7f622",
   "metadata": {},
   "outputs": [],
   "source": [
    "df_songs = df.filter(df.page == \"NextSong\").dropDuplicates().groupBy('sessionId','churn').count()"
   ]
  },
  {
   "cell_type": "code",
   "execution_count": 80,
   "id": "1d6a1eb9",
   "metadata": {},
   "outputs": [
    {
     "name": "stderr",
     "output_type": "stream",
     "text": [
      "[Stage 177:==========================================>              (3 + 1) / 4]\r"
     ]
    },
    {
     "name": "stdout",
     "output_type": "stream",
     "text": [
      "+-----+-----------------+\n",
      "|churn|       avg(count)|\n",
      "+-----+-----------------+\n",
      "|    0| 93.3369036027264|\n",
      "|    1|79.81140350877193|\n",
      "+-----+-----------------+\n",
      "\n"
     ]
    },
    {
     "name": "stderr",
     "output_type": "stream",
     "text": [
      "\r",
      "                                                                                \r"
     ]
    }
   ],
   "source": [
    "# get average grouped by churn\n",
    "df_songs.groupby('churn').agg({\"count\":\"avg\"}).show()"
   ]
  },
  {
   "cell_type": "code",
   "execution_count": 81,
   "id": "caca21e1",
   "metadata": {},
   "outputs": [
    {
     "data": {
      "text/plain": [
       "DataFrame[churn: bigint, avg(count): double]"
      ]
     },
     "execution_count": 81,
     "metadata": {},
     "output_type": "execute_result"
    }
   ],
   "source": [
    "df_songs = df_songs.groupby('churn').agg({\"count\":\"avg\"})\n",
    "df_songs"
   ]
  },
  {
   "cell_type": "code",
   "execution_count": 82,
   "id": "dcbf04f9",
   "metadata": {},
   "outputs": [
    {
     "name": "stderr",
     "output_type": "stream",
     "text": [
      "                                                                                \r"
     ]
    },
    {
     "data": {
      "text/html": [
       "<div>\n",
       "<style scoped>\n",
       "    .dataframe tbody tr th:only-of-type {\n",
       "        vertical-align: middle;\n",
       "    }\n",
       "\n",
       "    .dataframe tbody tr th {\n",
       "        vertical-align: top;\n",
       "    }\n",
       "\n",
       "    .dataframe thead th {\n",
       "        text-align: right;\n",
       "    }\n",
       "</style>\n",
       "<table border=\"1\" class=\"dataframe\">\n",
       "  <thead>\n",
       "    <tr style=\"text-align: right;\">\n",
       "      <th></th>\n",
       "      <th>churn</th>\n",
       "      <th>avg(count)</th>\n",
       "    </tr>\n",
       "  </thead>\n",
       "  <tbody>\n",
       "    <tr>\n",
       "      <th>0</th>\n",
       "      <td>0</td>\n",
       "      <td>93.336904</td>\n",
       "    </tr>\n",
       "    <tr>\n",
       "      <th>1</th>\n",
       "      <td>1</td>\n",
       "      <td>79.811404</td>\n",
       "    </tr>\n",
       "  </tbody>\n",
       "</table>\n",
       "</div>"
      ],
      "text/plain": [
       "   churn  avg(count)\n",
       "0      0   93.336904\n",
       "1      1   79.811404"
      ]
     },
     "execution_count": 82,
     "metadata": {},
     "output_type": "execute_result"
    }
   ],
   "source": [
    "# convert this to pandas df\n",
    "df_songs = df_songs.toPandas()\n",
    "df_songs"
   ]
  },
  {
   "cell_type": "code",
   "execution_count": 83,
   "id": "a564bd68",
   "metadata": {},
   "outputs": [
    {
     "data": {
      "image/png": "[encoded data removed]",
      "text/plain": [
       "<Figure size 576x432 with 1 Axes>"
      ]
     },
     "metadata": {},
     "output_type": "display_data"
    }
   ],
   "source": [
    "#plot\n",
    "plt.figure(figsize = [8,6])\n",
    "ax = sns.barplot(data = df_songs, x = 'churn', y='avg(count)')\n",
    "plt.title(\"Average number of Songs Played per Session for Users that Churned vs. Users that Stayed\")\n",
    "plt.ylabel(\"Average Number of Songs Played Per Session\");"
   ]
  },
  {
   "cell_type": "markdown",
   "id": "2bb5b055",
   "metadata": {},
   "source": [
    "Unsurprisingly those churned from Sparkify actually listening to fewer songs on average per session."
   ]
  },
  {
   "cell_type": "markdown",
   "id": "7bec1815",
   "metadata": {},
   "source": [
    "### Number of Unique Artists Listened to"
   ]
  },
  {
   "cell_type": "markdown",
   "id": "50c5f474",
   "metadata": {},
   "source": [
    "We can create a similar chart for the number of artists that users listened to."
   ]
  },
  {
   "cell_type": "code",
   "execution_count": 84,
   "id": "fab8922f",
   "metadata": {},
   "outputs": [
    {
     "data": {
      "text/plain": [
       "DataFrame[userId: string, churn: bigint, count: bigint]"
      ]
     },
     "execution_count": 84,
     "metadata": {},
     "output_type": "execute_result"
    }
   ],
   "source": [
    "df_artists = df.select(\"artist\", \"userId\", \"churn\").dropDuplicates().groupby(\"userId\", \"churn\").count()\n",
    "df_artists"
   ]
  },
  {
   "cell_type": "code",
   "execution_count": 85,
   "id": "66f3a78c",
   "metadata": {},
   "outputs": [
    {
     "name": "stderr",
     "output_type": "stream",
     "text": [
      "[Stage 205:==============>                                          (1 + 3) / 4]\r"
     ]
    },
    {
     "name": "stdout",
     "output_type": "stream",
     "text": [
      "+-----+-----------------+\n",
      "|churn|       avg(count)|\n",
      "+-----+-----------------+\n",
      "|    0|750.7803468208092|\n",
      "|    1|519.6923076923077|\n",
      "+-----+-----------------+\n",
      "\n"
     ]
    },
    {
     "name": "stderr",
     "output_type": "stream",
     "text": [
      "\r",
      "[Stage 207:==========================================>              (3 + 1) / 4]\r",
      "\r",
      "                                                                                \r"
     ]
    }
   ],
   "source": [
    "# get averages\n",
    "df_artists.groupby('churn').agg({\"count\":\"avg\"}).show()"
   ]
  },
  {
   "cell_type": "code",
   "execution_count": 86,
   "id": "bf09c2ee",
   "metadata": {},
   "outputs": [
    {
     "name": "stderr",
     "output_type": "stream",
     "text": [
      "                                                                                \r"
     ]
    },
    {
     "data": {
      "text/html": [
       "<div>\n",
       "<style scoped>\n",
       "    .dataframe tbody tr th:only-of-type {\n",
       "        vertical-align: middle;\n",
       "    }\n",
       "\n",
       "    .dataframe tbody tr th {\n",
       "        vertical-align: top;\n",
       "    }\n",
       "\n",
       "    .dataframe thead th {\n",
       "        text-align: right;\n",
       "    }\n",
       "</style>\n",
       "<table border=\"1\" class=\"dataframe\">\n",
       "  <thead>\n",
       "    <tr style=\"text-align: right;\">\n",
       "      <th></th>\n",
       "      <th>userId</th>\n",
       "      <th>churn</th>\n",
       "      <th>count</th>\n",
       "    </tr>\n",
       "  </thead>\n",
       "  <tbody>\n",
       "    <tr>\n",
       "      <th>0</th>\n",
       "      <td>100008</td>\n",
       "      <td>0</td>\n",
       "      <td>624</td>\n",
       "    </tr>\n",
       "    <tr>\n",
       "      <th>1</th>\n",
       "      <td>100010</td>\n",
       "      <td>0</td>\n",
       "      <td>253</td>\n",
       "    </tr>\n",
       "    <tr>\n",
       "      <th>2</th>\n",
       "      <td>100014</td>\n",
       "      <td>1</td>\n",
       "      <td>234</td>\n",
       "    </tr>\n",
       "    <tr>\n",
       "      <th>3</th>\n",
       "      <td>100021</td>\n",
       "      <td>1</td>\n",
       "      <td>208</td>\n",
       "    </tr>\n",
       "    <tr>\n",
       "      <th>4</th>\n",
       "      <td>100022</td>\n",
       "      <td>1</td>\n",
       "      <td>556</td>\n",
       "    </tr>\n",
       "    <tr>\n",
       "      <th>...</th>\n",
       "      <td>...</td>\n",
       "      <td>...</td>\n",
       "      <td>...</td>\n",
       "    </tr>\n",
       "    <tr>\n",
       "      <th>220</th>\n",
       "      <td>80</td>\n",
       "      <td>0</td>\n",
       "      <td>327</td>\n",
       "    </tr>\n",
       "    <tr>\n",
       "      <th>221</th>\n",
       "      <td>83</td>\n",
       "      <td>0</td>\n",
       "      <td>927</td>\n",
       "    </tr>\n",
       "    <tr>\n",
       "      <th>222</th>\n",
       "      <td>88</td>\n",
       "      <td>0</td>\n",
       "      <td>1359</td>\n",
       "    </tr>\n",
       "    <tr>\n",
       "      <th>223</th>\n",
       "      <td>91</td>\n",
       "      <td>0</td>\n",
       "      <td>1619</td>\n",
       "    </tr>\n",
       "    <tr>\n",
       "      <th>224</th>\n",
       "      <td>94</td>\n",
       "      <td>0</td>\n",
       "      <td>140</td>\n",
       "    </tr>\n",
       "  </tbody>\n",
       "</table>\n",
       "<p>225 rows × 3 columns</p>\n",
       "</div>"
      ],
      "text/plain": [
       "     userId  churn  count\n",
       "0    100008      0    624\n",
       "1    100010      0    253\n",
       "2    100014      1    234\n",
       "3    100021      1    208\n",
       "4    100022      1    556\n",
       "..      ...    ...    ...\n",
       "220      80      0    327\n",
       "221      83      0    927\n",
       "222      88      0   1359\n",
       "223      91      0   1619\n",
       "224      94      0    140\n",
       "\n",
       "[225 rows x 3 columns]"
      ]
     },
     "execution_count": 86,
     "metadata": {},
     "output_type": "execute_result"
    }
   ],
   "source": [
    "# convert to pandas\n",
    "df_artists = df_artists.toPandas()\n",
    "df_artists"
   ]
  },
  {
   "cell_type": "code",
   "execution_count": 87,
   "id": "dc178e09",
   "metadata": {},
   "outputs": [
    {
     "data": {
      "text/plain": [
       "Text(0.5, 1.0, 'Number of Artists Listened to on Sparkify')"
      ]
     },
     "execution_count": 87,
     "metadata": {},
     "output_type": "execute_result"
    },
    {
     "data": {
      "image/png": "[encoded data removed]",
      "text/plain": [
       "<Figure size 576x432 with 1 Axes>"
      ]
     },
     "metadata": {},
     "output_type": "display_data"
    },
    {
     "name": "stdout",
     "output_type": "stream",
     "text": [
      "22/07/25 12:43:26 WARN HeartbeatReceiver: Removing executor driver with no recent heartbeats: 1723302 ms exceeds timeout 120000 ms\n",
      "22/07/25 12:43:26 WARN SparkContext: Killing executors is not supported by current scheduler.\n"
     ]
    }
   ],
   "source": [
    "#plot boxplot\n",
    "plt.figure(figsize = [8,6])\n",
    "ax = sns.boxplot(data = df_artists, x = 'churn', y='count')\n",
    "plt.title(\"Number of Artists Listened to on Sparkify\")"
   ]
  },
  {
   "cell_type": "markdown",
   "id": "b8fc6324",
   "metadata": {},
   "source": [
    "The boxplot demonstrates the max and medians for both groups. It shows that those who didn't churn listened to a larger number of different artists compared to those who churned."
   ]
  },
  {
   "cell_type": "markdown",
   "id": "665b14ba",
   "metadata": {},
   "source": [
    "### Location on Churn vs Staye"
   ]
  },
  {
   "cell_type": "code",
   "execution_count": 88,
   "id": "9a9045f5",
   "metadata": {},
   "outputs": [
    {
     "name": "stderr",
     "output_type": "stream",
     "text": [
      "[Stage 214:==============>                                          (1 + 3) / 4]\r"
     ]
    },
    {
     "name": "stdout",
     "output_type": "stream",
     "text": [
      "+--------------------+-----+\n",
      "|            location|count|\n",
      "+--------------------+-----+\n",
      "|     Gainesville, FL| 1229|\n",
      "|Atlantic City-Ham...| 2176|\n",
      "|Deltona-Daytona B...|   73|\n",
      "|San Diego-Carlsba...|  754|\n",
      "|Kingsport-Bristol...| 1863|\n",
      "|New Haven-Milford...| 4007|\n",
      "|  Corpus Christi, TX|   11|\n",
      "|         Dubuque, IA|  651|\n",
      "|Las Vegas-Henders...| 2042|\n",
      "|Indianapolis-Carm...|  970|\n",
      "|Seattle-Tacoma-Be...|  246|\n",
      "|   Winston-Salem, NC|  819|\n",
      "|     Bakersfield, CA| 1775|\n",
      "|Los Angeles-Long ...|30131|\n",
      "|Minneapolis-St. P...| 2134|\n",
      "|San Francisco-Oak...| 2647|\n",
      "|Phoenix-Mesa-Scot...| 4846|\n",
      "|Allentown-Bethleh...|  815|\n",
      "|Miami-Fort Lauder...| 3764|\n",
      "|           Selma, AL| 2027|\n",
      "+--------------------+-----+\n",
      "only showing top 20 rows\n",
      "\n"
     ]
    },
    {
     "name": "stderr",
     "output_type": "stream",
     "text": [
      "\r",
      "                                                                                \r"
     ]
    }
   ],
   "source": [
    "df.select(\"location\", \"userId\", \"churn\").groupby(\"location\").count().show()"
   ]
  },
  {
   "cell_type": "markdown",
   "id": "8bfca9a5",
   "metadata": {},
   "source": [
    "Let's just extract the state from the location by taking the last two characters in the location string."
   ]
  },
  {
   "cell_type": "code",
   "execution_count": 97,
   "id": "27a05a24",
   "metadata": {},
   "outputs": [],
   "source": [
    "# get last two characters\n",
    "get_state = udf(lambda x: x[-2:])"
   ]
  },
  {
   "cell_type": "code",
   "execution_count": 105,
   "id": "d265a359",
   "metadata": {},
   "outputs": [],
   "source": [
    "# create state column\n",
    "df_state = df.withColumn(\"state\", get_state(df.location))"
   ]
  },
  {
   "cell_type": "code",
   "execution_count": 91,
   "id": "a3b0448c",
   "metadata": {},
   "outputs": [
    {
     "name": "stderr",
     "output_type": "stream",
     "text": [
      "                                                                                \r"
     ]
    },
    {
     "data": {
      "text/plain": [
       "[Row(artist=None, auth='Logged In', firstName='Bryanna', gender='F', itemInSession=43, lastName='Stone', length=None, level='free', location='Los Angeles-Long Beach-Anaheim, CA', method='PUT', page='Logout', registration=1537440271000, sessionId=201, song=None, status=307, ts=1543335219000, userAgent='Mozilla/5.0 (Macintosh; Intel Mac OS X 10.7; rv:31.0) Gecko/20100101 Firefox/31.0', userId='100008', churn=0, hour='16', state='CA'),\n",
       " Row(artist='Bembeya Jazz National', auth='Logged In', firstName='Bryanna', gender='F', itemInSession=42, lastName='Stone', length=245.99465, level='free', location='Los Angeles-Long Beach-Anaheim, CA', method='PUT', page='NextSong', registration=1537440271000, sessionId=201, song='Alalake', status=200, ts=1543335218000, userAgent='Mozilla/5.0 (Macintosh; Intel Mac OS X 10.7; rv:31.0) Gecko/20100101 Firefox/31.0', userId='100008', churn=0, hour='16', state='CA')]"
      ]
     },
     "execution_count": 91,
     "metadata": {},
     "output_type": "execute_result"
    }
   ],
   "source": [
    "# check that create state column worked\n",
    "df_state.take(2)"
   ]
  },
  {
   "cell_type": "code",
   "execution_count": 106,
   "id": "07ebf1c1",
   "metadata": {},
   "outputs": [],
   "source": [
    "df_state = df_state.select(\"state\", \"userId\", \"churn\").dropDuplicates().groupby(\"state\", \"churn\").count()"
   ]
  },
  {
   "cell_type": "code",
   "execution_count": 107,
   "id": "b6a8cc55",
   "metadata": {},
   "outputs": [
    {
     "name": "stderr",
     "output_type": "stream",
     "text": [
      "                                                                                \r"
     ]
    },
    {
     "data": {
      "text/html": [
       "<div>\n",
       "<style scoped>\n",
       "    .dataframe tbody tr th:only-of-type {\n",
       "        vertical-align: middle;\n",
       "    }\n",
       "\n",
       "    .dataframe tbody tr th {\n",
       "        vertical-align: top;\n",
       "    }\n",
       "\n",
       "    .dataframe thead th {\n",
       "        text-align: right;\n",
       "    }\n",
       "</style>\n",
       "<table border=\"1\" class=\"dataframe\">\n",
       "  <thead>\n",
       "    <tr style=\"text-align: right;\">\n",
       "      <th></th>\n",
       "      <th>state</th>\n",
       "      <th>churn</th>\n",
       "      <th>count</th>\n",
       "    </tr>\n",
       "  </thead>\n",
       "  <tbody>\n",
       "    <tr>\n",
       "      <th>0</th>\n",
       "      <td>AL</td>\n",
       "      <td>0</td>\n",
       "      <td>4</td>\n",
       "    </tr>\n",
       "    <tr>\n",
       "      <th>1</th>\n",
       "      <td>IL</td>\n",
       "      <td>0</td>\n",
       "      <td>8</td>\n",
       "    </tr>\n",
       "    <tr>\n",
       "      <th>2</th>\n",
       "      <td>AZ</td>\n",
       "      <td>1</td>\n",
       "      <td>2</td>\n",
       "    </tr>\n",
       "    <tr>\n",
       "      <th>3</th>\n",
       "      <td>OH</td>\n",
       "      <td>0</td>\n",
       "      <td>1</td>\n",
       "    </tr>\n",
       "    <tr>\n",
       "      <th>4</th>\n",
       "      <td>AL</td>\n",
       "      <td>1</td>\n",
       "      <td>2</td>\n",
       "    </tr>\n",
       "    <tr>\n",
       "      <th>...</th>\n",
       "      <td>...</td>\n",
       "      <td>...</td>\n",
       "      <td>...</td>\n",
       "    </tr>\n",
       "    <tr>\n",
       "      <th>57</th>\n",
       "      <td>NY</td>\n",
       "      <td>0</td>\n",
       "      <td>4</td>\n",
       "    </tr>\n",
       "    <tr>\n",
       "      <th>58</th>\n",
       "      <td>TN</td>\n",
       "      <td>0</td>\n",
       "      <td>1</td>\n",
       "    </tr>\n",
       "    <tr>\n",
       "      <th>59</th>\n",
       "      <td>FL</td>\n",
       "      <td>0</td>\n",
       "      <td>11</td>\n",
       "    </tr>\n",
       "    <tr>\n",
       "      <th>60</th>\n",
       "      <td>NY</td>\n",
       "      <td>1</td>\n",
       "      <td>1</td>\n",
       "    </tr>\n",
       "    <tr>\n",
       "      <th>61</th>\n",
       "      <td>MD</td>\n",
       "      <td>1</td>\n",
       "      <td>3</td>\n",
       "    </tr>\n",
       "  </tbody>\n",
       "</table>\n",
       "<p>62 rows × 3 columns</p>\n",
       "</div>"
      ],
      "text/plain": [
       "   state  churn  count\n",
       "0     AL      0      4\n",
       "1     IL      0      8\n",
       "2     AZ      1      2\n",
       "3     OH      0      1\n",
       "4     AL      1      2\n",
       "..   ...    ...    ...\n",
       "57    NY      0      4\n",
       "58    TN      0      1\n",
       "59    FL      0     11\n",
       "60    NY      1      1\n",
       "61    MD      1      3\n",
       "\n",
       "[62 rows x 3 columns]"
      ]
     },
     "execution_count": 107,
     "metadata": {},
     "output_type": "execute_result"
    }
   ],
   "source": [
    "# convert to pandas \n",
    "df_state_pd = df_state.toPandas()\n",
    "df_state_pd"
   ]
  },
  {
   "cell_type": "code",
   "execution_count": 94,
   "id": "926da217",
   "metadata": {},
   "outputs": [
    {
     "data": {
      "image/png": "[encoded data removed]",
      "text/plain": [
       "<Figure size 1440x1152 with 1 Axes>"
      ]
     },
     "metadata": {},
     "output_type": "display_data"
    }
   ],
   "source": [
    "# plot \n",
    "plt.figure(figsize=[20,16])\n",
    "sns.barplot(data = df_state_pd, x = 'count', y = 'state', hue = 'churn')\n",
    "plt.title('Count of Users that Churned vs. Users that Stayed by US State');"
   ]
  },
  {
   "cell_type": "markdown",
   "id": "67b4bdaf",
   "metadata": {},
   "source": [
    "Most users were based in CA. More users in MI, KY, and OH states churned than stayed. This may be difficult to engineer a useful feature for when it comes to modelling. Let's leave this for now and move onto another column from our dataset; operating systems and browsers."
   ]
  },
  {
   "cell_type": "markdown",
   "id": "fd1a21d1",
   "metadata": {},
   "source": [
    "### UserAgent: Operating System and Browsers\n"
   ]
  },
  {
   "cell_type": "markdown",
   "id": "c8577206",
   "metadata": {},
   "source": [
    "Now we can extract the Operating System a user is on to understand if this has an effect on churn."
   ]
  },
  {
   "cell_type": "code",
   "execution_count": 119,
   "id": "7d115312",
   "metadata": {},
   "outputs": [
    {
     "name": "stderr",
     "output_type": "stream",
     "text": [
      "[Stage 252:==============>                                          (1 + 3) / 4]\r"
     ]
    },
    {
     "name": "stdout",
     "output_type": "stream",
     "text": [
      "+------+--------------------+-----+\n",
      "|userId|           userAgent|churn|\n",
      "+------+--------------------+-----+\n",
      "|   100|Mozilla/5.0 (Wind...|    0|\n",
      "|100005|\"Mozilla/5.0 (Mac...|    1|\n",
      "|100006|\"Mozilla/5.0 (Win...|    1|\n",
      "|100007|\"Mozilla/5.0 (Win...|    1|\n",
      "|100008|Mozilla/5.0 (Maci...|    0|\n",
      "|100009|\"Mozilla/5.0 (Win...|    1|\n",
      "|100010|\"Mozilla/5.0 (iPh...|    0|\n",
      "|100014|\"Mozilla/5.0 (Win...|    1|\n",
      "|100021|\"Mozilla/5.0 (Mac...|    1|\n",
      "|100022|Mozilla/5.0 (Maci...|    1|\n",
      "|100025|\"Mozilla/5.0 (Mac...|    1|\n",
      "|   101|Mozilla/5.0 (Wind...|    1|\n",
      "|   107|Mozilla/5.0 (Wind...|    0|\n",
      "|    11|Mozilla/5.0 (Wind...|    0|\n",
      "|   110|\"Mozilla/5.0 (Mac...|    0|\n",
      "|   112|Mozilla/5.0 (Wind...|    0|\n",
      "|   113|\"Mozilla/5.0 (Mac...|    0|\n",
      "|   118|\"Mozilla/5.0 (Win...|    0|\n",
      "|   120|\"Mozilla/5.0 (Mac...|    0|\n",
      "|   124|\"Mozilla/5.0 (Mac...|    0|\n",
      "+------+--------------------+-----+\n",
      "only showing top 20 rows\n",
      "\n"
     ]
    },
    {
     "name": "stderr",
     "output_type": "stream",
     "text": [
      "\r",
      "                                                                                \r"
     ]
    }
   ],
   "source": [
    "df_opsys = df.select(\"userId\", \"userAgent\", \"churn\").dropDuplicates(['userId'])\n",
    "df_opsys.show()"
   ]
  },
  {
   "cell_type": "code",
   "execution_count": 120,
   "id": "fdf11745",
   "metadata": {},
   "outputs": [
    {
     "name": "stderr",
     "output_type": "stream",
     "text": [
      "                                                                                \r"
     ]
    },
    {
     "data": {
      "text/html": [
       "<div>\n",
       "<style scoped>\n",
       "    .dataframe tbody tr th:only-of-type {\n",
       "        vertical-align: middle;\n",
       "    }\n",
       "\n",
       "    .dataframe tbody tr th {\n",
       "        vertical-align: top;\n",
       "    }\n",
       "\n",
       "    .dataframe thead th {\n",
       "        text-align: right;\n",
       "    }\n",
       "</style>\n",
       "<table border=\"1\" class=\"dataframe\">\n",
       "  <thead>\n",
       "    <tr style=\"text-align: right;\">\n",
       "      <th></th>\n",
       "      <th>userId</th>\n",
       "      <th>userAgent</th>\n",
       "      <th>churn</th>\n",
       "    </tr>\n",
       "  </thead>\n",
       "  <tbody>\n",
       "    <tr>\n",
       "      <th>0</th>\n",
       "      <td>100</td>\n",
       "      <td>Mozilla/5.0 (Windows NT 6.1; WOW64; rv:30.0) G...</td>\n",
       "      <td>0</td>\n",
       "    </tr>\n",
       "    <tr>\n",
       "      <th>1</th>\n",
       "      <td>100005</td>\n",
       "      <td>\"Mozilla/5.0 (Macintosh; Intel Mac OS X 10_9_4...</td>\n",
       "      <td>1</td>\n",
       "    </tr>\n",
       "    <tr>\n",
       "      <th>2</th>\n",
       "      <td>100006</td>\n",
       "      <td>\"Mozilla/5.0 (Windows NT 6.3; WOW64) AppleWebK...</td>\n",
       "      <td>1</td>\n",
       "    </tr>\n",
       "    <tr>\n",
       "      <th>3</th>\n",
       "      <td>100007</td>\n",
       "      <td>\"Mozilla/5.0 (Windows NT 6.3; WOW64) AppleWebK...</td>\n",
       "      <td>1</td>\n",
       "    </tr>\n",
       "    <tr>\n",
       "      <th>4</th>\n",
       "      <td>100008</td>\n",
       "      <td>Mozilla/5.0 (Macintosh; Intel Mac OS X 10.7; r...</td>\n",
       "      <td>0</td>\n",
       "    </tr>\n",
       "    <tr>\n",
       "      <th>...</th>\n",
       "      <td>...</td>\n",
       "      <td>...</td>\n",
       "      <td>...</td>\n",
       "    </tr>\n",
       "    <tr>\n",
       "      <th>220</th>\n",
       "      <td>92</td>\n",
       "      <td>\"Mozilla/5.0 (iPad; CPU OS 7_1_2 like Mac OS X...</td>\n",
       "      <td>0</td>\n",
       "    </tr>\n",
       "    <tr>\n",
       "      <th>221</th>\n",
       "      <td>93</td>\n",
       "      <td>Mozilla/5.0 (compatible; MSIE 10.0; Windows NT...</td>\n",
       "      <td>0</td>\n",
       "    </tr>\n",
       "    <tr>\n",
       "      <th>222</th>\n",
       "      <td>94</td>\n",
       "      <td>\"Mozilla/5.0 (Windows NT 6.2; WOW64) AppleWebK...</td>\n",
       "      <td>0</td>\n",
       "    </tr>\n",
       "    <tr>\n",
       "      <th>223</th>\n",
       "      <td>95</td>\n",
       "      <td>Mozilla/5.0 (Macintosh; Intel Mac OS X 10.9; r...</td>\n",
       "      <td>0</td>\n",
       "    </tr>\n",
       "    <tr>\n",
       "      <th>224</th>\n",
       "      <td>97</td>\n",
       "      <td>\"Mozilla/5.0 (Windows NT 5.1) AppleWebKit/537....</td>\n",
       "      <td>0</td>\n",
       "    </tr>\n",
       "  </tbody>\n",
       "</table>\n",
       "<p>225 rows × 3 columns</p>\n",
       "</div>"
      ],
      "text/plain": [
       "     userId                                          userAgent  churn\n",
       "0       100  Mozilla/5.0 (Windows NT 6.1; WOW64; rv:30.0) G...      0\n",
       "1    100005  \"Mozilla/5.0 (Macintosh; Intel Mac OS X 10_9_4...      1\n",
       "2    100006  \"Mozilla/5.0 (Windows NT 6.3; WOW64) AppleWebK...      1\n",
       "3    100007  \"Mozilla/5.0 (Windows NT 6.3; WOW64) AppleWebK...      1\n",
       "4    100008  Mozilla/5.0 (Macintosh; Intel Mac OS X 10.7; r...      0\n",
       "..      ...                                                ...    ...\n",
       "220      92  \"Mozilla/5.0 (iPad; CPU OS 7_1_2 like Mac OS X...      0\n",
       "221      93  Mozilla/5.0 (compatible; MSIE 10.0; Windows NT...      0\n",
       "222      94  \"Mozilla/5.0 (Windows NT 6.2; WOW64) AppleWebK...      0\n",
       "223      95  Mozilla/5.0 (Macintosh; Intel Mac OS X 10.9; r...      0\n",
       "224      97  \"Mozilla/5.0 (Windows NT 5.1) AppleWebKit/537....      0\n",
       "\n",
       "[225 rows x 3 columns]"
      ]
     },
     "execution_count": 120,
     "metadata": {},
     "output_type": "execute_result"
    }
   ],
   "source": [
    "# convert to pandas\n",
    "df_opsys = df_opsys.toPandas()\n",
    "df_opsys"
   ]
  },
  {
   "cell_type": "code",
   "execution_count": 124,
   "id": "ea7558ed",
   "metadata": {},
   "outputs": [
    {
     "data": {
      "text/plain": [
       "\"Mozilla/5.0 (Windows NT 6.1; WOW64) AppleWebKit/537.36 (KHTML, like Gecko) Chrome/36.0.1985.143 Safari/537.36\"                                24\n",
       "Mozilla/5.0 (Windows NT 6.1; WOW64; rv:31.0) Gecko/20100101 Firefox/31.0                                                                       18\n",
       "\"Mozilla/5.0 (Macintosh; Intel Mac OS X 10_9_4) AppleWebKit/537.36 (KHTML, like Gecko) Chrome/36.0.1985.125 Safari/537.36\"                     16\n",
       "\"Mozilla/5.0 (Macintosh; Intel Mac OS X 10_9_4) AppleWebKit/537.36 (KHTML, like Gecko) Chrome/36.0.1985.143 Safari/537.36\"                     12\n",
       "\"Mozilla/5.0 (Macintosh; Intel Mac OS X 10_9_4) AppleWebKit/537.77.4 (KHTML, like Gecko) Version/7.0.5 Safari/537.77.4\"                        12\n",
       "\"Mozilla/5.0 (Windows NT 6.1; WOW64) AppleWebKit/537.36 (KHTML, like Gecko) Chrome/36.0.1985.125 Safari/537.36\"                                10\n",
       "\"Mozilla/5.0 (Macintosh; Intel Mac OS X 10_9_4) AppleWebKit/537.78.2 (KHTML, like Gecko) Version/7.0.6 Safari/537.78.2\"                        10\n",
       "Mozilla/5.0 (Macintosh; Intel Mac OS X 10.9; rv:31.0) Gecko/20100101 Firefox/31.0                                                               9\n",
       "\"Mozilla/5.0 (iPhone; CPU iPhone OS 7_1_2 like Mac OS X) AppleWebKit/537.51.2 (KHTML, like Gecko) Version/7.0 Mobile/11D257 Safari/9537.53\"     8\n",
       "Mozilla/5.0 (Windows NT 6.1; WOW64; Trident/7.0; rv:11.0) like Gecko                                                                            7\n",
       "\"Mozilla/5.0 (Macintosh; Intel Mac OS X 10_9_4) AppleWebKit/537.36 (KHTML, like Gecko) Chrome/37.0.2062.94 Safari/537.36\"                       7\n",
       "\"Mozilla/5.0 (Windows NT 6.3; WOW64) AppleWebKit/537.36 (KHTML, like Gecko) Chrome/36.0.1985.143 Safari/537.36\"                                 7\n",
       "\"Mozilla/5.0 (Windows NT 6.3; WOW64) AppleWebKit/537.36 (KHTML, like Gecko) Chrome/36.0.1985.125 Safari/537.36\"                                 5\n",
       "\"Mozilla/5.0 (Windows NT 5.1) AppleWebKit/537.36 (KHTML, like Gecko) Chrome/36.0.1985.143 Safari/537.36\"                                        4\n",
       "\"Mozilla/5.0 (X11; Linux x86_64) AppleWebKit/537.36 (KHTML, like Gecko) Chrome/36.0.1985.143 Safari/537.36\"                                     4\n",
       "\"Mozilla/5.0 (Windows NT 6.1) AppleWebKit/537.36 (KHTML, like Gecko) Chrome/36.0.1985.143 Safari/537.36\"                                        4\n",
       "Mozilla/5.0 (X11; Ubuntu; Linux x86_64; rv:31.0) Gecko/20100101 Firefox/31.0                                                                    4\n",
       "\"Mozilla/5.0 (iPhone; CPU iPhone OS 7_1 like Mac OS X) AppleWebKit/537.51.2 (KHTML, like Gecko) Version/7.0 Mobile/11D167 Safari/9537.53\"       4\n",
       "Mozilla/5.0 (Windows NT 6.3; WOW64; rv:31.0) Gecko/20100101 Firefox/31.0                                                                        4\n",
       "\"Mozilla/5.0 (Windows NT 6.1; WOW64) AppleWebKit/537.36 (KHTML, like Gecko) Chrome/37.0.2062.94 Safari/537.36\"                                  4\n",
       "\"Mozilla/5.0 (Windows NT 6.1; WOW64) AppleWebKit/537.36 (KHTML, like Gecko) Chrome/37.0.2062.103 Safari/537.36\"                                 3\n",
       "Mozilla/5.0 (compatible; MSIE 9.0; Windows NT 6.1; WOW64; Trident/5.0)                                                                          3\n",
       "Mozilla/5.0 (Windows NT 6.1; rv:31.0) Gecko/20100101 Firefox/31.0                                                                               3\n",
       "Mozilla/5.0 (Macintosh; Intel Mac OS X 10.7; rv:31.0) Gecko/20100101 Firefox/31.0                                                               2\n",
       "Mozilla/5.0 (Windows NT 6.1; WOW64; rv:32.0) Gecko/20100101 Firefox/32.0                                                                        2\n",
       "\"Mozilla/5.0 (iPad; CPU OS 7_1_2 like Mac OS X) AppleWebKit/537.51.2 (KHTML, like Gecko) Version/7.0 Mobile/11D257 Safari/9537.53\"              2\n",
       "\"Mozilla/5.0 (Windows NT 6.1; WOW64) AppleWebKit/537.36 (KHTML, like Gecko) Chrome/35.0.1916.153 Safari/537.36\"                                 2\n",
       "\"Mozilla/5.0 (Macintosh; Intel Mac OS X 10_10) AppleWebKit/600.1.8 (KHTML, like Gecko) Version/8.0 Safari/600.1.8\"                              2\n",
       "\"Mozilla/5.0 (Windows NT 6.2; WOW64) AppleWebKit/537.36 (KHTML, like Gecko) Chrome/36.0.1985.143 Safari/537.36\"                                 2\n",
       "\"Mozilla/5.0 (X11; Linux x86_64) AppleWebKit/537.36 (KHTML, like Gecko) Chrome/36.0.1985.125 Safari/537.36\"                                     2\n",
       "\"Mozilla/5.0 (Macintosh; Intel Mac OS X 10_9_4) AppleWebKit/537.36 (KHTML, like Gecko) Chrome/35.0.1916.153 Safari/537.36\"                      2\n",
       "\"Mozilla/5.0 (Macintosh; Intel Mac OS X 10_9_2) AppleWebKit/537.36 (KHTML, like Gecko) Chrome/36.0.1985.125 Safari/537.36\"                      2\n",
       "\"Mozilla/5.0 (Macintosh; Intel Mac OS X 10_7_5) AppleWebKit/537.77.4 (KHTML, like Gecko) Version/6.1.5 Safari/537.77.4\"                         2\n",
       "\"Mozilla/5.0 (Macintosh; Intel Mac OS X 10_10) AppleWebKit/600.1.3 (KHTML, like Gecko) Version/8.0 Safari/600.1.3\"                              1\n",
       "\"Mozilla/5.0 (Macintosh; Intel Mac OS X 10_9_2) AppleWebKit/537.74.9 (KHTML, like Gecko) Version/7.0.2 Safari/537.74.9\"                         1\n",
       "Mozilla/5.0 (X11; Linux x86_64; rv:31.0) Gecko/20100101 Firefox/31.0                                                                            1\n",
       "\"Mozilla/5.0 (Macintosh; Intel Mac OS X 10_9_3) AppleWebKit/537.76.4 (KHTML, like Gecko) Version/7.0.4 Safari/537.76.4\"                         1\n",
       "Mozilla/5.0 (Windows NT 6.0; rv:31.0) Gecko/20100101 Firefox/31.0                                                                               1\n",
       "Mozilla/5.0 (Macintosh; Intel Mac OS X 10.8; rv:31.0) Gecko/20100101 Firefox/31.0                                                               1\n",
       "Mozilla/5.0 (X11; Ubuntu; Linux i686; rv:31.0) Gecko/20100101 Firefox/31.0                                                                      1\n",
       "\"Mozilla/5.0 (Macintosh; Intel Mac OS X 10_9_2) AppleWebKit/537.75.14 (KHTML, like Gecko) Version/7.0.3 Safari/537.75.14\"                       1\n",
       "Mozilla/5.0 (Windows NT 6.1; WOW64; rv:30.0) Gecko/20100101 Firefox/30.0                                                                        1\n",
       "\"Mozilla/5.0 (Windows NT 6.1) AppleWebKit/537.36 (KHTML, like Gecko) Chrome/36.0.1985.125 Safari/537.36\"                                        1\n",
       "Mozilla/5.0 (compatible; MSIE 9.0; Windows NT 6.1; Trident/5.0)                                                                                 1\n",
       "\"Mozilla/5.0 (Macintosh; Intel Mac OS X 10_6_8) AppleWebKit/537.36 (KHTML, like Gecko) Chrome/36.0.1985.143 Safari/537.36\"                      1\n",
       "\"Mozilla/5.0 (iPhone; CPU iPhone OS 7_1_1 like Mac OS X) AppleWebKit/537.51.2 (KHTML, like Gecko) Version/7.0 Mobile/11D201 Safari/9537.53\"     1\n",
       "Mozilla/5.0 (Macintosh; Intel Mac OS X 10.6; rv:31.0) Gecko/20100101 Firefox/31.0                                                               1\n",
       "\"Mozilla/5.0 (Macintosh; Intel Mac OS X 10_8_5) AppleWebKit/537.36 (KHTML, like Gecko) Chrome/36.0.1985.143 Safari/537.36\"                      1\n",
       "\"Mozilla/5.0 (Macintosh; Intel Mac OS X 10_7_5) AppleWebKit/537.36 (KHTML, like Gecko) Chrome/36.0.1985.125 Safari/537.36\"                      1\n",
       "\"Mozilla/5.0 (Windows NT 5.1) AppleWebKit/537.36 (KHTML, like Gecko) Chrome/36.0.1985.125 Safari/537.36\"                                        1\n",
       "Mozilla/5.0 (Windows NT 6.1; WOW64; rv:24.0) Gecko/20100101 Firefox/24.0                                                                        1\n",
       "\"Mozilla/5.0 (iPad; CPU OS 7_1_1 like Mac OS X) AppleWebKit/537.51.2 (KHTML, like Gecko) Version/7.0 Mobile/11D201 Safari/9537.53\"              1\n",
       "\"Mozilla/5.0 (Windows NT 6.2; WOW64) AppleWebKit/537.36 (KHTML, like Gecko) Chrome/36.0.1985.125 Safari/537.36\"                                 1\n",
       "\"Mozilla/5.0 (Macintosh; Intel Mac OS X 10_8_5) AppleWebKit/537.36 (KHTML, like Gecko) Chrome/37.0.2062.94 Safari/537.36\"                       1\n",
       "Mozilla/5.0 (Windows NT 6.2; WOW64; rv:31.0) Gecko/20100101 Firefox/31.0                                                                        1\n",
       "Mozilla/5.0 (compatible; MSIE 10.0; Windows NT 6.1; WOW64; Trident/6.0)                                                                         1\n",
       "Name: userAgent, dtype: int64"
      ]
     },
     "execution_count": 124,
     "metadata": {},
     "output_type": "execute_result"
    }
   ],
   "source": [
    "# get the possible list of operating systems\n",
    "df_opsys.userAgent.value_counts()"
   ]
  },
  {
   "cell_type": "code",
   "execution_count": 125,
   "id": "b11f3b41",
   "metadata": {},
   "outputs": [],
   "source": [
    "# create list of operating systems\n",
    "os_list = [\"Windows\", \"Mac\", \"Linux\", \"iPhone\", \"iPad\"]"
   ]
  },
  {
   "cell_type": "code",
   "execution_count": 126,
   "id": "80554807",
   "metadata": {},
   "outputs": [],
   "source": [
    "# create os column and extract strings that match our os_list and add to column \n",
    "df_opsys['os'] = df_opsys.userAgent.str.extract('(?i)({0})'.format('|'.join(os_list)))"
   ]
  },
  {
   "cell_type": "code",
   "execution_count": 127,
   "id": "cfbab477",
   "metadata": {},
   "outputs": [
    {
     "data": {
      "text/html": [
       "<div>\n",
       "<style scoped>\n",
       "    .dataframe tbody tr th:only-of-type {\n",
       "        vertical-align: middle;\n",
       "    }\n",
       "\n",
       "    .dataframe tbody tr th {\n",
       "        vertical-align: top;\n",
       "    }\n",
       "\n",
       "    .dataframe thead th {\n",
       "        text-align: right;\n",
       "    }\n",
       "</style>\n",
       "<table border=\"1\" class=\"dataframe\">\n",
       "  <thead>\n",
       "    <tr style=\"text-align: right;\">\n",
       "      <th></th>\n",
       "      <th>userId</th>\n",
       "      <th>userAgent</th>\n",
       "      <th>churn</th>\n",
       "      <th>os</th>\n",
       "    </tr>\n",
       "  </thead>\n",
       "  <tbody>\n",
       "    <tr>\n",
       "      <th>0</th>\n",
       "      <td>100</td>\n",
       "      <td>Mozilla/5.0 (Windows NT 6.1; WOW64; rv:30.0) G...</td>\n",
       "      <td>0</td>\n",
       "      <td>Windows</td>\n",
       "    </tr>\n",
       "    <tr>\n",
       "      <th>1</th>\n",
       "      <td>100005</td>\n",
       "      <td>\"Mozilla/5.0 (Macintosh; Intel Mac OS X 10_9_4...</td>\n",
       "      <td>1</td>\n",
       "      <td>Mac</td>\n",
       "    </tr>\n",
       "    <tr>\n",
       "      <th>2</th>\n",
       "      <td>100006</td>\n",
       "      <td>\"Mozilla/5.0 (Windows NT 6.3; WOW64) AppleWebK...</td>\n",
       "      <td>1</td>\n",
       "      <td>Windows</td>\n",
       "    </tr>\n",
       "    <tr>\n",
       "      <th>3</th>\n",
       "      <td>100007</td>\n",
       "      <td>\"Mozilla/5.0 (Windows NT 6.3; WOW64) AppleWebK...</td>\n",
       "      <td>1</td>\n",
       "      <td>Windows</td>\n",
       "    </tr>\n",
       "    <tr>\n",
       "      <th>4</th>\n",
       "      <td>100008</td>\n",
       "      <td>Mozilla/5.0 (Macintosh; Intel Mac OS X 10.7; r...</td>\n",
       "      <td>0</td>\n",
       "      <td>Mac</td>\n",
       "    </tr>\n",
       "    <tr>\n",
       "      <th>...</th>\n",
       "      <td>...</td>\n",
       "      <td>...</td>\n",
       "      <td>...</td>\n",
       "      <td>...</td>\n",
       "    </tr>\n",
       "    <tr>\n",
       "      <th>220</th>\n",
       "      <td>92</td>\n",
       "      <td>\"Mozilla/5.0 (iPad; CPU OS 7_1_2 like Mac OS X...</td>\n",
       "      <td>0</td>\n",
       "      <td>iPad</td>\n",
       "    </tr>\n",
       "    <tr>\n",
       "      <th>221</th>\n",
       "      <td>93</td>\n",
       "      <td>Mozilla/5.0 (compatible; MSIE 10.0; Windows NT...</td>\n",
       "      <td>0</td>\n",
       "      <td>Windows</td>\n",
       "    </tr>\n",
       "    <tr>\n",
       "      <th>222</th>\n",
       "      <td>94</td>\n",
       "      <td>\"Mozilla/5.0 (Windows NT 6.2; WOW64) AppleWebK...</td>\n",
       "      <td>0</td>\n",
       "      <td>Windows</td>\n",
       "    </tr>\n",
       "    <tr>\n",
       "      <th>223</th>\n",
       "      <td>95</td>\n",
       "      <td>Mozilla/5.0 (Macintosh; Intel Mac OS X 10.9; r...</td>\n",
       "      <td>0</td>\n",
       "      <td>Mac</td>\n",
       "    </tr>\n",
       "    <tr>\n",
       "      <th>224</th>\n",
       "      <td>97</td>\n",
       "      <td>\"Mozilla/5.0 (Windows NT 5.1) AppleWebKit/537....</td>\n",
       "      <td>0</td>\n",
       "      <td>Windows</td>\n",
       "    </tr>\n",
       "  </tbody>\n",
       "</table>\n",
       "<p>225 rows × 4 columns</p>\n",
       "</div>"
      ],
      "text/plain": [
       "     userId                                          userAgent  churn       os\n",
       "0       100  Mozilla/5.0 (Windows NT 6.1; WOW64; rv:30.0) G...      0  Windows\n",
       "1    100005  \"Mozilla/5.0 (Macintosh; Intel Mac OS X 10_9_4...      1      Mac\n",
       "2    100006  \"Mozilla/5.0 (Windows NT 6.3; WOW64) AppleWebK...      1  Windows\n",
       "3    100007  \"Mozilla/5.0 (Windows NT 6.3; WOW64) AppleWebK...      1  Windows\n",
       "4    100008  Mozilla/5.0 (Macintosh; Intel Mac OS X 10.7; r...      0      Mac\n",
       "..      ...                                                ...    ...      ...\n",
       "220      92  \"Mozilla/5.0 (iPad; CPU OS 7_1_2 like Mac OS X...      0     iPad\n",
       "221      93  Mozilla/5.0 (compatible; MSIE 10.0; Windows NT...      0  Windows\n",
       "222      94  \"Mozilla/5.0 (Windows NT 6.2; WOW64) AppleWebK...      0  Windows\n",
       "223      95  Mozilla/5.0 (Macintosh; Intel Mac OS X 10.9; r...      0      Mac\n",
       "224      97  \"Mozilla/5.0 (Windows NT 5.1) AppleWebKit/537....      0  Windows\n",
       "\n",
       "[225 rows x 4 columns]"
      ]
     },
     "execution_count": 127,
     "metadata": {},
     "output_type": "execute_result"
    }
   ],
   "source": [
    "# check that worked\n",
    "df_opsys"
   ]
  },
  {
   "cell_type": "code",
   "execution_count": 128,
   "id": "659a81a8",
   "metadata": {},
   "outputs": [
    {
     "data": {
      "text/plain": [
       "Windows    111\n",
       "Mac         86\n",
       "iPhone      13\n",
       "Linux       12\n",
       "iPad         3\n",
       "Name: os, dtype: int64"
      ]
     },
     "execution_count": 128,
     "metadata": {},
     "output_type": "execute_result"
    }
   ],
   "source": [
    "df_opsys.os.value_counts()"
   ]
  },
  {
   "cell_type": "code",
   "execution_count": 129,
   "id": "5051a945",
   "metadata": {},
   "outputs": [],
   "source": [
    "# order for the plot\n",
    "os_order = df_opsys.os.value_counts().index"
   ]
  },
  {
   "cell_type": "code",
   "execution_count": 130,
   "id": "e0ccd846",
   "metadata": {},
   "outputs": [
    {
     "data": {
      "image/png": "[encoded data removed]",
      "text/plain": [
       "<Figure size 720x576 with 1 Axes>"
      ]
     },
     "metadata": {},
     "output_type": "display_data"
    }
   ],
   "source": [
    "# plot count for churn and non churn users\n",
    "plt.figure(figsize=[10,8])\n",
    "sns.countplot(data = df_opsys, x = 'os', hue ='churn', order = os_order)\n",
    "plt.title('Count of Users that Churned vs. Users that Stayed by Operating System')\n",
    "plt.legend(loc = 1, ncol = 2, framealpha =1, title = 'level');"
   ]
  },
  {
   "cell_type": "markdown",
   "id": "7dfa8b3d",
   "metadata": {},
   "source": [
    "Windows was the most used. Linux users have the highest rate of churn. It is very few customers that this has affected therefore this won't be used in our model. Next, we can also look if browsers had an effect on churn using the same process."
   ]
  },
  {
   "cell_type": "code",
   "execution_count": 131,
   "id": "7279a69a",
   "metadata": {},
   "outputs": [],
   "source": [
    "browser_list = [\"Chrome\", \"Firefox\", \"Safari\", \"Trident\"]"
   ]
  },
  {
   "cell_type": "code",
   "execution_count": 132,
   "id": "63046ab3",
   "metadata": {},
   "outputs": [],
   "source": [
    "df_opsys['browser'] = df_opsys.userAgent.str.extract('(?i)({0})'.format('|'.join(browser_list)))"
   ]
  },
  {
   "cell_type": "code",
   "execution_count": 133,
   "id": "9e7dffd3",
   "metadata": {},
   "outputs": [
    {
     "data": {
      "text/plain": [
       "Chrome     117\n",
       "Firefox     50\n",
       "Safari      46\n",
       "Trident     12\n",
       "Name: browser, dtype: int64"
      ]
     },
     "execution_count": 133,
     "metadata": {},
     "output_type": "execute_result"
    }
   ],
   "source": [
    "df_opsys.browser.value_counts()"
   ]
  },
  {
   "cell_type": "markdown",
   "id": "af14c4a0",
   "metadata": {},
   "source": [
    "Here Trident is Internet Explorer software. Let's change Trident to 'Internet Explorer' as it is better known."
   ]
  },
  {
   "cell_type": "code",
   "execution_count": 134,
   "id": "b7401a12",
   "metadata": {},
   "outputs": [],
   "source": [
    "df_opsys['browser'].replace({\"Trident\":\"Internet Explorer\"}, inplace = True)"
   ]
  },
  {
   "cell_type": "code",
   "execution_count": 136,
   "id": "8f8c423a",
   "metadata": {},
   "outputs": [],
   "source": [
    "# order for the plot\n",
    "browser_order = df_opsys.browser.value_counts().index"
   ]
  },
  {
   "cell_type": "code",
   "execution_count": 137,
   "id": "28cacc6e",
   "metadata": {},
   "outputs": [
    {
     "data": {
      "image/png": "[encoded data removed]",
      "text/plain": [
       "<Figure size 720x576 with 1 Axes>"
      ]
     },
     "metadata": {},
     "output_type": "display_data"
    }
   ],
   "source": [
    "plt.figure(figsize=[10,8])\n",
    "sns.countplot(data = df_opsys, x = 'browser', hue ='churn', order = browser_order)\n",
    "plt.title('Count of Users that Churned vs. Users that Stayed by Browser')\n",
    "plt.legend(loc = 1, ncol = 2, framealpha =1, title = 'level');"
   ]
  },
  {
   "cell_type": "markdown",
   "id": "41533788",
   "metadata": {},
   "source": [
    "Chrome was the most popular browser. Firefox users were most likely to churn. Internet Explorer had the fewest number of users that churned. There is no clear issue with browsers which is making users churn. Therefore this won't be used in our model."
   ]
  },
  {
   "cell_type": "markdown",
   "id": "74111215",
   "metadata": {},
   "source": [
    "### Days Since Registration for Sparkify"
   ]
  },
  {
   "cell_type": "code",
   "execution_count": 138,
   "id": "5a5a6394",
   "metadata": {},
   "outputs": [],
   "source": [
    "df_days = df.select(['userId', 'registration', 'ts', 'churn']).dropDuplicates().sort('userId')"
   ]
  },
  {
   "cell_type": "code",
   "execution_count": 139,
   "id": "44ba5957",
   "metadata": {},
   "outputs": [],
   "source": [
    "# order by last timestamp\n",
    "w = Window.partitionBy(\"userId\").orderBy(desc(\"ts\"))"
   ]
  },
  {
   "cell_type": "code",
   "execution_count": 148,
   "id": "ed36e630",
   "metadata": {},
   "outputs": [
    {
     "name": "stderr",
     "output_type": "stream",
     "text": [
      "[Stage 278:>                                                        (0 + 1) / 1]\r"
     ]
    },
    {
     "name": "stdout",
     "output_type": "stream",
     "text": [
      "+------+-------------+-------------+-----+----+\n",
      "|userId| registration|           ts|churn|Rank|\n",
      "+------+-------------+-------------+-----+----+\n",
      "|    10|1538159495000|1542631788000|    0|   1|\n",
      "|   100|1537982255000|1543587349000|    0|   1|\n",
      "|100001|1534627466000|1538498205000|    1|   1|\n",
      "|100002|1529934689000|1543799476000|    0|   1|\n",
      "|100003|1537309344000|1539274781000|    1|   1|\n",
      "|100004|1528560242000|1543459065000|    0|   1|\n",
      "|100005|1532610926000|1539971825000|    1|   1|\n",
      "|100006|1537964483000|1538753070000|    1|   1|\n",
      "|100007|1533522419000|1543491909000|    1|   1|\n",
      "|100008|1537440271000|1543335219000|    0|   1|\n",
      "|100009|1537376437000|1540611104000|    1|   1|\n",
      "|100010|1538016340000|1542823952000|    0|   1|\n",
      "|100011|1537970819000|1538417085000|    1|   1|\n",
      "|100012|1537381154000|1541100900000|    1|   1|\n",
      "|100013|1537367773000|1541184816000|    1|   1|\n",
      "|100014|1535389443000|1542740649000|    1|   1|\n",
      "|100015|1537208989000|1543073753000|    1|   1|\n",
      "|100016|1536854322000|1543335647000|    0|   1|\n",
      "|100017|1533247234000|1540062847000|    1|   1|\n",
      "|100018|1533812833000|1543378360000|    0|   1|\n",
      "+------+-------------+-------------+-----+----+\n",
      "only showing top 20 rows\n",
      "\n"
     ]
    },
    {
     "name": "stderr",
     "output_type": "stream",
     "text": [
      "\r",
      "                                                                                \r"
     ]
    }
   ],
   "source": [
    "# create a rank with the most recent timestamp as rank number 1\n",
    "df_days = df_days.withColumn(\"Rank\", dense_rank().over(w))\n",
    "df_days.show()"
   ]
  },
  {
   "cell_type": "code",
   "execution_count": 149,
   "id": "bed429eb",
   "metadata": {},
   "outputs": [],
   "source": [
    "# just get those with a rank of 1 i.e the first rows\n",
    "df_days = df_days.filter(df_days.Rank == 1).drop(df_days.Rank)"
   ]
  },
  {
   "cell_type": "code",
   "execution_count": 150,
   "id": "f70db5b4",
   "metadata": {},
   "outputs": [
    {
     "name": "stderr",
     "output_type": "stream",
     "text": [
      "[Stage 286:>                                                        (0 + 1) / 1]\r"
     ]
    },
    {
     "name": "stdout",
     "output_type": "stream",
     "text": [
      "+------+-------------+-------------+-----+\n",
      "|userId| registration|           ts|churn|\n",
      "+------+-------------+-------------+-----+\n",
      "|    10|1538159495000|1542631788000|    0|\n",
      "|   100|1537982255000|1543587349000|    0|\n",
      "|100001|1534627466000|1538498205000|    1|\n",
      "|100002|1529934689000|1543799476000|    0|\n",
      "|100003|1537309344000|1539274781000|    1|\n",
      "|100004|1528560242000|1543459065000|    0|\n",
      "|100005|1532610926000|1539971825000|    1|\n",
      "|100006|1537964483000|1538753070000|    1|\n",
      "|100007|1533522419000|1543491909000|    1|\n",
      "|100008|1537440271000|1543335219000|    0|\n",
      "|100009|1537376437000|1540611104000|    1|\n",
      "|100010|1538016340000|1542823952000|    0|\n",
      "|100011|1537970819000|1538417085000|    1|\n",
      "|100012|1537381154000|1541100900000|    1|\n",
      "|100013|1537367773000|1541184816000|    1|\n",
      "|100014|1535389443000|1542740649000|    1|\n",
      "|100015|1537208989000|1543073753000|    1|\n",
      "|100016|1536854322000|1543335647000|    0|\n",
      "|100017|1533247234000|1540062847000|    1|\n",
      "|100018|1533812833000|1543378360000|    0|\n",
      "+------+-------------+-------------+-----+\n",
      "only showing top 20 rows\n",
      "\n"
     ]
    },
    {
     "name": "stderr",
     "output_type": "stream",
     "text": [
      "\r",
      "                                                                                \r"
     ]
    }
   ],
   "source": [
    "df_days.show()"
   ]
  },
  {
   "cell_type": "code",
   "execution_count": 151,
   "id": "83b37984",
   "metadata": {},
   "outputs": [],
   "source": [
    "# need to minus the registration from ts \n",
    "df_days = df_days.withColumn(\"delta_days\", (df_days['ts']) - (df_days['registration']))"
   ]
  },
  {
   "cell_type": "code",
   "execution_count": 152,
   "id": "869a9b7c",
   "metadata": {},
   "outputs": [
    {
     "name": "stderr",
     "output_type": "stream",
     "text": [
      "[Stage 294:>                                                        (0 + 1) / 1]\r"
     ]
    },
    {
     "name": "stdout",
     "output_type": "stream",
     "text": [
      "+------+-------------+-------------+-----+-----------+\n",
      "|userId| registration|           ts|churn| delta_days|\n",
      "+------+-------------+-------------+-----+-----------+\n",
      "|    10|1538159495000|1542631788000|    0| 4472293000|\n",
      "|   100|1537982255000|1543587349000|    0| 5605094000|\n",
      "|100001|1534627466000|1538498205000|    1| 3870739000|\n",
      "|100002|1529934689000|1543799476000|    0|13864787000|\n",
      "|100003|1537309344000|1539274781000|    1| 1965437000|\n",
      "|100004|1528560242000|1543459065000|    0|14898823000|\n",
      "|100005|1532610926000|1539971825000|    1| 7360899000|\n",
      "|100006|1537964483000|1538753070000|    1|  788587000|\n",
      "|100007|1533522419000|1543491909000|    1| 9969490000|\n",
      "|100008|1537440271000|1543335219000|    0| 5894948000|\n",
      "|100009|1537376437000|1540611104000|    1| 3234667000|\n",
      "|100010|1538016340000|1542823952000|    0| 4807612000|\n",
      "|100011|1537970819000|1538417085000|    1|  446266000|\n",
      "|100012|1537381154000|1541100900000|    1| 3719746000|\n",
      "|100013|1537367773000|1541184816000|    1| 3817043000|\n",
      "|100014|1535389443000|1542740649000|    1| 7351206000|\n",
      "|100015|1537208989000|1543073753000|    1| 5864764000|\n",
      "|100016|1536854322000|1543335647000|    0| 6481325000|\n",
      "|100017|1533247234000|1540062847000|    1| 6815613000|\n",
      "|100018|1533812833000|1543378360000|    0| 9565527000|\n",
      "+------+-------------+-------------+-----+-----------+\n",
      "only showing top 20 rows\n",
      "\n"
     ]
    },
    {
     "name": "stderr",
     "output_type": "stream",
     "text": [
      "\r",
      "                                                                                \r"
     ]
    }
   ],
   "source": [
    "df_days.show()"
   ]
  },
  {
   "cell_type": "code",
   "execution_count": 153,
   "id": "e6760b30",
   "metadata": {},
   "outputs": [],
   "source": [
    "df_days = df_days.withColumn('days',(df_days['delta_days']/1000/3600/24))"
   ]
  },
  {
   "cell_type": "code",
   "execution_count": 154,
   "id": "944003f2",
   "metadata": {},
   "outputs": [
    {
     "name": "stderr",
     "output_type": "stream",
     "text": [
      "[Stage 302:>                                                        (0 + 1) / 1]\r"
     ]
    },
    {
     "name": "stdout",
     "output_type": "stream",
     "text": [
      "+------+-------------+-------------+-----+-----------+------------------+\n",
      "|userId| registration|           ts|churn| delta_days|              days|\n",
      "+------+-------------+-------------+-----+-----------+------------------+\n",
      "|    10|1538159495000|1542631788000|    0| 4472293000| 51.76265046296297|\n",
      "|   100|1537982255000|1543587349000|    0| 5605094000| 64.87377314814815|\n",
      "|100001|1534627466000|1538498205000|    1| 3870739000| 44.80021990740741|\n",
      "|100002|1529934689000|1543799476000|    0|13864787000|160.47207175925925|\n",
      "|100003|1537309344000|1539274781000|    1| 1965437000|22.748113425925926|\n",
      "|100004|1528560242000|1543459065000|    0|14898823000|172.44008101851853|\n",
      "|100005|1532610926000|1539971825000|    1| 7360899000| 85.19559027777778|\n",
      "|100006|1537964483000|1538753070000|    1|  788587000| 9.127164351851851|\n",
      "|100007|1533522419000|1543491909000|    1| 9969490000|115.38761574074074|\n",
      "|100008|1537440271000|1543335219000|    0| 5894948000| 68.22856481481482|\n",
      "|100009|1537376437000|1540611104000|    1| 3234667000| 37.43827546296296|\n",
      "|100010|1538016340000|1542823952000|    0| 4807612000|  55.6436574074074|\n",
      "|100011|1537970819000|1538417085000|    1|  446266000| 5.165115740740741|\n",
      "|100012|1537381154000|1541100900000|    1| 3719746000| 43.05261574074074|\n",
      "|100013|1537367773000|1541184816000|    1| 3817043000| 44.17873842592593|\n",
      "|100014|1535389443000|1542740649000|    1| 7351206000| 85.08340277777778|\n",
      "|100015|1537208989000|1543073753000|    1| 5864764000| 67.87921296296297|\n",
      "|100016|1536854322000|1543335647000|    0| 6481325000| 75.01533564814815|\n",
      "|100017|1533247234000|1540062847000|    1| 6815613000| 78.88440972222223|\n",
      "|100018|1533812833000|1543378360000|    0| 9565527000|110.71211805555555|\n",
      "+------+-------------+-------------+-----+-----------+------------------+\n",
      "only showing top 20 rows\n",
      "\n"
     ]
    },
    {
     "name": "stderr",
     "output_type": "stream",
     "text": [
      "\r",
      "                                                                                \r"
     ]
    }
   ],
   "source": [
    "df_days.show()"
   ]
  },
  {
   "cell_type": "code",
   "execution_count": 156,
   "id": "bbb0562e",
   "metadata": {},
   "outputs": [
    {
     "data": {
      "text/html": [
       "<div>\n",
       "<style scoped>\n",
       "    .dataframe tbody tr th:only-of-type {\n",
       "        vertical-align: middle;\n",
       "    }\n",
       "\n",
       "    .dataframe tbody tr th {\n",
       "        vertical-align: top;\n",
       "    }\n",
       "\n",
       "    .dataframe thead th {\n",
       "        text-align: right;\n",
       "    }\n",
       "</style>\n",
       "<table border=\"1\" class=\"dataframe\">\n",
       "  <thead>\n",
       "    <tr style=\"text-align: right;\">\n",
       "      <th></th>\n",
       "      <th>userId</th>\n",
       "      <th>registration</th>\n",
       "      <th>ts</th>\n",
       "      <th>churn</th>\n",
       "      <th>delta_days</th>\n",
       "      <th>days</th>\n",
       "    </tr>\n",
       "  </thead>\n",
       "  <tbody>\n",
       "    <tr>\n",
       "      <th>0</th>\n",
       "      <td>10</td>\n",
       "      <td>1538159495000</td>\n",
       "      <td>1542631788000</td>\n",
       "      <td>0</td>\n",
       "      <td>4472293000</td>\n",
       "      <td>51.762650</td>\n",
       "    </tr>\n",
       "    <tr>\n",
       "      <th>1</th>\n",
       "      <td>100</td>\n",
       "      <td>1537982255000</td>\n",
       "      <td>1543587349000</td>\n",
       "      <td>0</td>\n",
       "      <td>5605094000</td>\n",
       "      <td>64.873773</td>\n",
       "    </tr>\n",
       "    <tr>\n",
       "      <th>2</th>\n",
       "      <td>100001</td>\n",
       "      <td>1534627466000</td>\n",
       "      <td>1538498205000</td>\n",
       "      <td>1</td>\n",
       "      <td>3870739000</td>\n",
       "      <td>44.800220</td>\n",
       "    </tr>\n",
       "    <tr>\n",
       "      <th>3</th>\n",
       "      <td>100002</td>\n",
       "      <td>1529934689000</td>\n",
       "      <td>1543799476000</td>\n",
       "      <td>0</td>\n",
       "      <td>13864787000</td>\n",
       "      <td>160.472072</td>\n",
       "    </tr>\n",
       "    <tr>\n",
       "      <th>4</th>\n",
       "      <td>100003</td>\n",
       "      <td>1537309344000</td>\n",
       "      <td>1539274781000</td>\n",
       "      <td>1</td>\n",
       "      <td>1965437000</td>\n",
       "      <td>22.748113</td>\n",
       "    </tr>\n",
       "    <tr>\n",
       "      <th>...</th>\n",
       "      <td>...</td>\n",
       "      <td>...</td>\n",
       "      <td>...</td>\n",
       "      <td>...</td>\n",
       "      <td>...</td>\n",
       "      <td>...</td>\n",
       "    </tr>\n",
       "    <tr>\n",
       "      <th>220</th>\n",
       "      <td>95</td>\n",
       "      <td>1538211832000</td>\n",
       "      <td>1543591644000</td>\n",
       "      <td>0</td>\n",
       "      <td>5379812000</td>\n",
       "      <td>62.266343</td>\n",
       "    </tr>\n",
       "    <tr>\n",
       "      <th>221</th>\n",
       "      <td>96</td>\n",
       "      <td>1537149749000</td>\n",
       "      <td>1543537879000</td>\n",
       "      <td>0</td>\n",
       "      <td>6388130000</td>\n",
       "      <td>73.936690</td>\n",
       "    </tr>\n",
       "    <tr>\n",
       "      <th>222</th>\n",
       "      <td>97</td>\n",
       "      <td>1536019842000</td>\n",
       "      <td>1543570634000</td>\n",
       "      <td>0</td>\n",
       "      <td>7550792000</td>\n",
       "      <td>87.393426</td>\n",
       "    </tr>\n",
       "    <tr>\n",
       "      <th>223</th>\n",
       "      <td>98</td>\n",
       "      <td>1538069638000</td>\n",
       "      <td>1543548229000</td>\n",
       "      <td>0</td>\n",
       "      <td>5478591000</td>\n",
       "      <td>63.409618</td>\n",
       "    </tr>\n",
       "    <tr>\n",
       "      <th>224</th>\n",
       "      <td>99</td>\n",
       "      <td>1531811983000</td>\n",
       "      <td>1543303277000</td>\n",
       "      <td>0</td>\n",
       "      <td>11491294000</td>\n",
       "      <td>133.001088</td>\n",
       "    </tr>\n",
       "  </tbody>\n",
       "</table>\n",
       "<p>225 rows × 6 columns</p>\n",
       "</div>"
      ],
      "text/plain": [
       "     userId   registration             ts  churn   delta_days        days\n",
       "0        10  1538159495000  1542631788000      0   4472293000   51.762650\n",
       "1       100  1537982255000  1543587349000      0   5605094000   64.873773\n",
       "2    100001  1534627466000  1538498205000      1   3870739000   44.800220\n",
       "3    100002  1529934689000  1543799476000      0  13864787000  160.472072\n",
       "4    100003  1537309344000  1539274781000      1   1965437000   22.748113\n",
       "..      ...            ...            ...    ...          ...         ...\n",
       "220      95  1538211832000  1543591644000      0   5379812000   62.266343\n",
       "221      96  1537149749000  1543537879000      0   6388130000   73.936690\n",
       "222      97  1536019842000  1543570634000      0   7550792000   87.393426\n",
       "223      98  1538069638000  1543548229000      0   5478591000   63.409618\n",
       "224      99  1531811983000  1543303277000      0  11491294000  133.001088\n",
       "\n",
       "[225 rows x 6 columns]"
      ]
     },
     "execution_count": 156,
     "metadata": {},
     "output_type": "execute_result"
    }
   ],
   "source": [
    "# to Pandas for the plot\n",
    "df_days_pd = df_days.toPandas()\n",
    "df_days_pd"
   ]
  },
  {
   "cell_type": "code",
   "execution_count": 157,
   "id": "a3cf5f21",
   "metadata": {},
   "outputs": [
    {
     "data": {
      "image/png": "[encoded data removed]",
      "text/plain": [
       "<Figure size 576x432 with 1 Axes>"
      ]
     },
     "metadata": {},
     "output_type": "display_data"
    }
   ],
   "source": [
    "# plot boxplot\n",
    "plt.figure(figsize=[8,6])\n",
    "sns.boxplot(data = df_days_pd, x = 'churn', y ='days')\n",
    "plt.title('Count of Users that Churned vs. Users that Stayed by Days Since Registering')\n",
    "plt.ylabel(\"Days Since Registered\");"
   ]
  },
  {
   "cell_type": "markdown",
   "id": "397cdf38",
   "metadata": {},
   "source": [
    "On average those who had been registered with Sparkify for longer were more likely to stay. Users who had registered more recently were more likely to churn."
   ]
  },
  {
   "cell_type": "markdown",
   "id": "4610fb40",
   "metadata": {},
   "source": [
    "# Feature Engineering\n",
    "<a class=\"anchor\" id=\"eng\"></a>\n",
    "\n",
    "Now that EDA has been performed, we can build out the features that seem most promising to train our model on."
   ]
  },
  {
   "cell_type": "markdown",
   "id": "baaf72f1",
   "metadata": {},
   "source": [
    "The features we will build out are:\n",
    "- Categorical:\n",
    " - gender\n",
    " - level\n",
    "\n",
    "- Numerical:\n",
    " - number of songs per session\n",
    " - number of rollads actions\n",
    " - number of thumb down actions\n",
    " - number of thumbs up actions\n",
    " - number of friends added\n",
    " - number of songs added to playlist\n",
    " - number of different artists listened to on Sparkify\n",
    " - number of days since registering\n",
    " \n",
    "We will also then add a churn label and join these all together. This will create a dataFrame where each row represents information pertaining to each individual user. Once we drop the userId, this dataframe can be vectorised, standarised and fed into our different machine learning algorithms."
   ]
  },
  {
   "cell_type": "markdown",
   "id": "d880864a",
   "metadata": {},
   "source": [
    "First we will take our categorical variables and convert these into numeric variables, ready for our model."
   ]
  },
  {
   "cell_type": "markdown",
   "id": "a680f66b",
   "metadata": {},
   "source": [
    "### Gender"
   ]
  },
  {
   "cell_type": "markdown",
   "id": "831a940b",
   "metadata": {},
   "source": [
    "Our first feature is gender which is a categorical one. We will assign a 1 for 'female' and a 0 for 'male'."
   ]
  },
  {
   "cell_type": "code",
   "execution_count": 164,
   "id": "4ba3515d",
   "metadata": {},
   "outputs": [],
   "source": [
    "gender_f1 = df.select(['userId', 'gender']).dropDuplicates()"
   ]
  },
  {
   "cell_type": "code",
   "execution_count": 165,
   "id": "1b4554fb",
   "metadata": {},
   "outputs": [
    {
     "name": "stderr",
     "output_type": "stream",
     "text": [
      "                                                                                \r"
     ]
    },
    {
     "data": {
      "text/plain": [
       "225"
      ]
     },
     "execution_count": 165,
     "metadata": {},
     "output_type": "execute_result"
    }
   ],
   "source": [
    "# create gender column \n",
    "gender_f1 = gender_f1.withColumn('gender', when(col('gender') == 'F', 1).otherwise(0))\n",
    "gender_f1.count()"
   ]
  },
  {
   "cell_type": "code",
   "execution_count": 166,
   "id": "fb60d8d2",
   "metadata": {},
   "outputs": [
    {
     "name": "stderr",
     "output_type": "stream",
     "text": [
      "\r",
      "[Stage 332:>                                                        (0 + 4) / 4]\r",
      "\r",
      "[Stage 332:==============>                                          (1 + 3) / 4]\r"
     ]
    },
    {
     "name": "stdout",
     "output_type": "stream",
     "text": [
      "+------+------+\n",
      "|userId|gender|\n",
      "+------+------+\n",
      "|    44|     1|\n",
      "|    46|     1|\n",
      "|    41|     1|\n",
      "|    39|     1|\n",
      "|    40|     1|\n",
      "|    94|     1|\n",
      "|    35|     1|\n",
      "|    75|     1|\n",
      "|   100|     0|\n",
      "|    25|     1|\n",
      "|    92|     1|\n",
      "|    52|     1|\n",
      "|   110|     0|\n",
      "|    33|     0|\n",
      "|    42|     1|\n",
      "|    67|     0|\n",
      "|    77|     1|\n",
      "|   136|     1|\n",
      "|    99|     1|\n",
      "|   114|     0|\n",
      "+------+------+\n",
      "only showing top 20 rows\n",
      "\n"
     ]
    },
    {
     "name": "stderr",
     "output_type": "stream",
     "text": [
      "\r",
      "[Stage 332:============================>                            (2 + 2) / 4]\r",
      "\r",
      "                                                                                \r"
     ]
    }
   ],
   "source": [
    "# check\n",
    "gender_f1.show(20)"
   ]
  },
  {
   "cell_type": "markdown",
   "id": "4185401e",
   "metadata": {},
   "source": [
    "### Level"
   ]
  },
  {
   "cell_type": "markdown",
   "id": "632bdb03",
   "metadata": {},
   "source": [
    "The next feature we will take is level. The level can change so we need to only take the most recent. We can use the rank trick from before."
   ]
  },
  {
   "cell_type": "code",
   "execution_count": 167,
   "id": "608bbe75",
   "metadata": {},
   "outputs": [],
   "source": [
    "df2 = df.select(['userId', 'level', 'ts']).dropDuplicates().sort('userId')"
   ]
  },
  {
   "cell_type": "code",
   "execution_count": 168,
   "id": "668a3853",
   "metadata": {},
   "outputs": [],
   "source": [
    "w = Window.partitionBy(\"userId\").orderBy(desc(\"ts\"))"
   ]
  },
  {
   "cell_type": "code",
   "execution_count": 169,
   "id": "eb83d2fb",
   "metadata": {},
   "outputs": [
    {
     "name": "stderr",
     "output_type": "stream",
     "text": [
      "                                                                                \r"
     ]
    },
    {
     "name": "stdout",
     "output_type": "stream",
     "text": [
      "+------+-----+-------------+----+\n",
      "|userId|level|           ts|Rank|\n",
      "+------+-----+-------------+----+\n",
      "|    10| paid|1542631788000|   1|\n",
      "|    10| paid|1542631753000|   2|\n",
      "|    10| paid|1542631690000|   3|\n",
      "|    10| paid|1542631518000|   4|\n",
      "|    10| paid|1542631517000|   5|\n",
      "|    10| paid|1542631090000|   6|\n",
      "|    10| paid|1542630866000|   7|\n",
      "|    10| paid|1542630637000|   8|\n",
      "|    10| paid|1542630407000|   9|\n",
      "|    10| paid|1542630394000|  10|\n",
      "|    10| paid|1542630248000|  11|\n",
      "|    10| paid|1542630247000|  12|\n",
      "|    10| paid|1542630029000|  13|\n",
      "|    10| paid|1542629861000|  14|\n",
      "|    10| paid|1542629636000|  15|\n",
      "|    10| paid|1542629464000|  16|\n",
      "|    10| paid|1542629238000|  17|\n",
      "|    10| paid|1542629029000|  18|\n",
      "|    10| paid|1542629028000|  19|\n",
      "|    10| paid|1542628798000|  20|\n",
      "+------+-----+-------------+----+\n",
      "only showing top 20 rows\n",
      "\n"
     ]
    }
   ],
   "source": [
    "df2 = df2.withColumn(\"Rank\", dense_rank().over(w))\n",
    "df2.show()"
   ]
  },
  {
   "cell_type": "code",
   "execution_count": 170,
   "id": "8adaf077",
   "metadata": {},
   "outputs": [],
   "source": [
    "level_f2 = df2.filter(df2.Rank == 1).drop(df2.Rank)"
   ]
  },
  {
   "cell_type": "code",
   "execution_count": 171,
   "id": "c653efbc",
   "metadata": {},
   "outputs": [],
   "source": [
    "level_f2 = level_f2.drop('ts')"
   ]
  },
  {
   "cell_type": "code",
   "execution_count": 172,
   "id": "e0237c1d",
   "metadata": {},
   "outputs": [],
   "source": [
    "level_f2 = level_f2.withColumn('level', when(col('level') == 'paid', 1).otherwise(0))"
   ]
  },
  {
   "cell_type": "code",
   "execution_count": 173,
   "id": "61205181",
   "metadata": {},
   "outputs": [
    {
     "name": "stderr",
     "output_type": "stream",
     "text": [
      "                                                                                \r"
     ]
    },
    {
     "data": {
      "text/plain": [
       "225"
      ]
     },
     "execution_count": 173,
     "metadata": {},
     "output_type": "execute_result"
    }
   ],
   "source": [
    "level_f2.count()"
   ]
  },
  {
   "cell_type": "code",
   "execution_count": 174,
   "id": "8ac09599",
   "metadata": {},
   "outputs": [
    {
     "name": "stderr",
     "output_type": "stream",
     "text": [
      "                                                                                \r"
     ]
    },
    {
     "name": "stdout",
     "output_type": "stream",
     "text": [
      "+------+-----+\n",
      "|userId|level|\n",
      "+------+-----+\n",
      "|    10|    1|\n",
      "|   100|    1|\n",
      "|100001|    0|\n",
      "|100002|    1|\n",
      "|100003|    0|\n",
      "|100004|    1|\n",
      "|100005|    0|\n",
      "|100006|    0|\n",
      "|100007|    1|\n",
      "|100008|    0|\n",
      "|100009|    0|\n",
      "|100010|    0|\n",
      "|100011|    0|\n",
      "|100012|    0|\n",
      "|100013|    1|\n",
      "|100014|    1|\n",
      "|100015|    1|\n",
      "|100016|    0|\n",
      "|100017|    0|\n",
      "|100018|    0|\n",
      "+------+-----+\n",
      "only showing top 20 rows\n",
      "\n"
     ]
    }
   ],
   "source": [
    "level_f2.show(20)"
   ]
  },
  {
   "cell_type": "markdown",
   "id": "5414850a",
   "metadata": {},
   "source": [
    "### Average Number of songs per session\n"
   ]
  },
  {
   "cell_type": "markdown",
   "id": "5c093bea",
   "metadata": {},
   "source": [
    "Our third feature is average number of songs per session for each user."
   ]
  },
  {
   "cell_type": "code",
   "execution_count": 175,
   "id": "9aff141b",
   "metadata": {},
   "outputs": [],
   "source": [
    "song_f3 = df.filter(df.page == \"NextSong\").groupBy('userId','sessionId').count()"
   ]
  },
  {
   "cell_type": "code",
   "execution_count": 176,
   "id": "c2c7b2a2",
   "metadata": {},
   "outputs": [
    {
     "name": "stderr",
     "output_type": "stream",
     "text": [
      "\r",
      "[Stage 363:>                                                        (0 + 4) / 4]\r"
     ]
    },
    {
     "name": "stdout",
     "output_type": "stream",
     "text": [
      "+------+---------+-----+\n",
      "|userId|sessionId|count|\n",
      "+------+---------+-----+\n",
      "|    92|      358|   57|\n",
      "|    42|      433|   16|\n",
      "+------+---------+-----+\n",
      "only showing top 2 rows\n",
      "\n"
     ]
    },
    {
     "name": "stderr",
     "output_type": "stream",
     "text": [
      "\r",
      "[Stage 363:==============>                                          (1 + 3) / 4]\r",
      "\r",
      "                                                                                \r"
     ]
    }
   ],
   "source": [
    "df.filter(df.page == \"NextSong\").groupBy('userId','sessionId').count().show(2)"
   ]
  },
  {
   "cell_type": "code",
   "execution_count": 177,
   "id": "02a0d04b",
   "metadata": {},
   "outputs": [],
   "source": [
    "song_f3 = song_f3.groupby('userId').agg({\"count\":\"avg\"})"
   ]
  },
  {
   "cell_type": "code",
   "execution_count": 178,
   "id": "d726f238",
   "metadata": {},
   "outputs": [],
   "source": [
    "song_f3 = song_f3.withColumnRenamed(\"avg(count)\", \"avg_song\")"
   ]
  },
  {
   "cell_type": "code",
   "execution_count": 179,
   "id": "3075cb19",
   "metadata": {},
   "outputs": [
    {
     "name": "stderr",
     "output_type": "stream",
     "text": [
      "                                                                                \r"
     ]
    },
    {
     "data": {
      "text/plain": [
       "225"
      ]
     },
     "execution_count": 179,
     "metadata": {},
     "output_type": "execute_result"
    }
   ],
   "source": [
    "song_f3.count()"
   ]
  },
  {
   "cell_type": "code",
   "execution_count": 180,
   "id": "9bb38200",
   "metadata": {},
   "outputs": [
    {
     "name": "stderr",
     "output_type": "stream",
     "text": [
      "[Stage 372:============================>                            (2 + 2) / 4]\r"
     ]
    },
    {
     "name": "stdout",
     "output_type": "stream",
     "text": [
      "+------+------------------+\n",
      "|userId|          avg_song|\n",
      "+------+------------------+\n",
      "|100010|39.285714285714285|\n",
      "|200002|              64.5|\n",
      "+------+------------------+\n",
      "only showing top 2 rows\n",
      "\n"
     ]
    },
    {
     "name": "stderr",
     "output_type": "stream",
     "text": [
      "\r",
      "                                                                                \r"
     ]
    }
   ],
   "source": [
    "song_f3.show(2)"
   ]
  },
  {
   "cell_type": "markdown",
   "id": "678a8bca",
   "metadata": {},
   "source": [
    "### Number of rollads actions"
   ]
  },
  {
   "cell_type": "markdown",
   "id": "333e340e",
   "metadata": {},
   "source": [
    "Next feature we can consider is number of roll advert actions. This had a higher number of roll ad count for those who churned since those who use the app for free are shown ads whereas paid subscribers aren't shown ads."
   ]
  },
  {
   "cell_type": "code",
   "execution_count": 181,
   "id": "6e0f757f",
   "metadata": {},
   "outputs": [],
   "source": [
    "rollad_f4 = df.select([\"userId\", \"page\"])"
   ]
  },
  {
   "cell_type": "code",
   "execution_count": 182,
   "id": "19aaa87c",
   "metadata": {},
   "outputs": [],
   "source": [
    "rollad_event = udf(lambda x: 1 if x == \"Roll Advert\" else 0, IntegerType())"
   ]
  },
  {
   "cell_type": "code",
   "execution_count": 183,
   "id": "d191df64",
   "metadata": {},
   "outputs": [],
   "source": [
    "#creating rollad column\n",
    "rollad_f4 = rollad_f4.withColumn(\"rollad\", rollad_event(\"page\"))"
   ]
  },
  {
   "cell_type": "code",
   "execution_count": 184,
   "id": "da629dcc",
   "metadata": {},
   "outputs": [],
   "source": [
    "rollad_f4 = rollad_f4.groupby('userId').sum(\"rollad\")"
   ]
  },
  {
   "cell_type": "code",
   "execution_count": 185,
   "id": "f1e62121",
   "metadata": {},
   "outputs": [],
   "source": [
    "rollad_f4 = rollad_f4.withColumnRenamed(\"sum(rollad)\", \"roll_ad\")"
   ]
  },
  {
   "cell_type": "code",
   "execution_count": 186,
   "id": "75d20e8a",
   "metadata": {},
   "outputs": [
    {
     "name": "stderr",
     "output_type": "stream",
     "text": [
      "                                                                                \r"
     ]
    },
    {
     "data": {
      "text/plain": [
       "225"
      ]
     },
     "execution_count": 186,
     "metadata": {},
     "output_type": "execute_result"
    }
   ],
   "source": [
    "rollad_f4.count()"
   ]
  },
  {
   "cell_type": "code",
   "execution_count": 187,
   "id": "5a9c1590",
   "metadata": {},
   "outputs": [
    {
     "name": "stderr",
     "output_type": "stream",
     "text": [
      "[Stage 384:==============>                                          (1 + 3) / 4]\r"
     ]
    },
    {
     "name": "stdout",
     "output_type": "stream",
     "text": [
      "+------+-------+\n",
      "|userId|roll_ad|\n",
      "+------+-------+\n",
      "|   125|      1|\n",
      "|    51|      0|\n",
      "+------+-------+\n",
      "only showing top 2 rows\n",
      "\n"
     ]
    },
    {
     "name": "stderr",
     "output_type": "stream",
     "text": [
      "\r",
      "                                                                                \r"
     ]
    }
   ],
   "source": [
    "rollad_f4.show(2)"
   ]
  },
  {
   "cell_type": "markdown",
   "id": "18e84686",
   "metadata": {},
   "source": [
    "### Number of thumb down actions"
   ]
  },
  {
   "cell_type": "markdown",
   "id": "16231f4d",
   "metadata": {},
   "source": [
    "The fifth feature we can add to our feature dataframe is thumbs down. Users who had churned in the past had performed more thumbs down actions than those who stayed with the service."
   ]
  },
  {
   "cell_type": "code",
   "execution_count": 188,
   "id": "b767d773",
   "metadata": {},
   "outputs": [],
   "source": [
    "thumbdown_f5 = df.select([\"userId\", \"page\"])"
   ]
  },
  {
   "cell_type": "code",
   "execution_count": 189,
   "id": "accfc9e0",
   "metadata": {},
   "outputs": [],
   "source": [
    "thumddown_event = udf(lambda x: 1 if x == \"Thumbs Down\" else 0, IntegerType())"
   ]
  },
  {
   "cell_type": "code",
   "execution_count": 190,
   "id": "3e2e281b",
   "metadata": {},
   "outputs": [],
   "source": [
    "thumbdown_f5 = thumbdown_f5.withColumn(\"Thumbs Down\", thumddown_event(\"page\"))"
   ]
  },
  {
   "cell_type": "code",
   "execution_count": 191,
   "id": "6e12c4ab",
   "metadata": {},
   "outputs": [],
   "source": [
    "thumbdown_f5 = thumbdown_f5.groupby('userId').sum(\"Thumbs Down\")"
   ]
  },
  {
   "cell_type": "code",
   "execution_count": 192,
   "id": "a1f58399",
   "metadata": {},
   "outputs": [],
   "source": [
    "thumbdown_f5 = thumbdown_f5.withColumnRenamed(\"sum(Thumbs Down)\", \"thumbs_down\")"
   ]
  },
  {
   "cell_type": "code",
   "execution_count": 193,
   "id": "d6ebc425",
   "metadata": {},
   "outputs": [
    {
     "name": "stderr",
     "output_type": "stream",
     "text": [
      "                                                                                \r"
     ]
    },
    {
     "data": {
      "text/plain": [
       "225"
      ]
     },
     "execution_count": 193,
     "metadata": {},
     "output_type": "execute_result"
    }
   ],
   "source": [
    "thumbdown_f5.count()"
   ]
  },
  {
   "cell_type": "code",
   "execution_count": 194,
   "id": "7872aa12",
   "metadata": {},
   "outputs": [
    {
     "name": "stderr",
     "output_type": "stream",
     "text": [
      "[Stage 393:==============>                                          (1 + 3) / 4]\r"
     ]
    },
    {
     "name": "stdout",
     "output_type": "stream",
     "text": [
      "+------+-----------+\n",
      "|userId|thumbs_down|\n",
      "+------+-----------+\n",
      "|   125|          0|\n",
      "|    51|         21|\n",
      "+------+-----------+\n",
      "only showing top 2 rows\n",
      "\n"
     ]
    },
    {
     "name": "stderr",
     "output_type": "stream",
     "text": [
      "\r",
      "                                                                                \r"
     ]
    }
   ],
   "source": [
    "thumbdown_f5.show(2)"
   ]
  },
  {
   "cell_type": "markdown",
   "id": "3ef2e503",
   "metadata": {},
   "source": [
    "### Number of thumbs up actions"
   ]
  },
  {
   "cell_type": "markdown",
   "id": "78a7ddbb",
   "metadata": {},
   "source": [
    "We can do the same for thumb up actions. Users who stayed with the service had performed more thumbs up actions in the past."
   ]
  },
  {
   "cell_type": "code",
   "execution_count": 201,
   "id": "76a6fbc0",
   "metadata": {},
   "outputs": [],
   "source": [
    "thumbup_f6 = df.select([\"userId\", \"page\"])"
   ]
  },
  {
   "cell_type": "code",
   "execution_count": 202,
   "id": "26a27b85",
   "metadata": {},
   "outputs": [],
   "source": [
    "thumbup_event = udf(lambda x: 1 if x == \"Thumbs Up\" else 0, IntegerType())"
   ]
  },
  {
   "cell_type": "code",
   "execution_count": 203,
   "id": "abbdc6f9",
   "metadata": {},
   "outputs": [],
   "source": [
    "thumbup_f6 = thumbup_f6.withColumn(\"Thumbs Up\", thumbup_event(\"page\"))"
   ]
  },
  {
   "cell_type": "code",
   "execution_count": 204,
   "id": "c9c7dc47",
   "metadata": {},
   "outputs": [],
   "source": [
    "thumbup_f6 = thumbup_f6.groupby('userId').sum(\"Thumbs Up\")"
   ]
  },
  {
   "cell_type": "code",
   "execution_count": 205,
   "id": "fca1468e",
   "metadata": {},
   "outputs": [],
   "source": [
    "thumbup_f6 = thumbup_f6.withColumnRenamed(\"sum(Thumbs Up)\", \"thumbs_up\")"
   ]
  },
  {
   "cell_type": "code",
   "execution_count": 206,
   "id": "cd22411b",
   "metadata": {},
   "outputs": [
    {
     "name": "stderr",
     "output_type": "stream",
     "text": [
      "                                                                                \r"
     ]
    },
    {
     "data": {
      "text/plain": [
       "225"
      ]
     },
     "execution_count": 206,
     "metadata": {},
     "output_type": "execute_result"
    }
   ],
   "source": [
    "thumbup_f6.count()"
   ]
  },
  {
   "cell_type": "code",
   "execution_count": 207,
   "id": "2afe8b96",
   "metadata": {},
   "outputs": [
    {
     "name": "stderr",
     "output_type": "stream",
     "text": [
      "\r",
      "[Stage 402:>                                                        (0 + 4) / 4]\r"
     ]
    },
    {
     "name": "stdout",
     "output_type": "stream",
     "text": [
      "+------+---------+\n",
      "|userId|thumbs_up|\n",
      "+------+---------+\n",
      "|   125|        0|\n",
      "|    51|      100|\n",
      "+------+---------+\n",
      "only showing top 2 rows\n",
      "\n"
     ]
    },
    {
     "name": "stderr",
     "output_type": "stream",
     "text": [
      "\r",
      "[Stage 402:============================>                            (2 + 2) / 4]\r",
      "\r",
      "                                                                                \r"
     ]
    }
   ],
   "source": [
    "thumbup_f6.show(2)"
   ]
  },
  {
   "cell_type": "markdown",
   "id": "66996f7e",
   "metadata": {},
   "source": [
    "### Number of friends added"
   ]
  },
  {
   "cell_type": "markdown",
   "id": "2dd6ef8d",
   "metadata": {},
   "source": [
    "Similarly, number of friends added can indicate if a user is likely to churn or not. In the past, those who added more friends stayed with the app."
   ]
  },
  {
   "cell_type": "code",
   "execution_count": 208,
   "id": "8e573eed",
   "metadata": {},
   "outputs": [],
   "source": [
    "friend_f7 = df.select([\"userId\", \"page\"])"
   ]
  },
  {
   "cell_type": "code",
   "execution_count": 209,
   "id": "73d74661",
   "metadata": {},
   "outputs": [],
   "source": [
    "add_friend = udf(lambda x: 1 if x == \"Add Friend\" else 0, IntegerType())"
   ]
  },
  {
   "cell_type": "code",
   "execution_count": 210,
   "id": "93caeefe",
   "metadata": {},
   "outputs": [],
   "source": [
    "friend_f7 = friend_f7.withColumn(\"add_friend\", add_friend(\"page\"))"
   ]
  },
  {
   "cell_type": "code",
   "execution_count": 211,
   "id": "ff5ebfb5",
   "metadata": {},
   "outputs": [],
   "source": [
    "friend_f7 = friend_f7.groupby('userId').sum(\"add_friend\")"
   ]
  },
  {
   "cell_type": "code",
   "execution_count": 212,
   "id": "ac328415",
   "metadata": {},
   "outputs": [],
   "source": [
    "friend_f7 = friend_f7.withColumnRenamed(\"sum(add_friend)\", \"add_friend\")"
   ]
  },
  {
   "cell_type": "code",
   "execution_count": 213,
   "id": "cedd121d",
   "metadata": {},
   "outputs": [
    {
     "name": "stderr",
     "output_type": "stream",
     "text": [
      "                                                                                \r"
     ]
    },
    {
     "data": {
      "text/plain": [
       "225"
      ]
     },
     "execution_count": 213,
     "metadata": {},
     "output_type": "execute_result"
    }
   ],
   "source": [
    "friend_f7.count()"
   ]
  },
  {
   "cell_type": "code",
   "execution_count": 214,
   "id": "633af25c",
   "metadata": {},
   "outputs": [
    {
     "name": "stderr",
     "output_type": "stream",
     "text": [
      "\r",
      "[Stage 411:>                                                        (0 + 4) / 4]\r"
     ]
    },
    {
     "name": "stdout",
     "output_type": "stream",
     "text": [
      "+------+----------+\n",
      "|userId|add_friend|\n",
      "+------+----------+\n",
      "|   125|         0|\n",
      "|    51|        28|\n",
      "+------+----------+\n",
      "only showing top 2 rows\n",
      "\n"
     ]
    },
    {
     "name": "stderr",
     "output_type": "stream",
     "text": [
      "\r",
      "[Stage 411:==============>                                          (1 + 3) / 4]\r",
      "\r",
      "                                                                                \r"
     ]
    },
    {
     "name": "stdout",
     "output_type": "stream",
     "text": [
      "22/08/06 18:53:27 WARN TransportChannelHandler: Exception in connection from snmp.cust.communityfibre.co.uk/192.168.1.86:51793\n",
      "java.io.IOException: Operation timed out\n",
      "\tat java.base/sun.nio.ch.SocketDispatcher.read0(Native Method)\n",
      "\tat java.base/sun.nio.ch.SocketDispatcher.read(SocketDispatcher.java:47)\n",
      "\tat java.base/sun.nio.ch.IOUtil.readIntoNativeBuffer(IOUtil.java:340)\n",
      "\tat java.base/sun.nio.ch.IOUtil.read(IOUtil.java:294)\n",
      "\tat java.base/sun.nio.ch.IOUtil.read(IOUtil.java:269)\n",
      "\tat java.base/sun.nio.ch.SocketChannelImpl.read(SocketChannelImpl.java:417)\n",
      "\tat io.netty.buffer.PooledByteBuf.setBytes(PooledByteBuf.java:258)\n",
      "\tat io.netty.buffer.AbstractByteBuf.writeBytes(AbstractByteBuf.java:1132)\n",
      "\tat io.netty.channel.socket.nio.NioSocketChannel.doReadBytes(NioSocketChannel.java:350)\n",
      "\tat io.netty.channel.nio.AbstractNioByteChannel$NioByteUnsafe.read(AbstractNioByteChannel.java:151)\n",
      "\tat io.netty.channel.nio.NioEventLoop.processSelectedKey(NioEventLoop.java:722)\n",
      "\tat io.netty.channel.nio.NioEventLoop.processSelectedKeysOptimized(NioEventLoop.java:658)\n",
      "\tat io.netty.channel.nio.NioEventLoop.processSelectedKeys(NioEventLoop.java:584)\n",
      "\tat io.netty.channel.nio.NioEventLoop.run(NioEventLoop.java:496)\n",
      "\tat io.netty.util.concurrent.SingleThreadEventExecutor$4.run(SingleThreadEventExecutor.java:986)\n",
      "\tat io.netty.util.internal.ThreadExecutorMap$2.run(ThreadExecutorMap.java:74)\n",
      "\tat io.netty.util.concurrent.FastThreadLocalRunnable.run(FastThreadLocalRunnable.java:30)\n",
      "\tat java.base/java.lang.Thread.run(Thread.java:833)\n"
     ]
    }
   ],
   "source": [
    "friend_f7.show(2)"
   ]
  },
  {
   "cell_type": "markdown",
   "id": "95bb5cbf",
   "metadata": {},
   "source": [
    "### Number of songs added to playlist\n"
   ]
  },
  {
   "cell_type": "markdown",
   "id": "d68b30a3",
   "metadata": {},
   "source": [
    "Again, those who added more songs to their playlists had stayed with the service so this can provide an indication of whether a user is likely to churn."
   ]
  },
  {
   "cell_type": "code",
   "execution_count": 215,
   "id": "5566d8ab",
   "metadata": {},
   "outputs": [],
   "source": [
    "playlist_f8 = df.select([\"userId\", \"page\"])"
   ]
  },
  {
   "cell_type": "code",
   "execution_count": 216,
   "id": "c32c6dd0",
   "metadata": {},
   "outputs": [],
   "source": [
    "add_playlist = udf(lambda x: 1 if x == \"Add to Playlist\" else 0, IntegerType())"
   ]
  },
  {
   "cell_type": "code",
   "execution_count": 217,
   "id": "c48afa4d",
   "metadata": {},
   "outputs": [],
   "source": [
    "playlist_f8 = playlist_f8.withColumn(\"Playlist\", add_playlist(\"page\"))"
   ]
  },
  {
   "cell_type": "code",
   "execution_count": 218,
   "id": "d64d1410",
   "metadata": {},
   "outputs": [],
   "source": [
    "playlist_f8 = playlist_f8.groupby('userId').sum(\"Playlist\")"
   ]
  },
  {
   "cell_type": "code",
   "execution_count": 219,
   "id": "5e979853",
   "metadata": {},
   "outputs": [],
   "source": [
    "playlist_f8 = playlist_f8.withColumnRenamed(\"sum(Playlist)\", \"playlist\")"
   ]
  },
  {
   "cell_type": "code",
   "execution_count": 220,
   "id": "334074b3",
   "metadata": {},
   "outputs": [
    {
     "name": "stderr",
     "output_type": "stream",
     "text": [
      "                                                                                \r"
     ]
    },
    {
     "data": {
      "text/plain": [
       "225"
      ]
     },
     "execution_count": 220,
     "metadata": {},
     "output_type": "execute_result"
    }
   ],
   "source": [
    "playlist_f8.count()"
   ]
  },
  {
   "cell_type": "code",
   "execution_count": 221,
   "id": "a172ac59",
   "metadata": {},
   "outputs": [
    {
     "name": "stderr",
     "output_type": "stream",
     "text": [
      "[Stage 420:==============>                                          (1 + 3) / 4]\r"
     ]
    },
    {
     "name": "stdout",
     "output_type": "stream",
     "text": [
      "+------+--------+\n",
      "|userId|playlist|\n",
      "+------+--------+\n",
      "|   125|       0|\n",
      "|    51|      52|\n",
      "+------+--------+\n",
      "only showing top 2 rows\n",
      "\n"
     ]
    },
    {
     "name": "stderr",
     "output_type": "stream",
     "text": [
      "\r",
      "                                                                                \r"
     ]
    }
   ],
   "source": [
    "playlist_f8.show(2)"
   ]
  },
  {
   "cell_type": "markdown",
   "id": "9a4f2812",
   "metadata": {},
   "source": [
    "### Number of different Artists Listened to on Sparkify"
   ]
  },
  {
   "cell_type": "markdown",
   "id": "8b42d634",
   "metadata": {},
   "source": [
    "As we discovered in EDA, users that listened to more diverse artists were less likely to churn."
   ]
  },
  {
   "cell_type": "code",
   "execution_count": 222,
   "id": "0acb2b42",
   "metadata": {},
   "outputs": [],
   "source": [
    "artists_f9 = df.select(\"userId\", \"artist\").dropDuplicates().groupby(\"userId\").count()"
   ]
  },
  {
   "cell_type": "code",
   "execution_count": 223,
   "id": "d70806f2",
   "metadata": {},
   "outputs": [],
   "source": [
    "artists_f9 = artists_f9.withColumnRenamed(\"count\", \"num_artists\")"
   ]
  },
  {
   "cell_type": "code",
   "execution_count": 224,
   "id": "e0e781bd",
   "metadata": {},
   "outputs": [
    {
     "name": "stderr",
     "output_type": "stream",
     "text": [
      "                                                                                \r"
     ]
    },
    {
     "data": {
      "text/plain": [
       "225"
      ]
     },
     "execution_count": 224,
     "metadata": {},
     "output_type": "execute_result"
    }
   ],
   "source": [
    "artists_f9.count()"
   ]
  },
  {
   "cell_type": "code",
   "execution_count": 225,
   "id": "b3808b91",
   "metadata": {},
   "outputs": [
    {
     "name": "stderr",
     "output_type": "stream",
     "text": [
      "[Stage 429:==============>                                          (1 + 3) / 4]\r"
     ]
    },
    {
     "name": "stdout",
     "output_type": "stream",
     "text": [
      "+------+-----------+\n",
      "|userId|num_artists|\n",
      "+------+-----------+\n",
      "|100010|        253|\n",
      "|200002|        340|\n",
      "+------+-----------+\n",
      "only showing top 2 rows\n",
      "\n"
     ]
    },
    {
     "name": "stderr",
     "output_type": "stream",
     "text": [
      "\r",
      "                                                                                \r"
     ]
    }
   ],
   "source": [
    "artists_f9.show(2)"
   ]
  },
  {
   "cell_type": "markdown",
   "id": "af9cb043",
   "metadata": {},
   "source": [
    "### Number of Days Since Registering"
   ]
  },
  {
   "cell_type": "markdown",
   "id": "9eadd4a5",
   "metadata": {},
   "source": [
    "Number of days since registering also looked useful from our EDA. We saw that users who had a shorter number of days since registering churned more than those who had used the service for a longer time."
   ]
  },
  {
   "cell_type": "code",
   "execution_count": 226,
   "id": "d470c07e",
   "metadata": {},
   "outputs": [
    {
     "name": "stderr",
     "output_type": "stream",
     "text": [
      "[Stage 439:>                                                        (0 + 1) / 1]\r"
     ]
    },
    {
     "name": "stdout",
     "output_type": "stream",
     "text": [
      "+------+-------------+-------------+-----+-----------+------------------+\n",
      "|userId| registration|           ts|churn| delta_days|              days|\n",
      "+------+-------------+-------------+-----+-----------+------------------+\n",
      "|    10|1538159495000|1542631788000|    0| 4472293000| 51.76265046296297|\n",
      "|   100|1537982255000|1543587349000|    0| 5605094000| 64.87377314814815|\n",
      "|100001|1534627466000|1538498205000|    1| 3870739000| 44.80021990740741|\n",
      "|100002|1529934689000|1543799476000|    0|13864787000|160.47207175925925|\n",
      "|100003|1537309344000|1539274781000|    1| 1965437000|22.748113425925926|\n",
      "|100004|1528560242000|1543459065000|    0|14898823000|172.44008101851853|\n",
      "|100005|1532610926000|1539971825000|    1| 7360899000| 85.19559027777778|\n",
      "|100006|1537964483000|1538753070000|    1|  788587000| 9.127164351851851|\n",
      "|100007|1533522419000|1543491909000|    1| 9969490000|115.38761574074074|\n",
      "|100008|1537440271000|1543335219000|    0| 5894948000| 68.22856481481482|\n",
      "|100009|1537376437000|1540611104000|    1| 3234667000| 37.43827546296296|\n",
      "|100010|1538016340000|1542823952000|    0| 4807612000|  55.6436574074074|\n",
      "|100011|1537970819000|1538417085000|    1|  446266000| 5.165115740740741|\n",
      "|100012|1537381154000|1541100900000|    1| 3719746000| 43.05261574074074|\n",
      "|100013|1537367773000|1541184816000|    1| 3817043000| 44.17873842592593|\n",
      "|100014|1535389443000|1542740649000|    1| 7351206000| 85.08340277777778|\n",
      "|100015|1537208989000|1543073753000|    1| 5864764000| 67.87921296296297|\n",
      "|100016|1536854322000|1543335647000|    0| 6481325000| 75.01533564814815|\n",
      "|100017|1533247234000|1540062847000|    1| 6815613000| 78.88440972222223|\n",
      "|100018|1533812833000|1543378360000|    0| 9565527000|110.71211805555555|\n",
      "+------+-------------+-------------+-----+-----------+------------------+\n",
      "only showing top 20 rows\n",
      "\n"
     ]
    },
    {
     "name": "stderr",
     "output_type": "stream",
     "text": [
      "\r",
      "                                                                                \r"
     ]
    }
   ],
   "source": [
    "df_days.show()"
   ]
  },
  {
   "cell_type": "code",
   "execution_count": 227,
   "id": "5c787152",
   "metadata": {},
   "outputs": [],
   "source": [
    "days_f10 = df_days.drop('registration', 'ts', 'churn', 'delta_days')"
   ]
  },
  {
   "cell_type": "code",
   "execution_count": 228,
   "id": "ac22e6c1",
   "metadata": {},
   "outputs": [
    {
     "name": "stderr",
     "output_type": "stream",
     "text": [
      "                                                                                \r"
     ]
    },
    {
     "data": {
      "text/plain": [
       "225"
      ]
     },
     "execution_count": 228,
     "metadata": {},
     "output_type": "execute_result"
    }
   ],
   "source": [
    "days_f10.count()"
   ]
  },
  {
   "cell_type": "code",
   "execution_count": 229,
   "id": "f1ff9cd3",
   "metadata": {},
   "outputs": [
    {
     "name": "stderr",
     "output_type": "stream",
     "text": [
      "[Stage 459:>                                                        (0 + 1) / 1]\r"
     ]
    },
    {
     "name": "stdout",
     "output_type": "stream",
     "text": [
      "+------+------------------+\n",
      "|userId|              days|\n",
      "+------+------------------+\n",
      "|    10| 51.76265046296297|\n",
      "|   100| 64.87377314814815|\n",
      "|100001| 44.80021990740741|\n",
      "|100002|160.47207175925925|\n",
      "|100003|22.748113425925926|\n",
      "|100004|172.44008101851853|\n",
      "|100005| 85.19559027777778|\n",
      "|100006| 9.127164351851851|\n",
      "|100007|115.38761574074074|\n",
      "|100008| 68.22856481481482|\n",
      "|100009| 37.43827546296296|\n",
      "|100010|  55.6436574074074|\n",
      "|100011| 5.165115740740741|\n",
      "|100012| 43.05261574074074|\n",
      "|100013| 44.17873842592593|\n",
      "|100014| 85.08340277777778|\n",
      "|100015| 67.87921296296297|\n",
      "|100016| 75.01533564814815|\n",
      "|100017| 78.88440972222223|\n",
      "|100018|110.71211805555555|\n",
      "+------+------------------+\n",
      "only showing top 20 rows\n",
      "\n"
     ]
    },
    {
     "name": "stderr",
     "output_type": "stream",
     "text": [
      "\r",
      "                                                                                \r"
     ]
    }
   ],
   "source": [
    "days_f10.show()"
   ]
  },
  {
   "cell_type": "markdown",
   "id": "6b65068e",
   "metadata": {},
   "source": [
    "### Label"
   ]
  },
  {
   "cell_type": "markdown",
   "id": "393b9760",
   "metadata": {},
   "source": [
    "Now we can create our label column indicating if the user churned (1) or not (0)."
   ]
  },
  {
   "cell_type": "code",
   "execution_count": 230,
   "id": "bbcbfdba",
   "metadata": {},
   "outputs": [],
   "source": [
    "label = df.select(\"userId\", \"churn\").dropDuplicates().groupby(\"userId\", \"churn\").count()"
   ]
  },
  {
   "cell_type": "code",
   "execution_count": 231,
   "id": "82883f3b",
   "metadata": {},
   "outputs": [],
   "source": [
    "label = label.drop('count')"
   ]
  },
  {
   "cell_type": "code",
   "execution_count": 232,
   "id": "9d731e92",
   "metadata": {},
   "outputs": [
    {
     "name": "stderr",
     "output_type": "stream",
     "text": [
      "                                                                                \r"
     ]
    },
    {
     "data": {
      "text/plain": [
       "225"
      ]
     },
     "execution_count": 232,
     "metadata": {},
     "output_type": "execute_result"
    }
   ],
   "source": [
    "label.count()"
   ]
  },
  {
   "cell_type": "code",
   "execution_count": 233,
   "id": "232c7856",
   "metadata": {},
   "outputs": [],
   "source": [
    "label = label.withColumnRenamed(\"churn\", \"label\")"
   ]
  },
  {
   "cell_type": "code",
   "execution_count": 234,
   "id": "35bce092",
   "metadata": {},
   "outputs": [
    {
     "name": "stderr",
     "output_type": "stream",
     "text": [
      "[Stage 469:==============>                                          (1 + 3) / 4]\r"
     ]
    },
    {
     "name": "stdout",
     "output_type": "stream",
     "text": [
      "+------+-----+\n",
      "|userId|label|\n",
      "+------+-----+\n",
      "|    10|    0|\n",
      "|   100|    0|\n",
      "|100001|    1|\n",
      "|100002|    0|\n",
      "|100003|    1|\n",
      "|100004|    0|\n",
      "|100005|    1|\n",
      "|100006|    1|\n",
      "|100007|    1|\n",
      "|100008|    0|\n",
      "|100009|    1|\n",
      "|100010|    0|\n",
      "|100011|    1|\n",
      "|100012|    1|\n",
      "|100013|    1|\n",
      "|100014|    1|\n",
      "|100015|    1|\n",
      "|100016|    0|\n",
      "|100017|    1|\n",
      "|100018|    0|\n",
      "+------+-----+\n",
      "only showing top 20 rows\n",
      "\n"
     ]
    },
    {
     "name": "stderr",
     "output_type": "stream",
     "text": [
      "\r",
      "                                                                                \r"
     ]
    }
   ],
   "source": [
    "label.show()"
   ]
  },
  {
   "cell_type": "markdown",
   "id": "07547a87",
   "metadata": {},
   "source": [
    "### Create Features Dataset\n"
   ]
  },
  {
   "cell_type": "markdown",
   "id": "c0f59bf5",
   "metadata": {},
   "source": [
    "Now that we have our features we need to join these together on `userId`."
   ]
  },
  {
   "cell_type": "code",
   "execution_count": 235,
   "id": "80db4fdd",
   "metadata": {},
   "outputs": [],
   "source": [
    "feature_df = gender_f1.join(level_f2, [\"userId\"]).join(song_f3, [\"userId\"]).join(rollad_f4, [\"userId\"]).join(thumbdown_f5, [\"userId\"]).join(thumbup_f6, [\"userId\"]).join(friend_f7, [\"userId\"]).join(playlist_f8, [\"userId\"]).join(artists_f9, [\"userId\"]).join(days_f10, [\"userId\"]).join(label, [\"userId\"])"
   ]
  },
  {
   "cell_type": "code",
   "execution_count": 236,
   "id": "51d76fa7",
   "metadata": {},
   "outputs": [
    {
     "name": "stderr",
     "output_type": "stream",
     "text": [
      "                                                                                \r"
     ]
    },
    {
     "name": "stdout",
     "output_type": "stream",
     "text": [
      "+------+------+-----+------------------+-------+-----------+---------+----------+--------+-----------+------------------+-----+\n",
      "|userId|gender|level|          avg_song|roll_ad|thumbs_down|thumbs_up|add_friend|playlist|num_artists|              days|label|\n",
      "+------+------+-----+------------------+-------+-----------+---------+----------+--------+-----------+------------------+-----+\n",
      "|    10|     0|    1|112.16666666666667|      1|          4|       37|        12|       9|        566| 51.76265046296297|    0|\n",
      "|   100|     0|    1| 78.88235294117646|     25|         27|      148|        49|      61|       1706| 64.87377314814815|    0|\n",
      "|100001|     1|    0|             33.25|     14|          2|        8|         2|       3|        126| 44.80021990740741|    1|\n",
      "|100002|     1|    1|             48.75|      3|          0|        5|         1|       5|        185|160.47207175925925|    0|\n",
      "|100003|     1|    0|              25.5|      9|          0|        3|         0|       2|         51|22.748113425925926|    1|\n",
      "|100004|     1|    1|              47.1|     86|         11|       35|        19|      23|        734|172.44008101851853|    0|\n",
      "|100005|     0|    0|              38.5|     18|          3|        7|         3|       3|        150| 85.19559027777778|    1|\n",
      "|100006|     1|    0|              26.0|      3|          2|        2|         4|       1|         27| 9.127164351851851|    1|\n",
      "|100007|     1|    1|              47.0|      5|          6|       19|        17|       9|        358|115.38761574074074|    1|\n",
      "|100008|     1|    0|128.66666666666666|     20|          6|       37|        17|      30|        624| 68.22856481481482|    0|\n",
      "|100009|     0|    0|              51.8|     42|          8|       23|         7|      12|        443| 37.43827546296296|    1|\n",
      "|100010|     1|    0|39.285714285714285|     52|          5|       17|         4|       7|        253|  55.6436574074074|    0|\n",
      "|100011|     0|    0|              11.0|      2|          1|        0|         0|       2|         12| 5.165115740740741|    1|\n",
      "|100012|     0|    0| 79.33333333333333|     38|          9|       18|         2|      12|        398| 43.05261574074074|    1|\n",
      "|100013|     1|    1|              87.0|     39|         15|       39|        28|      31|        827| 44.17873842592593|    1|\n",
      "|100014|     0|    1|42.833333333333336|      2|          3|       17|         6|       7|        234| 85.08340277777778|    1|\n",
      "|100015|     1|    1| 66.66666666666667|     69|          8|       35|        14|      22|        628| 67.87921296296297|    1|\n",
      "|100016|     0|    0|             66.25|     16|          5|       25|        13|       6|        432| 75.01533564814815|    0|\n",
      "|100017|     0|    0|              52.0|     14|          1|        2|         0|       1|         52| 78.88440972222223|    1|\n",
      "|100018|     0|    0|              50.1|     80|          9|       46|        23|      31|        781|110.71211805555555|    0|\n",
      "+------+------+-----+------------------+-------+-----------+---------+----------+--------+-----------+------------------+-----+\n",
      "only showing top 20 rows\n",
      "\n"
     ]
    }
   ],
   "source": [
    "feature_df.show()"
   ]
  },
  {
   "cell_type": "markdown",
   "id": "5c8e568b",
   "metadata": {},
   "source": [
    "Now we can drop the userId."
   ]
  },
  {
   "cell_type": "code",
   "execution_count": 237,
   "id": "87896c5d",
   "metadata": {},
   "outputs": [],
   "source": [
    "feature_df = feature_df.drop('userId')"
   ]
  },
  {
   "cell_type": "code",
   "execution_count": 238,
   "id": "f7d1f7c8",
   "metadata": {},
   "outputs": [
    {
     "name": "stderr",
     "output_type": "stream",
     "text": [
      "                                                                                \r"
     ]
    },
    {
     "name": "stdout",
     "output_type": "stream",
     "text": [
      "+------+-----+------------------+-------+-----------+---------+----------+--------+-----------+------------------+-----+\n",
      "|gender|level|          avg_song|roll_ad|thumbs_down|thumbs_up|add_friend|playlist|num_artists|              days|label|\n",
      "+------+-----+------------------+-------+-----------+---------+----------+--------+-----------+------------------+-----+\n",
      "|     0|    1|112.16666666666667|      1|          4|       37|        12|       9|        566| 51.76265046296297|    0|\n",
      "|     0|    1| 78.88235294117646|     25|         27|      148|        49|      61|       1706| 64.87377314814815|    0|\n",
      "|     1|    0|             33.25|     14|          2|        8|         2|       3|        126| 44.80021990740741|    1|\n",
      "|     1|    1|             48.75|      3|          0|        5|         1|       5|        185|160.47207175925925|    0|\n",
      "|     1|    0|              25.5|      9|          0|        3|         0|       2|         51|22.748113425925926|    1|\n",
      "|     1|    1|              47.1|     86|         11|       35|        19|      23|        734|172.44008101851853|    0|\n",
      "|     0|    0|              38.5|     18|          3|        7|         3|       3|        150| 85.19559027777778|    1|\n",
      "|     1|    0|              26.0|      3|          2|        2|         4|       1|         27| 9.127164351851851|    1|\n",
      "|     1|    1|              47.0|      5|          6|       19|        17|       9|        358|115.38761574074074|    1|\n",
      "|     1|    0|128.66666666666666|     20|          6|       37|        17|      30|        624| 68.22856481481482|    0|\n",
      "|     0|    0|              51.8|     42|          8|       23|         7|      12|        443| 37.43827546296296|    1|\n",
      "|     1|    0|39.285714285714285|     52|          5|       17|         4|       7|        253|  55.6436574074074|    0|\n",
      "|     0|    0|              11.0|      2|          1|        0|         0|       2|         12| 5.165115740740741|    1|\n",
      "|     0|    0| 79.33333333333333|     38|          9|       18|         2|      12|        398| 43.05261574074074|    1|\n",
      "|     1|    1|              87.0|     39|         15|       39|        28|      31|        827| 44.17873842592593|    1|\n",
      "|     0|    1|42.833333333333336|      2|          3|       17|         6|       7|        234| 85.08340277777778|    1|\n",
      "|     1|    1| 66.66666666666667|     69|          8|       35|        14|      22|        628| 67.87921296296297|    1|\n",
      "|     0|    0|             66.25|     16|          5|       25|        13|       6|        432| 75.01533564814815|    0|\n",
      "|     0|    0|              52.0|     14|          1|        2|         0|       1|         52| 78.88440972222223|    1|\n",
      "|     0|    0|              50.1|     80|          9|       46|        23|      31|        781|110.71211805555555|    0|\n",
      "+------+-----+------------------+-------+-----------+---------+----------+--------+-----------+------------------+-----+\n",
      "only showing top 20 rows\n",
      "\n"
     ]
    }
   ],
   "source": [
    "feature_df.show()"
   ]
  },
  {
   "cell_type": "markdown",
   "id": "d1199e28",
   "metadata": {},
   "source": [
    "Now we have a dataframe with all the features we can into our model where each row represents a user.However first we need to do some preprocessing."
   ]
  },
  {
   "cell_type": "markdown",
   "id": "d6976e13",
   "metadata": {},
   "source": [
    "## Preprocessing"
   ]
  },
  {
   "cell_type": "code",
   "execution_count": 239,
   "id": "5d3a6530",
   "metadata": {},
   "outputs": [
    {
     "name": "stdout",
     "output_type": "stream",
     "text": [
      "root\n",
      " |-- gender: integer (nullable = false)\n",
      " |-- level: integer (nullable = false)\n",
      " |-- avg_song: double (nullable = true)\n",
      " |-- roll_ad: long (nullable = true)\n",
      " |-- thumbs_down: long (nullable = true)\n",
      " |-- thumbs_up: long (nullable = true)\n",
      " |-- add_friend: long (nullable = true)\n",
      " |-- playlist: long (nullable = true)\n",
      " |-- num_artists: long (nullable = false)\n",
      " |-- days: double (nullable = true)\n",
      " |-- label: long (nullable = true)\n",
      "\n"
     ]
    }
   ],
   "source": [
    "# print schema\n",
    "feature_df.printSchema()"
   ]
  },
  {
   "cell_type": "markdown",
   "id": "21722b10",
   "metadata": {},
   "source": [
    "Now we need to take these columns and convert into the numerical datatypes that will be used in our model: integers and floats. We can use write a function to adhere to DRY principles."
   ]
  },
  {
   "cell_type": "code",
   "execution_count": 240,
   "id": "3d081215",
   "metadata": {},
   "outputs": [],
   "source": [
    "for feature in feature_df.columns:\n",
    "    feature_df = feature_df.withColumn(feature, feature_df[feature].cast('float'))"
   ]
  },
  {
   "cell_type": "code",
   "execution_count": 241,
   "id": "45d62e65",
   "metadata": {},
   "outputs": [
    {
     "name": "stdout",
     "output_type": "stream",
     "text": [
      "root\n",
      " |-- gender: float (nullable = false)\n",
      " |-- level: float (nullable = false)\n",
      " |-- avg_song: float (nullable = true)\n",
      " |-- roll_ad: float (nullable = true)\n",
      " |-- thumbs_down: float (nullable = true)\n",
      " |-- thumbs_up: float (nullable = true)\n",
      " |-- add_friend: float (nullable = true)\n",
      " |-- playlist: float (nullable = true)\n",
      " |-- num_artists: float (nullable = false)\n",
      " |-- days: float (nullable = true)\n",
      " |-- label: float (nullable = true)\n",
      "\n"
     ]
    }
   ],
   "source": [
    "#check this works\n",
    "feature_df.printSchema()"
   ]
  },
  {
   "cell_type": "markdown",
   "id": "464d756c",
   "metadata": {},
   "source": [
    "The next stage of preprocessing is to vectorise our features."
   ]
  },
  {
   "cell_type": "markdown",
   "id": "71127327",
   "metadata": {},
   "source": [
    "### Vector Assembler"
   ]
  },
  {
   "cell_type": "markdown",
   "id": "873434b7",
   "metadata": {},
   "source": [
    "The purpose of vector assembler is to tranform our features into a vector. The vector can then be standardised and fed into our chosen algorithms."
   ]
  },
  {
   "cell_type": "code",
   "execution_count": 243,
   "id": "cc8be59a",
   "metadata": {},
   "outputs": [],
   "source": [
    "assembler = VectorAssembler(inputCols = [\"gender\", \"level\", \"avg_song\", \"roll_ad\", \"thumbs_down\", \"thumbs_up\", \"add_friend\", \"playlist\", \"num_artists\", \"days\"], outputCol = \"vec_features\")"
   ]
  },
  {
   "cell_type": "code",
   "execution_count": 244,
   "id": "ed8e0837",
   "metadata": {},
   "outputs": [],
   "source": [
    "feature_df = assembler.transform(feature_df)"
   ]
  },
  {
   "cell_type": "code",
   "execution_count": 245,
   "id": "84bf88e3",
   "metadata": {},
   "outputs": [
    {
     "name": "stderr",
     "output_type": "stream",
     "text": [
      "                                                                                \r"
     ]
    },
    {
     "name": "stdout",
     "output_type": "stream",
     "text": [
      "+------+-----+----------+-------+-----------+---------+----------+--------+-----------+---------+-----+--------------------+\n",
      "|gender|level|  avg_song|roll_ad|thumbs_down|thumbs_up|add_friend|playlist|num_artists|     days|label|        vec_features|\n",
      "+------+-----+----------+-------+-----------+---------+----------+--------+-----------+---------+-----+--------------------+\n",
      "|   0.0|  1.0|112.166664|    1.0|        4.0|     37.0|      12.0|     9.0|      566.0| 51.76265|  0.0|[0.0,1.0,112.1666...|\n",
      "|   0.0|  1.0| 78.882355|   25.0|       27.0|    148.0|      49.0|    61.0|     1706.0| 64.87377|  0.0|[0.0,1.0,78.88235...|\n",
      "|   1.0|  0.0|     33.25|   14.0|        2.0|      8.0|       2.0|     3.0|      126.0| 44.80022|  1.0|[1.0,0.0,33.25,14...|\n",
      "|   1.0|  1.0|     48.75|    3.0|        0.0|      5.0|       1.0|     5.0|      185.0|160.47208|  0.0|[1.0,1.0,48.75,3....|\n",
      "|   1.0|  0.0|      25.5|    9.0|        0.0|      3.0|       0.0|     2.0|       51.0|22.748114|  1.0|[1.0,0.0,25.5,9.0...|\n",
      "|   1.0|  1.0|      47.1|   86.0|       11.0|     35.0|      19.0|    23.0|      734.0|172.44008|  0.0|[1.0,1.0,47.09999...|\n",
      "|   0.0|  0.0|      38.5|   18.0|        3.0|      7.0|       3.0|     3.0|      150.0| 85.19559|  1.0|[0.0,0.0,38.5,18....|\n",
      "|   1.0|  0.0|      26.0|    3.0|        2.0|      2.0|       4.0|     1.0|       27.0| 9.127164|  1.0|[1.0,0.0,26.0,3.0...|\n",
      "|   1.0|  1.0|      47.0|    5.0|        6.0|     19.0|      17.0|     9.0|      358.0|115.38762|  1.0|[1.0,1.0,47.0,5.0...|\n",
      "|   1.0|  0.0| 128.66667|   20.0|        6.0|     37.0|      17.0|    30.0|      624.0| 68.22856|  0.0|[1.0,0.0,128.6666...|\n",
      "|   0.0|  0.0|      51.8|   42.0|        8.0|     23.0|       7.0|    12.0|      443.0|37.438274|  1.0|[0.0,0.0,51.79999...|\n",
      "|   1.0|  0.0| 39.285713|   52.0|        5.0|     17.0|       4.0|     7.0|      253.0|55.643658|  0.0|[1.0,0.0,39.28571...|\n",
      "|   0.0|  0.0|      11.0|    2.0|        1.0|      0.0|       0.0|     2.0|       12.0| 5.165116|  1.0|[0.0,0.0,11.0,2.0...|\n",
      "|   0.0|  0.0| 79.333336|   38.0|        9.0|     18.0|       2.0|    12.0|      398.0|43.052616|  1.0|[0.0,0.0,79.33333...|\n",
      "|   1.0|  1.0|      87.0|   39.0|       15.0|     39.0|      28.0|    31.0|      827.0|44.178738|  1.0|[1.0,1.0,87.0,39....|\n",
      "|   0.0|  1.0| 42.833332|    2.0|        3.0|     17.0|       6.0|     7.0|      234.0|85.083405|  1.0|[0.0,1.0,42.83333...|\n",
      "|   1.0|  1.0| 66.666664|   69.0|        8.0|     35.0|      14.0|    22.0|      628.0| 67.87921|  1.0|[1.0,1.0,66.66666...|\n",
      "|   0.0|  0.0|     66.25|   16.0|        5.0|     25.0|      13.0|     6.0|      432.0|75.015335|  0.0|[0.0,0.0,66.25,16...|\n",
      "|   0.0|  0.0|      52.0|   14.0|        1.0|      2.0|       0.0|     1.0|       52.0| 78.88441|  1.0|[0.0,0.0,52.0,14....|\n",
      "|   0.0|  0.0|      50.1|   80.0|        9.0|     46.0|      23.0|    31.0|      781.0|110.71212|  0.0|[0.0,0.0,50.09999...|\n",
      "+------+-----+----------+-------+-----------+---------+----------+--------+-----------+---------+-----+--------------------+\n",
      "only showing top 20 rows\n",
      "\n"
     ]
    }
   ],
   "source": [
    "feature_df.show()"
   ]
  },
  {
   "cell_type": "markdown",
   "id": "5d0837c9",
   "metadata": {},
   "source": [
    "### Standardisation\n"
   ]
  },
  {
   "cell_type": "markdown",
   "id": "6dd10e66",
   "metadata": {},
   "source": [
    "Now that we have our vectors we can standardise our values. This is important for our machine learning model so that those features with the highest values don't dominate the results and so that we can make the individual features look like standard normally distributed data."
   ]
  },
  {
   "cell_type": "code",
   "execution_count": 246,
   "id": "040b26e8",
   "metadata": {},
   "outputs": [],
   "source": [
    "scaler = StandardScaler(inputCol=\"vec_features\", outputCol=\"features\", withStd=True)"
   ]
  },
  {
   "cell_type": "code",
   "execution_count": 247,
   "id": "0d4c59d5",
   "metadata": {},
   "outputs": [
    {
     "name": "stderr",
     "output_type": "stream",
     "text": [
      "                                                                                \r"
     ]
    }
   ],
   "source": [
    "scaler_model = scaler.fit(feature_df)"
   ]
  },
  {
   "cell_type": "code",
   "execution_count": 248,
   "id": "9e89e984",
   "metadata": {},
   "outputs": [],
   "source": [
    "feature_df = scaler_model.transform(feature_df)"
   ]
  },
  {
   "cell_type": "code",
   "execution_count": 249,
   "id": "000a35b3",
   "metadata": {},
   "outputs": [
    {
     "name": "stderr",
     "output_type": "stream",
     "text": [
      "                                                                                \r"
     ]
    },
    {
     "data": {
      "text/plain": [
       "[Row(gender=0.0, level=1.0, avg_song=112.16666412353516, roll_ad=1.0, thumbs_down=4.0, thumbs_up=37.0, add_friend=12.0, playlist=9.0, num_artists=566.0, days=51.76264953613281, label=0.0, vec_features=DenseVector([0.0, 1.0, 112.1667, 1.0, 4.0, 37.0, 12.0, 9.0, 566.0, 51.7626]), features=DenseVector([0.0, 2.0844, 2.6321, 0.0464, 0.3059, 0.5651, 0.583, 0.2751, 0.9372, 1.3744])),\n",
       " Row(gender=0.0, level=1.0, avg_song=78.88235473632812, roll_ad=25.0, thumbs_down=27.0, thumbs_up=148.0, add_friend=49.0, playlist=61.0, num_artists=1706.0, days=64.87377166748047, label=0.0, vec_features=DenseVector([0.0, 1.0, 78.8824, 25.0, 27.0, 148.0, 49.0, 61.0, 1706.0, 64.8738]), features=DenseVector([0.0, 2.0844, 1.851, 1.1601, 2.0646, 2.2603, 2.3808, 1.8645, 2.8247, 1.7226]))]"
      ]
     },
     "execution_count": 249,
     "metadata": {},
     "output_type": "execute_result"
    }
   ],
   "source": [
    "feature_df.head(2)"
   ]
  },
  {
   "cell_type": "markdown",
   "id": "cd3d1b48",
   "metadata": {},
   "source": [
    "We can see from above that standardisation has worked by comparing  vec_features=DenseVector([0.0, 1.0, 78.8824, 25.0, 27.0, 148.0, 49.0, 61.0, 1706.0, 64.8738]), to features=DenseVector([0.0, 2.0844, 1.851, 1.1601, 2.0646, 2.2603, 2.3808, 1.8645, 2.8247, 1.7226]). "
   ]
  },
  {
   "cell_type": "markdown",
   "id": "2686c6e7",
   "metadata": {},
   "source": [
    "## Train / Test / Validation Split"
   ]
  },
  {
   "cell_type": "markdown",
   "id": "75c2e5ae",
   "metadata": {},
   "source": [
    "Let's check how many records we have in total is 225 as it should be."
   ]
  },
  {
   "cell_type": "code",
   "execution_count": 250,
   "id": "b59a8ba6",
   "metadata": {},
   "outputs": [
    {
     "name": "stderr",
     "output_type": "stream",
     "text": [
      "                                                                                \r"
     ]
    },
    {
     "name": "stdout",
     "output_type": "stream",
     "text": [
      "+-----+-----+\n",
      "|label|count|\n",
      "+-----+-----+\n",
      "|  1.0|   52|\n",
      "|  0.0|  173|\n",
      "+-----+-----+\n",
      "\n"
     ]
    }
   ],
   "source": [
    "feature_df.groupby('label').count().show()"
   ]
  },
  {
   "cell_type": "markdown",
   "id": "90dca9fb",
   "metadata": {},
   "source": [
    "This count is what we would expect, now we can split our data into train, test and validation sets. Here we will do a 60:20:20 split and include a seed so we can reproduce the result. I've included the same seed for the different machine learning models so that my results can be reproduced."
   ]
  },
  {
   "cell_type": "code",
   "execution_count": 251,
   "id": "5d612c29",
   "metadata": {},
   "outputs": [
    {
     "name": "stderr",
     "output_type": "stream",
     "text": [
      "                                                                                \r"
     ]
    },
    {
     "name": "stdout",
     "output_type": "stream",
     "text": [
      "Training Dataset:132\n"
     ]
    },
    {
     "name": "stderr",
     "output_type": "stream",
     "text": [
      "                                                                                \r"
     ]
    },
    {
     "name": "stdout",
     "output_type": "stream",
     "text": [
      "Test Dataset:42\n"
     ]
    },
    {
     "name": "stderr",
     "output_type": "stream",
     "text": [
      "                                                                                \r"
     ]
    },
    {
     "name": "stdout",
     "output_type": "stream",
     "text": [
      "Validation Dataset:51\n"
     ]
    }
   ],
   "source": [
    "train, test, valid = feature_df.randomSplit([0.6, 0.2, 0.2], seed = 1996)\n",
    "print(\"Training Dataset:\" + str(train.count()))\n",
    "print(\"Test Dataset:\" + str(test.count()))\n",
    "print(\"Validation Dataset:\" + str(valid.count()))"
   ]
  },
  {
   "cell_type": "markdown",
   "id": "5b04b065",
   "metadata": {},
   "source": [
    "# Modelling\n",
    "<a class=\"anchor\" id=\"model\"></a>\n",
    "\n",
    "Now we have created our features dataFrame with only numeric variables, we can split the full dataset into train, test, and validation sets. We will test out different machine learning classification algorithms including:\n",
    " - Logistic Regression\n",
    " - Random Forest Classifier\n",
    " - Gradient-Boosted Tree Classifier\n",
    " - Linear Support Vector Machine\n",
    " - Naive Bayes\n",
    " \n",
    "We will use these classification algorithms since churn prediction is a binary classification problem, meaning that customers will either churn (1) or they will stay (0) in a certain period of time. \n",
    "\n",
    "### Metrics\n",
    "We will evaluate the accuracy of the various models, tuning parameters as necessary. We will finally determine our winning model based on test accuracy and report results on the validation set. Since the churned users are a fairly small subset, I will use F1 score as the metric to optimize. F1 is a measure of the model's accuracy on a dataset and is used to evaluate binary classification systems like we have here. F1-score is a way of combining the precision and recall of the model and gives a better measure of the incorrectly classified cases than accuracy metric. F1 is also better for dealing with imbalanced classes like we have here."
   ]
  },
  {
   "cell_type": "markdown",
   "id": "d01e4588",
   "metadata": {},
   "source": [
    "Now we can start modelling. When we identify the model with the best F1 score, accuracy and time we will then tune the model."
   ]
  }
 ],
 "metadata": {
  "kernelspec": {
   "display_name": "Python 3 (ipykernel)",
   "language": "python",
   "name": "python3"
  },
  "language_info": {
   "codemirror_mode": {
    "name": "ipython",
    "version": 3
   },
   "file_extension": ".py",
   "mimetype": "text/x-python",
   "name": "python",
   "nbconvert_exporter": "python",
   "pygments_lexer": "ipython3",
   "version": "3.9.0"
  }
 },
 "nbformat": 4,
 "nbformat_minor": 5
}
